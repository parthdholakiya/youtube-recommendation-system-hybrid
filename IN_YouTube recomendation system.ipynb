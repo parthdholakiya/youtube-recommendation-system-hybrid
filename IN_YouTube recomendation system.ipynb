{
 "cells": [
  {
   "cell_type": "markdown",
   "id": "07c930ce-54f7-427e-a849-a66534694085",
   "metadata": {
    "id": "07c930ce-54f7-427e-a849-a66534694085"
   },
   "source": [
    "## YouTube Recomendation system"
   ]
  },
  {
   "cell_type": "markdown",
   "id": "274b0124-fb37-4c1e-9fc2-aa340cc1d2fe",
   "metadata": {
    "id": "274b0124-fb37-4c1e-9fc2-aa340cc1d2fe"
   },
   "source": [
    "### Content-based filtering:\n",
    "### is a recommendation system that makes recommendations to users based on their past interactions with content. The idea behind content-based filtering is to recommend content that is similar to what the user has already shown an interest in."
   ]
  },
  {
   "cell_type": "code",
   "execution_count": 1,
   "id": "2f58c52c-0450-476f-b5f6-8892b41c6574",
   "metadata": {},
   "outputs": [],
   "source": [
    "#pip install --upgrade pandas==1.3.4"
   ]
  },
  {
   "cell_type": "code",
   "execution_count": 2,
   "id": "3513dbb0-0c7f-424f-aa9a-b9073881ab1d",
   "metadata": {},
   "outputs": [],
   "source": [
    "import joblib\n",
    "import pickle"
   ]
  },
  {
   "cell_type": "code",
   "execution_count": 3,
   "id": "338aeef5-c9a0-4e30-920f-bfd81daa84a3",
   "metadata": {},
   "outputs": [],
   "source": [
    "import pandas as pd\n",
    "import numpy as np\n",
    "import matplotlib.pyplot as plt\n",
    "import seaborn as sns\n",
    "from scipy import stats\n",
    "from ast import literal_eval\n",
    "from sklearn.feature_extraction.text import TfidfVectorizer, CountVectorizer\n",
    "from sklearn.metrics.pairwise import linear_kernel, cosine_similarity\n",
    "from nltk.stem.snowball import SnowballStemmer\n",
    "from nltk.stem.wordnet import WordNetLemmatizer\n",
    "from nltk.corpus import wordnet\n",
    "from nltk.corpus import stopwords\n",
    "import re\n",
    "import nltk\n",
    "from surprise import Reader, Dataset, SVD, SVDpp, model_selection, NormalPredictor, KNNBasic, KNNWithMeans, KNNWithZScore, KNNBaseline, BaselineOnly, NMF, SlopeOne, CoClustering, accuracy\n",
    "from surprise.accuracy import rmse\n",
    "from surprise.model_selection import cross_validate, train_test_split\n",
    "\n",
    "# Set up inline plotting\n",
    "%matplotlib inline\n",
    "\n",
    "# Silence warnings\n",
    "import warnings\n",
    "warnings.simplefilter('ignore')\n",
    "\n",
    "# Uncomment if needed:\n",
    "# nltk.download('stopwords')"
   ]
  },
  {
   "cell_type": "code",
   "execution_count": 4,
   "id": "b8e0a1bf-9606-4063-a81a-edcb089238ea",
   "metadata": {},
   "outputs": [
    {
     "data": {
      "text/plain": [
       "'1.3.4'"
      ]
     },
     "execution_count": 4,
     "metadata": {},
     "output_type": "execute_result"
    }
   ],
   "source": [
    "pd.__version__"
   ]
  },
  {
   "cell_type": "code",
   "execution_count": 5,
   "id": "ed5d62ab-c3bf-4827-8a34-613e33c65771",
   "metadata": {
    "id": "ed5d62ab-c3bf-4827-8a34-613e33c65771"
   },
   "outputs": [],
   "source": [
    "youtube= pd.read_csv(\"IN_youtube_trending_data.csv\")"
   ]
  },
  {
   "cell_type": "code",
   "execution_count": 6,
   "id": "65892c2c-6bd2-468a-b60b-0bb4454cfc52",
   "metadata": {
    "id": "65892c2c-6bd2-468a-b60b-0bb4454cfc52"
   },
   "outputs": [],
   "source": [
    "youtube=youtube[:30000]"
   ]
  },
  {
   "cell_type": "code",
   "execution_count": 7,
   "id": "e65399af-692a-4ba5-b326-9269ba3e9703",
   "metadata": {
    "id": "e65399af-692a-4ba5-b326-9269ba3e9703",
    "outputId": "3d4664f4-b5f5-4b84-f2a6-329712770b4d"
   },
   "outputs": [
    {
     "data": {
      "text/html": [
       "<div>\n",
       "<style scoped>\n",
       "    .dataframe tbody tr th:only-of-type {\n",
       "        vertical-align: middle;\n",
       "    }\n",
       "\n",
       "    .dataframe tbody tr th {\n",
       "        vertical-align: top;\n",
       "    }\n",
       "\n",
       "    .dataframe thead th {\n",
       "        text-align: right;\n",
       "    }\n",
       "</style>\n",
       "<table border=\"1\" class=\"dataframe\">\n",
       "  <thead>\n",
       "    <tr style=\"text-align: right;\">\n",
       "      <th></th>\n",
       "      <th>video_id</th>\n",
       "      <th>title</th>\n",
       "      <th>publishedAt</th>\n",
       "      <th>channelId</th>\n",
       "      <th>channelTitle</th>\n",
       "      <th>categoryId</th>\n",
       "      <th>trending_date</th>\n",
       "      <th>tags</th>\n",
       "      <th>view_count</th>\n",
       "      <th>likes</th>\n",
       "      <th>dislikes</th>\n",
       "      <th>comment_count</th>\n",
       "      <th>thumbnail_link</th>\n",
       "      <th>comments_disabled</th>\n",
       "      <th>ratings_disabled</th>\n",
       "      <th>description</th>\n",
       "    </tr>\n",
       "  </thead>\n",
       "  <tbody>\n",
       "    <tr>\n",
       "      <th>0</th>\n",
       "      <td>Iot0eF6EoNA</td>\n",
       "      <td>Sadak 2 | Official Trailer | Sanjay | Pooja | ...</td>\n",
       "      <td>2020-08-12T04:31:41Z</td>\n",
       "      <td>UCGqvJPRcv7aVFun-eTsatcA</td>\n",
       "      <td>FoxStarHindi</td>\n",
       "      <td>24</td>\n",
       "      <td>2020-08-12T00:00:00Z</td>\n",
       "      <td>sadak|sadak 2|mahesh bhatt|vishesh films|pooja...</td>\n",
       "      <td>9885899</td>\n",
       "      <td>224925</td>\n",
       "      <td>3979409</td>\n",
       "      <td>350210</td>\n",
       "      <td>https://i.ytimg.com/vi/Iot0eF6EoNA/default.jpg</td>\n",
       "      <td>False</td>\n",
       "      <td>False</td>\n",
       "      <td>Three Streams. Three Stories. One Journey. Sta...</td>\n",
       "    </tr>\n",
       "    <tr>\n",
       "      <th>1</th>\n",
       "      <td>x-KbnJ9fvJc</td>\n",
       "      <td>Kya Baat Aa : Karan Aujla (Official Video) Tan...</td>\n",
       "      <td>2020-08-11T09:00:11Z</td>\n",
       "      <td>UCm9SZAl03Rev9sFwloCdz1g</td>\n",
       "      <td>Rehaan Records</td>\n",
       "      <td>10</td>\n",
       "      <td>2020-08-12T00:00:00Z</td>\n",
       "      <td>[None]</td>\n",
       "      <td>11308046</td>\n",
       "      <td>655450</td>\n",
       "      <td>33242</td>\n",
       "      <td>405146</td>\n",
       "      <td>https://i.ytimg.com/vi/x-KbnJ9fvJc/default.jpg</td>\n",
       "      <td>False</td>\n",
       "      <td>False</td>\n",
       "      <td>Singer/Lyrics: Karan Aujla Feat Tania Music/ D...</td>\n",
       "    </tr>\n",
       "  </tbody>\n",
       "</table>\n",
       "</div>"
      ],
      "text/plain": [
       "      video_id                                              title  \\\n",
       "0  Iot0eF6EoNA  Sadak 2 | Official Trailer | Sanjay | Pooja | ...   \n",
       "1  x-KbnJ9fvJc  Kya Baat Aa : Karan Aujla (Official Video) Tan...   \n",
       "\n",
       "            publishedAt                 channelId    channelTitle  categoryId  \\\n",
       "0  2020-08-12T04:31:41Z  UCGqvJPRcv7aVFun-eTsatcA    FoxStarHindi          24   \n",
       "1  2020-08-11T09:00:11Z  UCm9SZAl03Rev9sFwloCdz1g  Rehaan Records          10   \n",
       "\n",
       "          trending_date                                               tags  \\\n",
       "0  2020-08-12T00:00:00Z  sadak|sadak 2|mahesh bhatt|vishesh films|pooja...   \n",
       "1  2020-08-12T00:00:00Z                                             [None]   \n",
       "\n",
       "   view_count   likes  dislikes  comment_count  \\\n",
       "0     9885899  224925   3979409         350210   \n",
       "1    11308046  655450     33242         405146   \n",
       "\n",
       "                                   thumbnail_link  comments_disabled  \\\n",
       "0  https://i.ytimg.com/vi/Iot0eF6EoNA/default.jpg              False   \n",
       "1  https://i.ytimg.com/vi/x-KbnJ9fvJc/default.jpg              False   \n",
       "\n",
       "   ratings_disabled                                        description  \n",
       "0             False  Three Streams. Three Stories. One Journey. Sta...  \n",
       "1             False  Singer/Lyrics: Karan Aujla Feat Tania Music/ D...  "
      ]
     },
     "execution_count": 7,
     "metadata": {},
     "output_type": "execute_result"
    }
   ],
   "source": [
    "youtube.head(2)"
   ]
  },
  {
   "cell_type": "code",
   "execution_count": 8,
   "id": "3ef47d5e-a6ae-497a-a3df-c3f7da45f602",
   "metadata": {},
   "outputs": [],
   "source": [
    "quartiles = youtube['likes'].quantile([0, 0.2, 0.4, 0.6, 0.8, 1.0])"
   ]
  },
  {
   "cell_type": "code",
   "execution_count": 9,
   "id": "f6643609-1b7a-4aee-b9da-a4aaac951ba8",
   "metadata": {},
   "outputs": [],
   "source": [
    "# Create a new column for ratings based on the quartiles\n",
    "youtube['Rating'] = pd.cut(youtube['likes'], bins=quartiles, labels=[0,1,2,3,4])"
   ]
  },
  {
   "cell_type": "code",
   "execution_count": 10,
   "id": "18fa5b63-ab9d-41c6-89e1-c6030f45ef9d",
   "metadata": {},
   "outputs": [
    {
     "data": {
      "text/html": [
       "<div>\n",
       "<style scoped>\n",
       "    .dataframe tbody tr th:only-of-type {\n",
       "        vertical-align: middle;\n",
       "    }\n",
       "\n",
       "    .dataframe tbody tr th {\n",
       "        vertical-align: top;\n",
       "    }\n",
       "\n",
       "    .dataframe thead th {\n",
       "        text-align: right;\n",
       "    }\n",
       "</style>\n",
       "<table border=\"1\" class=\"dataframe\">\n",
       "  <thead>\n",
       "    <tr style=\"text-align: right;\">\n",
       "      <th></th>\n",
       "      <th>video_id</th>\n",
       "      <th>title</th>\n",
       "      <th>publishedAt</th>\n",
       "      <th>channelId</th>\n",
       "      <th>channelTitle</th>\n",
       "      <th>categoryId</th>\n",
       "      <th>trending_date</th>\n",
       "      <th>tags</th>\n",
       "      <th>view_count</th>\n",
       "      <th>likes</th>\n",
       "      <th>dislikes</th>\n",
       "      <th>comment_count</th>\n",
       "      <th>thumbnail_link</th>\n",
       "      <th>comments_disabled</th>\n",
       "      <th>ratings_disabled</th>\n",
       "      <th>description</th>\n",
       "      <th>Rating</th>\n",
       "    </tr>\n",
       "  </thead>\n",
       "  <tbody>\n",
       "    <tr>\n",
       "      <th>0</th>\n",
       "      <td>Iot0eF6EoNA</td>\n",
       "      <td>Sadak 2 | Official Trailer | Sanjay | Pooja | ...</td>\n",
       "      <td>2020-08-12T04:31:41Z</td>\n",
       "      <td>UCGqvJPRcv7aVFun-eTsatcA</td>\n",
       "      <td>FoxStarHindi</td>\n",
       "      <td>24</td>\n",
       "      <td>2020-08-12T00:00:00Z</td>\n",
       "      <td>sadak|sadak 2|mahesh bhatt|vishesh films|pooja...</td>\n",
       "      <td>9885899</td>\n",
       "      <td>224925</td>\n",
       "      <td>3979409</td>\n",
       "      <td>350210</td>\n",
       "      <td>https://i.ytimg.com/vi/Iot0eF6EoNA/default.jpg</td>\n",
       "      <td>False</td>\n",
       "      <td>False</td>\n",
       "      <td>Three Streams. Three Stories. One Journey. Sta...</td>\n",
       "      <td>4</td>\n",
       "    </tr>\n",
       "    <tr>\n",
       "      <th>1</th>\n",
       "      <td>x-KbnJ9fvJc</td>\n",
       "      <td>Kya Baat Aa : Karan Aujla (Official Video) Tan...</td>\n",
       "      <td>2020-08-11T09:00:11Z</td>\n",
       "      <td>UCm9SZAl03Rev9sFwloCdz1g</td>\n",
       "      <td>Rehaan Records</td>\n",
       "      <td>10</td>\n",
       "      <td>2020-08-12T00:00:00Z</td>\n",
       "      <td>[None]</td>\n",
       "      <td>11308046</td>\n",
       "      <td>655450</td>\n",
       "      <td>33242</td>\n",
       "      <td>405146</td>\n",
       "      <td>https://i.ytimg.com/vi/x-KbnJ9fvJc/default.jpg</td>\n",
       "      <td>False</td>\n",
       "      <td>False</td>\n",
       "      <td>Singer/Lyrics: Karan Aujla Feat Tania Music/ D...</td>\n",
       "      <td>4</td>\n",
       "    </tr>\n",
       "    <tr>\n",
       "      <th>2</th>\n",
       "      <td>KX06ksuS6Xo</td>\n",
       "      <td>Diljit Dosanjh: CLASH (Official) Music Video |...</td>\n",
       "      <td>2020-08-11T07:30:02Z</td>\n",
       "      <td>UCZRdNleCgW-BGUJf-bbjzQg</td>\n",
       "      <td>Diljit Dosanjh</td>\n",
       "      <td>10</td>\n",
       "      <td>2020-08-12T00:00:00Z</td>\n",
       "      <td>clash diljit dosanjh|diljit dosanjh|diljit dos...</td>\n",
       "      <td>9140911</td>\n",
       "      <td>296533</td>\n",
       "      <td>6179</td>\n",
       "      <td>30058</td>\n",
       "      <td>https://i.ytimg.com/vi/KX06ksuS6Xo/default.jpg</td>\n",
       "      <td>False</td>\n",
       "      <td>False</td>\n",
       "      <td>CLASH official music video performed by DILJIT...</td>\n",
       "      <td>4</td>\n",
       "    </tr>\n",
       "    <tr>\n",
       "      <th>3</th>\n",
       "      <td>UsMRgnTcchY</td>\n",
       "      <td>Dil Ko Maine Di Kasam Video | Amaal M Ft.Ariji...</td>\n",
       "      <td>2020-08-10T05:30:49Z</td>\n",
       "      <td>UCq-Fj5jknLsUf-MWSy4_brA</td>\n",
       "      <td>T-Series</td>\n",
       "      <td>10</td>\n",
       "      <td>2020-08-12T00:00:00Z</td>\n",
       "      <td>hindi songs|2020 hindi songs|2020 new songs|t-...</td>\n",
       "      <td>23564512</td>\n",
       "      <td>743931</td>\n",
       "      <td>84162</td>\n",
       "      <td>136942</td>\n",
       "      <td>https://i.ytimg.com/vi/UsMRgnTcchY/default.jpg</td>\n",
       "      <td>False</td>\n",
       "      <td>False</td>\n",
       "      <td>Gulshan Kumar and T-Series presents Bhushan Ku...</td>\n",
       "      <td>4</td>\n",
       "    </tr>\n",
       "    <tr>\n",
       "      <th>4</th>\n",
       "      <td>WNSEXJJhKTU</td>\n",
       "      <td>Baarish (Official Video) Payal Dev,Stebin Ben ...</td>\n",
       "      <td>2020-08-11T05:30:13Z</td>\n",
       "      <td>UCye6Oz0mg46S362LwARGVcA</td>\n",
       "      <td>VYRLOriginals</td>\n",
       "      <td>10</td>\n",
       "      <td>2020-08-12T00:00:00Z</td>\n",
       "      <td>VYRL Original|Mohsin Khan|Shivangi Joshi|Payal...</td>\n",
       "      <td>6783649</td>\n",
       "      <td>268817</td>\n",
       "      <td>8798</td>\n",
       "      <td>22984</td>\n",
       "      <td>https://i.ytimg.com/vi/WNSEXJJhKTU/default.jpg</td>\n",
       "      <td>False</td>\n",
       "      <td>False</td>\n",
       "      <td>VYRL Originals brings to you ‘Baarish’ - the b...</td>\n",
       "      <td>4</td>\n",
       "    </tr>\n",
       "  </tbody>\n",
       "</table>\n",
       "</div>"
      ],
      "text/plain": [
       "      video_id                                              title  \\\n",
       "0  Iot0eF6EoNA  Sadak 2 | Official Trailer | Sanjay | Pooja | ...   \n",
       "1  x-KbnJ9fvJc  Kya Baat Aa : Karan Aujla (Official Video) Tan...   \n",
       "2  KX06ksuS6Xo  Diljit Dosanjh: CLASH (Official) Music Video |...   \n",
       "3  UsMRgnTcchY  Dil Ko Maine Di Kasam Video | Amaal M Ft.Ariji...   \n",
       "4  WNSEXJJhKTU  Baarish (Official Video) Payal Dev,Stebin Ben ...   \n",
       "\n",
       "            publishedAt                 channelId    channelTitle  categoryId  \\\n",
       "0  2020-08-12T04:31:41Z  UCGqvJPRcv7aVFun-eTsatcA    FoxStarHindi          24   \n",
       "1  2020-08-11T09:00:11Z  UCm9SZAl03Rev9sFwloCdz1g  Rehaan Records          10   \n",
       "2  2020-08-11T07:30:02Z  UCZRdNleCgW-BGUJf-bbjzQg  Diljit Dosanjh          10   \n",
       "3  2020-08-10T05:30:49Z  UCq-Fj5jknLsUf-MWSy4_brA        T-Series          10   \n",
       "4  2020-08-11T05:30:13Z  UCye6Oz0mg46S362LwARGVcA   VYRLOriginals          10   \n",
       "\n",
       "          trending_date                                               tags  \\\n",
       "0  2020-08-12T00:00:00Z  sadak|sadak 2|mahesh bhatt|vishesh films|pooja...   \n",
       "1  2020-08-12T00:00:00Z                                             [None]   \n",
       "2  2020-08-12T00:00:00Z  clash diljit dosanjh|diljit dosanjh|diljit dos...   \n",
       "3  2020-08-12T00:00:00Z  hindi songs|2020 hindi songs|2020 new songs|t-...   \n",
       "4  2020-08-12T00:00:00Z  VYRL Original|Mohsin Khan|Shivangi Joshi|Payal...   \n",
       "\n",
       "   view_count   likes  dislikes  comment_count  \\\n",
       "0     9885899  224925   3979409         350210   \n",
       "1    11308046  655450     33242         405146   \n",
       "2     9140911  296533      6179          30058   \n",
       "3    23564512  743931     84162         136942   \n",
       "4     6783649  268817      8798          22984   \n",
       "\n",
       "                                   thumbnail_link  comments_disabled  \\\n",
       "0  https://i.ytimg.com/vi/Iot0eF6EoNA/default.jpg              False   \n",
       "1  https://i.ytimg.com/vi/x-KbnJ9fvJc/default.jpg              False   \n",
       "2  https://i.ytimg.com/vi/KX06ksuS6Xo/default.jpg              False   \n",
       "3  https://i.ytimg.com/vi/UsMRgnTcchY/default.jpg              False   \n",
       "4  https://i.ytimg.com/vi/WNSEXJJhKTU/default.jpg              False   \n",
       "\n",
       "   ratings_disabled                                        description Rating  \n",
       "0             False  Three Streams. Three Stories. One Journey. Sta...      4  \n",
       "1             False  Singer/Lyrics: Karan Aujla Feat Tania Music/ D...      4  \n",
       "2             False  CLASH official music video performed by DILJIT...      4  \n",
       "3             False  Gulshan Kumar and T-Series presents Bhushan Ku...      4  \n",
       "4             False  VYRL Originals brings to you ‘Baarish’ - the b...      4  "
      ]
     },
     "execution_count": 10,
     "metadata": {},
     "output_type": "execute_result"
    }
   ],
   "source": [
    "youtube.head(5)"
   ]
  },
  {
   "cell_type": "code",
   "execution_count": 11,
   "id": "6815c887-a54b-4a5a-87eb-2105e3d6cd27",
   "metadata": {},
   "outputs": [
    {
     "data": {
      "text/plain": [
       "[4, 2, 1, 3, 0, NaN]\n",
       "Categories (5, int64): [0 < 1 < 2 < 3 < 4]"
      ]
     },
     "execution_count": 11,
     "metadata": {},
     "output_type": "execute_result"
    }
   ],
   "source": [
    "youtube['Rating'].unique()"
   ]
  },
  {
   "cell_type": "code",
   "execution_count": 12,
   "id": "3401315e-c6fb-435d-bc56-c6661da73ddc",
   "metadata": {},
   "outputs": [],
   "source": [
    "youtube.dropna(inplace=True)"
   ]
  },
  {
   "cell_type": "code",
   "execution_count": 13,
   "id": "2d7063f8-7ac7-4575-9833-58b94eb0c161",
   "metadata": {},
   "outputs": [],
   "source": [
    "# Get the number of rows in the youtube DataFrame\n",
    "num_rows = len(youtube)\n",
    "\n",
    "# Create a list of values for the new column\n",
    "values = list(range(1, num_rows + 1))\n",
    "\n",
    "# Assign the new column to 'userID' in the youtube DataFrame\n",
    "youtube['userID'] = values"
   ]
  },
  {
   "cell_type": "code",
   "execution_count": 14,
   "id": "de48ffc2-caf6-46e2-8f5c-380ff845a6f6",
   "metadata": {
    "id": "de48ffc2-caf6-46e2-8f5c-380ff845a6f6",
    "outputId": "f0d816f6-702d-4c37-d845-ee79e884c3f5"
   },
   "outputs": [
    {
     "data": {
      "text/plain": [
       "(29400, 18)"
      ]
     },
     "execution_count": 14,
     "metadata": {},
     "output_type": "execute_result"
    }
   ],
   "source": [
    "youtube.shape"
   ]
  },
  {
   "cell_type": "code",
   "execution_count": 15,
   "id": "deb3654f-3330-47cc-9a72-06066a5619c4",
   "metadata": {
    "id": "deb3654f-3330-47cc-9a72-06066a5619c4",
    "outputId": "08a4d49a-75ab-4d2f-a565-656d025d8ccc"
   },
   "outputs": [
    {
     "data": {
      "text/plain": [
       "Index(['video_id', 'title', 'publishedAt', 'channelId', 'channelTitle',\n",
       "       'categoryId', 'trending_date', 'tags', 'view_count', 'likes',\n",
       "       'dislikes', 'comment_count', 'thumbnail_link', 'comments_disabled',\n",
       "       'ratings_disabled', 'description', 'Rating', 'userID'],\n",
       "      dtype='object')"
      ]
     },
     "execution_count": 15,
     "metadata": {},
     "output_type": "execute_result"
    }
   ],
   "source": [
    "youtube.columns"
   ]
  },
  {
   "cell_type": "code",
   "execution_count": 16,
   "id": "93d0b1c6-88a9-4d66-91eb-a83541e9a1d3",
   "metadata": {
    "id": "93d0b1c6-88a9-4d66-91eb-a83541e9a1d3",
    "outputId": "b26691cc-b257-48bb-87b4-9c4329ed0323"
   },
   "outputs": [
    {
     "name": "stdout",
     "output_type": "stream",
     "text": [
      "<class 'pandas.core.frame.DataFrame'>\n",
      "Int64Index: 29400 entries, 0 to 29999\n",
      "Data columns (total 18 columns):\n",
      " #   Column             Non-Null Count  Dtype   \n",
      "---  ------             --------------  -----   \n",
      " 0   video_id           29400 non-null  object  \n",
      " 1   title              29400 non-null  object  \n",
      " 2   publishedAt        29400 non-null  object  \n",
      " 3   channelId          29400 non-null  object  \n",
      " 4   channelTitle       29400 non-null  object  \n",
      " 5   categoryId         29400 non-null  int64   \n",
      " 6   trending_date      29400 non-null  object  \n",
      " 7   tags               29400 non-null  object  \n",
      " 8   view_count         29400 non-null  int64   \n",
      " 9   likes              29400 non-null  int64   \n",
      " 10  dislikes           29400 non-null  int64   \n",
      " 11  comment_count      29400 non-null  int64   \n",
      " 12  thumbnail_link     29400 non-null  object  \n",
      " 13  comments_disabled  29400 non-null  bool    \n",
      " 14  ratings_disabled   29400 non-null  bool    \n",
      " 15  description        29400 non-null  object  \n",
      " 16  Rating             29400 non-null  category\n",
      " 17  userID             29400 non-null  int64   \n",
      "dtypes: bool(2), category(1), int64(6), object(9)\n",
      "memory usage: 3.7+ MB\n"
     ]
    }
   ],
   "source": [
    "youtube.info()"
   ]
  },
  {
   "cell_type": "code",
   "execution_count": null,
   "id": "79a56717-b8c7-41cb-82b8-7e57ec77badc",
   "metadata": {
    "id": "79a56717-b8c7-41cb-82b8-7e57ec77badc"
   },
   "outputs": [],
   "source": []
  },
  {
   "cell_type": "code",
   "execution_count": 17,
   "id": "542b49fd-b615-4bae-8fc6-ae19520bed0a",
   "metadata": {
    "id": "542b49fd-b615-4bae-8fc6-ae19520bed0a"
   },
   "outputs": [],
   "source": [
    "YouTube_df = youtube[['userID','video_id','title','channelTitle','categoryId','tags','likes','description','channelId','thumbnail_link','Rating']]"
   ]
  },
  {
   "cell_type": "code",
   "execution_count": 18,
   "id": "f8659080-9cc1-4d74-9f6f-16019fc34951",
   "metadata": {
    "id": "f8659080-9cc1-4d74-9f6f-16019fc34951",
    "outputId": "0710d485-c1c5-4a91-8835-b75849260170"
   },
   "outputs": [
    {
     "data": {
      "text/html": [
       "<div>\n",
       "<style scoped>\n",
       "    .dataframe tbody tr th:only-of-type {\n",
       "        vertical-align: middle;\n",
       "    }\n",
       "\n",
       "    .dataframe tbody tr th {\n",
       "        vertical-align: top;\n",
       "    }\n",
       "\n",
       "    .dataframe thead th {\n",
       "        text-align: right;\n",
       "    }\n",
       "</style>\n",
       "<table border=\"1\" class=\"dataframe\">\n",
       "  <thead>\n",
       "    <tr style=\"text-align: right;\">\n",
       "      <th></th>\n",
       "      <th>userID</th>\n",
       "      <th>video_id</th>\n",
       "      <th>title</th>\n",
       "      <th>channelTitle</th>\n",
       "      <th>categoryId</th>\n",
       "      <th>tags</th>\n",
       "      <th>likes</th>\n",
       "      <th>description</th>\n",
       "      <th>channelId</th>\n",
       "      <th>thumbnail_link</th>\n",
       "      <th>Rating</th>\n",
       "    </tr>\n",
       "  </thead>\n",
       "  <tbody>\n",
       "    <tr>\n",
       "      <th>0</th>\n",
       "      <td>1</td>\n",
       "      <td>Iot0eF6EoNA</td>\n",
       "      <td>Sadak 2 | Official Trailer | Sanjay | Pooja | ...</td>\n",
       "      <td>FoxStarHindi</td>\n",
       "      <td>24</td>\n",
       "      <td>sadak|sadak 2|mahesh bhatt|vishesh films|pooja...</td>\n",
       "      <td>224925</td>\n",
       "      <td>Three Streams. Three Stories. One Journey. Sta...</td>\n",
       "      <td>UCGqvJPRcv7aVFun-eTsatcA</td>\n",
       "      <td>https://i.ytimg.com/vi/Iot0eF6EoNA/default.jpg</td>\n",
       "      <td>4</td>\n",
       "    </tr>\n",
       "    <tr>\n",
       "      <th>1</th>\n",
       "      <td>2</td>\n",
       "      <td>x-KbnJ9fvJc</td>\n",
       "      <td>Kya Baat Aa : Karan Aujla (Official Video) Tan...</td>\n",
       "      <td>Rehaan Records</td>\n",
       "      <td>10</td>\n",
       "      <td>[None]</td>\n",
       "      <td>655450</td>\n",
       "      <td>Singer/Lyrics: Karan Aujla Feat Tania Music/ D...</td>\n",
       "      <td>UCm9SZAl03Rev9sFwloCdz1g</td>\n",
       "      <td>https://i.ytimg.com/vi/x-KbnJ9fvJc/default.jpg</td>\n",
       "      <td>4</td>\n",
       "    </tr>\n",
       "  </tbody>\n",
       "</table>\n",
       "</div>"
      ],
      "text/plain": [
       "   userID     video_id                                              title  \\\n",
       "0       1  Iot0eF6EoNA  Sadak 2 | Official Trailer | Sanjay | Pooja | ...   \n",
       "1       2  x-KbnJ9fvJc  Kya Baat Aa : Karan Aujla (Official Video) Tan...   \n",
       "\n",
       "     channelTitle  categoryId  \\\n",
       "0    FoxStarHindi          24   \n",
       "1  Rehaan Records          10   \n",
       "\n",
       "                                                tags   likes  \\\n",
       "0  sadak|sadak 2|mahesh bhatt|vishesh films|pooja...  224925   \n",
       "1                                             [None]  655450   \n",
       "\n",
       "                                         description  \\\n",
       "0  Three Streams. Three Stories. One Journey. Sta...   \n",
       "1  Singer/Lyrics: Karan Aujla Feat Tania Music/ D...   \n",
       "\n",
       "                  channelId                                  thumbnail_link  \\\n",
       "0  UCGqvJPRcv7aVFun-eTsatcA  https://i.ytimg.com/vi/Iot0eF6EoNA/default.jpg   \n",
       "1  UCm9SZAl03Rev9sFwloCdz1g  https://i.ytimg.com/vi/x-KbnJ9fvJc/default.jpg   \n",
       "\n",
       "  Rating  \n",
       "0      4  \n",
       "1      4  "
      ]
     },
     "execution_count": 18,
     "metadata": {},
     "output_type": "execute_result"
    }
   ],
   "source": [
    "YouTube_df.head(2)"
   ]
  },
  {
   "cell_type": "code",
   "execution_count": 19,
   "id": "49be1e8d-5571-489f-941b-f634a6099f88",
   "metadata": {
    "id": "49be1e8d-5571-489f-941b-f634a6099f88",
    "outputId": "39d85c56-959f-4ddb-d3d4-8a18eba677a9"
   },
   "outputs": [
    {
     "data": {
      "text/plain": [
       "0        Sadak 2 | Official Trailer | Sanjay | Pooja | ...\n",
       "1        Kya Baat Aa : Karan Aujla (Official Video) Tan...\n",
       "2        Diljit Dosanjh: CLASH (Official) Music Video |...\n",
       "3        Dil Ko Maine Di Kasam Video | Amaal M Ft.Ariji...\n",
       "4        Baarish (Official Video) Payal Dev,Stebin Ben ...\n",
       "                               ...                        \n",
       "29995    India celebrate a win for the ages at the Gabb...\n",
       "29996    Jethalal Ke Haath Ki Chai | Taarak Mehta Ka Oo...\n",
       "29997    Bruised, abused but conquered! India stun Aust...\n",
       "29998    Kumkum Bhagya | Premiere Episode 1751 Preview ...\n",
       "29999    SISTERS Season 2 | Episode 5 | Girl Formula | ...\n",
       "Name: title, Length: 29400, dtype: object"
      ]
     },
     "execution_count": 19,
     "metadata": {},
     "output_type": "execute_result"
    }
   ],
   "source": [
    "YouTube_df.title"
   ]
  },
  {
   "cell_type": "code",
   "execution_count": 20,
   "id": "d4e2d883-d60a-49d1-a55a-74e98228995d",
   "metadata": {
    "id": "d4e2d883-d60a-49d1-a55a-74e98228995d"
   },
   "outputs": [],
   "source": [
    "YouTube_df[\"title\"] = YouTube_df[\"title\"].str.split('|').str[0].str.strip()"
   ]
  },
  {
   "cell_type": "code",
   "execution_count": 21,
   "id": "6caecdc3-6546-4f09-9616-527a005c079b",
   "metadata": {
    "id": "6caecdc3-6546-4f09-9616-527a005c079b",
    "outputId": "c0c8ac55-b9e4-44b2-9bcf-cc82eed02153"
   },
   "outputs": [
    {
     "data": {
      "text/html": [
       "<div>\n",
       "<style scoped>\n",
       "    .dataframe tbody tr th:only-of-type {\n",
       "        vertical-align: middle;\n",
       "    }\n",
       "\n",
       "    .dataframe tbody tr th {\n",
       "        vertical-align: top;\n",
       "    }\n",
       "\n",
       "    .dataframe thead th {\n",
       "        text-align: right;\n",
       "    }\n",
       "</style>\n",
       "<table border=\"1\" class=\"dataframe\">\n",
       "  <thead>\n",
       "    <tr style=\"text-align: right;\">\n",
       "      <th></th>\n",
       "      <th>userID</th>\n",
       "      <th>video_id</th>\n",
       "      <th>title</th>\n",
       "      <th>channelTitle</th>\n",
       "      <th>categoryId</th>\n",
       "      <th>tags</th>\n",
       "      <th>likes</th>\n",
       "      <th>description</th>\n",
       "      <th>channelId</th>\n",
       "      <th>thumbnail_link</th>\n",
       "      <th>Rating</th>\n",
       "    </tr>\n",
       "  </thead>\n",
       "  <tbody>\n",
       "    <tr>\n",
       "      <th>0</th>\n",
       "      <td>1</td>\n",
       "      <td>Iot0eF6EoNA</td>\n",
       "      <td>Sadak 2</td>\n",
       "      <td>FoxStarHindi</td>\n",
       "      <td>24</td>\n",
       "      <td>sadak|sadak 2|mahesh bhatt|vishesh films|pooja...</td>\n",
       "      <td>224925</td>\n",
       "      <td>Three Streams. Three Stories. One Journey. Sta...</td>\n",
       "      <td>UCGqvJPRcv7aVFun-eTsatcA</td>\n",
       "      <td>https://i.ytimg.com/vi/Iot0eF6EoNA/default.jpg</td>\n",
       "      <td>4</td>\n",
       "    </tr>\n",
       "    <tr>\n",
       "      <th>1</th>\n",
       "      <td>2</td>\n",
       "      <td>x-KbnJ9fvJc</td>\n",
       "      <td>Kya Baat Aa : Karan Aujla (Official Video) Tania</td>\n",
       "      <td>Rehaan Records</td>\n",
       "      <td>10</td>\n",
       "      <td>[None]</td>\n",
       "      <td>655450</td>\n",
       "      <td>Singer/Lyrics: Karan Aujla Feat Tania Music/ D...</td>\n",
       "      <td>UCm9SZAl03Rev9sFwloCdz1g</td>\n",
       "      <td>https://i.ytimg.com/vi/x-KbnJ9fvJc/default.jpg</td>\n",
       "      <td>4</td>\n",
       "    </tr>\n",
       "  </tbody>\n",
       "</table>\n",
       "</div>"
      ],
      "text/plain": [
       "   userID     video_id                                             title  \\\n",
       "0       1  Iot0eF6EoNA                                           Sadak 2   \n",
       "1       2  x-KbnJ9fvJc  Kya Baat Aa : Karan Aujla (Official Video) Tania   \n",
       "\n",
       "     channelTitle  categoryId  \\\n",
       "0    FoxStarHindi          24   \n",
       "1  Rehaan Records          10   \n",
       "\n",
       "                                                tags   likes  \\\n",
       "0  sadak|sadak 2|mahesh bhatt|vishesh films|pooja...  224925   \n",
       "1                                             [None]  655450   \n",
       "\n",
       "                                         description  \\\n",
       "0  Three Streams. Three Stories. One Journey. Sta...   \n",
       "1  Singer/Lyrics: Karan Aujla Feat Tania Music/ D...   \n",
       "\n",
       "                  channelId                                  thumbnail_link  \\\n",
       "0  UCGqvJPRcv7aVFun-eTsatcA  https://i.ytimg.com/vi/Iot0eF6EoNA/default.jpg   \n",
       "1  UCm9SZAl03Rev9sFwloCdz1g  https://i.ytimg.com/vi/x-KbnJ9fvJc/default.jpg   \n",
       "\n",
       "  Rating  \n",
       "0      4  \n",
       "1      4  "
      ]
     },
     "execution_count": 21,
     "metadata": {},
     "output_type": "execute_result"
    }
   ],
   "source": [
    "YouTube_df.head(2)"
   ]
  },
  {
   "cell_type": "code",
   "execution_count": 22,
   "id": "7d717717-c814-4b79-a268-e05ce0058939",
   "metadata": {
    "id": "7d717717-c814-4b79-a268-e05ce0058939"
   },
   "outputs": [],
   "source": [
    "YouTube_df['tags'] = YouTube_df['tags'].str.replace('|', ' ')"
   ]
  },
  {
   "cell_type": "code",
   "execution_count": 23,
   "id": "cd908728-fd82-4d69-bb57-fe222da1e183",
   "metadata": {
    "id": "cd908728-fd82-4d69-bb57-fe222da1e183",
    "outputId": "879e5db8-464a-4e00-a8cc-fd66e1943b8e"
   },
   "outputs": [
    {
     "data": {
      "text/html": [
       "<div>\n",
       "<style scoped>\n",
       "    .dataframe tbody tr th:only-of-type {\n",
       "        vertical-align: middle;\n",
       "    }\n",
       "\n",
       "    .dataframe tbody tr th {\n",
       "        vertical-align: top;\n",
       "    }\n",
       "\n",
       "    .dataframe thead th {\n",
       "        text-align: right;\n",
       "    }\n",
       "</style>\n",
       "<table border=\"1\" class=\"dataframe\">\n",
       "  <thead>\n",
       "    <tr style=\"text-align: right;\">\n",
       "      <th></th>\n",
       "      <th>userID</th>\n",
       "      <th>video_id</th>\n",
       "      <th>title</th>\n",
       "      <th>channelTitle</th>\n",
       "      <th>categoryId</th>\n",
       "      <th>tags</th>\n",
       "      <th>likes</th>\n",
       "      <th>description</th>\n",
       "      <th>channelId</th>\n",
       "      <th>thumbnail_link</th>\n",
       "      <th>Rating</th>\n",
       "    </tr>\n",
       "  </thead>\n",
       "  <tbody>\n",
       "    <tr>\n",
       "      <th>0</th>\n",
       "      <td>1</td>\n",
       "      <td>Iot0eF6EoNA</td>\n",
       "      <td>Sadak 2</td>\n",
       "      <td>FoxStarHindi</td>\n",
       "      <td>24</td>\n",
       "      <td>sadak sadak 2 mahesh bhatt vishesh films pooja...</td>\n",
       "      <td>224925</td>\n",
       "      <td>Three Streams. Three Stories. One Journey. Sta...</td>\n",
       "      <td>UCGqvJPRcv7aVFun-eTsatcA</td>\n",
       "      <td>https://i.ytimg.com/vi/Iot0eF6EoNA/default.jpg</td>\n",
       "      <td>4</td>\n",
       "    </tr>\n",
       "    <tr>\n",
       "      <th>1</th>\n",
       "      <td>2</td>\n",
       "      <td>x-KbnJ9fvJc</td>\n",
       "      <td>Kya Baat Aa : Karan Aujla (Official Video) Tania</td>\n",
       "      <td>Rehaan Records</td>\n",
       "      <td>10</td>\n",
       "      <td>[None]</td>\n",
       "      <td>655450</td>\n",
       "      <td>Singer/Lyrics: Karan Aujla Feat Tania Music/ D...</td>\n",
       "      <td>UCm9SZAl03Rev9sFwloCdz1g</td>\n",
       "      <td>https://i.ytimg.com/vi/x-KbnJ9fvJc/default.jpg</td>\n",
       "      <td>4</td>\n",
       "    </tr>\n",
       "    <tr>\n",
       "      <th>2</th>\n",
       "      <td>3</td>\n",
       "      <td>KX06ksuS6Xo</td>\n",
       "      <td>Diljit Dosanjh: CLASH (Official) Music Video</td>\n",
       "      <td>Diljit Dosanjh</td>\n",
       "      <td>10</td>\n",
       "      <td>clash diljit dosanjh diljit dosanjh diljit dos...</td>\n",
       "      <td>296533</td>\n",
       "      <td>CLASH official music video performed by DILJIT...</td>\n",
       "      <td>UCZRdNleCgW-BGUJf-bbjzQg</td>\n",
       "      <td>https://i.ytimg.com/vi/KX06ksuS6Xo/default.jpg</td>\n",
       "      <td>4</td>\n",
       "    </tr>\n",
       "  </tbody>\n",
       "</table>\n",
       "</div>"
      ],
      "text/plain": [
       "   userID     video_id                                             title  \\\n",
       "0       1  Iot0eF6EoNA                                           Sadak 2   \n",
       "1       2  x-KbnJ9fvJc  Kya Baat Aa : Karan Aujla (Official Video) Tania   \n",
       "2       3  KX06ksuS6Xo      Diljit Dosanjh: CLASH (Official) Music Video   \n",
       "\n",
       "     channelTitle  categoryId  \\\n",
       "0    FoxStarHindi          24   \n",
       "1  Rehaan Records          10   \n",
       "2  Diljit Dosanjh          10   \n",
       "\n",
       "                                                tags   likes  \\\n",
       "0  sadak sadak 2 mahesh bhatt vishesh films pooja...  224925   \n",
       "1                                             [None]  655450   \n",
       "2  clash diljit dosanjh diljit dosanjh diljit dos...  296533   \n",
       "\n",
       "                                         description  \\\n",
       "0  Three Streams. Three Stories. One Journey. Sta...   \n",
       "1  Singer/Lyrics: Karan Aujla Feat Tania Music/ D...   \n",
       "2  CLASH official music video performed by DILJIT...   \n",
       "\n",
       "                  channelId                                  thumbnail_link  \\\n",
       "0  UCGqvJPRcv7aVFun-eTsatcA  https://i.ytimg.com/vi/Iot0eF6EoNA/default.jpg   \n",
       "1  UCm9SZAl03Rev9sFwloCdz1g  https://i.ytimg.com/vi/x-KbnJ9fvJc/default.jpg   \n",
       "2  UCZRdNleCgW-BGUJf-bbjzQg  https://i.ytimg.com/vi/KX06ksuS6Xo/default.jpg   \n",
       "\n",
       "  Rating  \n",
       "0      4  \n",
       "1      4  \n",
       "2      4  "
      ]
     },
     "execution_count": 23,
     "metadata": {},
     "output_type": "execute_result"
    }
   ],
   "source": [
    "YouTube_df.head(3)"
   ]
  },
  {
   "cell_type": "code",
   "execution_count": 24,
   "id": "79d3087d-1e7f-4818-81a3-fe1e836bc993",
   "metadata": {
    "id": "79d3087d-1e7f-4818-81a3-fe1e836bc993",
    "outputId": "ba247949-83a4-49c5-e72f-98bd64cdb4df"
   },
   "outputs": [
    {
     "data": {
      "text/plain": [
       "userID            0\n",
       "video_id          0\n",
       "title             0\n",
       "channelTitle      0\n",
       "categoryId        0\n",
       "tags              0\n",
       "likes             0\n",
       "description       0\n",
       "channelId         0\n",
       "thumbnail_link    0\n",
       "Rating            0\n",
       "dtype: int64"
      ]
     },
     "execution_count": 24,
     "metadata": {},
     "output_type": "execute_result"
    }
   ],
   "source": [
    "YouTube_df.isnull().sum()"
   ]
  },
  {
   "cell_type": "code",
   "execution_count": 25,
   "id": "84ee0b72-6ade-4d9a-9d85-b2f24b6c8cf0",
   "metadata": {
    "id": "84ee0b72-6ade-4d9a-9d85-b2f24b6c8cf0"
   },
   "outputs": [],
   "source": [
    "YouTube_df.dropna(inplace=True)"
   ]
  },
  {
   "cell_type": "code",
   "execution_count": 26,
   "id": "d127635f-f93d-4f31-943e-8e01d711e4eb",
   "metadata": {
    "id": "d127635f-f93d-4f31-943e-8e01d711e4eb"
   },
   "outputs": [],
   "source": [
    "YouTube_df.drop_duplicates(subset=['title'], inplace=True)"
   ]
  },
  {
   "cell_type": "code",
   "execution_count": 27,
   "id": "674f7ed5-cc1c-43b3-be7b-62aacf1a1652",
   "metadata": {
    "id": "674f7ed5-cc1c-43b3-be7b-62aacf1a1652",
    "outputId": "4e88bcb4-16d3-4f22-ce22-6f0644253b76"
   },
   "outputs": [
    {
     "data": {
      "text/plain": [
       "0        [Three, Streams., Three, Stories., One, Journe...\n",
       "1        [Singer/Lyrics:, Karan, Aujla, Feat, Tania, Mu...\n",
       "2        [CLASH, official, music, video, performed, by,...\n",
       "3        [Gulshan, Kumar, and, T-Series, presents, Bhus...\n",
       "4        [VYRL, Originals, brings, to, you, ‘Baarish’, ...\n",
       "                               ...                        \n",
       "29984    [Voilà!, Digi, presents, the, official, music,...\n",
       "29987    [#AUSvIND, #India, #Australia, Aakash, Chopra,...\n",
       "29990    [Click, here, to, watch, the, full, episode, o...\n",
       "29994    [Click, here, to, Subscribe, to, SAB, TV, Chan...\n",
       "29996    [Click, here, to, Subscribe, to, Taarak, Mehta...\n",
       "Name: description, Length: 7312, dtype: object"
      ]
     },
     "execution_count": 27,
     "metadata": {},
     "output_type": "execute_result"
    }
   ],
   "source": [
    "YouTube_df['description'].apply(lambda x:x.split())"
   ]
  },
  {
   "cell_type": "code",
   "execution_count": 28,
   "id": "6b3fcff5-b4f4-4c22-bc99-53216f4e59fb",
   "metadata": {
    "id": "6b3fcff5-b4f4-4c22-bc99-53216f4e59fb",
    "outputId": "b572795f-c31e-4e67-84c2-b75cc3d4e404"
   },
   "outputs": [
    {
     "data": {
      "text/html": [
       "<div>\n",
       "<style scoped>\n",
       "    .dataframe tbody tr th:only-of-type {\n",
       "        vertical-align: middle;\n",
       "    }\n",
       "\n",
       "    .dataframe tbody tr th {\n",
       "        vertical-align: top;\n",
       "    }\n",
       "\n",
       "    .dataframe thead th {\n",
       "        text-align: right;\n",
       "    }\n",
       "</style>\n",
       "<table border=\"1\" class=\"dataframe\">\n",
       "  <thead>\n",
       "    <tr style=\"text-align: right;\">\n",
       "      <th></th>\n",
       "      <th>userID</th>\n",
       "      <th>video_id</th>\n",
       "      <th>title</th>\n",
       "      <th>channelTitle</th>\n",
       "      <th>categoryId</th>\n",
       "      <th>tags</th>\n",
       "      <th>likes</th>\n",
       "      <th>description</th>\n",
       "      <th>channelId</th>\n",
       "      <th>thumbnail_link</th>\n",
       "      <th>Rating</th>\n",
       "    </tr>\n",
       "  </thead>\n",
       "  <tbody>\n",
       "    <tr>\n",
       "      <th>0</th>\n",
       "      <td>1</td>\n",
       "      <td>Iot0eF6EoNA</td>\n",
       "      <td>Sadak 2</td>\n",
       "      <td>FoxStarHindi</td>\n",
       "      <td>24</td>\n",
       "      <td>sadak sadak 2 mahesh bhatt vishesh films pooja...</td>\n",
       "      <td>224925</td>\n",
       "      <td>Three Streams. Three Stories. One Journey. Sta...</td>\n",
       "      <td>UCGqvJPRcv7aVFun-eTsatcA</td>\n",
       "      <td>https://i.ytimg.com/vi/Iot0eF6EoNA/default.jpg</td>\n",
       "      <td>4</td>\n",
       "    </tr>\n",
       "    <tr>\n",
       "      <th>1</th>\n",
       "      <td>2</td>\n",
       "      <td>x-KbnJ9fvJc</td>\n",
       "      <td>Kya Baat Aa : Karan Aujla (Official Video) Tania</td>\n",
       "      <td>Rehaan Records</td>\n",
       "      <td>10</td>\n",
       "      <td>[None]</td>\n",
       "      <td>655450</td>\n",
       "      <td>Singer/Lyrics: Karan Aujla Feat Tania Music/ D...</td>\n",
       "      <td>UCm9SZAl03Rev9sFwloCdz1g</td>\n",
       "      <td>https://i.ytimg.com/vi/x-KbnJ9fvJc/default.jpg</td>\n",
       "      <td>4</td>\n",
       "    </tr>\n",
       "  </tbody>\n",
       "</table>\n",
       "</div>"
      ],
      "text/plain": [
       "   userID     video_id                                             title  \\\n",
       "0       1  Iot0eF6EoNA                                           Sadak 2   \n",
       "1       2  x-KbnJ9fvJc  Kya Baat Aa : Karan Aujla (Official Video) Tania   \n",
       "\n",
       "     channelTitle  categoryId  \\\n",
       "0    FoxStarHindi          24   \n",
       "1  Rehaan Records          10   \n",
       "\n",
       "                                                tags   likes  \\\n",
       "0  sadak sadak 2 mahesh bhatt vishesh films pooja...  224925   \n",
       "1                                             [None]  655450   \n",
       "\n",
       "                                         description  \\\n",
       "0  Three Streams. Three Stories. One Journey. Sta...   \n",
       "1  Singer/Lyrics: Karan Aujla Feat Tania Music/ D...   \n",
       "\n",
       "                  channelId                                  thumbnail_link  \\\n",
       "0  UCGqvJPRcv7aVFun-eTsatcA  https://i.ytimg.com/vi/Iot0eF6EoNA/default.jpg   \n",
       "1  UCm9SZAl03Rev9sFwloCdz1g  https://i.ytimg.com/vi/x-KbnJ9fvJc/default.jpg   \n",
       "\n",
       "  Rating  \n",
       "0      4  \n",
       "1      4  "
      ]
     },
     "execution_count": 28,
     "metadata": {},
     "output_type": "execute_result"
    }
   ],
   "source": [
    "YouTube_df.head(2)"
   ]
  },
  {
   "cell_type": "code",
   "execution_count": 29,
   "id": "df42ea36-e5d4-40b8-9ebb-210a3b841ac9",
   "metadata": {
    "id": "df42ea36-e5d4-40b8-9ebb-210a3b841ac9"
   },
   "outputs": [],
   "source": [
    "YouTube_df['joint_tags'] = YouTube_df['channelTitle'] + YouTube_df['description'] + YouTube_df['tags'] \n"
   ]
  },
  {
   "cell_type": "code",
   "execution_count": 30,
   "id": "77aa66ab-f7b4-4651-adcb-b5460d3c6099",
   "metadata": {
    "id": "77aa66ab-f7b4-4651-adcb-b5460d3c6099",
    "outputId": "8aa5f15b-dc25-45b9-def5-c981d110787d"
   },
   "outputs": [
    {
     "data": {
      "text/plain": [
       "0    FoxStarHindiThree Streams. Three Stories. One ...\n",
       "1    Rehaan RecordsSinger/Lyrics: Karan Aujla Feat ...\n",
       "2    Diljit DosanjhCLASH official music video perfo...\n",
       "3    T-SeriesGulshan Kumar and T-Series presents Bh...\n",
       "4    VYRLOriginalsVYRL Originals brings to you ‘Baa...\n",
       "Name: joint_tags, dtype: object"
      ]
     },
     "execution_count": 30,
     "metadata": {},
     "output_type": "execute_result"
    }
   ],
   "source": [
    "YouTube_df['joint_tags'][:5]"
   ]
  },
  {
   "cell_type": "code",
   "execution_count": 31,
   "id": "6e2a52d7-c610-4d84-adb5-0e3bc876380b",
   "metadata": {
    "id": "6e2a52d7-c610-4d84-adb5-0e3bc876380b",
    "outputId": "76e42dab-8a49-405c-bf33-4f4d8b9dd425"
   },
   "outputs": [
    {
     "data": {
      "text/plain": [
       "userID            0\n",
       "video_id          0\n",
       "title             0\n",
       "channelTitle      0\n",
       "categoryId        0\n",
       "tags              0\n",
       "likes             0\n",
       "description       0\n",
       "channelId         0\n",
       "thumbnail_link    0\n",
       "Rating            0\n",
       "joint_tags        0\n",
       "dtype: int64"
      ]
     },
     "execution_count": 31,
     "metadata": {},
     "output_type": "execute_result"
    }
   ],
   "source": [
    "YouTube_df.isnull().sum()"
   ]
  },
  {
   "cell_type": "code",
   "execution_count": 32,
   "id": "69ed6251-4f44-4baa-ab35-0c397b28c0ba",
   "metadata": {
    "id": "69ed6251-4f44-4baa-ab35-0c397b28c0ba"
   },
   "outputs": [],
   "source": [
    "YouTube_df['joint_tags']=YouTube_df['joint_tags'].apply(lambda x:x.split())"
   ]
  },
  {
   "cell_type": "code",
   "execution_count": 33,
   "id": "f20c89c6-63ec-4d20-9735-ac06538479ee",
   "metadata": {
    "id": "f20c89c6-63ec-4d20-9735-ac06538479ee",
    "outputId": "25127c9f-e9d2-477c-db57-31be849f6d37"
   },
   "outputs": [
    {
     "data": {
      "text/plain": [
       "['Rehaan',\n",
       " 'RecordsSinger/Lyrics:',\n",
       " 'Karan',\n",
       " 'Aujla',\n",
       " 'Feat',\n",
       " 'Tania',\n",
       " 'Music/',\n",
       " 'Desi',\n",
       " 'Crew',\n",
       " 'Mix',\n",
       " '&',\n",
       " 'Master',\n",
       " '/',\n",
       " 'Dc',\n",
       " 'Studio’sVideo/',\n",
       " 'Sukh',\n",
       " 'Sanghera',\n",
       " 'Project',\n",
       " 'By',\n",
       " '/',\n",
       " 'Deep',\n",
       " 'Rehaan',\n",
       " 'Sukh',\n",
       " 'Bajwa',\n",
       " '&',\n",
       " 'Jeewan',\n",
       " 'Chahal',\n",
       " 'Produced',\n",
       " 'By',\n",
       " '/',\n",
       " 'Sandeep',\n",
       " 'RehaanLabel',\n",
       " '/',\n",
       " 'Rehaan',\n",
       " 'RecordsOnline',\n",
       " 'Promotions',\n",
       " '-',\n",
       " 'Global',\n",
       " 'Digital',\n",
       " 'SolutionDigital',\n",
       " 'Partner',\n",
       " '/',\n",
       " 'Coin',\n",
       " 'Digital',\n",
       " 'Social',\n",
       " 'media',\n",
       " 'Promotions:',\n",
       " 'Gk',\n",
       " 'DigitialSpotify:',\n",
       " 'https://spoti.fi/3kDfnNuYoutube',\n",
       " 'Music:',\n",
       " 'https://bit.ly/31N2tUkGaana:',\n",
       " 'https://bit.ly/2PHrUkLhttps://wynk.in/u/SSWNC5VO3Website:',\n",
       " 'WWW.RehaanRecords.CAFB:',\n",
       " 'https://m.facebook.com/RehaanRecords/INSTA:',\n",
       " 'Instagram/rehaanrecords[None]']"
      ]
     },
     "execution_count": 33,
     "metadata": {},
     "output_type": "execute_result"
    }
   ],
   "source": [
    "YouTube_df['joint_tags'][1]"
   ]
  },
  {
   "cell_type": "code",
   "execution_count": 34,
   "id": "e5ddc624-bbdf-4632-8d96-a0764a8dd8c4",
   "metadata": {
    "id": "e5ddc624-bbdf-4632-8d96-a0764a8dd8c4"
   },
   "outputs": [],
   "source": [
    "new = YouTube_df.drop(columns=['channelTitle','categoryId','tags','description','channelId'])#'likes'\n",
    "#new.head()"
   ]
  },
  {
   "cell_type": "code",
   "execution_count": 35,
   "id": "b62f4e5d-03ed-4db1-bb13-2143d766e7cc",
   "metadata": {
    "id": "b62f4e5d-03ed-4db1-bb13-2143d766e7cc",
    "outputId": "4f50f283-36a0-4c4f-b764-86e7d5c39c93"
   },
   "outputs": [
    {
     "data": {
      "text/html": [
       "<div>\n",
       "<style scoped>\n",
       "    .dataframe tbody tr th:only-of-type {\n",
       "        vertical-align: middle;\n",
       "    }\n",
       "\n",
       "    .dataframe tbody tr th {\n",
       "        vertical-align: top;\n",
       "    }\n",
       "\n",
       "    .dataframe thead th {\n",
       "        text-align: right;\n",
       "    }\n",
       "</style>\n",
       "<table border=\"1\" class=\"dataframe\">\n",
       "  <thead>\n",
       "    <tr style=\"text-align: right;\">\n",
       "      <th></th>\n",
       "      <th>userID</th>\n",
       "      <th>video_id</th>\n",
       "      <th>title</th>\n",
       "      <th>likes</th>\n",
       "      <th>thumbnail_link</th>\n",
       "      <th>Rating</th>\n",
       "      <th>joint_tags</th>\n",
       "    </tr>\n",
       "  </thead>\n",
       "  <tbody>\n",
       "    <tr>\n",
       "      <th>0</th>\n",
       "      <td>1</td>\n",
       "      <td>Iot0eF6EoNA</td>\n",
       "      <td>Sadak 2</td>\n",
       "      <td>224925</td>\n",
       "      <td>https://i.ytimg.com/vi/Iot0eF6EoNA/default.jpg</td>\n",
       "      <td>4</td>\n",
       "      <td>FoxStarHindiThree Streams. Three Stories. One ...</td>\n",
       "    </tr>\n",
       "    <tr>\n",
       "      <th>1</th>\n",
       "      <td>2</td>\n",
       "      <td>x-KbnJ9fvJc</td>\n",
       "      <td>Kya Baat Aa : Karan Aujla (Official Video) Tania</td>\n",
       "      <td>655450</td>\n",
       "      <td>https://i.ytimg.com/vi/x-KbnJ9fvJc/default.jpg</td>\n",
       "      <td>4</td>\n",
       "      <td>Rehaan RecordsSinger/Lyrics: Karan Aujla Feat ...</td>\n",
       "    </tr>\n",
       "    <tr>\n",
       "      <th>2</th>\n",
       "      <td>3</td>\n",
       "      <td>KX06ksuS6Xo</td>\n",
       "      <td>Diljit Dosanjh: CLASH (Official) Music Video</td>\n",
       "      <td>296533</td>\n",
       "      <td>https://i.ytimg.com/vi/KX06ksuS6Xo/default.jpg</td>\n",
       "      <td>4</td>\n",
       "      <td>Diljit DosanjhCLASH official music video perfo...</td>\n",
       "    </tr>\n",
       "    <tr>\n",
       "      <th>3</th>\n",
       "      <td>4</td>\n",
       "      <td>UsMRgnTcchY</td>\n",
       "      <td>Dil Ko Maine Di Kasam Video</td>\n",
       "      <td>743931</td>\n",
       "      <td>https://i.ytimg.com/vi/UsMRgnTcchY/default.jpg</td>\n",
       "      <td>4</td>\n",
       "      <td>T-SeriesGulshan Kumar and T-Series presents Bh...</td>\n",
       "    </tr>\n",
       "    <tr>\n",
       "      <th>4</th>\n",
       "      <td>5</td>\n",
       "      <td>WNSEXJJhKTU</td>\n",
       "      <td>Baarish (Official Video) Payal Dev,Stebin Ben</td>\n",
       "      <td>268817</td>\n",
       "      <td>https://i.ytimg.com/vi/WNSEXJJhKTU/default.jpg</td>\n",
       "      <td>4</td>\n",
       "      <td>VYRLOriginalsVYRL Originals brings to you ‘Baa...</td>\n",
       "    </tr>\n",
       "  </tbody>\n",
       "</table>\n",
       "</div>"
      ],
      "text/plain": [
       "   userID     video_id                                             title  \\\n",
       "0       1  Iot0eF6EoNA                                           Sadak 2   \n",
       "1       2  x-KbnJ9fvJc  Kya Baat Aa : Karan Aujla (Official Video) Tania   \n",
       "2       3  KX06ksuS6Xo      Diljit Dosanjh: CLASH (Official) Music Video   \n",
       "3       4  UsMRgnTcchY                       Dil Ko Maine Di Kasam Video   \n",
       "4       5  WNSEXJJhKTU     Baarish (Official Video) Payal Dev,Stebin Ben   \n",
       "\n",
       "    likes                                  thumbnail_link Rating  \\\n",
       "0  224925  https://i.ytimg.com/vi/Iot0eF6EoNA/default.jpg      4   \n",
       "1  655450  https://i.ytimg.com/vi/x-KbnJ9fvJc/default.jpg      4   \n",
       "2  296533  https://i.ytimg.com/vi/KX06ksuS6Xo/default.jpg      4   \n",
       "3  743931  https://i.ytimg.com/vi/UsMRgnTcchY/default.jpg      4   \n",
       "4  268817  https://i.ytimg.com/vi/WNSEXJJhKTU/default.jpg      4   \n",
       "\n",
       "                                          joint_tags  \n",
       "0  FoxStarHindiThree Streams. Three Stories. One ...  \n",
       "1  Rehaan RecordsSinger/Lyrics: Karan Aujla Feat ...  \n",
       "2  Diljit DosanjhCLASH official music video perfo...  \n",
       "3  T-SeriesGulshan Kumar and T-Series presents Bh...  \n",
       "4  VYRLOriginalsVYRL Originals brings to you ‘Baa...  "
      ]
     },
     "execution_count": 35,
     "metadata": {},
     "output_type": "execute_result"
    }
   ],
   "source": [
    "new['joint_tags'] = new['joint_tags'].apply(lambda x: \" \".join(x))\n",
    "new.head()"
   ]
  },
  {
   "cell_type": "code",
   "execution_count": 36,
   "id": "f1fae891-a480-4386-a69e-8c3f4e48272b",
   "metadata": {},
   "outputs": [],
   "source": [
    "#from nltk.stem.porter import PorterStemme\n",
    "from nltk.stem import PorterStemmer\n",
    "ps = PorterStemmer()"
   ]
  },
  {
   "cell_type": "code",
   "execution_count": 37,
   "id": "5b6dc142-3eff-4658-b988-19889b279a44",
   "metadata": {},
   "outputs": [],
   "source": [
    "def preprocessing(data):\n",
    "    stemmer = nltk.stem.RSLPStemmer()\n",
    "    all_stopwords = stopwords.words('english')\n",
    "    all_stopwords.remove('not')\n",
    "    corpus = []\n",
    "    for text in data:\n",
    "                \n",
    "        review = re.sub(r\"@[A-Za-z0-9_]+\", \" \", text)\n",
    "        review = re.sub(r\"https?://[A-Za-z0-9./]+\", \" \", review)\n",
    "        review = re.sub(r\"https?\", \" \", review)\n",
    "        review = re.sub('[^a-zA-Z]', ' ', review)\n",
    "        review = review.lower()\n",
    "        review = review.split()\n",
    "        ps = PorterStemmer()\n",
    "        review = [ps.stem(word) for word in review if not word in set(all_stopwords) if len(word) > 2]\n",
    "        review = ' '.join(review)\n",
    "        corpus.append(review)\n",
    "\n",
    "    return np.array(corpus)"
   ]
  },
  {
   "cell_type": "code",
   "execution_count": 38,
   "id": "91a5bb1d-121f-47f3-a0c0-21a677330cc7",
   "metadata": {},
   "outputs": [],
   "source": [
    "new['cleen_joint_tags'] = preprocessing(new['joint_tags'] .values)"
   ]
  },
  {
   "cell_type": "code",
   "execution_count": 39,
   "id": "b4f79667-bb62-4335-9485-ccf34a5a20f8",
   "metadata": {},
   "outputs": [
    {
     "data": {
      "text/plain": [
       "'rehaan recordssing lyric karan aujla feat tania music desi crew mix master studio svideo sukh sanghera project deep rehaan sukh bajwa jeewan chahal produc sandeep rehaanlabel rehaan recordsonlin promot global digit solutiondigit partner coin digit social media promot digitialspotifi music wynk sswnc websit www rehaanrecord cafb instagram rehaanrecord none'"
      ]
     },
     "execution_count": 39,
     "metadata": {},
     "output_type": "execute_result"
    }
   ],
   "source": [
    "new['cleen_joint_tags'][1]"
   ]
  },
  {
   "cell_type": "code",
   "execution_count": 40,
   "id": "442cc53b-f354-466a-beb6-d22a81b55172",
   "metadata": {
    "id": "442cc53b-f354-466a-beb6-d22a81b55172"
   },
   "outputs": [],
   "source": [
    "#new['joint_tags'] = new['joint_tags'].astype('str').str.lower()"
   ]
  },
  {
   "cell_type": "code",
   "execution_count": 41,
   "id": "45dd2db1-d797-4a56-b384-ed510529e7d8",
   "metadata": {
    "id": "45dd2db1-d797-4a56-b384-ed510529e7d8"
   },
   "outputs": [],
   "source": [
    "from sklearn.feature_extraction.text import CountVectorizer,TfidfVectorizer\n",
    "# Define additional parameters\n",
    "ngram_range = (2,3)\n",
    "max_features = 4000\n",
    "\n",
    "# Create the TF-IDF vectorizer with the specified parameters\n",
    "tfidf_vectorizer = TfidfVectorizer(\n",
    "    ngram_range=ngram_range,\n",
    "    max_features=max_features\n",
    ")\n"
   ]
  },
  {
   "cell_type": "code",
   "execution_count": 42,
   "id": "d6a4a6d1-6bc3-4d2d-9d44-0d290911c9ac",
   "metadata": {
    "id": "d6a4a6d1-6bc3-4d2d-9d44-0d290911c9ac"
   },
   "outputs": [],
   "source": [
    "vector = tfidf_vectorizer.fit_transform(new['cleen_joint_tags']).toarray()"
   ]
  },
  {
   "cell_type": "code",
   "execution_count": 43,
   "id": "600594a0-397a-4821-9b1c-50c0d05d2d0c",
   "metadata": {},
   "outputs": [
    {
     "data": {
      "text/plain": [
       "(7312, 4000)"
      ]
     },
     "execution_count": 43,
     "metadata": {},
     "output_type": "execute_result"
    }
   ],
   "source": [
    "vector.shape"
   ]
  },
  {
   "cell_type": "code",
   "execution_count": 44,
   "id": "8713aae5-0d61-418e-a705-671db7896009",
   "metadata": {},
   "outputs": [],
   "source": [
    "from sklearn.preprocessing import MinMaxScaler ,StandardScaler\n",
    "# Apply min-max scaling to your data\n",
    "scaler = StandardScaler()\n",
    "scaled_data = scaler.fit_transform(vector)"
   ]
  },
  {
   "cell_type": "code",
   "execution_count": 45,
   "id": "83e0880b-4f47-4935-9f99-c350f9cfa652",
   "metadata": {},
   "outputs": [
    {
     "data": {
      "text/plain": [
       "array([[-0.05242819, -0.04969901, -0.05194276, ..., -0.06944292,\n",
       "        -0.10583266, -0.10583266],\n",
       "       [-0.05242819, -0.04969901, -0.05194276, ..., -0.06944292,\n",
       "        -0.10583266, -0.10583266],\n",
       "       [-0.05242819, -0.04969901, -0.05194276, ..., -0.06944292,\n",
       "        -0.10583266, -0.10583266],\n",
       "       ...,\n",
       "       [-0.05242819, -0.04969901, -0.05194276, ..., -0.06944292,\n",
       "        -0.10583266, -0.10583266],\n",
       "       [-0.05242819, -0.04969901, -0.05194276, ..., -0.06944292,\n",
       "        -0.10583266, -0.10583266],\n",
       "       [-0.05242819, -0.04969901, -0.05194276, ..., -0.06944292,\n",
       "         9.69054177,  9.69054177]])"
      ]
     },
     "execution_count": 45,
     "metadata": {},
     "output_type": "execute_result"
    }
   ],
   "source": [
    "scaled_data"
   ]
  },
  {
   "cell_type": "code",
   "execution_count": 46,
   "id": "6595b3f7-4be5-4082-8c78-cb5976578afa",
   "metadata": {},
   "outputs": [],
   "source": [
    "from sklearn.decomposition import PCA\n",
    "\n",
    "pca = PCA(n_components=0.99)\n",
    "\n",
    "vector_reduced = pca.fit_transform(scaled_data)"
   ]
  },
  {
   "cell_type": "code",
   "execution_count": 47,
   "id": "1928f721-ec7c-4e2e-82e1-97c6d33cac13",
   "metadata": {
    "id": "1928f721-ec7c-4e2e-82e1-97c6d33cac13",
    "outputId": "a4222ded-0094-45d3-f799-1da0111d5fcd"
   },
   "outputs": [
    {
     "data": {
      "text/plain": [
       "(7312, 4000)"
      ]
     },
     "execution_count": 47,
     "metadata": {},
     "output_type": "execute_result"
    }
   ],
   "source": [
    "vector.shape"
   ]
  },
  {
   "cell_type": "code",
   "execution_count": 48,
   "id": "b9a46177-d79b-48a9-875f-a2f50383e288",
   "metadata": {},
   "outputs": [],
   "source": [
    "from sklearn.metrics.pairwise import cosine_similarity\n",
    "# Compute cosine similarity on the reduced vectors\n",
    "similarity = cosine_similarity(vector_reduced)"
   ]
  },
  {
   "cell_type": "code",
   "execution_count": 49,
   "id": "0cfcd309-9948-4525-bd88-2307de2aafaa",
   "metadata": {
    "id": "0cfcd309-9948-4525-bd88-2307de2aafaa",
    "outputId": "e48e78fe-8c1a-4c28-8a04-b83f7f751214"
   },
   "outputs": [
    {
     "data": {
      "text/plain": [
       "3"
      ]
     },
     "execution_count": 49,
     "metadata": {},
     "output_type": "execute_result"
    }
   ],
   "source": [
    "new[new['title'] == 'Dil Ko Maine Di Kasam Video'].index[0]"
   ]
  },
  {
   "cell_type": "markdown",
   "id": "15be8b9b-ae70-42eb-87bd-8e08f2ea1708",
   "metadata": {
    "id": "15be8b9b-ae70-42eb-87bd-8e08f2ea1708"
   },
   "source": [
    "### Prediction "
   ]
  },
  {
   "cell_type": "code",
   "execution_count": 50,
   "id": "38ff9327-d24d-463e-a3f2-024a4fd86331",
   "metadata": {
    "id": "38ff9327-d24d-463e-a3f2-024a4fd86331"
   },
   "outputs": [],
   "source": [
    "def recommend(movie):\n",
    "    index = new[new['title'] == movie].index[0]\n",
    "    distances = sorted(list(enumerate(similarity[index])),reverse=True,key = lambda x: x[1])\n",
    "    for i in distances[1:6]:\n",
    "        print(new.iloc[i[0]].title)\n",
    "        \n",
    "    "
   ]
  },
  {
   "cell_type": "code",
   "execution_count": 51,
   "id": "20f5ce30-1c7c-4057-ba81-21a3d38af58b",
   "metadata": {
    "id": "20f5ce30-1c7c-4057-ba81-21a3d38af58b",
    "outputId": "642b69f5-ac4c-43d1-b606-6b120bf1444d"
   },
   "outputs": [
    {
     "name": "stdout",
     "output_type": "stream",
     "text": [
      "Diljit Dosanjh: Born To Shine (Official Music Video) G.O.A.T\n",
      "PEED: Diljit Dosanjh (Official) Music Video\n",
      "Peed Diljit Dosanjh Lyrical Video Song\n",
      "HABIT Lyric Video: Diljit Dosanjh\n",
      "Diljit Dosanjh: Whiskey lyrical Video Song\n"
     ]
    }
   ],
   "source": [
    "recommend('Diljit Dosanjh: CLASH (Official) Music Video')"
   ]
  },
  {
   "cell_type": "code",
   "execution_count": 52,
   "id": "1a9e4747-5faf-4399-86a2-81a5f025f001",
   "metadata": {
    "id": "1a9e4747-5faf-4399-86a2-81a5f025f001",
    "outputId": "d22aeaff-e420-43bc-8dcc-e4a7c9db8c35"
   },
   "outputs": [
    {
     "name": "stdout",
     "output_type": "stream",
     "text": [
      "NEW! Ep 2975 - Taarak's Boss!\n",
      "NEW! Ep 3038 - महीनों बाद Soda Shop पे स्वागत\n",
      "NEW! Ep 3041 - Popatlal के बच्चे!\n",
      "NEW! Ep 3042 - Jetha Tries To Get Popatlal a Job\n",
      "NEW! Ep 3043 - कुंवारा पोपटलाल सब्ज़ीवाला\n"
     ]
    }
   ],
   "source": [
    "recommend('NEW! Ep 2967 - Jethalal Drops Babita!')"
   ]
  },
  {
   "cell_type": "code",
   "execution_count": 53,
   "id": "8514b08d-ffa6-4bd6-8b96-27ccbe8d956e",
   "metadata": {},
   "outputs": [
    {
     "name": "stdout",
     "output_type": "stream",
     "text": [
      "Finally bought my DreamBike - Ninja H2\n",
      "I Surprised my Friends With NINJA H2!!\n",
      "bass Life mai HAYABUSA honi chaheye\n",
      "baba ka dhaba KYU ? band ho gaya\n",
      "25 Gifts to Myself on my 25th Bday #AnishkaBirthdayWeek\n"
     ]
    }
   ],
   "source": [
    "recommend(\"first Crazy RIDE on Kawasaki NINJA H2\")"
   ]
  },
  {
   "cell_type": "code",
   "execution_count": 54,
   "id": "62c8e942-f5d8-4f27-8242-2ad8370fbb12",
   "metadata": {
    "id": "62c8e942-f5d8-4f27-8242-2ad8370fbb12",
    "outputId": "0f8cfbc1-90a9-483a-a0e6-68348de559e6"
   },
   "outputs": [
    {
     "name": "stdout",
     "output_type": "stream",
     "text": [
      "Armenia vs Azerbaijan\n",
      "Why are Farmers Protesting?\n",
      "How Joe Biden Won?\n",
      "New Strain of Coronavirus\n",
      "Bangalore Violence 2020\n"
     ]
    }
   ],
   "source": [
    "recommend('IPL 2020 - Patanjali IPL As Sponsor With 10 Big News')"
   ]
  },
  {
   "cell_type": "markdown",
   "id": "fe45b54d-d79d-45e8-bc20-fcb09f484a8f",
   "metadata": {
    "id": "fe45b54d-d79d-45e8-bc20-fcb09f484a8f"
   },
   "source": [
    "### Some advantages of content-based filtering are that it does not rely on other users' behavior, it can handle new items without a large user base, and it can provide personalized recommendations even for niche interests. However, one limitation is that it may not be able to capture the diversity of user interests, as it tends to recommend similar items to what the user has already consumed."
   ]
  },
  {
   "cell_type": "code",
   "execution_count": 55,
   "id": "b6be9466-9334-4a21-bacf-b4dad4f0e05b",
   "metadata": {
    "id": "b6be9466-9334-4a21-bacf-b4dad4f0e05b"
   },
   "outputs": [],
   "source": [
    "import pickle\n",
    "with open(\"YouTube_similarity.pkl\", \"wb\") as f: \n",
    "    joblib.dump(similarity, f) "
   ]
  },
  {
   "cell_type": "markdown",
   "id": "83a529ef-bdee-45f3-a2c9-75bce333ddf3",
   "metadata": {
    "id": "83a529ef-bdee-45f3-a2c9-75bce333ddf3"
   },
   "source": [
    "## colaborative recomendation ststem"
   ]
  },
  {
   "cell_type": "markdown",
   "id": "564ff9bc-0548-4289-92f2-81283e4e9053",
   "metadata": {
    "id": "564ff9bc-0548-4289-92f2-81283e4e9053"
   },
   "source": [
    "### Scikit-learn's Surprise library is a popular Python library for building collaborative filtering recommendation systems. Here's a general overview of how to build a collaborative recommendation system using the Surprise library:"
   ]
  },
  {
   "cell_type": "markdown",
   "id": "3081bec0-10b0-444d-96a7-db797c4e32ac",
   "metadata": {
    "id": "3081bec0-10b0-444d-96a7-db797c4e32ac"
   },
   "source": [
    "#### Data preparation: The first step is to prepare your data in a format that can be used by the Surprise library. This typically involves creating a user-item matrix, where each row represents a user and each column represents an item. The values in the matrix represent the user's rating or interaction with the item."
   ]
  },
  {
   "cell_type": "code",
   "execution_count": 56,
   "id": "200bb759-fbd2-4065-9782-149193761b66",
   "metadata": {
    "id": "200bb759-fbd2-4065-9782-149193761b66"
   },
   "outputs": [],
   "source": [
    "new = new.reset_index()\n",
    "titles = new[['title']]\n",
    "indices = pd.Series(new.index, index=new['title'])"
   ]
  },
  {
   "cell_type": "code",
   "execution_count": 57,
   "id": "cdb63f15-7148-4772-ae48-ff774d67a05c",
   "metadata": {
    "id": "cdb63f15-7148-4772-ae48-ff774d67a05c",
    "outputId": "2b6c939d-48c7-4226-8cbb-9c586163c423"
   },
   "outputs": [
    {
     "data": {
      "text/plain": [
       "title\n",
       "TSP's Rabish ki report Unlock 2.0                                                                       100\n",
       "BADSHAH – BKL (Official Lyrical Video)                                                                  101\n",
       "அட இவ்வளவு நாள் இது தெரியாம போச்சே                                                                      102\n",
       "GEOMETRIC SHAPE FOOD CHALLENGE                                                                          103\n",
       "DIPIKA’ S BIRTHDAY CELEBRATION                                                                          104\n",
       "DNA: Russia August 12 को लॉन्च करेगा Corona Vaccine                                                     105\n",
       "MASTER CHEF                                                                                             106\n",
       "We Made 4 Wheeler Quad-Cycle                                                                            107\n",
       "Yeh Rishta Kya Kehlata Hai: Meet Naira's daughter!                                                      108\n",
       "રણછોડ રંગીલા ( ગોવાળીયો ભાગ-૩ )                                                                         109\n",
       "IPL 2020 - Patanjali IPL As Sponsor With 10 Big News                                                    110\n",
       "Gaadi Parking                                                                                           111\n",
       "CHICKEN UPPU Kari Prepared by Daddy Arumugam / Village food factory                                     112\n",
       "FilterCopy                                                                                              113\n",
       "सबसे बड़ी कोका कोला World's Biggest Coca Cola                                                           114\n",
       "World's Most Expensive Country                                                                          115\n",
       "Manasu Mamata                                                                                           116\n",
       "Asi Oh Hunne Aa (Official Video) Amrit Maan                                                             117\n",
       "Pogaru                                                                                                  118\n",
       "Sapna Meets Kashmira                                                                                    119\n",
       "Who is Binod                                                                                            120\n",
       "വിമാനയാത്രയെ  പേടിക്കേണ്ടതുണ്ടോ ?                                                                       121\n",
       "Kunwari Bohu                                                                                            122\n",
       "जन्माष्टमी पर कान्हाजी के साथ ऐसे बिताये अपना दिन                                                       123\n",
       "Ishare Tere Karti Nigah                                                                                 124\n",
       "Fakeer - Baba 5 (Full Song) Ajay Hooda                                                                  125\n",
       "கார்  விபத்துக்கு பிறகு முதல் சமையல்  வீடியோ உடலுக்கு தெம்பை  கொடுக்கும் நெஞ்சுஎலும்பு  குழம்பு         126\n",
       "GIVING WEIRD DISHES TO BROTHER                                                                          127\n",
       "Maya                                                                                                    128\n",
       "2020 Kia Sonet - Kia's next big thing                                                                   129\n",
       "Mazhaiyum Iravum                                                                                        130\n",
       "HE IS BINOD ?                                                                                           131\n",
       "ಆರೋಗ್ಯಕರವಾದ ಅವಲಕ್ಕಿ ಕೇಸರಿಬಾತ್ ಒಮ್ಮೆ ಮಾಡಿದರೆ ಸಾಕು ಪದೇ ಪದೇ ಈ ಸಿಹಿ ತಿನ್ಬೇಕು ಅನ್ಸುತ್ತೆHealthy Poha shira    132\n",
       "Mouna Raagam                                                                                            133\n",
       "Made in India Brands Kurti Suits Haul                                                                   134\n",
       "Chor Machaye Shor                                                                                       135\n",
       "Mumbiker Nikhil & Shanice Shrestha                                                                      136\n",
       "Thalapathy Vijay மகனை தாக்கி பேசிய Meera Mithun                                                         137\n",
       "No hand Challenge                                                                                       138\n",
       "Piche Piche                                                                                             139\n",
       "Ponnukku Thanga Manasu                                                                                  140\n",
       "Ramaa Raavi - How to Worship Lord Krishna on Krishnashtami?                                             141\n",
       "MEMERS VS TIKTOKERS                                                                                     142\n",
       "வீட்டில் எளிய முறையில் கிருஷ்ண ஜெயந்தி வழிபாடு // செல்வம் பெருக இந்த 3 பொருட்களை பூஜையில் வைக்க வேண்    143\n",
       "Khatron ke khilaadi made  in India  Jasmin basin & Bharti Singh to play Prank on Nia Sharma             144\n",
       "सूजी का चटपटा और आसान नाश्ता                                                                            145\n",
       "Sushant Suicide Case: रिया चक्रवर्ती से ED ने दागे 14 सवाल, आपके और सुशांत के बीच कैसे रिश्ते थे ?      146\n",
       "Kalyana Veedu - Episode 609                                                                             147\n",
       "Desi Mom & Beauty - Episode 1                                                                           148\n",
       "BOLLYWOOD KA PANCHANAMA                                                                                 149\n",
       "dtype: int64"
      ]
     },
     "execution_count": 57,
     "metadata": {},
     "output_type": "execute_result"
    }
   ],
   "source": [
    "indices[100:150]"
   ]
  },
  {
   "cell_type": "code",
   "execution_count": 58,
   "id": "7d338238-c5ec-405c-b91d-f3ce7149e327",
   "metadata": {},
   "outputs": [],
   "source": [
    "#pickle.dump(indices,open('indices.pkl','wb'))\n",
    "with open(\"indices.pkl\", \"wb\") as f: \n",
    "    joblib.dump(indices, f) "
   ]
  },
  {
   "cell_type": "markdown",
   "id": "36ed0806-0874-4f14-8bd9-69ed35802ad6",
   "metadata": {
    "id": "36ed0806-0874-4f14-8bd9-69ed35802ad6"
   },
   "source": [
    "### Create the dataset: Use Surprise's Dataset module to create a dataset object from your Pandas DataFrame."
   ]
  },
  {
   "cell_type": "code",
   "execution_count": 59,
   "id": "d129ae84-6cfb-4cf8-bd27-8b1c321451fe",
   "metadata": {
    "id": "d129ae84-6cfb-4cf8-bd27-8b1c321451fe"
   },
   "outputs": [],
   "source": [
    "reader=Reader(rating_scale=(0, 4))\n",
    "data = Dataset.load_from_df(youtube[['categoryId','video_id','Rating']], reader)#  'categoryId','video_id','channelId'"
   ]
  },
  {
   "cell_type": "markdown",
   "id": "b79fb4a5-5b73-4c67-a6cc-a12ab7ea9e16",
   "metadata": {
    "id": "b79fb4a5-5b73-4c67-a6cc-a12ab7ea9e16"
   },
   "source": [
    "### Select an algorithm: Choose a collaborative filtering algorithm to use with the Surprise library. Some popular algorithms include Singular Value Decomposition (SVD), k-Nearest Neighbors (k-NN), and Non-negative Matrix Factorization (NMF)."
   ]
  },
  {
   "cell_type": "code",
   "execution_count": 60,
   "id": "56fd950d-48a4-4d1a-ae65-e170ae3458d5",
   "metadata": {},
   "outputs": [
    {
     "name": "stdout",
     "output_type": "stream",
     "text": [
      "Estimating biases using als...\n",
      "Computing the msd similarity matrix...\n",
      "Done computing similarity matrix.\n",
      "Estimating biases using als...\n",
      "Computing the msd similarity matrix...\n",
      "Done computing similarity matrix.\n",
      "Estimating biases using als...\n",
      "Computing the msd similarity matrix...\n",
      "Done computing similarity matrix.\n",
      "Computing the msd similarity matrix...\n",
      "Done computing similarity matrix.\n",
      "Computing the msd similarity matrix...\n",
      "Done computing similarity matrix.\n",
      "Computing the msd similarity matrix...\n",
      "Done computing similarity matrix.\n"
     ]
    }
   ],
   "source": [
    "benchmark = []\n",
    "# Iterate over all algorithms\n",
    "for algorithm in [SVD(), SVDpp(), SlopeOne(), NMF(), NormalPredictor(), KNNBaseline(), KNNBasic()]:\n",
    "    # Perform cross validation\n",
    "    results = cross_validate(algorithm, data, measures=['MAE'], verbose=False,cv = 3)  # cv = 1 onluy try\n",
    "    \n",
    "    # Get results & append algorithm name\n",
    "    tmp = pd.DataFrame.from_dict(results).mean(axis=0)\n",
    "    tmp = tmp.append(pd.Series([str(algorithm).split(' ')[0].split('.')[-1]], index=['Algorithm']))\n",
    "    benchmark.append(tmp)"
   ]
  },
  {
   "cell_type": "code",
   "execution_count": 61,
   "id": "82ce68be-6435-4cb0-a97a-87ea72b76504",
   "metadata": {},
   "outputs": [],
   "source": [
    "surprise_results = pd.DataFrame(benchmark).set_index('Algorithm').sort_values('test_mae')"
   ]
  },
  {
   "cell_type": "code",
   "execution_count": 62,
   "id": "99dc3d19-13e1-4c68-95b9-67bf60ae646f",
   "metadata": {},
   "outputs": [
    {
     "data": {
      "text/html": [
       "<div>\n",
       "<style scoped>\n",
       "    .dataframe tbody tr th:only-of-type {\n",
       "        vertical-align: middle;\n",
       "    }\n",
       "\n",
       "    .dataframe tbody tr th {\n",
       "        vertical-align: top;\n",
       "    }\n",
       "\n",
       "    .dataframe thead th {\n",
       "        text-align: right;\n",
       "    }\n",
       "</style>\n",
       "<table border=\"1\" class=\"dataframe\">\n",
       "  <thead>\n",
       "    <tr style=\"text-align: right;\">\n",
       "      <th></th>\n",
       "      <th>test_mae</th>\n",
       "      <th>fit_time</th>\n",
       "      <th>test_time</th>\n",
       "    </tr>\n",
       "    <tr>\n",
       "      <th>Algorithm</th>\n",
       "      <th></th>\n",
       "      <th></th>\n",
       "      <th></th>\n",
       "    </tr>\n",
       "  </thead>\n",
       "  <tbody>\n",
       "    <tr>\n",
       "      <th>KNNBaseline</th>\n",
       "      <td>0.270243</td>\n",
       "      <td>0.052261</td>\n",
       "      <td>0.129253</td>\n",
       "    </tr>\n",
       "    <tr>\n",
       "      <th>KNNBasic</th>\n",
       "      <td>0.282383</td>\n",
       "      <td>0.009542</td>\n",
       "      <td>0.098435</td>\n",
       "    </tr>\n",
       "    <tr>\n",
       "      <th>SlopeOne</th>\n",
       "      <td>0.284448</td>\n",
       "      <td>4.527798</td>\n",
       "      <td>19.118627</td>\n",
       "    </tr>\n",
       "    <tr>\n",
       "      <th>NMF</th>\n",
       "      <td>0.291707</td>\n",
       "      <td>0.689223</td>\n",
       "      <td>0.127234</td>\n",
       "    </tr>\n",
       "    <tr>\n",
       "      <th>SVDpp</th>\n",
       "      <td>0.352229</td>\n",
       "      <td>179.602633</td>\n",
       "      <td>53.183991</td>\n",
       "    </tr>\n",
       "    <tr>\n",
       "      <th>SVD</th>\n",
       "      <td>0.416784</td>\n",
       "      <td>0.449113</td>\n",
       "      <td>0.378110</td>\n",
       "    </tr>\n",
       "    <tr>\n",
       "      <th>NormalPredictor</th>\n",
       "      <td>1.525325</td>\n",
       "      <td>0.028897</td>\n",
       "      <td>0.104447</td>\n",
       "    </tr>\n",
       "  </tbody>\n",
       "</table>\n",
       "</div>"
      ],
      "text/plain": [
       "                 test_mae    fit_time  test_time\n",
       "Algorithm                                       \n",
       "KNNBaseline      0.270243    0.052261   0.129253\n",
       "KNNBasic         0.282383    0.009542   0.098435\n",
       "SlopeOne         0.284448    4.527798  19.118627\n",
       "NMF              0.291707    0.689223   0.127234\n",
       "SVDpp            0.352229  179.602633  53.183991\n",
       "SVD              0.416784    0.449113   0.378110\n",
       "NormalPredictor  1.525325    0.028897   0.104447"
      ]
     },
     "execution_count": 62,
     "metadata": {},
     "output_type": "execute_result"
    }
   ],
   "source": [
    "surprise_results"
   ]
  },
  {
   "cell_type": "markdown",
   "id": "27c82e02-bd49-4c57-89ac-7b0e9f390a3b",
   "metadata": {
    "id": "27c82e02-bd49-4c57-89ac-7b0e9f390a3b",
    "tags": []
   },
   "source": [
    "### Hyperparameter tuning: Finally, you may want to fine-tune the hyperparameters of your model to improve its performance. The Surprise library includes functions for performing grid search or random search to find the optimal hyperparameters for your model."
   ]
  },
  {
   "cell_type": "code",
   "execution_count": 63,
   "id": "d8a7faeb-921c-42e8-9eda-7dddc9331059",
   "metadata": {},
   "outputs": [],
   "source": [
    "from surprise import Dataset, SVD\n",
    "from surprise.model_selection import GridSearchCV"
   ]
  },
  {
   "cell_type": "code",
   "execution_count": 64,
   "id": "54feb77d-29a1-4233-a4be-7526047659fa",
   "metadata": {
    "id": "54feb77d-29a1-4233-a4be-7526047659fa"
   },
   "outputs": [],
   "source": [
    "knn = KNNBaseline()\n",
    "param_grid = {\"n_epochs\": [250,500,650],\"k\" :[10,20,30,40,50]}\n",
    "gs = GridSearchCV(KNNBaseline, param_grid, measures=[\"rmse\", \"mae\"], cv=3)"
   ]
  },
  {
   "cell_type": "code",
   "execution_count": 65,
   "id": "220634f7-7702-46a5-ac5b-50fdd99ce17b",
   "metadata": {
    "id": "220634f7-7702-46a5-ac5b-50fdd99ce17b"
   },
   "outputs": [
    {
     "name": "stdout",
     "output_type": "stream",
     "text": [
      "Estimating biases using als...\n",
      "Computing the msd similarity matrix...\n",
      "Done computing similarity matrix.\n",
      "Estimating biases using als...\n",
      "Computing the msd similarity matrix...\n",
      "Done computing similarity matrix.\n",
      "Estimating biases using als...\n",
      "Computing the msd similarity matrix...\n",
      "Done computing similarity matrix.\n",
      "Estimating biases using als...\n",
      "Computing the msd similarity matrix...\n",
      "Done computing similarity matrix.\n",
      "Estimating biases using als...\n",
      "Computing the msd similarity matrix...\n",
      "Done computing similarity matrix.\n",
      "Estimating biases using als...\n",
      "Computing the msd similarity matrix...\n",
      "Done computing similarity matrix.\n",
      "Estimating biases using als...\n",
      "Computing the msd similarity matrix...\n",
      "Done computing similarity matrix.\n",
      "Estimating biases using als...\n",
      "Computing the msd similarity matrix...\n",
      "Done computing similarity matrix.\n",
      "Estimating biases using als...\n",
      "Computing the msd similarity matrix...\n",
      "Done computing similarity matrix.\n",
      "Estimating biases using als...\n",
      "Computing the msd similarity matrix...\n",
      "Done computing similarity matrix.\n",
      "Estimating biases using als...\n",
      "Computing the msd similarity matrix...\n",
      "Done computing similarity matrix.\n",
      "Estimating biases using als...\n",
      "Computing the msd similarity matrix...\n",
      "Done computing similarity matrix.\n",
      "Estimating biases using als...\n",
      "Computing the msd similarity matrix...\n",
      "Done computing similarity matrix.\n",
      "Estimating biases using als...\n",
      "Computing the msd similarity matrix...\n",
      "Done computing similarity matrix.\n",
      "Estimating biases using als...\n",
      "Computing the msd similarity matrix...\n",
      "Done computing similarity matrix.\n",
      "Estimating biases using als...\n",
      "Computing the msd similarity matrix...\n",
      "Done computing similarity matrix.\n",
      "Estimating biases using als...\n",
      "Computing the msd similarity matrix...\n",
      "Done computing similarity matrix.\n",
      "Estimating biases using als...\n",
      "Computing the msd similarity matrix...\n",
      "Done computing similarity matrix.\n",
      "Estimating biases using als...\n",
      "Computing the msd similarity matrix...\n",
      "Done computing similarity matrix.\n",
      "Estimating biases using als...\n",
      "Computing the msd similarity matrix...\n",
      "Done computing similarity matrix.\n",
      "Estimating biases using als...\n",
      "Computing the msd similarity matrix...\n",
      "Done computing similarity matrix.\n",
      "Estimating biases using als...\n",
      "Computing the msd similarity matrix...\n",
      "Done computing similarity matrix.\n",
      "Estimating biases using als...\n",
      "Computing the msd similarity matrix...\n",
      "Done computing similarity matrix.\n",
      "Estimating biases using als...\n",
      "Computing the msd similarity matrix...\n",
      "Done computing similarity matrix.\n",
      "Estimating biases using als...\n",
      "Computing the msd similarity matrix...\n",
      "Done computing similarity matrix.\n",
      "Estimating biases using als...\n",
      "Computing the msd similarity matrix...\n",
      "Done computing similarity matrix.\n",
      "Estimating biases using als...\n",
      "Computing the msd similarity matrix...\n",
      "Done computing similarity matrix.\n",
      "Estimating biases using als...\n",
      "Computing the msd similarity matrix...\n",
      "Done computing similarity matrix.\n",
      "Estimating biases using als...\n",
      "Computing the msd similarity matrix...\n",
      "Done computing similarity matrix.\n",
      "Estimating biases using als...\n",
      "Computing the msd similarity matrix...\n",
      "Done computing similarity matrix.\n",
      "Estimating biases using als...\n",
      "Computing the msd similarity matrix...\n",
      "Done computing similarity matrix.\n",
      "Estimating biases using als...\n",
      "Computing the msd similarity matrix...\n",
      "Done computing similarity matrix.\n",
      "Estimating biases using als...\n",
      "Computing the msd similarity matrix...\n",
      "Done computing similarity matrix.\n",
      "Estimating biases using als...\n",
      "Computing the msd similarity matrix...\n",
      "Done computing similarity matrix.\n",
      "Estimating biases using als...\n",
      "Computing the msd similarity matrix...\n",
      "Done computing similarity matrix.\n",
      "Estimating biases using als...\n",
      "Computing the msd similarity matrix...\n",
      "Done computing similarity matrix.\n",
      "Estimating biases using als...\n",
      "Computing the msd similarity matrix...\n",
      "Done computing similarity matrix.\n",
      "Estimating biases using als...\n",
      "Computing the msd similarity matrix...\n",
      "Done computing similarity matrix.\n",
      "Estimating biases using als...\n",
      "Computing the msd similarity matrix...\n",
      "Done computing similarity matrix.\n",
      "Estimating biases using als...\n",
      "Computing the msd similarity matrix...\n",
      "Done computing similarity matrix.\n",
      "Estimating biases using als...\n",
      "Computing the msd similarity matrix...\n",
      "Done computing similarity matrix.\n",
      "Estimating biases using als...\n",
      "Computing the msd similarity matrix...\n",
      "Done computing similarity matrix.\n",
      "Estimating biases using als...\n",
      "Computing the msd similarity matrix...\n",
      "Done computing similarity matrix.\n",
      "Estimating biases using als...\n",
      "Computing the msd similarity matrix...\n",
      "Done computing similarity matrix.\n",
      "Estimating biases using als...\n",
      "Computing the msd similarity matrix...\n",
      "Done computing similarity matrix.\n"
     ]
    }
   ],
   "source": [
    "gs.fit(data)"
   ]
  },
  {
   "cell_type": "code",
   "execution_count": 66,
   "id": "7b2d8981-4523-4788-9b5d-f09b1a624c73",
   "metadata": {
    "id": "7b2d8981-4523-4788-9b5d-f09b1a624c73",
    "outputId": "e6df0abe-2f8b-437c-9cfb-9ae137c3a713"
   },
   "outputs": [
    {
     "name": "stdout",
     "output_type": "stream",
     "text": [
      "{'n_epochs': 250, 'k': 10}\n"
     ]
    }
   ],
   "source": [
    "\n",
    "# combination of parameters that gave the best RMSE score\n",
    "print(gs.best_params[\"mae\"])"
   ]
  },
  {
   "cell_type": "markdown",
   "id": "6d3eb876-afd7-4be6-8676-08545ef33a25",
   "metadata": {},
   "source": [
    "### Model training & Model evaluation: After training the model, evaluate its performance using metrics such as Root Mean Squared Error (RMSE), Mean Absolute Error (MAE)"
   ]
  },
  {
   "cell_type": "code",
   "execution_count": 67,
   "id": "d89eb1d0-5da3-4377-904c-220c72544e2f",
   "metadata": {
    "id": "d89eb1d0-5da3-4377-904c-220c72544e2f",
    "outputId": "d19d9e4c-cbac-473a-e827-72e87e86667c"
   },
   "outputs": [
    {
     "data": {
      "text/plain": [
       "{'test_rmse': array([0.54973351, 0.53705205, 0.55870675]),\n",
       " 'test_mae': array([0.27003157, 0.2626658 , 0.27666686]),\n",
       " 'fit_time': (0.1046593189239502, 0.03428816795349121, 0.04688096046447754),\n",
       " 'test_time': (0.31397104263305664, 0.12499380111694336, 0.14093565940856934)}"
      ]
     },
     "execution_count": 67,
     "metadata": {},
     "output_type": "execute_result"
    }
   ],
   "source": [
    "knn = KNNBaseline(n_epochs= 250,k=10, min_k=1,verbose=False)\n",
    "cross_validate(knn, data, measures=['RMSE','MAE'],cv=3)"
   ]
  },
  {
   "cell_type": "code",
   "execution_count": 68,
   "id": "bf6a4154-0310-4584-87bf-6e9afc18a066",
   "metadata": {
    "id": "bf6a4154-0310-4584-87bf-6e9afc18a066",
    "outputId": "9897854a-4bde-4b43-b93c-4e6d29bc2882"
   },
   "outputs": [
    {
     "data": {
      "text/plain": [
       "<surprise.prediction_algorithms.knns.KNNBaseline at 0x20aa30e38e0>"
      ]
     },
     "execution_count": 68,
     "metadata": {},
     "output_type": "execute_result"
    }
   ],
   "source": [
    "trainset = data.build_full_trainset()\n",
    "knn.fit(trainset)"
   ]
  },
  {
   "cell_type": "code",
   "execution_count": 69,
   "id": "f38cf519-091f-416f-99d3-e1ffa4f51080",
   "metadata": {
    "id": "f38cf519-091f-416f-99d3-e1ffa4f51080"
   },
   "outputs": [],
   "source": [
    "#youtube[youtube['likes'] >= 5000]"
   ]
  },
  {
   "cell_type": "markdown",
   "id": "48f572e8-4fa3-4ab3-abe9-934348b38359",
   "metadata": {
    "id": "48f572e8-4fa3-4ab3-abe9-934348b38359"
   },
   "source": [
    "### Generate recommendations: Use the trained model to generate personalized recommendations for users based on their past interactions with items."
   ]
  },
  {
   "cell_type": "code",
   "execution_count": 70,
   "id": "8c677ff2-4ed6-4b54-a51a-c9073dd731c8",
   "metadata": {
    "id": "8c677ff2-4ed6-4b54-a51a-c9073dd731c8",
    "outputId": "0eb045a3-0771-4664-e04e-8cc959b8063e"
   },
   "outputs": [
    {
     "data": {
      "text/plain": [
       "Prediction(uid=1, iid=302, r_ui=3, est=2.0041456740223786, details={'was_impossible': False})"
      ]
     },
     "execution_count": 70,
     "metadata": {},
     "output_type": "execute_result"
    }
   ],
   "source": [
    "knn.predict(1, 302, 3)"
   ]
  },
  {
   "cell_type": "code",
   "execution_count": 71,
   "id": "c0809236-71b3-43d7-b02e-78bab501cfdd",
   "metadata": {},
   "outputs": [],
   "source": [
    "# Save the SVD object as a pickle file\n",
    "with open('KNNBaseline.pkl', 'wb') as f:\n",
    "    joblib.dump(knn, f)\n"
   ]
  },
  {
   "cell_type": "code",
   "execution_count": 72,
   "id": "35bcf1e3-c564-4af0-b196-eaf1f49ac54d",
   "metadata": {
    "id": "35bcf1e3-c564-4af0-b196-eaf1f49ac54d"
   },
   "outputs": [],
   "source": [
    "#youtube[youtube['categoryId'] ==1]"
   ]
  },
  {
   "cell_type": "markdown",
   "id": "93d41a0b-3e73-4ad8-8245-4d99cd9170f4",
   "metadata": {
    "id": "93d41a0b-3e73-4ad8-8245-4d99cd9170f4"
   },
   "source": [
    "### Hybrid :\n",
    "### A hybrid recommendation system combines multiple recommendation techniques, such as content-based and collaborative filtering, to provide more accurate and diverse recommendations to users. The system involves collecting user behavior and preference data, selecting and training the recommendation algorithms, combining the recommendations, and evaluating and refining the system. Additional features, such as user demographics, can be incorporated for further personalization. The key is to fine-tune the system to meet the specific needs of the application."
   ]
  },
  {
   "cell_type": "code",
   "execution_count": 73,
   "id": "ed34423d-4d29-47cc-9365-bfe3db3ef03a",
   "metadata": {
    "id": "ed34423d-4d29-47cc-9365-bfe3db3ef03a",
    "outputId": "3960cdc5-4568-4ac2-c127-7a838761cc9c"
   },
   "outputs": [
    {
     "data": {
      "text/html": [
       "<div>\n",
       "<style scoped>\n",
       "    .dataframe tbody tr th:only-of-type {\n",
       "        vertical-align: middle;\n",
       "    }\n",
       "\n",
       "    .dataframe tbody tr th {\n",
       "        vertical-align: top;\n",
       "    }\n",
       "\n",
       "    .dataframe thead th {\n",
       "        text-align: right;\n",
       "    }\n",
       "</style>\n",
       "<table border=\"1\" class=\"dataframe\">\n",
       "  <thead>\n",
       "    <tr style=\"text-align: right;\">\n",
       "      <th></th>\n",
       "      <th>title</th>\n",
       "      <th>likes</th>\n",
       "      <th>categoryId</th>\n",
       "      <th>video_id</th>\n",
       "      <th>thumbnail_link</th>\n",
       "      <th>Rating</th>\n",
       "    </tr>\n",
       "  </thead>\n",
       "  <tbody>\n",
       "    <tr>\n",
       "      <th>0</th>\n",
       "      <td>Sadak 2</td>\n",
       "      <td>224925</td>\n",
       "      <td>24</td>\n",
       "      <td>Iot0eF6EoNA</td>\n",
       "      <td>https://i.ytimg.com/vi/Iot0eF6EoNA/default.jpg</td>\n",
       "      <td>4</td>\n",
       "    </tr>\n",
       "    <tr>\n",
       "      <th>1</th>\n",
       "      <td>Kya Baat Aa : Karan Aujla (Official Video) Tania</td>\n",
       "      <td>655450</td>\n",
       "      <td>10</td>\n",
       "      <td>x-KbnJ9fvJc</td>\n",
       "      <td>https://i.ytimg.com/vi/x-KbnJ9fvJc/default.jpg</td>\n",
       "      <td>4</td>\n",
       "    </tr>\n",
       "    <tr>\n",
       "      <th>2</th>\n",
       "      <td>Diljit Dosanjh: CLASH (Official) Music Video</td>\n",
       "      <td>296533</td>\n",
       "      <td>10</td>\n",
       "      <td>KX06ksuS6Xo</td>\n",
       "      <td>https://i.ytimg.com/vi/KX06ksuS6Xo/default.jpg</td>\n",
       "      <td>4</td>\n",
       "    </tr>\n",
       "    <tr>\n",
       "      <th>3</th>\n",
       "      <td>Dil Ko Maine Di Kasam Video</td>\n",
       "      <td>743931</td>\n",
       "      <td>10</td>\n",
       "      <td>UsMRgnTcchY</td>\n",
       "      <td>https://i.ytimg.com/vi/UsMRgnTcchY/default.jpg</td>\n",
       "      <td>4</td>\n",
       "    </tr>\n",
       "    <tr>\n",
       "      <th>4</th>\n",
       "      <td>Baarish (Official Video) Payal Dev,Stebin Ben</td>\n",
       "      <td>268817</td>\n",
       "      <td>10</td>\n",
       "      <td>WNSEXJJhKTU</td>\n",
       "      <td>https://i.ytimg.com/vi/WNSEXJJhKTU/default.jpg</td>\n",
       "      <td>4</td>\n",
       "    </tr>\n",
       "  </tbody>\n",
       "</table>\n",
       "</div>"
      ],
      "text/plain": [
       "                                              title   likes  categoryId  \\\n",
       "0                                           Sadak 2  224925          24   \n",
       "1  Kya Baat Aa : Karan Aujla (Official Video) Tania  655450          10   \n",
       "2      Diljit Dosanjh: CLASH (Official) Music Video  296533          10   \n",
       "3                       Dil Ko Maine Di Kasam Video  743931          10   \n",
       "4     Baarish (Official Video) Payal Dev,Stebin Ben  268817          10   \n",
       "\n",
       "      video_id                                  thumbnail_link Rating  \n",
       "0  Iot0eF6EoNA  https://i.ytimg.com/vi/Iot0eF6EoNA/default.jpg      4  \n",
       "1  x-KbnJ9fvJc  https://i.ytimg.com/vi/x-KbnJ9fvJc/default.jpg      4  \n",
       "2  KX06ksuS6Xo  https://i.ytimg.com/vi/KX06ksuS6Xo/default.jpg      4  \n",
       "3  UsMRgnTcchY  https://i.ytimg.com/vi/UsMRgnTcchY/default.jpg      4  \n",
       "4  WNSEXJJhKTU  https://i.ytimg.com/vi/WNSEXJJhKTU/default.jpg      4  "
      ]
     },
     "execution_count": 73,
     "metadata": {},
     "output_type": "execute_result"
    }
   ],
   "source": [
    "smd =YouTube_df[['title','likes','categoryId','video_id','thumbnail_link','Rating']]\n",
    "smd.head(5)"
   ]
  },
  {
   "cell_type": "code",
   "execution_count": null,
   "id": "9a795ea5-37d7-4ee3-8e09-ab14ffaa2142",
   "metadata": {},
   "outputs": [],
   "source": []
  },
  {
   "cell_type": "code",
   "execution_count": 74,
   "id": "2e185ff8-dbd1-4cc0-8256-0add7dbd8752",
   "metadata": {
    "id": "2e185ff8-dbd1-4cc0-8256-0add7dbd8752",
    "outputId": "a918cc02-b5bd-4aac-97f7-8f54551f6d5a"
   },
   "outputs": [
    {
     "data": {
      "text/html": [
       "<div>\n",
       "<style scoped>\n",
       "    .dataframe tbody tr th:only-of-type {\n",
       "        vertical-align: middle;\n",
       "    }\n",
       "\n",
       "    .dataframe tbody tr th {\n",
       "        vertical-align: top;\n",
       "    }\n",
       "\n",
       "    .dataframe thead th {\n",
       "        text-align: right;\n",
       "    }\n",
       "</style>\n",
       "<table border=\"1\" class=\"dataframe\">\n",
       "  <thead>\n",
       "    <tr style=\"text-align: right;\">\n",
       "      <th></th>\n",
       "      <th>video_id</th>\n",
       "      <th>categoryId</th>\n",
       "      <th>channelId</th>\n",
       "    </tr>\n",
       "    <tr>\n",
       "      <th>title</th>\n",
       "      <th></th>\n",
       "      <th></th>\n",
       "      <th></th>\n",
       "    </tr>\n",
       "  </thead>\n",
       "  <tbody>\n",
       "    <tr>\n",
       "      <th>Sadak 2</th>\n",
       "      <td>Iot0eF6EoNA</td>\n",
       "      <td>24</td>\n",
       "      <td>UCGqvJPRcv7aVFun-eTsatcA</td>\n",
       "    </tr>\n",
       "    <tr>\n",
       "      <th>Kya Baat Aa : Karan Aujla (Official Video) Tania</th>\n",
       "      <td>x-KbnJ9fvJc</td>\n",
       "      <td>10</td>\n",
       "      <td>UCm9SZAl03Rev9sFwloCdz1g</td>\n",
       "    </tr>\n",
       "  </tbody>\n",
       "</table>\n",
       "</div>"
      ],
      "text/plain": [
       "                                                     video_id  categoryId  \\\n",
       "title                                                                       \n",
       "Sadak 2                                           Iot0eF6EoNA          24   \n",
       "Kya Baat Aa : Karan Aujla (Official Video) Tania  x-KbnJ9fvJc          10   \n",
       "\n",
       "                                                                 channelId  \n",
       "title                                                                       \n",
       "Sadak 2                                           UCGqvJPRcv7aVFun-eTsatcA  \n",
       "Kya Baat Aa : Karan Aujla (Official Video) Tania  UCm9SZAl03Rev9sFwloCdz1g  "
      ]
     },
     "execution_count": 74,
     "metadata": {},
     "output_type": "execute_result"
    }
   ],
   "source": [
    "id_map= YouTube_df[['video_id','title','categoryId','channelId']].set_index('title')\n",
    "id_map.head(2)#\tmovieId\tid  title\t"
   ]
  },
  {
   "cell_type": "code",
   "execution_count": 75,
   "id": "5be672b7-3387-4082-b586-b34be794ae70",
   "metadata": {
    "id": "5be672b7-3387-4082-b586-b34be794ae70"
   },
   "outputs": [],
   "source": [
    "indices_map = id_map.set_index('categoryId')"
   ]
  },
  {
   "cell_type": "code",
   "execution_count": 76,
   "id": "c2aa1c6c-559d-4c28-9597-36595c3e5325",
   "metadata": {
    "id": "c2aa1c6c-559d-4c28-9597-36595c3e5325",
    "outputId": "35b4e1a6-b5d3-4bf2-84fb-eb16b366118c"
   },
   "outputs": [
    {
     "data": {
      "text/html": [
       "<div>\n",
       "<style scoped>\n",
       "    .dataframe tbody tr th:only-of-type {\n",
       "        vertical-align: middle;\n",
       "    }\n",
       "\n",
       "    .dataframe tbody tr th {\n",
       "        vertical-align: top;\n",
       "    }\n",
       "\n",
       "    .dataframe thead th {\n",
       "        text-align: right;\n",
       "    }\n",
       "</style>\n",
       "<table border=\"1\" class=\"dataframe\">\n",
       "  <thead>\n",
       "    <tr style=\"text-align: right;\">\n",
       "      <th></th>\n",
       "      <th>video_id</th>\n",
       "      <th>channelId</th>\n",
       "    </tr>\n",
       "    <tr>\n",
       "      <th>categoryId</th>\n",
       "      <th></th>\n",
       "      <th></th>\n",
       "    </tr>\n",
       "  </thead>\n",
       "  <tbody>\n",
       "    <tr>\n",
       "      <th>24</th>\n",
       "      <td>Iot0eF6EoNA</td>\n",
       "      <td>UCGqvJPRcv7aVFun-eTsatcA</td>\n",
       "    </tr>\n",
       "    <tr>\n",
       "      <th>10</th>\n",
       "      <td>x-KbnJ9fvJc</td>\n",
       "      <td>UCm9SZAl03Rev9sFwloCdz1g</td>\n",
       "    </tr>\n",
       "  </tbody>\n",
       "</table>\n",
       "</div>"
      ],
      "text/plain": [
       "               video_id                 channelId\n",
       "categoryId                                       \n",
       "24          Iot0eF6EoNA  UCGqvJPRcv7aVFun-eTsatcA\n",
       "10          x-KbnJ9fvJc  UCm9SZAl03Rev9sFwloCdz1g"
      ]
     },
     "execution_count": 76,
     "metadata": {},
     "output_type": "execute_result"
    }
   ],
   "source": [
    "indices_map.head(2)"
   ]
  },
  {
   "cell_type": "code",
   "execution_count": 77,
   "id": "6d9de120-75a6-49c7-ae5a-d6d94e943633",
   "metadata": {},
   "outputs": [],
   "source": [
    "#pickle.dump(indices_map,open('indices_map.pkl','wb'))\n",
    "#indices_map=indices_map.to_csv('indices_map.csv')\n",
    "with open('indices_map.pkl', 'wb') as f:\n",
    "    joblib.dump(indices_map, f)"
   ]
  },
  {
   "cell_type": "code",
   "execution_count": 78,
   "id": "07624718-2d25-45b0-8283-4658b5c8f8d0",
   "metadata": {},
   "outputs": [
    {
     "data": {
      "text/html": [
       "<div>\n",
       "<style scoped>\n",
       "    .dataframe tbody tr th:only-of-type {\n",
       "        vertical-align: middle;\n",
       "    }\n",
       "\n",
       "    .dataframe tbody tr th {\n",
       "        vertical-align: top;\n",
       "    }\n",
       "\n",
       "    .dataframe thead th {\n",
       "        text-align: right;\n",
       "    }\n",
       "</style>\n",
       "<table border=\"1\" class=\"dataframe\">\n",
       "  <thead>\n",
       "    <tr style=\"text-align: right;\">\n",
       "      <th></th>\n",
       "      <th>video_id</th>\n",
       "      <th>channelId</th>\n",
       "    </tr>\n",
       "    <tr>\n",
       "      <th>categoryId</th>\n",
       "      <th></th>\n",
       "      <th></th>\n",
       "    </tr>\n",
       "  </thead>\n",
       "  <tbody>\n",
       "    <tr>\n",
       "      <th>24</th>\n",
       "      <td>Iot0eF6EoNA</td>\n",
       "      <td>UCGqvJPRcv7aVFun-eTsatcA</td>\n",
       "    </tr>\n",
       "    <tr>\n",
       "      <th>10</th>\n",
       "      <td>x-KbnJ9fvJc</td>\n",
       "      <td>UCm9SZAl03Rev9sFwloCdz1g</td>\n",
       "    </tr>\n",
       "    <tr>\n",
       "      <th>10</th>\n",
       "      <td>KX06ksuS6Xo</td>\n",
       "      <td>UCZRdNleCgW-BGUJf-bbjzQg</td>\n",
       "    </tr>\n",
       "    <tr>\n",
       "      <th>10</th>\n",
       "      <td>UsMRgnTcchY</td>\n",
       "      <td>UCq-Fj5jknLsUf-MWSy4_brA</td>\n",
       "    </tr>\n",
       "    <tr>\n",
       "      <th>10</th>\n",
       "      <td>WNSEXJJhKTU</td>\n",
       "      <td>UCye6Oz0mg46S362LwARGVcA</td>\n",
       "    </tr>\n",
       "    <tr>\n",
       "      <th>...</th>\n",
       "      <td>...</td>\n",
       "      <td>...</td>\n",
       "    </tr>\n",
       "    <tr>\n",
       "      <th>10</th>\n",
       "      <td>fDzf3eB6R4E</td>\n",
       "      <td>UCLsMef624nZ4ME6WoSElPTg</td>\n",
       "    </tr>\n",
       "    <tr>\n",
       "      <th>17</th>\n",
       "      <td>q3ydfiwIN9U</td>\n",
       "      <td>UCujuVKmt_utAQZJghxlRMIQ</td>\n",
       "    </tr>\n",
       "    <tr>\n",
       "      <th>24</th>\n",
       "      <td>kFG5YliTlLU</td>\n",
       "      <td>UC6-F5tO8uklgE9Zy8IvbdFw</td>\n",
       "    </tr>\n",
       "    <tr>\n",
       "      <th>24</th>\n",
       "      <td>5lb4DUPXTao</td>\n",
       "      <td>UC6-F5tO8uklgE9Zy8IvbdFw</td>\n",
       "    </tr>\n",
       "    <tr>\n",
       "      <th>24</th>\n",
       "      <td>Epg2AsxKW1M</td>\n",
       "      <td>UCnSFZ-olBoLGLRUS_3RI2Aw</td>\n",
       "    </tr>\n",
       "  </tbody>\n",
       "</table>\n",
       "<p>7312 rows × 2 columns</p>\n",
       "</div>"
      ],
      "text/plain": [
       "               video_id                 channelId\n",
       "categoryId                                       \n",
       "24          Iot0eF6EoNA  UCGqvJPRcv7aVFun-eTsatcA\n",
       "10          x-KbnJ9fvJc  UCm9SZAl03Rev9sFwloCdz1g\n",
       "10          KX06ksuS6Xo  UCZRdNleCgW-BGUJf-bbjzQg\n",
       "10          UsMRgnTcchY  UCq-Fj5jknLsUf-MWSy4_brA\n",
       "10          WNSEXJJhKTU  UCye6Oz0mg46S362LwARGVcA\n",
       "...                 ...                       ...\n",
       "10          fDzf3eB6R4E  UCLsMef624nZ4ME6WoSElPTg\n",
       "17          q3ydfiwIN9U  UCujuVKmt_utAQZJghxlRMIQ\n",
       "24          kFG5YliTlLU  UC6-F5tO8uklgE9Zy8IvbdFw\n",
       "24          5lb4DUPXTao  UC6-F5tO8uklgE9Zy8IvbdFw\n",
       "24          Epg2AsxKW1M  UCnSFZ-olBoLGLRUS_3RI2Aw\n",
       "\n",
       "[7312 rows x 2 columns]"
      ]
     },
     "execution_count": 78,
     "metadata": {},
     "output_type": "execute_result"
    }
   ],
   "source": [
    "indices_map"
   ]
  },
  {
   "cell_type": "code",
   "execution_count": 79,
   "id": "2d7163de-f564-419d-93be-6a2057099d46",
   "metadata": {
    "id": "2d7163de-f564-419d-93be-6a2057099d46",
    "outputId": "7eab1266-34a2-47ca-fcc6-ca59669205b1"
   },
   "outputs": [
    {
     "data": {
      "text/plain": [
       "24"
      ]
     },
     "execution_count": 79,
     "metadata": {},
     "output_type": "execute_result"
    }
   ],
   "source": [
    "id_map.loc['Sadak 2']['categoryId']"
   ]
  },
  {
   "cell_type": "markdown",
   "id": "d2d331e9-f82a-4739-9967-84a7dd45145b",
   "metadata": {
    "id": "d2d331e9-f82a-4739-9967-84a7dd45145b"
   },
   "source": [
    "### Prediction "
   ]
  },
  {
   "cell_type": "code",
   "execution_count": 80,
   "id": "b95a2c98-ce3a-4e1f-b95b-817e5372237e",
   "metadata": {},
   "outputs": [],
   "source": [
    "def hybrid(userId, title):\n",
    "    idx = indices[title]\n",
    "    sim_scores = list(enumerate(similarity[int(idx)]))\n",
    "    sim_scores = sorted(sim_scores, key=lambda x: x[1], reverse=True)\n",
    "    sim_scores = sim_scores[1:6]\n",
    "    video_indices = [i[0] for i in sim_scores]\n",
    "    \n",
    "    video = smd.iloc[video_indices][['title','categoryId','video_id','likes']] # 'Rating'\n",
    "    video['est'] = video['categoryId'].apply(lambda x: knn.predict(userId, indices_map.iloc[x]['video_id']).est)\n",
    "   \n",
    "    video = video.sort_values('likes', ascending=False)\n",
    "    return video.head(5)"
   ]
  },
  {
   "cell_type": "code",
   "execution_count": 81,
   "id": "5394add1-c305-4528-b3ef-ff24a591dd7f",
   "metadata": {
    "id": "5394add1-c305-4528-b3ef-ff24a591dd7f",
    "outputId": "2c5e7981-cdfa-4a0b-cdd3-69bbaf188683"
   },
   "outputs": [
    {
     "data": {
      "text/plain": [
       "Prediction(uid=1, iid='lw4ZqLZSBow', r_ui=None, est=2.793735047079548, details={'actual_k': 0, 'was_impossible': False})"
      ]
     },
     "execution_count": 81,
     "metadata": {},
     "output_type": "execute_result"
    }
   ],
   "source": [
    " knn.predict(1, indices_map.iloc[24]['video_id'])"
   ]
  },
  {
   "cell_type": "code",
   "execution_count": 82,
   "id": "8b0d54ce-c757-4879-b7aa-7642d0da704c",
   "metadata": {},
   "outputs": [
    {
     "data": {
      "text/html": [
       "<div>\n",
       "<style scoped>\n",
       "    .dataframe tbody tr th:only-of-type {\n",
       "        vertical-align: middle;\n",
       "    }\n",
       "\n",
       "    .dataframe tbody tr th {\n",
       "        vertical-align: top;\n",
       "    }\n",
       "\n",
       "    .dataframe thead th {\n",
       "        text-align: right;\n",
       "    }\n",
       "</style>\n",
       "<table border=\"1\" class=\"dataframe\">\n",
       "  <thead>\n",
       "    <tr style=\"text-align: right;\">\n",
       "      <th></th>\n",
       "      <th>title</th>\n",
       "      <th>categoryId</th>\n",
       "      <th>video_id</th>\n",
       "      <th>likes</th>\n",
       "      <th>est</th>\n",
       "    </tr>\n",
       "  </thead>\n",
       "  <tbody>\n",
       "    <tr>\n",
       "      <th>2281</th>\n",
       "      <td>Precious moments: PM Modi feeding peacocks at ...</td>\n",
       "      <td>25</td>\n",
       "      <td>axbpbQTIiZo</td>\n",
       "      <td>248007</td>\n",
       "      <td>2.121955</td>\n",
       "    </tr>\n",
       "    <tr>\n",
       "      <th>13394</th>\n",
       "      <td>PM Modi's address to the nation</td>\n",
       "      <td>25</td>\n",
       "      <td>ClSk5l6OBx4</td>\n",
       "      <td>57306</td>\n",
       "      <td>2.121955</td>\n",
       "    </tr>\n",
       "    <tr>\n",
       "      <th>22694</th>\n",
       "      <td>Details of the New Parliament Building</td>\n",
       "      <td>25</td>\n",
       "      <td>_AOzpFXocKI</td>\n",
       "      <td>49356</td>\n",
       "      <td>2.121955</td>\n",
       "    </tr>\n",
       "    <tr>\n",
       "      <th>8842</th>\n",
       "      <td>PM Modi's Mann Ki Baat with the Nation, Septem...</td>\n",
       "      <td>25</td>\n",
       "      <td>qSCxH_pjQos</td>\n",
       "      <td>23769</td>\n",
       "      <td>2.121955</td>\n",
       "    </tr>\n",
       "    <tr>\n",
       "      <th>14302</th>\n",
       "      <td>PM Modi's Mann Ki Baat with the Nation, Octobe...</td>\n",
       "      <td>25</td>\n",
       "      <td>pqozg9Tchc4</td>\n",
       "      <td>13881</td>\n",
       "      <td>2.121955</td>\n",
       "    </tr>\n",
       "  </tbody>\n",
       "</table>\n",
       "</div>"
      ],
      "text/plain": [
       "                                                   title  categoryId  \\\n",
       "2281   Precious moments: PM Modi feeding peacocks at ...          25   \n",
       "13394                    PM Modi's address to the nation          25   \n",
       "22694             Details of the New Parliament Building          25   \n",
       "8842   PM Modi's Mann Ki Baat with the Nation, Septem...          25   \n",
       "14302  PM Modi's Mann Ki Baat with the Nation, Octobe...          25   \n",
       "\n",
       "          video_id   likes       est  \n",
       "2281   axbpbQTIiZo  248007  2.121955  \n",
       "13394  ClSk5l6OBx4   57306  2.121955  \n",
       "22694  _AOzpFXocKI   49356  2.121955  \n",
       "8842   qSCxH_pjQos   23769  2.121955  \n",
       "14302  pqozg9Tchc4   13881  2.121955  "
      ]
     },
     "execution_count": 82,
     "metadata": {},
     "output_type": "execute_result"
    }
   ],
   "source": [
    "hybrid(1,'Ahmedabad welcomes PM Modi!')"
   ]
  },
  {
   "cell_type": "code",
   "execution_count": 83,
   "id": "c31b885f-6331-408e-99e3-d5d3726917ff",
   "metadata": {},
   "outputs": [
    {
     "data": {
      "text/html": [
       "<div>\n",
       "<style scoped>\n",
       "    .dataframe tbody tr th:only-of-type {\n",
       "        vertical-align: middle;\n",
       "    }\n",
       "\n",
       "    .dataframe tbody tr th {\n",
       "        vertical-align: top;\n",
       "    }\n",
       "\n",
       "    .dataframe thead th {\n",
       "        text-align: right;\n",
       "    }\n",
       "</style>\n",
       "<table border=\"1\" class=\"dataframe\">\n",
       "  <thead>\n",
       "    <tr style=\"text-align: right;\">\n",
       "      <th></th>\n",
       "      <th>title</th>\n",
       "      <th>categoryId</th>\n",
       "      <th>video_id</th>\n",
       "      <th>likes</th>\n",
       "      <th>est</th>\n",
       "    </tr>\n",
       "  </thead>\n",
       "  <tbody>\n",
       "    <tr>\n",
       "      <th>1676</th>\n",
       "      <td>BTS (방탄소년단) 'Dynamite' Official MV</td>\n",
       "      <td>10</td>\n",
       "      <td>gdZLi9oWNZg</td>\n",
       "      <td>7046197</td>\n",
       "      <td>2.636435</td>\n",
       "    </tr>\n",
       "    <tr>\n",
       "      <th>1277</th>\n",
       "      <td>BTS (방탄소년단) 'Dynamite' Official Teaser</td>\n",
       "      <td>10</td>\n",
       "      <td>oxoWhyS9buA</td>\n",
       "      <td>3859014</td>\n",
       "      <td>2.636435</td>\n",
       "    </tr>\n",
       "    <tr>\n",
       "      <th>19224</th>\n",
       "      <td>BTS (방탄소년단) ‘Life Goes On’ Official MV : on my...</td>\n",
       "      <td>10</td>\n",
       "      <td>yIvb4csSgcs</td>\n",
       "      <td>3161656</td>\n",
       "      <td>2.636435</td>\n",
       "    </tr>\n",
       "    <tr>\n",
       "      <th>19831</th>\n",
       "      <td>BTS (방탄소년단) 'Life Goes On' Official MV : in th...</td>\n",
       "      <td>10</td>\n",
       "      <td>RvcP6V4h_q4</td>\n",
       "      <td>2218612</td>\n",
       "      <td>2.636435</td>\n",
       "    </tr>\n",
       "    <tr>\n",
       "      <th>8630</th>\n",
       "      <td>BTS (방탄소년단) 'Dynamite' Official MV (Choreograp...</td>\n",
       "      <td>10</td>\n",
       "      <td>BflFNMl_UWY</td>\n",
       "      <td>1736724</td>\n",
       "      <td>2.636435</td>\n",
       "    </tr>\n",
       "  </tbody>\n",
       "</table>\n",
       "</div>"
      ],
      "text/plain": [
       "                                                   title  categoryId  \\\n",
       "1676                  BTS (방탄소년단) 'Dynamite' Official MV          10   \n",
       "1277              BTS (방탄소년단) 'Dynamite' Official Teaser          10   \n",
       "19224  BTS (방탄소년단) ‘Life Goes On’ Official MV : on my...          10   \n",
       "19831  BTS (방탄소년단) 'Life Goes On' Official MV : in th...          10   \n",
       "8630   BTS (방탄소년단) 'Dynamite' Official MV (Choreograp...          10   \n",
       "\n",
       "          video_id    likes       est  \n",
       "1676   gdZLi9oWNZg  7046197  2.636435  \n",
       "1277   oxoWhyS9buA  3859014  2.636435  \n",
       "19224  yIvb4csSgcs  3161656  2.636435  \n",
       "19831  RvcP6V4h_q4  2218612  2.636435  \n",
       "8630   BflFNMl_UWY  1736724  2.636435  "
      ]
     },
     "execution_count": 83,
     "metadata": {},
     "output_type": "execute_result"
    }
   ],
   "source": [
    "hybrid(1,\"BTS (방탄소년단) ‘Life Goes On’ Official MV : on my pillow\")"
   ]
  },
  {
   "cell_type": "code",
   "execution_count": 84,
   "id": "b18a670f-d582-4f7a-bc7b-c1431eafb48a",
   "metadata": {},
   "outputs": [
    {
     "data": {
      "text/html": [
       "<div>\n",
       "<style scoped>\n",
       "    .dataframe tbody tr th:only-of-type {\n",
       "        vertical-align: middle;\n",
       "    }\n",
       "\n",
       "    .dataframe tbody tr th {\n",
       "        vertical-align: top;\n",
       "    }\n",
       "\n",
       "    .dataframe thead th {\n",
       "        text-align: right;\n",
       "    }\n",
       "</style>\n",
       "<table border=\"1\" class=\"dataframe\">\n",
       "  <thead>\n",
       "    <tr style=\"text-align: right;\">\n",
       "      <th></th>\n",
       "      <th>title</th>\n",
       "      <th>categoryId</th>\n",
       "      <th>video_id</th>\n",
       "      <th>likes</th>\n",
       "      <th>est</th>\n",
       "    </tr>\n",
       "  </thead>\n",
       "  <tbody>\n",
       "    <tr>\n",
       "      <th>13402</th>\n",
       "      <td>iPhone 12 / 12 Pro Unboxing - ft MKBHD!</td>\n",
       "      <td>28</td>\n",
       "      <td>b5h4a_O5E44</td>\n",
       "      <td>171969</td>\n",
       "      <td>3.403106</td>\n",
       "    </tr>\n",
       "    <tr>\n",
       "      <th>12337</th>\n",
       "      <td>iPhone 12 - What were Apple thinking?</td>\n",
       "      <td>28</td>\n",
       "      <td>nZMUzaLV4X0</td>\n",
       "      <td>153766</td>\n",
       "      <td>3.403106</td>\n",
       "    </tr>\n",
       "    <tr>\n",
       "      <th>12026</th>\n",
       "      <td>iPhone 12 - The iPhone is New Again</td>\n",
       "      <td>28</td>\n",
       "      <td>g0AOf2AZ-8w</td>\n",
       "      <td>105332</td>\n",
       "      <td>3.403106</td>\n",
       "    </tr>\n",
       "    <tr>\n",
       "      <th>17354</th>\n",
       "      <td>iPhone 12 Pro Max</td>\n",
       "      <td>28</td>\n",
       "      <td>s-INp0FxjXA</td>\n",
       "      <td>102540</td>\n",
       "      <td>3.403106</td>\n",
       "    </tr>\n",
       "    <tr>\n",
       "      <th>22413</th>\n",
       "      <td>Shifting from iPhone 12 to Nokia 3310 for a Day !</td>\n",
       "      <td>28</td>\n",
       "      <td>8bglQlBonD4</td>\n",
       "      <td>98990</td>\n",
       "      <td>3.403106</td>\n",
       "    </tr>\n",
       "  </tbody>\n",
       "</table>\n",
       "</div>"
      ],
      "text/plain": [
       "                                                   title  categoryId  \\\n",
       "13402            iPhone 12 / 12 Pro Unboxing - ft MKBHD!          28   \n",
       "12337              iPhone 12 - What were Apple thinking?          28   \n",
       "12026                iPhone 12 - The iPhone is New Again          28   \n",
       "17354                                  iPhone 12 Pro Max          28   \n",
       "22413  Shifting from iPhone 12 to Nokia 3310 for a Day !          28   \n",
       "\n",
       "          video_id   likes       est  \n",
       "13402  b5h4a_O5E44  171969  3.403106  \n",
       "12337  nZMUzaLV4X0  153766  3.403106  \n",
       "12026  g0AOf2AZ-8w  105332  3.403106  \n",
       "17354  s-INp0FxjXA  102540  3.403106  \n",
       "22413  8bglQlBonD4   98990  3.403106  "
      ]
     },
     "execution_count": 84,
     "metadata": {},
     "output_type": "execute_result"
    }
   ],
   "source": [
    "hybrid(1,'Apple iPhone 12 Pro')"
   ]
  },
  {
   "cell_type": "code",
   "execution_count": 85,
   "id": "4c19c317-bf54-4845-ae56-090bde6a8597",
   "metadata": {},
   "outputs": [
    {
     "data": {
      "text/html": [
       "<div>\n",
       "<style scoped>\n",
       "    .dataframe tbody tr th:only-of-type {\n",
       "        vertical-align: middle;\n",
       "    }\n",
       "\n",
       "    .dataframe tbody tr th {\n",
       "        vertical-align: top;\n",
       "    }\n",
       "\n",
       "    .dataframe thead th {\n",
       "        text-align: right;\n",
       "    }\n",
       "</style>\n",
       "<table border=\"1\" class=\"dataframe\">\n",
       "  <thead>\n",
       "    <tr style=\"text-align: right;\">\n",
       "      <th></th>\n",
       "      <th>title</th>\n",
       "      <th>categoryId</th>\n",
       "      <th>video_id</th>\n",
       "      <th>likes</th>\n",
       "      <th>est</th>\n",
       "    </tr>\n",
       "  </thead>\n",
       "  <tbody>\n",
       "    <tr>\n",
       "      <th>16121</th>\n",
       "      <td>Waada Hai (Official Video) Arjun Kanungo</td>\n",
       "      <td>10</td>\n",
       "      <td>tqBTGJ3FXRE</td>\n",
       "      <td>280409</td>\n",
       "      <td>2.636435</td>\n",
       "    </tr>\n",
       "    <tr>\n",
       "      <th>28722</th>\n",
       "      <td>Faraar (Official Video) Akull</td>\n",
       "      <td>10</td>\n",
       "      <td>yGRo8lFjZlA</td>\n",
       "      <td>66380</td>\n",
       "      <td>2.636435</td>\n",
       "    </tr>\n",
       "    <tr>\n",
       "      <th>18272</th>\n",
       "      <td>Bahot Roye - Official Video</td>\n",
       "      <td>10</td>\n",
       "      <td>CJJGDKn37kU</td>\n",
       "      <td>17370</td>\n",
       "      <td>2.636435</td>\n",
       "    </tr>\n",
       "    <tr>\n",
       "      <th>9473</th>\n",
       "      <td>Hum Tum (Teaser1) Sukriti Kakar, Prakriti Kakar</td>\n",
       "      <td>10</td>\n",
       "      <td>SBaHS0H85ys</td>\n",
       "      <td>6851</td>\n",
       "      <td>2.636435</td>\n",
       "    </tr>\n",
       "    <tr>\n",
       "      <th>28388</th>\n",
       "      <td>Faraar (Official Teaser) Akull</td>\n",
       "      <td>10</td>\n",
       "      <td>SWsDGuACGMI</td>\n",
       "      <td>6483</td>\n",
       "      <td>2.636435</td>\n",
       "    </tr>\n",
       "  </tbody>\n",
       "</table>\n",
       "</div>"
      ],
      "text/plain": [
       "                                                 title  categoryId  \\\n",
       "16121         Waada Hai (Official Video) Arjun Kanungo          10   \n",
       "28722                    Faraar (Official Video) Akull          10   \n",
       "18272                      Bahot Roye - Official Video          10   \n",
       "9473   Hum Tum (Teaser1) Sukriti Kakar, Prakriti Kakar          10   \n",
       "28388                   Faraar (Official Teaser) Akull          10   \n",
       "\n",
       "          video_id   likes       est  \n",
       "16121  tqBTGJ3FXRE  280409  2.636435  \n",
       "28722  yGRo8lFjZlA   66380  2.636435  \n",
       "18272  CJJGDKn37kU   17370  2.636435  \n",
       "9473   SBaHS0H85ys    6851  2.636435  \n",
       "28388  SWsDGuACGMI    6483  2.636435  "
      ]
     },
     "execution_count": 85,
     "metadata": {},
     "output_type": "execute_result"
    }
   ],
   "source": [
    "hybrid(1,'Baarish (Official Video) Payal Dev,Stebin Ben')"
   ]
  },
  {
   "cell_type": "code",
   "execution_count": 86,
   "id": "f4df6983-4fb5-471e-887d-0f9fb9c91dbc",
   "metadata": {
    "id": "f4df6983-4fb5-471e-887d-0f9fb9c91dbc",
    "outputId": "082a315e-10aa-48fb-ab05-6dbdb1afcf47"
   },
   "outputs": [
    {
     "data": {
      "text/html": [
       "<div>\n",
       "<style scoped>\n",
       "    .dataframe tbody tr th:only-of-type {\n",
       "        vertical-align: middle;\n",
       "    }\n",
       "\n",
       "    .dataframe tbody tr th {\n",
       "        vertical-align: top;\n",
       "    }\n",
       "\n",
       "    .dataframe thead th {\n",
       "        text-align: right;\n",
       "    }\n",
       "</style>\n",
       "<table border=\"1\" class=\"dataframe\">\n",
       "  <thead>\n",
       "    <tr style=\"text-align: right;\">\n",
       "      <th></th>\n",
       "      <th>title</th>\n",
       "      <th>categoryId</th>\n",
       "      <th>video_id</th>\n",
       "      <th>likes</th>\n",
       "      <th>est</th>\n",
       "    </tr>\n",
       "  </thead>\n",
       "  <tbody>\n",
       "    <tr>\n",
       "      <th>4020</th>\n",
       "      <td>Rich Mom Vs Normal Mom</td>\n",
       "      <td>22</td>\n",
       "      <td>cWewnrC1qUk</td>\n",
       "      <td>16719</td>\n",
       "      <td>2.316475</td>\n",
       "    </tr>\n",
       "    <tr>\n",
       "      <th>13001</th>\n",
       "      <td>Desi vs Firangi</td>\n",
       "      <td>22</td>\n",
       "      <td>hrm0pbrIhAg</td>\n",
       "      <td>12583</td>\n",
       "      <td>2.316475</td>\n",
       "    </tr>\n",
       "    <tr>\n",
       "      <th>9622</th>\n",
       "      <td>Couples</td>\n",
       "      <td>22</td>\n",
       "      <td>3Oo0oROejbM</td>\n",
       "      <td>11236</td>\n",
       "      <td>2.316475</td>\n",
       "    </tr>\n",
       "    <tr>\n",
       "      <th>1704</th>\n",
       "      <td>Indian Maids</td>\n",
       "      <td>22</td>\n",
       "      <td>3szVkjPhs_Y</td>\n",
       "      <td>6788</td>\n",
       "      <td>2.316475</td>\n",
       "    </tr>\n",
       "    <tr>\n",
       "      <th>19897</th>\n",
       "      <td>Before Marriage Vs After Marriage</td>\n",
       "      <td>22</td>\n",
       "      <td>XQNNu7EcjTU</td>\n",
       "      <td>6597</td>\n",
       "      <td>2.316475</td>\n",
       "    </tr>\n",
       "  </tbody>\n",
       "</table>\n",
       "</div>"
      ],
      "text/plain": [
       "                                   title  categoryId     video_id  likes  \\\n",
       "4020              Rich Mom Vs Normal Mom          22  cWewnrC1qUk  16719   \n",
       "13001                    Desi vs Firangi          22  hrm0pbrIhAg  12583   \n",
       "9622                             Couples          22  3Oo0oROejbM  11236   \n",
       "1704                        Indian Maids          22  3szVkjPhs_Y   6788   \n",
       "19897  Before Marriage Vs After Marriage          22  XQNNu7EcjTU   6597   \n",
       "\n",
       "            est  \n",
       "4020   2.316475  \n",
       "13001  2.316475  \n",
       "9622   2.316475  \n",
       "1704   2.316475  \n",
       "19897  2.316475  "
      ]
     },
     "execution_count": 86,
     "metadata": {},
     "output_type": "execute_result"
    }
   ],
   "source": [
    "hybrid(1,'Types of Ex Girlfriends')"
   ]
  },
  {
   "cell_type": "code",
   "execution_count": 87,
   "id": "f92f9466-bf69-4ce2-aed1-0ad61651b6ac",
   "metadata": {
    "id": "f92f9466-bf69-4ce2-aed1-0ad61651b6ac",
    "outputId": "29e77e88-a6b7-468f-b02a-d85c9163e18c"
   },
   "outputs": [
    {
     "data": {
      "text/html": [
       "<div>\n",
       "<style scoped>\n",
       "    .dataframe tbody tr th:only-of-type {\n",
       "        vertical-align: middle;\n",
       "    }\n",
       "\n",
       "    .dataframe tbody tr th {\n",
       "        vertical-align: top;\n",
       "    }\n",
       "\n",
       "    .dataframe thead th {\n",
       "        text-align: right;\n",
       "    }\n",
       "</style>\n",
       "<table border=\"1\" class=\"dataframe\">\n",
       "  <thead>\n",
       "    <tr style=\"text-align: right;\">\n",
       "      <th></th>\n",
       "      <th>title</th>\n",
       "      <th>categoryId</th>\n",
       "      <th>video_id</th>\n",
       "      <th>likes</th>\n",
       "      <th>est</th>\n",
       "    </tr>\n",
       "  </thead>\n",
       "  <tbody>\n",
       "    <tr>\n",
       "      <th>561</th>\n",
       "      <td>NEW! Ep 2971 - Relaxation With Babita</td>\n",
       "      <td>24</td>\n",
       "      <td>ajmPYL8l7-U</td>\n",
       "      <td>96895</td>\n",
       "      <td>2.793735</td>\n",
       "    </tr>\n",
       "    <tr>\n",
       "      <th>3161</th>\n",
       "      <td>NEW! Ep 2979 - Will Jetha Escape Goli?</td>\n",
       "      <td>24</td>\n",
       "      <td>QdgOmsP3OaU</td>\n",
       "      <td>61423</td>\n",
       "      <td>2.793735</td>\n",
       "    </tr>\n",
       "    <tr>\n",
       "      <th>1833</th>\n",
       "      <td>NEW! Ep 2974 - Taraak Mehta Gets Late!</td>\n",
       "      <td>24</td>\n",
       "      <td>sf7NDiQfSIo</td>\n",
       "      <td>40777</td>\n",
       "      <td>2.793735</td>\n",
       "    </tr>\n",
       "    <tr>\n",
       "      <th>1419</th>\n",
       "      <td>NEW! Ep 2973 - Jetha Invites Babita Over For B...</td>\n",
       "      <td>24</td>\n",
       "      <td>m0tdMLJWxb8</td>\n",
       "      <td>39433</td>\n",
       "      <td>2.793735</td>\n",
       "    </tr>\n",
       "    <tr>\n",
       "      <th>3364</th>\n",
       "      <td>NEW! Ep 2981 - Jetha Ki Masti!</td>\n",
       "      <td>24</td>\n",
       "      <td>-UfpObaqoLM</td>\n",
       "      <td>34649</td>\n",
       "      <td>2.793735</td>\n",
       "    </tr>\n",
       "  </tbody>\n",
       "</table>\n",
       "</div>"
      ],
      "text/plain": [
       "                                                  title  categoryId  \\\n",
       "561               NEW! Ep 2971 - Relaxation With Babita          24   \n",
       "3161             NEW! Ep 2979 - Will Jetha Escape Goli?          24   \n",
       "1833             NEW! Ep 2974 - Taraak Mehta Gets Late!          24   \n",
       "1419  NEW! Ep 2973 - Jetha Invites Babita Over For B...          24   \n",
       "3364                     NEW! Ep 2981 - Jetha Ki Masti!          24   \n",
       "\n",
       "         video_id  likes       est  \n",
       "561   ajmPYL8l7-U  96895  2.793735  \n",
       "3161  QdgOmsP3OaU  61423  2.793735  \n",
       "1833  sf7NDiQfSIo  40777  2.793735  \n",
       "1419  m0tdMLJWxb8  39433  2.793735  \n",
       "3364  -UfpObaqoLM  34649  2.793735  "
      ]
     },
     "execution_count": 87,
     "metadata": {},
     "output_type": "execute_result"
    }
   ],
   "source": [
    "hybrid(1,'NEW! Ep 3006 - Abdul Missing?!')"
   ]
  },
  {
   "cell_type": "code",
   "execution_count": 88,
   "id": "2635908b-fa4c-49ef-8306-388af215ca98",
   "metadata": {
    "id": "2635908b-fa4c-49ef-8306-388af215ca98",
    "outputId": "a0fb73ee-a320-4e61-f3f0-892ba563664f"
   },
   "outputs": [
    {
     "data": {
      "text/html": [
       "<div>\n",
       "<style scoped>\n",
       "    .dataframe tbody tr th:only-of-type {\n",
       "        vertical-align: middle;\n",
       "    }\n",
       "\n",
       "    .dataframe tbody tr th {\n",
       "        vertical-align: top;\n",
       "    }\n",
       "\n",
       "    .dataframe thead th {\n",
       "        text-align: right;\n",
       "    }\n",
       "</style>\n",
       "<table border=\"1\" class=\"dataframe\">\n",
       "  <thead>\n",
       "    <tr style=\"text-align: right;\">\n",
       "      <th></th>\n",
       "      <th>title</th>\n",
       "      <th>categoryId</th>\n",
       "      <th>video_id</th>\n",
       "      <th>likes</th>\n",
       "      <th>est</th>\n",
       "    </tr>\n",
       "  </thead>\n",
       "  <tbody>\n",
       "    <tr>\n",
       "      <th>59</th>\n",
       "      <td>how JS FILMS bought KAWASAKI H2</td>\n",
       "      <td>22</td>\n",
       "      <td>lh7QPjPpXas</td>\n",
       "      <td>123335</td>\n",
       "      <td>2.316475</td>\n",
       "    </tr>\n",
       "    <tr>\n",
       "      <th>26</th>\n",
       "      <td>When 10R meets NINJA H2 !!</td>\n",
       "      <td>22</td>\n",
       "      <td>8QiOt2oxyTQ</td>\n",
       "      <td>58734</td>\n",
       "      <td>2.316475</td>\n",
       "    </tr>\n",
       "    <tr>\n",
       "      <th>367</th>\n",
       "      <td>Accidental Wheelie on NINJA H2</td>\n",
       "      <td>22</td>\n",
       "      <td>zkArAMNUyAY</td>\n",
       "      <td>53613</td>\n",
       "      <td>2.316475</td>\n",
       "    </tr>\n",
       "    <tr>\n",
       "      <th>14219</th>\n",
       "      <td>Surprising my Friends with NEW Bike!!</td>\n",
       "      <td>22</td>\n",
       "      <td>FG9MXlvkUkc</td>\n",
       "      <td>16773</td>\n",
       "      <td>2.316475</td>\n",
       "    </tr>\n",
       "    <tr>\n",
       "      <th>16568</th>\n",
       "      <td>SUBSCRIBERS ne Keh ke LELI 😭😂</td>\n",
       "      <td>22</td>\n",
       "      <td>r9RE9eO_qYs</td>\n",
       "      <td>12130</td>\n",
       "      <td>2.316475</td>\n",
       "    </tr>\n",
       "  </tbody>\n",
       "</table>\n",
       "</div>"
      ],
      "text/plain": [
       "                                       title  categoryId     video_id   likes  \\\n",
       "59           how JS FILMS bought KAWASAKI H2          22  lh7QPjPpXas  123335   \n",
       "26                When 10R meets NINJA H2 !!          22  8QiOt2oxyTQ   58734   \n",
       "367           Accidental Wheelie on NINJA H2          22  zkArAMNUyAY   53613   \n",
       "14219  Surprising my Friends with NEW Bike!!          22  FG9MXlvkUkc   16773   \n",
       "16568          SUBSCRIBERS ne Keh ke LELI 😭😂          22  r9RE9eO_qYs   12130   \n",
       "\n",
       "            est  \n",
       "59     2.316475  \n",
       "26     2.316475  \n",
       "367    2.316475  \n",
       "14219  2.316475  \n",
       "16568  2.316475  "
      ]
     },
     "execution_count": 88,
     "metadata": {},
     "output_type": "execute_result"
    }
   ],
   "source": [
    "hybrid(1,'When 10R meets NINJA H2 !!')"
   ]
  },
  {
   "cell_type": "code",
   "execution_count": 89,
   "id": "05c627c3-ecdc-4f30-bdab-8c5f4b9e99c3",
   "metadata": {
    "id": "05c627c3-ecdc-4f30-bdab-8c5f4b9e99c3",
    "outputId": "e25193c3-bae2-422d-d69a-081558e689c9"
   },
   "outputs": [
    {
     "data": {
      "text/html": [
       "<div>\n",
       "<style scoped>\n",
       "    .dataframe tbody tr th:only-of-type {\n",
       "        vertical-align: middle;\n",
       "    }\n",
       "\n",
       "    .dataframe tbody tr th {\n",
       "        vertical-align: top;\n",
       "    }\n",
       "\n",
       "    .dataframe thead th {\n",
       "        text-align: right;\n",
       "    }\n",
       "</style>\n",
       "<table border=\"1\" class=\"dataframe\">\n",
       "  <thead>\n",
       "    <tr style=\"text-align: right;\">\n",
       "      <th></th>\n",
       "      <th>title</th>\n",
       "      <th>categoryId</th>\n",
       "      <th>video_id</th>\n",
       "      <th>likes</th>\n",
       "      <th>est</th>\n",
       "    </tr>\n",
       "  </thead>\n",
       "  <tbody>\n",
       "    <tr>\n",
       "      <th>6971</th>\n",
       "      <td>FULL MATCH - Roman Reigns vs. Drew McIntyre: W...</td>\n",
       "      <td>17</td>\n",
       "      <td>1pb8jp8uOp4</td>\n",
       "      <td>43634</td>\n",
       "      <td>3.203106</td>\n",
       "    </tr>\n",
       "    <tr>\n",
       "      <th>13570</th>\n",
       "      <td>FULL MATCH - Shinsuke Nakamura vs. Roman Reign...</td>\n",
       "      <td>17</td>\n",
       "      <td>UG4Wpk5kD0s</td>\n",
       "      <td>40442</td>\n",
       "      <td>3.203106</td>\n",
       "    </tr>\n",
       "    <tr>\n",
       "      <th>5469</th>\n",
       "      <td>FULL MATCH: Roman Reigns vs. John Cena: WWE No...</td>\n",
       "      <td>17</td>\n",
       "      <td>hjUsCZ5i1yc</td>\n",
       "      <td>38493</td>\n",
       "      <td>3.203106</td>\n",
       "    </tr>\n",
       "    <tr>\n",
       "      <th>2883</th>\n",
       "      <td>FULL MATCH: Roman Reigns vs. Braun Strowman: W...</td>\n",
       "      <td>17</td>\n",
       "      <td>HpqHxoYJ-sQ</td>\n",
       "      <td>35990</td>\n",
       "      <td>3.203106</td>\n",
       "    </tr>\n",
       "    <tr>\n",
       "      <th>4625</th>\n",
       "      <td>FULL MATCH: Rusev vs. Roman Reigns – U.S. Titl...</td>\n",
       "      <td>17</td>\n",
       "      <td>1e1-xibMDkU</td>\n",
       "      <td>27412</td>\n",
       "      <td>3.203106</td>\n",
       "    </tr>\n",
       "  </tbody>\n",
       "</table>\n",
       "</div>"
      ],
      "text/plain": [
       "                                                   title  categoryId  \\\n",
       "6971   FULL MATCH - Roman Reigns vs. Drew McIntyre: W...          17   \n",
       "13570  FULL MATCH - Shinsuke Nakamura vs. Roman Reign...          17   \n",
       "5469   FULL MATCH: Roman Reigns vs. John Cena: WWE No...          17   \n",
       "2883   FULL MATCH: Roman Reigns vs. Braun Strowman: W...          17   \n",
       "4625   FULL MATCH: Rusev vs. Roman Reigns – U.S. Titl...          17   \n",
       "\n",
       "          video_id  likes       est  \n",
       "6971   1pb8jp8uOp4  43634  3.203106  \n",
       "13570  UG4Wpk5kD0s  40442  3.203106  \n",
       "5469   hjUsCZ5i1yc  38493  3.203106  \n",
       "2883   HpqHxoYJ-sQ  35990  3.203106  \n",
       "4625   1e1-xibMDkU  27412  3.203106  "
      ]
     },
     "execution_count": 89,
     "metadata": {},
     "output_type": "execute_result"
    }
   ],
   "source": [
    "hybrid(1,'FULL MATCH - Roman Reigns vs. Murphy: SmackDown LIVE, August 13, 2019')"
   ]
  },
  {
   "cell_type": "code",
   "execution_count": 90,
   "id": "296755ef",
   "metadata": {
    "id": "296755ef",
    "outputId": "458d6037-f8a7-4929-d56b-8a3446dcb55d"
   },
   "outputs": [
    {
     "data": {
      "text/html": [
       "<div>\n",
       "<style scoped>\n",
       "    .dataframe tbody tr th:only-of-type {\n",
       "        vertical-align: middle;\n",
       "    }\n",
       "\n",
       "    .dataframe tbody tr th {\n",
       "        vertical-align: top;\n",
       "    }\n",
       "\n",
       "    .dataframe thead th {\n",
       "        text-align: right;\n",
       "    }\n",
       "</style>\n",
       "<table border=\"1\" class=\"dataframe\">\n",
       "  <thead>\n",
       "    <tr style=\"text-align: right;\">\n",
       "      <th></th>\n",
       "      <th>title</th>\n",
       "      <th>categoryId</th>\n",
       "      <th>video_id</th>\n",
       "      <th>likes</th>\n",
       "      <th>est</th>\n",
       "    </tr>\n",
       "  </thead>\n",
       "  <tbody>\n",
       "    <tr>\n",
       "      <th>7300</th>\n",
       "      <td>IPL 2020 - Match 01</td>\n",
       "      <td>17</td>\n",
       "      <td>lmfk_6ZVoBI</td>\n",
       "      <td>19438</td>\n",
       "      <td>3.203106</td>\n",
       "    </tr>\n",
       "    <tr>\n",
       "      <th>19229</th>\n",
       "      <td>IPL 2021 - First List Of All 82 Released Playe...</td>\n",
       "      <td>17</td>\n",
       "      <td>qb_QJVXC38o</td>\n",
       "      <td>13401</td>\n",
       "      <td>3.203106</td>\n",
       "    </tr>\n",
       "    <tr>\n",
       "      <th>115</th>\n",
       "      <td>IPL 2020 - Patanjali IPL As Sponsor With 10 Bi...</td>\n",
       "      <td>17</td>\n",
       "      <td>ABrm1mQXj38</td>\n",
       "      <td>11941</td>\n",
       "      <td>3.203106</td>\n",
       "    </tr>\n",
       "    <tr>\n",
       "      <th>13860</th>\n",
       "      <td>CSK NEW CAPTAIN</td>\n",
       "      <td>24</td>\n",
       "      <td>zwxx85E6Rjo</td>\n",
       "      <td>7413</td>\n",
       "      <td>2.793735</td>\n",
       "    </tr>\n",
       "    <tr>\n",
       "      <th>17317</th>\n",
       "      <td>IPL 2020</td>\n",
       "      <td>27</td>\n",
       "      <td>hHvXxuB2pNU</td>\n",
       "      <td>2099</td>\n",
       "      <td>2.605738</td>\n",
       "    </tr>\n",
       "  </tbody>\n",
       "</table>\n",
       "</div>"
      ],
      "text/plain": [
       "                                                   title  categoryId  \\\n",
       "7300                                 IPL 2020 - Match 01          17   \n",
       "19229  IPL 2021 - First List Of All 82 Released Playe...          17   \n",
       "115    IPL 2020 - Patanjali IPL As Sponsor With 10 Bi...          17   \n",
       "13860                                    CSK NEW CAPTAIN          24   \n",
       "17317                                           IPL 2020          27   \n",
       "\n",
       "          video_id  likes       est  \n",
       "7300   lmfk_6ZVoBI  19438  3.203106  \n",
       "19229  qb_QJVXC38o  13401  3.203106  \n",
       "115    ABrm1mQXj38  11941  3.203106  \n",
       "13860  zwxx85E6Rjo   7413  2.793735  \n",
       "17317  hHvXxuB2pNU   2099  2.605738  "
      ]
     },
     "execution_count": 90,
     "metadata": {},
     "output_type": "execute_result"
    }
   ],
   "source": [
    "hybrid(1,'IPL 2020 - Patanjali IPL As Sponsor With 10 Big News')"
   ]
  },
  {
   "cell_type": "code",
   "execution_count": 91,
   "id": "7644d46c-5c53-4994-973c-7bb6f728f0ea",
   "metadata": {
    "id": "7644d46c-5c53-4994-973c-7bb6f728f0ea",
    "outputId": "250609a6-728d-40d2-a7a2-48a2e9cfcf60"
   },
   "outputs": [
    {
     "data": {
      "text/html": [
       "<div>\n",
       "<style scoped>\n",
       "    .dataframe tbody tr th:only-of-type {\n",
       "        vertical-align: middle;\n",
       "    }\n",
       "\n",
       "    .dataframe tbody tr th {\n",
       "        vertical-align: top;\n",
       "    }\n",
       "\n",
       "    .dataframe thead th {\n",
       "        text-align: right;\n",
       "    }\n",
       "</style>\n",
       "<table border=\"1\" class=\"dataframe\">\n",
       "  <thead>\n",
       "    <tr style=\"text-align: right;\">\n",
       "      <th></th>\n",
       "      <th>title</th>\n",
       "      <th>categoryId</th>\n",
       "      <th>video_id</th>\n",
       "      <th>likes</th>\n",
       "      <th>est</th>\n",
       "    </tr>\n",
       "  </thead>\n",
       "  <tbody>\n",
       "    <tr>\n",
       "      <th>1606</th>\n",
       "      <td>DNA: नौकरियों के लिए अलग-अलग प्रवेश परीक्षाओं ...</td>\n",
       "      <td>25</td>\n",
       "      <td>ceIiCY8MWxY</td>\n",
       "      <td>45259</td>\n",
       "      <td>2.121955</td>\n",
       "    </tr>\n",
       "    <tr>\n",
       "      <th>11159</th>\n",
       "      <td>बुजुर्ग को रोता देख मटर पनीर खाने उमड़ी भीड़, ...</td>\n",
       "      <td>25</td>\n",
       "      <td>-7QMtlNPWi4</td>\n",
       "      <td>44454</td>\n",
       "      <td>2.121955</td>\n",
       "    </tr>\n",
       "    <tr>\n",
       "      <th>799</th>\n",
       "      <td>PM Modi के ऐतिहासिक भाषण की बड़ी बातें</td>\n",
       "      <td>25</td>\n",
       "      <td>kyNGoxY2eIQ</td>\n",
       "      <td>19603</td>\n",
       "      <td>2.121955</td>\n",
       "    </tr>\n",
       "    <tr>\n",
       "      <th>8187</th>\n",
       "      <td>Film City को लेकर फुल एक्शन मोड में Yogi, बॉली...</td>\n",
       "      <td>25</td>\n",
       "      <td>IPUUafZ4XIw</td>\n",
       "      <td>18130</td>\n",
       "      <td>2.121955</td>\n",
       "    </tr>\n",
       "    <tr>\n",
       "      <th>9550</th>\n",
       "      <td>Hathras Case: पीएम मोदी ने ली हाथरस मामले की ज...</td>\n",
       "      <td>25</td>\n",
       "      <td>mzLyIXJg3Ic</td>\n",
       "      <td>10244</td>\n",
       "      <td>2.121955</td>\n",
       "    </tr>\n",
       "  </tbody>\n",
       "</table>\n",
       "</div>"
      ],
      "text/plain": [
       "                                                   title  categoryId  \\\n",
       "1606   DNA: नौकरियों के लिए अलग-अलग प्रवेश परीक्षाओं ...          25   \n",
       "11159  बुजुर्ग को रोता देख मटर पनीर खाने उमड़ी भीड़, ...          25   \n",
       "799               PM Modi के ऐतिहासिक भाषण की बड़ी बातें          25   \n",
       "8187   Film City को लेकर फुल एक्शन मोड में Yogi, बॉली...          25   \n",
       "9550   Hathras Case: पीएम मोदी ने ली हाथरस मामले की ज...          25   \n",
       "\n",
       "          video_id  likes       est  \n",
       "1606   ceIiCY8MWxY  45259  2.121955  \n",
       "11159  -7QMtlNPWi4  44454  2.121955  \n",
       "799    kyNGoxY2eIQ  19603  2.121955  \n",
       "8187   IPUUafZ4XIw  18130  2.121955  \n",
       "9550   mzLyIXJg3Ic  10244  2.121955  "
      ]
     },
     "execution_count": 91,
     "metadata": {},
     "output_type": "execute_result"
    }
   ],
   "source": [
    "hybrid(1,\"DNA: Russia August 12 को लॉन्च करेगा Corona Vaccine\")"
   ]
  },
  {
   "cell_type": "code",
   "execution_count": 92,
   "id": "b894dda4-c438-4aec-aa5e-1c6f625243bc",
   "metadata": {
    "id": "b894dda4-c438-4aec-aa5e-1c6f625243bc",
    "outputId": "5947f390-06a6-451a-adfa-29073514dfc5"
   },
   "outputs": [
    {
     "data": {
      "text/html": [
       "<div>\n",
       "<style scoped>\n",
       "    .dataframe tbody tr th:only-of-type {\n",
       "        vertical-align: middle;\n",
       "    }\n",
       "\n",
       "    .dataframe tbody tr th {\n",
       "        vertical-align: top;\n",
       "    }\n",
       "\n",
       "    .dataframe thead th {\n",
       "        text-align: right;\n",
       "    }\n",
       "</style>\n",
       "<table border=\"1\" class=\"dataframe\">\n",
       "  <thead>\n",
       "    <tr style=\"text-align: right;\">\n",
       "      <th></th>\n",
       "      <th>title</th>\n",
       "      <th>categoryId</th>\n",
       "      <th>video_id</th>\n",
       "      <th>likes</th>\n",
       "      <th>est</th>\n",
       "    </tr>\n",
       "  </thead>\n",
       "  <tbody>\n",
       "    <tr>\n",
       "      <th>7972</th>\n",
       "      <td>Back to back WINS for CHENNAI?</td>\n",
       "      <td>17</td>\n",
       "      <td>JZbs3i_HyR4</td>\n",
       "      <td>45784</td>\n",
       "      <td>3.203106</td>\n",
       "    </tr>\n",
       "    <tr>\n",
       "      <th>9535</th>\n",
       "      <td>THRILLING WIN for BENGALURU in the SUPER OVER!</td>\n",
       "      <td>17</td>\n",
       "      <td>YJyWEp1SaNE</td>\n",
       "      <td>44152</td>\n",
       "      <td>3.203106</td>\n",
       "    </tr>\n",
       "    <tr>\n",
       "      <th>9272</th>\n",
       "      <td>Will DELHI dominate HYDERABAD?</td>\n",
       "      <td>17</td>\n",
       "      <td>YJyWEp1SaNE</td>\n",
       "      <td>43242</td>\n",
       "      <td>3.203106</td>\n",
       "    </tr>\n",
       "    <tr>\n",
       "      <th>8035</th>\n",
       "      <td>STELLAR STOINIS seals the deal for DELHI</td>\n",
       "      <td>17</td>\n",
       "      <td>1yUg1L-OYFY</td>\n",
       "      <td>42786</td>\n",
       "      <td>3.203106</td>\n",
       "    </tr>\n",
       "    <tr>\n",
       "      <th>7812</th>\n",
       "      <td>Will KOHLI ki Toli DOMINATE over the Orange Army?</td>\n",
       "      <td>17</td>\n",
       "      <td>1yUg1L-OYFY</td>\n",
       "      <td>41485</td>\n",
       "      <td>3.203106</td>\n",
       "    </tr>\n",
       "  </tbody>\n",
       "</table>\n",
       "</div>"
      ],
      "text/plain": [
       "                                                  title  categoryId  \\\n",
       "7972                     Back to back WINS for CHENNAI?          17   \n",
       "9535     THRILLING WIN for BENGALURU in the SUPER OVER!          17   \n",
       "9272                     Will DELHI dominate HYDERABAD?          17   \n",
       "8035           STELLAR STOINIS seals the deal for DELHI          17   \n",
       "7812  Will KOHLI ki Toli DOMINATE over the Orange Army?          17   \n",
       "\n",
       "         video_id  likes       est  \n",
       "7972  JZbs3i_HyR4  45784  3.203106  \n",
       "9535  YJyWEp1SaNE  44152  3.203106  \n",
       "9272  YJyWEp1SaNE  43242  3.203106  \n",
       "8035  1yUg1L-OYFY  42786  3.203106  \n",
       "7812  1yUg1L-OYFY  41485  3.203106  "
      ]
     },
     "execution_count": 92,
     "metadata": {},
     "output_type": "execute_result"
    }
   ],
   "source": [
    "hybrid(1,\"KOHLI & CO start with a fabulous WIN!\")"
   ]
  },
  {
   "cell_type": "code",
   "execution_count": 93,
   "id": "c2724a4e-7e08-4114-b0e9-f71b03842442",
   "metadata": {},
   "outputs": [
    {
     "data": {
      "text/html": [
       "<div>\n",
       "<style scoped>\n",
       "    .dataframe tbody tr th:only-of-type {\n",
       "        vertical-align: middle;\n",
       "    }\n",
       "\n",
       "    .dataframe tbody tr th {\n",
       "        vertical-align: top;\n",
       "    }\n",
       "\n",
       "    .dataframe thead th {\n",
       "        text-align: right;\n",
       "    }\n",
       "</style>\n",
       "<table border=\"1\" class=\"dataframe\">\n",
       "  <thead>\n",
       "    <tr style=\"text-align: right;\">\n",
       "      <th></th>\n",
       "      <th>title</th>\n",
       "      <th>categoryId</th>\n",
       "      <th>video_id</th>\n",
       "      <th>likes</th>\n",
       "      <th>est</th>\n",
       "    </tr>\n",
       "  </thead>\n",
       "  <tbody>\n",
       "    <tr>\n",
       "      <th>12</th>\n",
       "      <td>first Crazy RIDE on Kawasaki NINJA H2</td>\n",
       "      <td>22</td>\n",
       "      <td>KrXRnIESDxM</td>\n",
       "      <td>110209</td>\n",
       "      <td>2.316475</td>\n",
       "    </tr>\n",
       "    <tr>\n",
       "      <th>42</th>\n",
       "      <td>I Surprised my Friends With NINJA H2!!</td>\n",
       "      <td>22</td>\n",
       "      <td>7Mz71xlUlw8</td>\n",
       "      <td>89781</td>\n",
       "      <td>2.316475</td>\n",
       "    </tr>\n",
       "    <tr>\n",
       "      <th>23909</th>\n",
       "      <td>25 Gifts to Myself on my 25th Bday #AnishkaBir...</td>\n",
       "      <td>26</td>\n",
       "      <td>Ns5IRhJ4R8k</td>\n",
       "      <td>65561</td>\n",
       "      <td>2.320023</td>\n",
       "    </tr>\n",
       "    <tr>\n",
       "      <th>11167</th>\n",
       "      <td>baba ka dhaba KYU ? band ho gaya</td>\n",
       "      <td>22</td>\n",
       "      <td>X-Nq5_zL_x0</td>\n",
       "      <td>51009</td>\n",
       "      <td>2.316475</td>\n",
       "    </tr>\n",
       "    <tr>\n",
       "      <th>22908</th>\n",
       "      <td>bass Life mai HAYABUSA honi chaheye</td>\n",
       "      <td>22</td>\n",
       "      <td>2TGgdI1L0Hw</td>\n",
       "      <td>48490</td>\n",
       "      <td>2.316475</td>\n",
       "    </tr>\n",
       "  </tbody>\n",
       "</table>\n",
       "</div>"
      ],
      "text/plain": [
       "                                                   title  categoryId  \\\n",
       "12                 first Crazy RIDE on Kawasaki NINJA H2          22   \n",
       "42                I Surprised my Friends With NINJA H2!!          22   \n",
       "23909  25 Gifts to Myself on my 25th Bday #AnishkaBir...          26   \n",
       "11167                   baba ka dhaba KYU ? band ho gaya          22   \n",
       "22908                bass Life mai HAYABUSA honi chaheye          22   \n",
       "\n",
       "          video_id   likes       est  \n",
       "12     KrXRnIESDxM  110209  2.316475  \n",
       "42     7Mz71xlUlw8   89781  2.316475  \n",
       "23909  Ns5IRhJ4R8k   65561  2.320023  \n",
       "11167  X-Nq5_zL_x0   51009  2.316475  \n",
       "22908  2TGgdI1L0Hw   48490  2.316475  "
      ]
     },
     "execution_count": 93,
     "metadata": {},
     "output_type": "execute_result"
    }
   ],
   "source": [
    "hybrid(1,\"Finally bought my DreamBike - Ninja H2\")"
   ]
  },
  {
   "cell_type": "code",
   "execution_count": 94,
   "id": "8587782e-1e2c-4968-b219-e4531900b4ac",
   "metadata": {},
   "outputs": [
    {
     "data": {
      "text/html": [
       "<div>\n",
       "<style scoped>\n",
       "    .dataframe tbody tr th:only-of-type {\n",
       "        vertical-align: middle;\n",
       "    }\n",
       "\n",
       "    .dataframe tbody tr th {\n",
       "        vertical-align: top;\n",
       "    }\n",
       "\n",
       "    .dataframe thead th {\n",
       "        text-align: right;\n",
       "    }\n",
       "</style>\n",
       "<table border=\"1\" class=\"dataframe\">\n",
       "  <thead>\n",
       "    <tr style=\"text-align: right;\">\n",
       "      <th></th>\n",
       "      <th>title</th>\n",
       "      <th>categoryId</th>\n",
       "      <th>video_id</th>\n",
       "      <th>likes</th>\n",
       "      <th>est</th>\n",
       "    </tr>\n",
       "  </thead>\n",
       "  <tbody>\n",
       "    <tr>\n",
       "      <th>734</th>\n",
       "      <td>Gaman Santhal - દેવ કરે એ કોઈ ના કરે - Dev Kar...</td>\n",
       "      <td>10</td>\n",
       "      <td>fy6Cx0mFDDE</td>\n",
       "      <td>16518</td>\n",
       "      <td>2.636435</td>\n",
       "    </tr>\n",
       "    <tr>\n",
       "      <th>11701</th>\n",
       "      <td>Rakesh barot Riddhi Vyash song</td>\n",
       "      <td>10</td>\n",
       "      <td>RO9FKd3am24</td>\n",
       "      <td>15352</td>\n",
       "      <td>2.636435</td>\n",
       "    </tr>\n",
       "    <tr>\n",
       "      <th>1699</th>\n",
       "      <td>Choy Ji Mari Hambhad Rakhnar</td>\n",
       "      <td>10</td>\n",
       "      <td>JmRt1IjwjjA</td>\n",
       "      <td>13177</td>\n",
       "      <td>2.636435</td>\n",
       "    </tr>\n",
       "    <tr>\n",
       "      <th>1508</th>\n",
       "      <td>Jignesh Barot ( Kaviraj) ચોય જ્યાં મારી હંભાળ ...</td>\n",
       "      <td>10</td>\n",
       "      <td>QwUw7Wb0I-A</td>\n",
       "      <td>12893</td>\n",
       "      <td>2.636435</td>\n",
       "    </tr>\n",
       "    <tr>\n",
       "      <th>21270</th>\n",
       "      <td>Chhodi Ne Gaya Tame Mane Je Halat Ma</td>\n",
       "      <td>10</td>\n",
       "      <td>WzHJe62sGzY</td>\n",
       "      <td>12786</td>\n",
       "      <td>2.636435</td>\n",
       "    </tr>\n",
       "  </tbody>\n",
       "</table>\n",
       "</div>"
      ],
      "text/plain": [
       "                                                   title  categoryId  \\\n",
       "734    Gaman Santhal - દેવ કરે એ કોઈ ના કરે - Dev Kar...          10   \n",
       "11701                     Rakesh barot Riddhi Vyash song          10   \n",
       "1699                        Choy Ji Mari Hambhad Rakhnar          10   \n",
       "1508   Jignesh Barot ( Kaviraj) ચોય જ્યાં મારી હંભાળ ...          10   \n",
       "21270               Chhodi Ne Gaya Tame Mane Je Halat Ma          10   \n",
       "\n",
       "          video_id  likes       est  \n",
       "734    fy6Cx0mFDDE  16518  2.636435  \n",
       "11701  RO9FKd3am24  15352  2.636435  \n",
       "1699   JmRt1IjwjjA  13177  2.636435  \n",
       "1508   QwUw7Wb0I-A  12893  2.636435  \n",
       "21270  WzHJe62sGzY  12786  2.636435  "
      ]
     },
     "execution_count": 94,
     "metadata": {},
     "output_type": "execute_result"
    }
   ],
   "source": [
    "hybrid(1,\"Gujarati song pucho to khara\")"
   ]
  },
  {
   "cell_type": "code",
   "execution_count": 95,
   "id": "7c64afb3-22d2-4143-91f0-b5cf13341c18",
   "metadata": {},
   "outputs": [
    {
     "data": {
      "text/html": [
       "<div>\n",
       "<style scoped>\n",
       "    .dataframe tbody tr th:only-of-type {\n",
       "        vertical-align: middle;\n",
       "    }\n",
       "\n",
       "    .dataframe tbody tr th {\n",
       "        vertical-align: top;\n",
       "    }\n",
       "\n",
       "    .dataframe thead th {\n",
       "        text-align: right;\n",
       "    }\n",
       "</style>\n",
       "<table border=\"1\" class=\"dataframe\">\n",
       "  <thead>\n",
       "    <tr style=\"text-align: right;\">\n",
       "      <th></th>\n",
       "      <th>title</th>\n",
       "      <th>categoryId</th>\n",
       "      <th>video_id</th>\n",
       "      <th>likes</th>\n",
       "      <th>est</th>\n",
       "    </tr>\n",
       "  </thead>\n",
       "  <tbody>\n",
       "    <tr>\n",
       "      <th>26457</th>\n",
       "      <td>HOT LAUNDE - Badshah Ft. Fotty Seven, Bali</td>\n",
       "      <td>10</td>\n",
       "      <td>iuqfU9Ll300</td>\n",
       "      <td>108643</td>\n",
       "      <td>2.636435</td>\n",
       "    </tr>\n",
       "    <tr>\n",
       "      <th>18799</th>\n",
       "      <td>AWAARA I OFFICIAL MUSIC VIDEO I BADSHAH FT. RE...</td>\n",
       "      <td>10</td>\n",
       "      <td>Mi-Q1KM9Xtk</td>\n",
       "      <td>93698</td>\n",
       "      <td>2.636435</td>\n",
       "    </tr>\n",
       "    <tr>\n",
       "      <th>17469</th>\n",
       "      <td>AWAARA - TEASER I BADSHAH FT. REET TALWAR</td>\n",
       "      <td>10</td>\n",
       "      <td>3dxR0aXqcVw</td>\n",
       "      <td>24546</td>\n",
       "      <td>2.636435</td>\n",
       "    </tr>\n",
       "    <tr>\n",
       "      <th>27343</th>\n",
       "      <td>BADSHAH - A Day in Mumbai</td>\n",
       "      <td>10</td>\n",
       "      <td>-QtFcNNl_ac</td>\n",
       "      <td>13573</td>\n",
       "      <td>2.636435</td>\n",
       "    </tr>\n",
       "    <tr>\n",
       "      <th>10066</th>\n",
       "      <td>THE POWER OF DREAMS - Badshah ft. Lisa Mishra</td>\n",
       "      <td>10</td>\n",
       "      <td>WdktZ2fNQC4</td>\n",
       "      <td>11819</td>\n",
       "      <td>2.636435</td>\n",
       "    </tr>\n",
       "  </tbody>\n",
       "</table>\n",
       "</div>"
      ],
      "text/plain": [
       "                                                   title  categoryId  \\\n",
       "26457         HOT LAUNDE - Badshah Ft. Fotty Seven, Bali          10   \n",
       "18799  AWAARA I OFFICIAL MUSIC VIDEO I BADSHAH FT. RE...          10   \n",
       "17469          AWAARA - TEASER I BADSHAH FT. REET TALWAR          10   \n",
       "27343                          BADSHAH - A Day in Mumbai          10   \n",
       "10066      THE POWER OF DREAMS - Badshah ft. Lisa Mishra          10   \n",
       "\n",
       "          video_id   likes       est  \n",
       "26457  iuqfU9Ll300  108643  2.636435  \n",
       "18799  Mi-Q1KM9Xtk   93698  2.636435  \n",
       "17469  3dxR0aXqcVw   24546  2.636435  \n",
       "27343  -QtFcNNl_ac   13573  2.636435  \n",
       "10066  WdktZ2fNQC4   11819  2.636435  "
      ]
     },
     "execution_count": 95,
     "metadata": {},
     "output_type": "execute_result"
    }
   ],
   "source": [
    "hybrid(1,\"BADSHAH – BKL (Official Lyrical Video)\")"
   ]
  },
  {
   "cell_type": "code",
   "execution_count": 96,
   "id": "abaf0156-f069-4a94-acd1-f0f6f57c6abb",
   "metadata": {},
   "outputs": [
    {
     "data": {
      "text/html": [
       "<div>\n",
       "<style scoped>\n",
       "    .dataframe tbody tr th:only-of-type {\n",
       "        vertical-align: middle;\n",
       "    }\n",
       "\n",
       "    .dataframe tbody tr th {\n",
       "        vertical-align: top;\n",
       "    }\n",
       "\n",
       "    .dataframe thead th {\n",
       "        text-align: right;\n",
       "    }\n",
       "</style>\n",
       "<table border=\"1\" class=\"dataframe\">\n",
       "  <thead>\n",
       "    <tr style=\"text-align: right;\">\n",
       "      <th></th>\n",
       "      <th>title</th>\n",
       "      <th>categoryId</th>\n",
       "      <th>video_id</th>\n",
       "      <th>likes</th>\n",
       "      <th>est</th>\n",
       "    </tr>\n",
       "  </thead>\n",
       "  <tbody>\n",
       "    <tr>\n",
       "      <th>4576</th>\n",
       "      <td>Diljit Dosanjh: Born To Shine (Official Music ...</td>\n",
       "      <td>10</td>\n",
       "      <td>dCmp56tSSmA</td>\n",
       "      <td>229701</td>\n",
       "      <td>2.636435</td>\n",
       "    </tr>\n",
       "    <tr>\n",
       "      <th>1700</th>\n",
       "      <td>PEED: Diljit Dosanjh (Official) Music Video</td>\n",
       "      <td>10</td>\n",
       "      <td>cXUndHRKmXQ</td>\n",
       "      <td>162861</td>\n",
       "      <td>2.636435</td>\n",
       "    </tr>\n",
       "    <tr>\n",
       "      <th>20332</th>\n",
       "      <td>Diljit Dosanjh: Whiskey lyrical Video Song</td>\n",
       "      <td>10</td>\n",
       "      <td>Hlgy6KvZGug</td>\n",
       "      <td>23572</td>\n",
       "      <td>2.636435</td>\n",
       "    </tr>\n",
       "    <tr>\n",
       "      <th>9746</th>\n",
       "      <td>Peed Diljit Dosanjh Lyrical Video Song</td>\n",
       "      <td>10</td>\n",
       "      <td>tq3BdjJZW84</td>\n",
       "      <td>20032</td>\n",
       "      <td>2.636435</td>\n",
       "    </tr>\n",
       "    <tr>\n",
       "      <th>10595</th>\n",
       "      <td>HABIT Lyric Video: Diljit Dosanjh</td>\n",
       "      <td>10</td>\n",
       "      <td>0Y72I0Sd_3k</td>\n",
       "      <td>18592</td>\n",
       "      <td>2.636435</td>\n",
       "    </tr>\n",
       "  </tbody>\n",
       "</table>\n",
       "</div>"
      ],
      "text/plain": [
       "                                                   title  categoryId  \\\n",
       "4576   Diljit Dosanjh: Born To Shine (Official Music ...          10   \n",
       "1700         PEED: Diljit Dosanjh (Official) Music Video          10   \n",
       "20332         Diljit Dosanjh: Whiskey lyrical Video Song          10   \n",
       "9746              Peed Diljit Dosanjh Lyrical Video Song          10   \n",
       "10595                  HABIT Lyric Video: Diljit Dosanjh          10   \n",
       "\n",
       "          video_id   likes       est  \n",
       "4576   dCmp56tSSmA  229701  2.636435  \n",
       "1700   cXUndHRKmXQ  162861  2.636435  \n",
       "20332  Hlgy6KvZGug   23572  2.636435  \n",
       "9746   tq3BdjJZW84   20032  2.636435  \n",
       "10595  0Y72I0Sd_3k   18592  2.636435  "
      ]
     },
     "execution_count": 96,
     "metadata": {},
     "output_type": "execute_result"
    }
   ],
   "source": [
    "hybrid(1,'Diljit Dosanjh: CLASH (Official) Music Video')"
   ]
  },
  {
   "cell_type": "code",
   "execution_count": 97,
   "id": "65ae683f",
   "metadata": {
    "id": "65ae683f"
   },
   "outputs": [
    {
     "data": {
      "text/html": [
       "<div>\n",
       "<style scoped>\n",
       "    .dataframe tbody tr th:only-of-type {\n",
       "        vertical-align: middle;\n",
       "    }\n",
       "\n",
       "    .dataframe tbody tr th {\n",
       "        vertical-align: top;\n",
       "    }\n",
       "\n",
       "    .dataframe thead th {\n",
       "        text-align: right;\n",
       "    }\n",
       "</style>\n",
       "<table border=\"1\" class=\"dataframe\">\n",
       "  <thead>\n",
       "    <tr style=\"text-align: right;\">\n",
       "      <th></th>\n",
       "      <th>title</th>\n",
       "      <th>likes</th>\n",
       "      <th>categoryId</th>\n",
       "      <th>video_id</th>\n",
       "      <th>thumbnail_link</th>\n",
       "      <th>Rating</th>\n",
       "    </tr>\n",
       "  </thead>\n",
       "  <tbody>\n",
       "    <tr>\n",
       "      <th>0</th>\n",
       "      <td>Sadak 2</td>\n",
       "      <td>224925</td>\n",
       "      <td>24</td>\n",
       "      <td>Iot0eF6EoNA</td>\n",
       "      <td>https://i.ytimg.com/vi/Iot0eF6EoNA/default.jpg</td>\n",
       "      <td>4</td>\n",
       "    </tr>\n",
       "    <tr>\n",
       "      <th>1</th>\n",
       "      <td>Kya Baat Aa : Karan Aujla (Official Video) Tania</td>\n",
       "      <td>655450</td>\n",
       "      <td>10</td>\n",
       "      <td>x-KbnJ9fvJc</td>\n",
       "      <td>https://i.ytimg.com/vi/x-KbnJ9fvJc/default.jpg</td>\n",
       "      <td>4</td>\n",
       "    </tr>\n",
       "    <tr>\n",
       "      <th>2</th>\n",
       "      <td>Diljit Dosanjh: CLASH (Official) Music Video</td>\n",
       "      <td>296533</td>\n",
       "      <td>10</td>\n",
       "      <td>KX06ksuS6Xo</td>\n",
       "      <td>https://i.ytimg.com/vi/KX06ksuS6Xo/default.jpg</td>\n",
       "      <td>4</td>\n",
       "    </tr>\n",
       "    <tr>\n",
       "      <th>3</th>\n",
       "      <td>Dil Ko Maine Di Kasam Video</td>\n",
       "      <td>743931</td>\n",
       "      <td>10</td>\n",
       "      <td>UsMRgnTcchY</td>\n",
       "      <td>https://i.ytimg.com/vi/UsMRgnTcchY/default.jpg</td>\n",
       "      <td>4</td>\n",
       "    </tr>\n",
       "    <tr>\n",
       "      <th>4</th>\n",
       "      <td>Baarish (Official Video) Payal Dev,Stebin Ben</td>\n",
       "      <td>268817</td>\n",
       "      <td>10</td>\n",
       "      <td>WNSEXJJhKTU</td>\n",
       "      <td>https://i.ytimg.com/vi/WNSEXJJhKTU/default.jpg</td>\n",
       "      <td>4</td>\n",
       "    </tr>\n",
       "  </tbody>\n",
       "</table>\n",
       "</div>"
      ],
      "text/plain": [
       "                                              title   likes  categoryId  \\\n",
       "0                                           Sadak 2  224925          24   \n",
       "1  Kya Baat Aa : Karan Aujla (Official Video) Tania  655450          10   \n",
       "2      Diljit Dosanjh: CLASH (Official) Music Video  296533          10   \n",
       "3                       Dil Ko Maine Di Kasam Video  743931          10   \n",
       "4     Baarish (Official Video) Payal Dev,Stebin Ben  268817          10   \n",
       "\n",
       "      video_id                                  thumbnail_link Rating  \n",
       "0  Iot0eF6EoNA  https://i.ytimg.com/vi/Iot0eF6EoNA/default.jpg      4  \n",
       "1  x-KbnJ9fvJc  https://i.ytimg.com/vi/x-KbnJ9fvJc/default.jpg      4  \n",
       "2  KX06ksuS6Xo  https://i.ytimg.com/vi/KX06ksuS6Xo/default.jpg      4  \n",
       "3  UsMRgnTcchY  https://i.ytimg.com/vi/UsMRgnTcchY/default.jpg      4  \n",
       "4  WNSEXJJhKTU  https://i.ytimg.com/vi/WNSEXJJhKTU/default.jpg      4  "
      ]
     },
     "execution_count": 97,
     "metadata": {},
     "output_type": "execute_result"
    }
   ],
   "source": [
    "smd.head()\n"
   ]
  },
  {
   "cell_type": "code",
   "execution_count": 98,
   "id": "ad506f62-12b5-4849-a3b2-5ce57d389d11",
   "metadata": {},
   "outputs": [],
   "source": [
    "#smd.to_csv('smd.csv')"
   ]
  },
  {
   "cell_type": "code",
   "execution_count": 99,
   "id": "6fa77af6-d8d0-4e01-89ce-8f40a489cc10",
   "metadata": {
    "id": "6fa77af6-d8d0-4e01-89ce-8f40a489cc10"
   },
   "outputs": [],
   "source": [
    "#pickle.dump(smd,open('smd.pkl','wb'))\n",
    "with open(\"smd.pkl\", \"wb\") as f: \n",
    "    joblib.dump(smd, f) "
   ]
  },
  {
   "cell_type": "code",
   "execution_count": 100,
   "id": "d2601fa2-f829-4b9e-8ad6-badf8f6030ef",
   "metadata": {},
   "outputs": [
    {
     "data": {
      "text/plain": [
       "'https://i.ytimg.com/vi/Iot0eF6EoNA/default.jpg'"
      ]
     },
     "execution_count": 100,
     "metadata": {},
     "output_type": "execute_result"
    }
   ],
   "source": [
    "smd['thumbnail_link'][0][:]"
   ]
  },
  {
   "cell_type": "code",
   "execution_count": 101,
   "id": "20d55659-1196-42ab-b53d-0ef58b14d8dc",
   "metadata": {},
   "outputs": [],
   "source": [
    "video_list=smd[['title','likes','thumbnail_link']]"
   ]
  },
  {
   "cell_type": "code",
   "execution_count": 102,
   "id": "f61d40c2-fc0a-49a2-996c-da888959a102",
   "metadata": {},
   "outputs": [],
   "source": [
    "with open(\"video_list.pkl\", \"wb\") as f: \n",
    "    joblib.dump(video_list, f) "
   ]
  },
  {
   "cell_type": "code",
   "execution_count": 103,
   "id": "dc0d4ce8-aac5-4379-82f9-1b6e3ae29569",
   "metadata": {},
   "outputs": [
    {
     "data": {
      "text/plain": [
       "104                    TSP's Rabish ki report Unlock 2.0\n",
       "105               BADSHAH – BKL (Official Lyrical Video)\n",
       "106                   அட இவ்வளவு நாள் இது தெரியாம போச்சே\n",
       "107                       GEOMETRIC SHAPE FOOD CHALLENGE\n",
       "108                       DIPIKA’ S BIRTHDAY CELEBRATION\n",
       "110    DNA: Russia August 12 को लॉन्च करेगा Corona Va...\n",
       "111                                          MASTER CHEF\n",
       "112                         We Made 4 Wheeler Quad-Cycle\n",
       "113    Yeh Rishta Kya Kehlata Hai: Meet Naira's daugh...\n",
       "114                      રણછોડ રંગીલા ( ગોવાળીયો ભાગ-૩ )\n",
       "115    IPL 2020 - Patanjali IPL As Sponsor With 10 Bi...\n",
       "116                                        Gaadi Parking\n",
       "117    CHICKEN UPPU Kari Prepared by Daddy Arumugam /...\n",
       "118                                           FilterCopy\n",
       "119        सबसे बड़ी कोका कोला World's Biggest Coca Cola\n",
       "120                       World's Most Expensive Country\n",
       "121                                        Manasu Mamata\n",
       "122          Asi Oh Hunne Aa (Official Video) Amrit Maan\n",
       "123                                               Pogaru\n",
       "125                                 Sapna Meets Kashmira\n",
       "126                                         Who is Binod\n",
       "127                    വിമാനയാത്രയെ  പേടിക്കേണ്ടതുണ്ടോ ?\n",
       "128                                         Kunwari Bohu\n",
       "130    जन्माष्टमी पर कान्हाजी के साथ ऐसे बिताये अपना दिन\n",
       "131                              Ishare Tere Karti Nigah\n",
       "132               Fakeer - Baba 5 (Full Song) Ajay Hooda\n",
       "133    கார்  விபத்துக்கு பிறகு முதல் சமையல்  வீடியோ உ...\n",
       "134                       GIVING WEIRD DISHES TO BROTHER\n",
       "135                                                 Maya\n",
       "136                2020 Kia Sonet - Kia's next big thing\n",
       "137                                     Mazhaiyum Iravum\n",
       "138                                        HE IS BINOD ?\n",
       "139    ಆರೋಗ್ಯಕರವಾದ ಅವಲಕ್ಕಿ ಕೇಸರಿಬಾತ್ ಒಮ್ಮೆ ಮಾಡಿದರೆ ಸಾ...\n",
       "140                                         Mouna Raagam\n",
       "141                Made in India Brands Kurti Suits Haul\n",
       "142                                    Chor Machaye Shor\n",
       "143                   Mumbiker Nikhil & Shanice Shrestha\n",
       "144      Thalapathy Vijay மகனை தாக்கி பேசிய Meera Mithun\n",
       "145                                    No hand Challenge\n",
       "146                                          Piche Piche\n",
       "147                               Ponnukku Thanga Manasu\n",
       "148    Ramaa Raavi - How to Worship Lord Krishna on K...\n",
       "149                                  MEMERS VS TIKTOKERS\n",
       "150    வீட்டில் எளிய முறையில் கிருஷ்ண ஜெயந்தி வழிபாடு...\n",
       "151    Khatron ke khilaadi made  in India  Jasmin bas...\n",
       "153                         सूजी का चटपटा और आसान नाश्ता\n",
       "154    Sushant Suicide Case: रिया चक्रवर्ती से ED ने ...\n",
       "155                          Kalyana Veedu - Episode 609\n",
       "156                        Desi Mom & Beauty - Episode 1\n",
       "157                              BOLLYWOOD KA PANCHANAMA\n",
       "Name: title, dtype: object"
      ]
     },
     "execution_count": 103,
     "metadata": {},
     "output_type": "execute_result"
    }
   ],
   "source": [
    "video_list['title'][100:150]"
   ]
  },
  {
   "cell_type": "code",
   "execution_count": null,
   "id": "2a223bf1-6cd2-4918-8fe2-3fdd405b7371",
   "metadata": {},
   "outputs": [],
   "source": []
  }
 ],
 "metadata": {
  "colab": {
   "provenance": []
  },
  "kernelspec": {
   "display_name": "Python 3 (ipykernel)",
   "language": "python",
   "name": "python3"
  },
  "language_info": {
   "codemirror_mode": {
    "name": "ipython",
    "version": 3
   },
   "file_extension": ".py",
   "mimetype": "text/x-python",
   "name": "python",
   "nbconvert_exporter": "python",
   "pygments_lexer": "ipython3",
   "version": "3.9.13"
  }
 },
 "nbformat": 4,
 "nbformat_minor": 5
}
