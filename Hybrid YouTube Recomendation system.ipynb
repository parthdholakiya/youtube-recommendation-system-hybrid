{
 "cells": [
  {
   "cell_type": "markdown",
   "id": "07c930ce-54f7-427e-a849-a66534694085",
   "metadata": {
    "id": "07c930ce-54f7-427e-a849-a66534694085"
   },
   "source": [
    "## YouTube Recomendation system"
   ]
  },
  {
   "cell_type": "markdown",
   "id": "274b0124-fb37-4c1e-9fc2-aa340cc1d2fe",
   "metadata": {
    "id": "274b0124-fb37-4c1e-9fc2-aa340cc1d2fe"
   },
   "source": [
    "### Content-based filtering:\n",
    "### is a recommendation system that makes recommendations to users based on their past interactions with content. The idea behind content-based filtering is to recommend content that is similar to what the user has already shown an interest in."
   ]
  },
  {
   "cell_type": "code",
   "execution_count": 1,
   "id": "2f58c52c-0450-476f-b5f6-8892b41c6574",
   "metadata": {},
   "outputs": [],
   "source": [
    "#pip install --upgrade pandas==1.3.4"
   ]
  },
  {
   "cell_type": "code",
   "execution_count": 2,
   "id": "3513dbb0-0c7f-424f-aa9a-b9073881ab1d",
   "metadata": {},
   "outputs": [],
   "source": [
    "import joblib\n",
    "import pickle"
   ]
  },
  {
   "cell_type": "code",
   "execution_count": 3,
   "id": "338aeef5-c9a0-4e30-920f-bfd81daa84a3",
   "metadata": {},
   "outputs": [],
   "source": [
    "import pandas as pd\n",
    "import numpy as np\n",
    "import matplotlib.pyplot as plt\n",
    "import seaborn as sns\n",
    "from scipy import stats\n",
    "from ast import literal_eval\n",
    "from sklearn.feature_extraction.text import TfidfVectorizer, CountVectorizer\n",
    "from sklearn.metrics.pairwise import linear_kernel, cosine_similarity\n",
    "from nltk.stem.snowball import SnowballStemmer\n",
    "from nltk.stem.wordnet import WordNetLemmatizer\n",
    "from nltk.corpus import wordnet\n",
    "from nltk.corpus import stopwords\n",
    "import re\n",
    "import nltk\n",
    "from surprise import Reader, Dataset, SVD, SVDpp, model_selection, NormalPredictor, KNNBasic, KNNWithMeans, KNNWithZScore, KNNBaseline, BaselineOnly, NMF, SlopeOne, CoClustering, accuracy\n",
    "from surprise.accuracy import rmse\n",
    "from surprise.model_selection import cross_validate, train_test_split\n",
    "\n",
    "# Set up inline plotting\n",
    "%matplotlib inline\n",
    "\n",
    "# Silence warnings\n",
    "import warnings\n",
    "warnings.simplefilter('ignore')\n",
    "\n",
    "# Uncomment if needed:\n",
    "# nltk.download('stopwords')"
   ]
  },
  {
   "cell_type": "code",
   "execution_count": 4,
   "id": "b8e0a1bf-9606-4063-a81a-edcb089238ea",
   "metadata": {},
   "outputs": [
    {
     "data": {
      "text/plain": [
       "'1.3.4'"
      ]
     },
     "execution_count": 4,
     "metadata": {},
     "output_type": "execute_result"
    }
   ],
   "source": [
    "pd.__version__"
   ]
  },
  {
   "cell_type": "code",
   "execution_count": 5,
   "id": "ed5d62ab-c3bf-4827-8a34-613e33c65771",
   "metadata": {
    "id": "ed5d62ab-c3bf-4827-8a34-613e33c65771"
   },
   "outputs": [],
   "source": [
    "youtube= pd.read_csv(\"IN_youtube_trending_data.csv\")"
   ]
  },
  {
   "cell_type": "code",
   "execution_count": 6,
   "id": "65892c2c-6bd2-468a-b60b-0bb4454cfc52",
   "metadata": {
    "id": "65892c2c-6bd2-468a-b60b-0bb4454cfc52"
   },
   "outputs": [],
   "source": [
    "youtube=youtube[:30000]"
   ]
  },
  {
   "cell_type": "code",
   "execution_count": 7,
   "id": "e65399af-692a-4ba5-b326-9269ba3e9703",
   "metadata": {
    "id": "e65399af-692a-4ba5-b326-9269ba3e9703",
    "outputId": "3d4664f4-b5f5-4b84-f2a6-329712770b4d"
   },
   "outputs": [
    {
     "data": {
      "text/html": [
       "<div>\n",
       "<style scoped>\n",
       "    .dataframe tbody tr th:only-of-type {\n",
       "        vertical-align: middle;\n",
       "    }\n",
       "\n",
       "    .dataframe tbody tr th {\n",
       "        vertical-align: top;\n",
       "    }\n",
       "\n",
       "    .dataframe thead th {\n",
       "        text-align: right;\n",
       "    }\n",
       "</style>\n",
       "<table border=\"1\" class=\"dataframe\">\n",
       "  <thead>\n",
       "    <tr style=\"text-align: right;\">\n",
       "      <th></th>\n",
       "      <th>video_id</th>\n",
       "      <th>title</th>\n",
       "      <th>publishedAt</th>\n",
       "      <th>channelId</th>\n",
       "      <th>channelTitle</th>\n",
       "      <th>categoryId</th>\n",
       "      <th>trending_date</th>\n",
       "      <th>tags</th>\n",
       "      <th>view_count</th>\n",
       "      <th>likes</th>\n",
       "      <th>dislikes</th>\n",
       "      <th>comment_count</th>\n",
       "      <th>thumbnail_link</th>\n",
       "      <th>comments_disabled</th>\n",
       "      <th>ratings_disabled</th>\n",
       "      <th>description</th>\n",
       "    </tr>\n",
       "  </thead>\n",
       "  <tbody>\n",
       "    <tr>\n",
       "      <th>0</th>\n",
       "      <td>Iot0eF6EoNA</td>\n",
       "      <td>Sadak 2 | Official Trailer | Sanjay | Pooja | ...</td>\n",
       "      <td>2020-08-12T04:31:41Z</td>\n",
       "      <td>UCGqvJPRcv7aVFun-eTsatcA</td>\n",
       "      <td>FoxStarHindi</td>\n",
       "      <td>24</td>\n",
       "      <td>2020-08-12T00:00:00Z</td>\n",
       "      <td>sadak|sadak 2|mahesh bhatt|vishesh films|pooja...</td>\n",
       "      <td>9885899</td>\n",
       "      <td>224925</td>\n",
       "      <td>3979409</td>\n",
       "      <td>350210</td>\n",
       "      <td>https://i.ytimg.com/vi/Iot0eF6EoNA/default.jpg</td>\n",
       "      <td>False</td>\n",
       "      <td>False</td>\n",
       "      <td>Three Streams. Three Stories. One Journey. Sta...</td>\n",
       "    </tr>\n",
       "    <tr>\n",
       "      <th>1</th>\n",
       "      <td>x-KbnJ9fvJc</td>\n",
       "      <td>Kya Baat Aa : Karan Aujla (Official Video) Tan...</td>\n",
       "      <td>2020-08-11T09:00:11Z</td>\n",
       "      <td>UCm9SZAl03Rev9sFwloCdz1g</td>\n",
       "      <td>Rehaan Records</td>\n",
       "      <td>10</td>\n",
       "      <td>2020-08-12T00:00:00Z</td>\n",
       "      <td>[None]</td>\n",
       "      <td>11308046</td>\n",
       "      <td>655450</td>\n",
       "      <td>33242</td>\n",
       "      <td>405146</td>\n",
       "      <td>https://i.ytimg.com/vi/x-KbnJ9fvJc/default.jpg</td>\n",
       "      <td>False</td>\n",
       "      <td>False</td>\n",
       "      <td>Singer/Lyrics: Karan Aujla Feat Tania Music/ D...</td>\n",
       "    </tr>\n",
       "  </tbody>\n",
       "</table>\n",
       "</div>"
      ],
      "text/plain": [
       "      video_id                                              title  \\\n",
       "0  Iot0eF6EoNA  Sadak 2 | Official Trailer | Sanjay | Pooja | ...   \n",
       "1  x-KbnJ9fvJc  Kya Baat Aa : Karan Aujla (Official Video) Tan...   \n",
       "\n",
       "            publishedAt                 channelId    channelTitle  categoryId  \\\n",
       "0  2020-08-12T04:31:41Z  UCGqvJPRcv7aVFun-eTsatcA    FoxStarHindi          24   \n",
       "1  2020-08-11T09:00:11Z  UCm9SZAl03Rev9sFwloCdz1g  Rehaan Records          10   \n",
       "\n",
       "          trending_date                                               tags  \\\n",
       "0  2020-08-12T00:00:00Z  sadak|sadak 2|mahesh bhatt|vishesh films|pooja...   \n",
       "1  2020-08-12T00:00:00Z                                             [None]   \n",
       "\n",
       "   view_count   likes  dislikes  comment_count  \\\n",
       "0     9885899  224925   3979409         350210   \n",
       "1    11308046  655450     33242         405146   \n",
       "\n",
       "                                   thumbnail_link  comments_disabled  \\\n",
       "0  https://i.ytimg.com/vi/Iot0eF6EoNA/default.jpg              False   \n",
       "1  https://i.ytimg.com/vi/x-KbnJ9fvJc/default.jpg              False   \n",
       "\n",
       "   ratings_disabled                                        description  \n",
       "0             False  Three Streams. Three Stories. One Journey. Sta...  \n",
       "1             False  Singer/Lyrics: Karan Aujla Feat Tania Music/ D...  "
      ]
     },
     "execution_count": 7,
     "metadata": {},
     "output_type": "execute_result"
    }
   ],
   "source": [
    "youtube.head(2)"
   ]
  },
  {
   "cell_type": "code",
   "execution_count": 8,
   "id": "3ef47d5e-a6ae-497a-a3df-c3f7da45f602",
   "metadata": {},
   "outputs": [],
   "source": [
    "quartiles = youtube['likes'].quantile([0, 0.2, 0.4, 0.6, 0.8, 1.0])"
   ]
  },
  {
   "cell_type": "code",
   "execution_count": 9,
   "id": "f6643609-1b7a-4aee-b9da-a4aaac951ba8",
   "metadata": {},
   "outputs": [],
   "source": [
    "# Create a new column for ratings based on the quartiles\n",
    "youtube['Rating'] = pd.cut(youtube['likes'], bins=quartiles, labels=[0,1,2,3,4])"
   ]
  },
  {
   "cell_type": "code",
   "execution_count": 10,
   "id": "18fa5b63-ab9d-41c6-89e1-c6030f45ef9d",
   "metadata": {},
   "outputs": [
    {
     "data": {
      "text/html": [
       "<div>\n",
       "<style scoped>\n",
       "    .dataframe tbody tr th:only-of-type {\n",
       "        vertical-align: middle;\n",
       "    }\n",
       "\n",
       "    .dataframe tbody tr th {\n",
       "        vertical-align: top;\n",
       "    }\n",
       "\n",
       "    .dataframe thead th {\n",
       "        text-align: right;\n",
       "    }\n",
       "</style>\n",
       "<table border=\"1\" class=\"dataframe\">\n",
       "  <thead>\n",
       "    <tr style=\"text-align: right;\">\n",
       "      <th></th>\n",
       "      <th>video_id</th>\n",
       "      <th>title</th>\n",
       "      <th>publishedAt</th>\n",
       "      <th>channelId</th>\n",
       "      <th>channelTitle</th>\n",
       "      <th>categoryId</th>\n",
       "      <th>trending_date</th>\n",
       "      <th>tags</th>\n",
       "      <th>view_count</th>\n",
       "      <th>likes</th>\n",
       "      <th>dislikes</th>\n",
       "      <th>comment_count</th>\n",
       "      <th>thumbnail_link</th>\n",
       "      <th>comments_disabled</th>\n",
       "      <th>ratings_disabled</th>\n",
       "      <th>description</th>\n",
       "      <th>Rating</th>\n",
       "    </tr>\n",
       "  </thead>\n",
       "  <tbody>\n",
       "    <tr>\n",
       "      <th>0</th>\n",
       "      <td>Iot0eF6EoNA</td>\n",
       "      <td>Sadak 2 | Official Trailer | Sanjay | Pooja | ...</td>\n",
       "      <td>2020-08-12T04:31:41Z</td>\n",
       "      <td>UCGqvJPRcv7aVFun-eTsatcA</td>\n",
       "      <td>FoxStarHindi</td>\n",
       "      <td>24</td>\n",
       "      <td>2020-08-12T00:00:00Z</td>\n",
       "      <td>sadak|sadak 2|mahesh bhatt|vishesh films|pooja...</td>\n",
       "      <td>9885899</td>\n",
       "      <td>224925</td>\n",
       "      <td>3979409</td>\n",
       "      <td>350210</td>\n",
       "      <td>https://i.ytimg.com/vi/Iot0eF6EoNA/default.jpg</td>\n",
       "      <td>False</td>\n",
       "      <td>False</td>\n",
       "      <td>Three Streams. Three Stories. One Journey. Sta...</td>\n",
       "      <td>4</td>\n",
       "    </tr>\n",
       "    <tr>\n",
       "      <th>1</th>\n",
       "      <td>x-KbnJ9fvJc</td>\n",
       "      <td>Kya Baat Aa : Karan Aujla (Official Video) Tan...</td>\n",
       "      <td>2020-08-11T09:00:11Z</td>\n",
       "      <td>UCm9SZAl03Rev9sFwloCdz1g</td>\n",
       "      <td>Rehaan Records</td>\n",
       "      <td>10</td>\n",
       "      <td>2020-08-12T00:00:00Z</td>\n",
       "      <td>[None]</td>\n",
       "      <td>11308046</td>\n",
       "      <td>655450</td>\n",
       "      <td>33242</td>\n",
       "      <td>405146</td>\n",
       "      <td>https://i.ytimg.com/vi/x-KbnJ9fvJc/default.jpg</td>\n",
       "      <td>False</td>\n",
       "      <td>False</td>\n",
       "      <td>Singer/Lyrics: Karan Aujla Feat Tania Music/ D...</td>\n",
       "      <td>4</td>\n",
       "    </tr>\n",
       "    <tr>\n",
       "      <th>2</th>\n",
       "      <td>KX06ksuS6Xo</td>\n",
       "      <td>Diljit Dosanjh: CLASH (Official) Music Video |...</td>\n",
       "      <td>2020-08-11T07:30:02Z</td>\n",
       "      <td>UCZRdNleCgW-BGUJf-bbjzQg</td>\n",
       "      <td>Diljit Dosanjh</td>\n",
       "      <td>10</td>\n",
       "      <td>2020-08-12T00:00:00Z</td>\n",
       "      <td>clash diljit dosanjh|diljit dosanjh|diljit dos...</td>\n",
       "      <td>9140911</td>\n",
       "      <td>296533</td>\n",
       "      <td>6179</td>\n",
       "      <td>30058</td>\n",
       "      <td>https://i.ytimg.com/vi/KX06ksuS6Xo/default.jpg</td>\n",
       "      <td>False</td>\n",
       "      <td>False</td>\n",
       "      <td>CLASH official music video performed by DILJIT...</td>\n",
       "      <td>4</td>\n",
       "    </tr>\n",
       "    <tr>\n",
       "      <th>3</th>\n",
       "      <td>UsMRgnTcchY</td>\n",
       "      <td>Dil Ko Maine Di Kasam Video | Amaal M Ft.Ariji...</td>\n",
       "      <td>2020-08-10T05:30:49Z</td>\n",
       "      <td>UCq-Fj5jknLsUf-MWSy4_brA</td>\n",
       "      <td>T-Series</td>\n",
       "      <td>10</td>\n",
       "      <td>2020-08-12T00:00:00Z</td>\n",
       "      <td>hindi songs|2020 hindi songs|2020 new songs|t-...</td>\n",
       "      <td>23564512</td>\n",
       "      <td>743931</td>\n",
       "      <td>84162</td>\n",
       "      <td>136942</td>\n",
       "      <td>https://i.ytimg.com/vi/UsMRgnTcchY/default.jpg</td>\n",
       "      <td>False</td>\n",
       "      <td>False</td>\n",
       "      <td>Gulshan Kumar and T-Series presents Bhushan Ku...</td>\n",
       "      <td>4</td>\n",
       "    </tr>\n",
       "    <tr>\n",
       "      <th>4</th>\n",
       "      <td>WNSEXJJhKTU</td>\n",
       "      <td>Baarish (Official Video) Payal Dev,Stebin Ben ...</td>\n",
       "      <td>2020-08-11T05:30:13Z</td>\n",
       "      <td>UCye6Oz0mg46S362LwARGVcA</td>\n",
       "      <td>VYRLOriginals</td>\n",
       "      <td>10</td>\n",
       "      <td>2020-08-12T00:00:00Z</td>\n",
       "      <td>VYRL Original|Mohsin Khan|Shivangi Joshi|Payal...</td>\n",
       "      <td>6783649</td>\n",
       "      <td>268817</td>\n",
       "      <td>8798</td>\n",
       "      <td>22984</td>\n",
       "      <td>https://i.ytimg.com/vi/WNSEXJJhKTU/default.jpg</td>\n",
       "      <td>False</td>\n",
       "      <td>False</td>\n",
       "      <td>VYRL Originals brings to you ‘Baarish’ - the b...</td>\n",
       "      <td>4</td>\n",
       "    </tr>\n",
       "  </tbody>\n",
       "</table>\n",
       "</div>"
      ],
      "text/plain": [
       "      video_id                                              title  \\\n",
       "0  Iot0eF6EoNA  Sadak 2 | Official Trailer | Sanjay | Pooja | ...   \n",
       "1  x-KbnJ9fvJc  Kya Baat Aa : Karan Aujla (Official Video) Tan...   \n",
       "2  KX06ksuS6Xo  Diljit Dosanjh: CLASH (Official) Music Video |...   \n",
       "3  UsMRgnTcchY  Dil Ko Maine Di Kasam Video | Amaal M Ft.Ariji...   \n",
       "4  WNSEXJJhKTU  Baarish (Official Video) Payal Dev,Stebin Ben ...   \n",
       "\n",
       "            publishedAt                 channelId    channelTitle  categoryId  \\\n",
       "0  2020-08-12T04:31:41Z  UCGqvJPRcv7aVFun-eTsatcA    FoxStarHindi          24   \n",
       "1  2020-08-11T09:00:11Z  UCm9SZAl03Rev9sFwloCdz1g  Rehaan Records          10   \n",
       "2  2020-08-11T07:30:02Z  UCZRdNleCgW-BGUJf-bbjzQg  Diljit Dosanjh          10   \n",
       "3  2020-08-10T05:30:49Z  UCq-Fj5jknLsUf-MWSy4_brA        T-Series          10   \n",
       "4  2020-08-11T05:30:13Z  UCye6Oz0mg46S362LwARGVcA   VYRLOriginals          10   \n",
       "\n",
       "          trending_date                                               tags  \\\n",
       "0  2020-08-12T00:00:00Z  sadak|sadak 2|mahesh bhatt|vishesh films|pooja...   \n",
       "1  2020-08-12T00:00:00Z                                             [None]   \n",
       "2  2020-08-12T00:00:00Z  clash diljit dosanjh|diljit dosanjh|diljit dos...   \n",
       "3  2020-08-12T00:00:00Z  hindi songs|2020 hindi songs|2020 new songs|t-...   \n",
       "4  2020-08-12T00:00:00Z  VYRL Original|Mohsin Khan|Shivangi Joshi|Payal...   \n",
       "\n",
       "   view_count   likes  dislikes  comment_count  \\\n",
       "0     9885899  224925   3979409         350210   \n",
       "1    11308046  655450     33242         405146   \n",
       "2     9140911  296533      6179          30058   \n",
       "3    23564512  743931     84162         136942   \n",
       "4     6783649  268817      8798          22984   \n",
       "\n",
       "                                   thumbnail_link  comments_disabled  \\\n",
       "0  https://i.ytimg.com/vi/Iot0eF6EoNA/default.jpg              False   \n",
       "1  https://i.ytimg.com/vi/x-KbnJ9fvJc/default.jpg              False   \n",
       "2  https://i.ytimg.com/vi/KX06ksuS6Xo/default.jpg              False   \n",
       "3  https://i.ytimg.com/vi/UsMRgnTcchY/default.jpg              False   \n",
       "4  https://i.ytimg.com/vi/WNSEXJJhKTU/default.jpg              False   \n",
       "\n",
       "   ratings_disabled                                        description Rating  \n",
       "0             False  Three Streams. Three Stories. One Journey. Sta...      4  \n",
       "1             False  Singer/Lyrics: Karan Aujla Feat Tania Music/ D...      4  \n",
       "2             False  CLASH official music video performed by DILJIT...      4  \n",
       "3             False  Gulshan Kumar and T-Series presents Bhushan Ku...      4  \n",
       "4             False  VYRL Originals brings to you ‘Baarish’ - the b...      4  "
      ]
     },
     "execution_count": 10,
     "metadata": {},
     "output_type": "execute_result"
    }
   ],
   "source": [
    "youtube.head(5)"
   ]
  },
  {
   "cell_type": "code",
   "execution_count": 11,
   "id": "6815c887-a54b-4a5a-87eb-2105e3d6cd27",
   "metadata": {},
   "outputs": [
    {
     "data": {
      "text/plain": [
       "[4, 2, 1, 3, 0, NaN]\n",
       "Categories (5, int64): [0 < 1 < 2 < 3 < 4]"
      ]
     },
     "execution_count": 11,
     "metadata": {},
     "output_type": "execute_result"
    }
   ],
   "source": [
    "youtube['Rating'].unique()"
   ]
  },
  {
   "cell_type": "code",
   "execution_count": 12,
   "id": "3401315e-c6fb-435d-bc56-c6661da73ddc",
   "metadata": {},
   "outputs": [],
   "source": [
    "youtube.dropna(inplace=True)"
   ]
  },
  {
   "cell_type": "code",
   "execution_count": 13,
   "id": "2d7063f8-7ac7-4575-9833-58b94eb0c161",
   "metadata": {},
   "outputs": [],
   "source": [
    "# Get the number of rows in the youtube DataFrame\n",
    "num_rows = len(youtube)\n",
    "\n",
    "# Create a list of values for the new column\n",
    "values = list(range(1, num_rows + 1))\n",
    "\n",
    "# Assign the new column to 'userID' in the youtube DataFrame\n",
    "youtube['userID'] = values"
   ]
  },
  {
   "cell_type": "code",
   "execution_count": 14,
   "id": "de48ffc2-caf6-46e2-8f5c-380ff845a6f6",
   "metadata": {
    "id": "de48ffc2-caf6-46e2-8f5c-380ff845a6f6",
    "outputId": "f0d816f6-702d-4c37-d845-ee79e884c3f5"
   },
   "outputs": [
    {
     "data": {
      "text/plain": [
       "(29400, 18)"
      ]
     },
     "execution_count": 14,
     "metadata": {},
     "output_type": "execute_result"
    }
   ],
   "source": [
    "youtube.shape"
   ]
  },
  {
   "cell_type": "code",
   "execution_count": 15,
   "id": "deb3654f-3330-47cc-9a72-06066a5619c4",
   "metadata": {
    "id": "deb3654f-3330-47cc-9a72-06066a5619c4",
    "outputId": "08a4d49a-75ab-4d2f-a565-656d025d8ccc"
   },
   "outputs": [
    {
     "data": {
      "text/plain": [
       "Index(['video_id', 'title', 'publishedAt', 'channelId', 'channelTitle',\n",
       "       'categoryId', 'trending_date', 'tags', 'view_count', 'likes',\n",
       "       'dislikes', 'comment_count', 'thumbnail_link', 'comments_disabled',\n",
       "       'ratings_disabled', 'description', 'Rating', 'userID'],\n",
       "      dtype='object')"
      ]
     },
     "execution_count": 15,
     "metadata": {},
     "output_type": "execute_result"
    }
   ],
   "source": [
    "youtube.columns"
   ]
  },
  {
   "cell_type": "code",
   "execution_count": 16,
   "id": "93d0b1c6-88a9-4d66-91eb-a83541e9a1d3",
   "metadata": {
    "id": "93d0b1c6-88a9-4d66-91eb-a83541e9a1d3",
    "outputId": "b26691cc-b257-48bb-87b4-9c4329ed0323"
   },
   "outputs": [
    {
     "name": "stdout",
     "output_type": "stream",
     "text": [
      "<class 'pandas.core.frame.DataFrame'>\n",
      "Int64Index: 29400 entries, 0 to 29999\n",
      "Data columns (total 18 columns):\n",
      " #   Column             Non-Null Count  Dtype   \n",
      "---  ------             --------------  -----   \n",
      " 0   video_id           29400 non-null  object  \n",
      " 1   title              29400 non-null  object  \n",
      " 2   publishedAt        29400 non-null  object  \n",
      " 3   channelId          29400 non-null  object  \n",
      " 4   channelTitle       29400 non-null  object  \n",
      " 5   categoryId         29400 non-null  int64   \n",
      " 6   trending_date      29400 non-null  object  \n",
      " 7   tags               29400 non-null  object  \n",
      " 8   view_count         29400 non-null  int64   \n",
      " 9   likes              29400 non-null  int64   \n",
      " 10  dislikes           29400 non-null  int64   \n",
      " 11  comment_count      29400 non-null  int64   \n",
      " 12  thumbnail_link     29400 non-null  object  \n",
      " 13  comments_disabled  29400 non-null  bool    \n",
      " 14  ratings_disabled   29400 non-null  bool    \n",
      " 15  description        29400 non-null  object  \n",
      " 16  Rating             29400 non-null  category\n",
      " 17  userID             29400 non-null  int64   \n",
      "dtypes: bool(2), category(1), int64(6), object(9)\n",
      "memory usage: 3.7+ MB\n"
     ]
    }
   ],
   "source": [
    "youtube.info()"
   ]
  },
  {
   "cell_type": "code",
   "execution_count": null,
   "id": "79a56717-b8c7-41cb-82b8-7e57ec77badc",
   "metadata": {
    "id": "79a56717-b8c7-41cb-82b8-7e57ec77badc"
   },
   "outputs": [],
   "source": []
  },
  {
   "cell_type": "code",
   "execution_count": 17,
   "id": "542b49fd-b615-4bae-8fc6-ae19520bed0a",
   "metadata": {
    "id": "542b49fd-b615-4bae-8fc6-ae19520bed0a"
   },
   "outputs": [],
   "source": [
    "YouTube_df = youtube[['userID','video_id','title','channelTitle','categoryId','tags','likes','description','channelId','thumbnail_link','Rating']]"
   ]
  },
  {
   "cell_type": "code",
   "execution_count": 18,
   "id": "f8659080-9cc1-4d74-9f6f-16019fc34951",
   "metadata": {
    "id": "f8659080-9cc1-4d74-9f6f-16019fc34951",
    "outputId": "0710d485-c1c5-4a91-8835-b75849260170"
   },
   "outputs": [
    {
     "data": {
      "text/html": [
       "<div>\n",
       "<style scoped>\n",
       "    .dataframe tbody tr th:only-of-type {\n",
       "        vertical-align: middle;\n",
       "    }\n",
       "\n",
       "    .dataframe tbody tr th {\n",
       "        vertical-align: top;\n",
       "    }\n",
       "\n",
       "    .dataframe thead th {\n",
       "        text-align: right;\n",
       "    }\n",
       "</style>\n",
       "<table border=\"1\" class=\"dataframe\">\n",
       "  <thead>\n",
       "    <tr style=\"text-align: right;\">\n",
       "      <th></th>\n",
       "      <th>userID</th>\n",
       "      <th>video_id</th>\n",
       "      <th>title</th>\n",
       "      <th>channelTitle</th>\n",
       "      <th>categoryId</th>\n",
       "      <th>tags</th>\n",
       "      <th>likes</th>\n",
       "      <th>description</th>\n",
       "      <th>channelId</th>\n",
       "      <th>thumbnail_link</th>\n",
       "      <th>Rating</th>\n",
       "    </tr>\n",
       "  </thead>\n",
       "  <tbody>\n",
       "    <tr>\n",
       "      <th>0</th>\n",
       "      <td>1</td>\n",
       "      <td>Iot0eF6EoNA</td>\n",
       "      <td>Sadak 2 | Official Trailer | Sanjay | Pooja | ...</td>\n",
       "      <td>FoxStarHindi</td>\n",
       "      <td>24</td>\n",
       "      <td>sadak|sadak 2|mahesh bhatt|vishesh films|pooja...</td>\n",
       "      <td>224925</td>\n",
       "      <td>Three Streams. Three Stories. One Journey. Sta...</td>\n",
       "      <td>UCGqvJPRcv7aVFun-eTsatcA</td>\n",
       "      <td>https://i.ytimg.com/vi/Iot0eF6EoNA/default.jpg</td>\n",
       "      <td>4</td>\n",
       "    </tr>\n",
       "    <tr>\n",
       "      <th>1</th>\n",
       "      <td>2</td>\n",
       "      <td>x-KbnJ9fvJc</td>\n",
       "      <td>Kya Baat Aa : Karan Aujla (Official Video) Tan...</td>\n",
       "      <td>Rehaan Records</td>\n",
       "      <td>10</td>\n",
       "      <td>[None]</td>\n",
       "      <td>655450</td>\n",
       "      <td>Singer/Lyrics: Karan Aujla Feat Tania Music/ D...</td>\n",
       "      <td>UCm9SZAl03Rev9sFwloCdz1g</td>\n",
       "      <td>https://i.ytimg.com/vi/x-KbnJ9fvJc/default.jpg</td>\n",
       "      <td>4</td>\n",
       "    </tr>\n",
       "  </tbody>\n",
       "</table>\n",
       "</div>"
      ],
      "text/plain": [
       "   userID     video_id                                              title  \\\n",
       "0       1  Iot0eF6EoNA  Sadak 2 | Official Trailer | Sanjay | Pooja | ...   \n",
       "1       2  x-KbnJ9fvJc  Kya Baat Aa : Karan Aujla (Official Video) Tan...   \n",
       "\n",
       "     channelTitle  categoryId  \\\n",
       "0    FoxStarHindi          24   \n",
       "1  Rehaan Records          10   \n",
       "\n",
       "                                                tags   likes  \\\n",
       "0  sadak|sadak 2|mahesh bhatt|vishesh films|pooja...  224925   \n",
       "1                                             [None]  655450   \n",
       "\n",
       "                                         description  \\\n",
       "0  Three Streams. Three Stories. One Journey. Sta...   \n",
       "1  Singer/Lyrics: Karan Aujla Feat Tania Music/ D...   \n",
       "\n",
       "                  channelId                                  thumbnail_link  \\\n",
       "0  UCGqvJPRcv7aVFun-eTsatcA  https://i.ytimg.com/vi/Iot0eF6EoNA/default.jpg   \n",
       "1  UCm9SZAl03Rev9sFwloCdz1g  https://i.ytimg.com/vi/x-KbnJ9fvJc/default.jpg   \n",
       "\n",
       "  Rating  \n",
       "0      4  \n",
       "1      4  "
      ]
     },
     "execution_count": 18,
     "metadata": {},
     "output_type": "execute_result"
    }
   ],
   "source": [
    "YouTube_df.head(2)"
   ]
  },
  {
   "cell_type": "code",
   "execution_count": 19,
   "id": "49be1e8d-5571-489f-941b-f634a6099f88",
   "metadata": {
    "id": "49be1e8d-5571-489f-941b-f634a6099f88",
    "outputId": "39d85c56-959f-4ddb-d3d4-8a18eba677a9"
   },
   "outputs": [
    {
     "data": {
      "text/plain": [
       "0        Sadak 2 | Official Trailer | Sanjay | Pooja | ...\n",
       "1        Kya Baat Aa : Karan Aujla (Official Video) Tan...\n",
       "2        Diljit Dosanjh: CLASH (Official) Music Video |...\n",
       "3        Dil Ko Maine Di Kasam Video | Amaal M Ft.Ariji...\n",
       "4        Baarish (Official Video) Payal Dev,Stebin Ben ...\n",
       "                               ...                        \n",
       "29995    India celebrate a win for the ages at the Gabb...\n",
       "29996    Jethalal Ke Haath Ki Chai | Taarak Mehta Ka Oo...\n",
       "29997    Bruised, abused but conquered! India stun Aust...\n",
       "29998    Kumkum Bhagya | Premiere Episode 1751 Preview ...\n",
       "29999    SISTERS Season 2 | Episode 5 | Girl Formula | ...\n",
       "Name: title, Length: 29400, dtype: object"
      ]
     },
     "execution_count": 19,
     "metadata": {},
     "output_type": "execute_result"
    }
   ],
   "source": [
    "YouTube_df.title"
   ]
  },
  {
   "cell_type": "code",
   "execution_count": 20,
   "id": "d4e2d883-d60a-49d1-a55a-74e98228995d",
   "metadata": {
    "id": "d4e2d883-d60a-49d1-a55a-74e98228995d"
   },
   "outputs": [],
   "source": [
    "YouTube_df[\"title\"] = YouTube_df[\"title\"].str.split('|').str[0].str.strip()"
   ]
  },
  {
   "cell_type": "code",
   "execution_count": 21,
   "id": "6caecdc3-6546-4f09-9616-527a005c079b",
   "metadata": {
    "id": "6caecdc3-6546-4f09-9616-527a005c079b",
    "outputId": "c0c8ac55-b9e4-44b2-9bcf-cc82eed02153"
   },
   "outputs": [
    {
     "data": {
      "text/html": [
       "<div>\n",
       "<style scoped>\n",
       "    .dataframe tbody tr th:only-of-type {\n",
       "        vertical-align: middle;\n",
       "    }\n",
       "\n",
       "    .dataframe tbody tr th {\n",
       "        vertical-align: top;\n",
       "    }\n",
       "\n",
       "    .dataframe thead th {\n",
       "        text-align: right;\n",
       "    }\n",
       "</style>\n",
       "<table border=\"1\" class=\"dataframe\">\n",
       "  <thead>\n",
       "    <tr style=\"text-align: right;\">\n",
       "      <th></th>\n",
       "      <th>userID</th>\n",
       "      <th>video_id</th>\n",
       "      <th>title</th>\n",
       "      <th>channelTitle</th>\n",
       "      <th>categoryId</th>\n",
       "      <th>tags</th>\n",
       "      <th>likes</th>\n",
       "      <th>description</th>\n",
       "      <th>channelId</th>\n",
       "      <th>thumbnail_link</th>\n",
       "      <th>Rating</th>\n",
       "    </tr>\n",
       "  </thead>\n",
       "  <tbody>\n",
       "    <tr>\n",
       "      <th>0</th>\n",
       "      <td>1</td>\n",
       "      <td>Iot0eF6EoNA</td>\n",
       "      <td>Sadak 2</td>\n",
       "      <td>FoxStarHindi</td>\n",
       "      <td>24</td>\n",
       "      <td>sadak|sadak 2|mahesh bhatt|vishesh films|pooja...</td>\n",
       "      <td>224925</td>\n",
       "      <td>Three Streams. Three Stories. One Journey. Sta...</td>\n",
       "      <td>UCGqvJPRcv7aVFun-eTsatcA</td>\n",
       "      <td>https://i.ytimg.com/vi/Iot0eF6EoNA/default.jpg</td>\n",
       "      <td>4</td>\n",
       "    </tr>\n",
       "    <tr>\n",
       "      <th>1</th>\n",
       "      <td>2</td>\n",
       "      <td>x-KbnJ9fvJc</td>\n",
       "      <td>Kya Baat Aa : Karan Aujla (Official Video) Tania</td>\n",
       "      <td>Rehaan Records</td>\n",
       "      <td>10</td>\n",
       "      <td>[None]</td>\n",
       "      <td>655450</td>\n",
       "      <td>Singer/Lyrics: Karan Aujla Feat Tania Music/ D...</td>\n",
       "      <td>UCm9SZAl03Rev9sFwloCdz1g</td>\n",
       "      <td>https://i.ytimg.com/vi/x-KbnJ9fvJc/default.jpg</td>\n",
       "      <td>4</td>\n",
       "    </tr>\n",
       "  </tbody>\n",
       "</table>\n",
       "</div>"
      ],
      "text/plain": [
       "   userID     video_id                                             title  \\\n",
       "0       1  Iot0eF6EoNA                                           Sadak 2   \n",
       "1       2  x-KbnJ9fvJc  Kya Baat Aa : Karan Aujla (Official Video) Tania   \n",
       "\n",
       "     channelTitle  categoryId  \\\n",
       "0    FoxStarHindi          24   \n",
       "1  Rehaan Records          10   \n",
       "\n",
       "                                                tags   likes  \\\n",
       "0  sadak|sadak 2|mahesh bhatt|vishesh films|pooja...  224925   \n",
       "1                                             [None]  655450   \n",
       "\n",
       "                                         description  \\\n",
       "0  Three Streams. Three Stories. One Journey. Sta...   \n",
       "1  Singer/Lyrics: Karan Aujla Feat Tania Music/ D...   \n",
       "\n",
       "                  channelId                                  thumbnail_link  \\\n",
       "0  UCGqvJPRcv7aVFun-eTsatcA  https://i.ytimg.com/vi/Iot0eF6EoNA/default.jpg   \n",
       "1  UCm9SZAl03Rev9sFwloCdz1g  https://i.ytimg.com/vi/x-KbnJ9fvJc/default.jpg   \n",
       "\n",
       "  Rating  \n",
       "0      4  \n",
       "1      4  "
      ]
     },
     "execution_count": 21,
     "metadata": {},
     "output_type": "execute_result"
    }
   ],
   "source": [
    "YouTube_df.head(2)"
   ]
  },
  {
   "cell_type": "code",
   "execution_count": 22,
   "id": "7d717717-c814-4b79-a268-e05ce0058939",
   "metadata": {
    "id": "7d717717-c814-4b79-a268-e05ce0058939"
   },
   "outputs": [],
   "source": [
    "YouTube_df['tags'] = YouTube_df['tags'].str.replace('|', ' ')"
   ]
  },
  {
   "cell_type": "code",
   "execution_count": 23,
   "id": "cd908728-fd82-4d69-bb57-fe222da1e183",
   "metadata": {
    "id": "cd908728-fd82-4d69-bb57-fe222da1e183",
    "outputId": "879e5db8-464a-4e00-a8cc-fd66e1943b8e"
   },
   "outputs": [
    {
     "data": {
      "text/html": [
       "<div>\n",
       "<style scoped>\n",
       "    .dataframe tbody tr th:only-of-type {\n",
       "        vertical-align: middle;\n",
       "    }\n",
       "\n",
       "    .dataframe tbody tr th {\n",
       "        vertical-align: top;\n",
       "    }\n",
       "\n",
       "    .dataframe thead th {\n",
       "        text-align: right;\n",
       "    }\n",
       "</style>\n",
       "<table border=\"1\" class=\"dataframe\">\n",
       "  <thead>\n",
       "    <tr style=\"text-align: right;\">\n",
       "      <th></th>\n",
       "      <th>userID</th>\n",
       "      <th>video_id</th>\n",
       "      <th>title</th>\n",
       "      <th>channelTitle</th>\n",
       "      <th>categoryId</th>\n",
       "      <th>tags</th>\n",
       "      <th>likes</th>\n",
       "      <th>description</th>\n",
       "      <th>channelId</th>\n",
       "      <th>thumbnail_link</th>\n",
       "      <th>Rating</th>\n",
       "    </tr>\n",
       "  </thead>\n",
       "  <tbody>\n",
       "    <tr>\n",
       "      <th>0</th>\n",
       "      <td>1</td>\n",
       "      <td>Iot0eF6EoNA</td>\n",
       "      <td>Sadak 2</td>\n",
       "      <td>FoxStarHindi</td>\n",
       "      <td>24</td>\n",
       "      <td>sadak sadak 2 mahesh bhatt vishesh films pooja...</td>\n",
       "      <td>224925</td>\n",
       "      <td>Three Streams. Three Stories. One Journey. Sta...</td>\n",
       "      <td>UCGqvJPRcv7aVFun-eTsatcA</td>\n",
       "      <td>https://i.ytimg.com/vi/Iot0eF6EoNA/default.jpg</td>\n",
       "      <td>4</td>\n",
       "    </tr>\n",
       "    <tr>\n",
       "      <th>1</th>\n",
       "      <td>2</td>\n",
       "      <td>x-KbnJ9fvJc</td>\n",
       "      <td>Kya Baat Aa : Karan Aujla (Official Video) Tania</td>\n",
       "      <td>Rehaan Records</td>\n",
       "      <td>10</td>\n",
       "      <td>[None]</td>\n",
       "      <td>655450</td>\n",
       "      <td>Singer/Lyrics: Karan Aujla Feat Tania Music/ D...</td>\n",
       "      <td>UCm9SZAl03Rev9sFwloCdz1g</td>\n",
       "      <td>https://i.ytimg.com/vi/x-KbnJ9fvJc/default.jpg</td>\n",
       "      <td>4</td>\n",
       "    </tr>\n",
       "    <tr>\n",
       "      <th>2</th>\n",
       "      <td>3</td>\n",
       "      <td>KX06ksuS6Xo</td>\n",
       "      <td>Diljit Dosanjh: CLASH (Official) Music Video</td>\n",
       "      <td>Diljit Dosanjh</td>\n",
       "      <td>10</td>\n",
       "      <td>clash diljit dosanjh diljit dosanjh diljit dos...</td>\n",
       "      <td>296533</td>\n",
       "      <td>CLASH official music video performed by DILJIT...</td>\n",
       "      <td>UCZRdNleCgW-BGUJf-bbjzQg</td>\n",
       "      <td>https://i.ytimg.com/vi/KX06ksuS6Xo/default.jpg</td>\n",
       "      <td>4</td>\n",
       "    </tr>\n",
       "  </tbody>\n",
       "</table>\n",
       "</div>"
      ],
      "text/plain": [
       "   userID     video_id                                             title  \\\n",
       "0       1  Iot0eF6EoNA                                           Sadak 2   \n",
       "1       2  x-KbnJ9fvJc  Kya Baat Aa : Karan Aujla (Official Video) Tania   \n",
       "2       3  KX06ksuS6Xo      Diljit Dosanjh: CLASH (Official) Music Video   \n",
       "\n",
       "     channelTitle  categoryId  \\\n",
       "0    FoxStarHindi          24   \n",
       "1  Rehaan Records          10   \n",
       "2  Diljit Dosanjh          10   \n",
       "\n",
       "                                                tags   likes  \\\n",
       "0  sadak sadak 2 mahesh bhatt vishesh films pooja...  224925   \n",
       "1                                             [None]  655450   \n",
       "2  clash diljit dosanjh diljit dosanjh diljit dos...  296533   \n",
       "\n",
       "                                         description  \\\n",
       "0  Three Streams. Three Stories. One Journey. Sta...   \n",
       "1  Singer/Lyrics: Karan Aujla Feat Tania Music/ D...   \n",
       "2  CLASH official music video performed by DILJIT...   \n",
       "\n",
       "                  channelId                                  thumbnail_link  \\\n",
       "0  UCGqvJPRcv7aVFun-eTsatcA  https://i.ytimg.com/vi/Iot0eF6EoNA/default.jpg   \n",
       "1  UCm9SZAl03Rev9sFwloCdz1g  https://i.ytimg.com/vi/x-KbnJ9fvJc/default.jpg   \n",
       "2  UCZRdNleCgW-BGUJf-bbjzQg  https://i.ytimg.com/vi/KX06ksuS6Xo/default.jpg   \n",
       "\n",
       "  Rating  \n",
       "0      4  \n",
       "1      4  \n",
       "2      4  "
      ]
     },
     "execution_count": 23,
     "metadata": {},
     "output_type": "execute_result"
    }
   ],
   "source": [
    "YouTube_df.head(3)"
   ]
  },
  {
   "cell_type": "code",
   "execution_count": 24,
   "id": "79d3087d-1e7f-4818-81a3-fe1e836bc993",
   "metadata": {
    "id": "79d3087d-1e7f-4818-81a3-fe1e836bc993",
    "outputId": "ba247949-83a4-49c5-e72f-98bd64cdb4df"
   },
   "outputs": [
    {
     "data": {
      "text/plain": [
       "userID            0\n",
       "video_id          0\n",
       "title             0\n",
       "channelTitle      0\n",
       "categoryId        0\n",
       "tags              0\n",
       "likes             0\n",
       "description       0\n",
       "channelId         0\n",
       "thumbnail_link    0\n",
       "Rating            0\n",
       "dtype: int64"
      ]
     },
     "execution_count": 24,
     "metadata": {},
     "output_type": "execute_result"
    }
   ],
   "source": [
    "YouTube_df.isnull().sum()"
   ]
  },
  {
   "cell_type": "code",
   "execution_count": 25,
   "id": "84ee0b72-6ade-4d9a-9d85-b2f24b6c8cf0",
   "metadata": {
    "id": "84ee0b72-6ade-4d9a-9d85-b2f24b6c8cf0"
   },
   "outputs": [],
   "source": [
    "YouTube_df.dropna(inplace=True)"
   ]
  },
  {
   "cell_type": "code",
   "execution_count": 26,
   "id": "d127635f-f93d-4f31-943e-8e01d711e4eb",
   "metadata": {
    "id": "d127635f-f93d-4f31-943e-8e01d711e4eb"
   },
   "outputs": [],
   "source": [
    "YouTube_df.drop_duplicates(subset=['title'], inplace=True)"
   ]
  },
  {
   "cell_type": "code",
   "execution_count": 27,
   "id": "674f7ed5-cc1c-43b3-be7b-62aacf1a1652",
   "metadata": {
    "id": "674f7ed5-cc1c-43b3-be7b-62aacf1a1652",
    "outputId": "4e88bcb4-16d3-4f22-ce22-6f0644253b76"
   },
   "outputs": [
    {
     "data": {
      "text/plain": [
       "'Singer/Lyrics: Karan Aujla Feat Tania Music/ Desi Crew Mix & Master / Dc Studio’sVideo/ Sukh Sanghera Project By / Deep Rehaan Sukh Bajwa & Jeewan Chahal Produced By / Sandeep RehaanLabel / Rehaan RecordsOnline Promotions - Global Digital SolutionDigital Partner / Coin Digital Social media Promotions: Gk DigitialSpotify: https://spoti.fi/3kDfnNuYoutube Music: https://bit.ly/31N2tUkGaana: https://bit.ly/2PHrUkLhttps://wynk.in/u/SSWNC5VO3Website: WWW.RehaanRecords.CAFB: https://m.facebook.com/RehaanRecords/INSTA: Instagram/rehaanrecords'"
      ]
     },
     "execution_count": 27,
     "metadata": {},
     "output_type": "execute_result"
    }
   ],
   "source": [
    "#YouTube_df['description'].apply(lambda x:x.split())\n",
    "YouTube_df['description'][1]#apply(lambda x:x.split())"
   ]
  },
  {
   "cell_type": "code",
   "execution_count": 28,
   "id": "6b3fcff5-b4f4-4c22-bc99-53216f4e59fb",
   "metadata": {
    "id": "6b3fcff5-b4f4-4c22-bc99-53216f4e59fb",
    "outputId": "b572795f-c31e-4e67-84c2-b75cc3d4e404"
   },
   "outputs": [
    {
     "data": {
      "text/html": [
       "<div>\n",
       "<style scoped>\n",
       "    .dataframe tbody tr th:only-of-type {\n",
       "        vertical-align: middle;\n",
       "    }\n",
       "\n",
       "    .dataframe tbody tr th {\n",
       "        vertical-align: top;\n",
       "    }\n",
       "\n",
       "    .dataframe thead th {\n",
       "        text-align: right;\n",
       "    }\n",
       "</style>\n",
       "<table border=\"1\" class=\"dataframe\">\n",
       "  <thead>\n",
       "    <tr style=\"text-align: right;\">\n",
       "      <th></th>\n",
       "      <th>userID</th>\n",
       "      <th>video_id</th>\n",
       "      <th>title</th>\n",
       "      <th>channelTitle</th>\n",
       "      <th>categoryId</th>\n",
       "      <th>tags</th>\n",
       "      <th>likes</th>\n",
       "      <th>description</th>\n",
       "      <th>channelId</th>\n",
       "      <th>thumbnail_link</th>\n",
       "      <th>Rating</th>\n",
       "    </tr>\n",
       "  </thead>\n",
       "  <tbody>\n",
       "    <tr>\n",
       "      <th>0</th>\n",
       "      <td>1</td>\n",
       "      <td>Iot0eF6EoNA</td>\n",
       "      <td>Sadak 2</td>\n",
       "      <td>FoxStarHindi</td>\n",
       "      <td>24</td>\n",
       "      <td>sadak sadak 2 mahesh bhatt vishesh films pooja...</td>\n",
       "      <td>224925</td>\n",
       "      <td>Three Streams. Three Stories. One Journey. Sta...</td>\n",
       "      <td>UCGqvJPRcv7aVFun-eTsatcA</td>\n",
       "      <td>https://i.ytimg.com/vi/Iot0eF6EoNA/default.jpg</td>\n",
       "      <td>4</td>\n",
       "    </tr>\n",
       "    <tr>\n",
       "      <th>1</th>\n",
       "      <td>2</td>\n",
       "      <td>x-KbnJ9fvJc</td>\n",
       "      <td>Kya Baat Aa : Karan Aujla (Official Video) Tania</td>\n",
       "      <td>Rehaan Records</td>\n",
       "      <td>10</td>\n",
       "      <td>[None]</td>\n",
       "      <td>655450</td>\n",
       "      <td>Singer/Lyrics: Karan Aujla Feat Tania Music/ D...</td>\n",
       "      <td>UCm9SZAl03Rev9sFwloCdz1g</td>\n",
       "      <td>https://i.ytimg.com/vi/x-KbnJ9fvJc/default.jpg</td>\n",
       "      <td>4</td>\n",
       "    </tr>\n",
       "  </tbody>\n",
       "</table>\n",
       "</div>"
      ],
      "text/plain": [
       "   userID     video_id                                             title  \\\n",
       "0       1  Iot0eF6EoNA                                           Sadak 2   \n",
       "1       2  x-KbnJ9fvJc  Kya Baat Aa : Karan Aujla (Official Video) Tania   \n",
       "\n",
       "     channelTitle  categoryId  \\\n",
       "0    FoxStarHindi          24   \n",
       "1  Rehaan Records          10   \n",
       "\n",
       "                                                tags   likes  \\\n",
       "0  sadak sadak 2 mahesh bhatt vishesh films pooja...  224925   \n",
       "1                                             [None]  655450   \n",
       "\n",
       "                                         description  \\\n",
       "0  Three Streams. Three Stories. One Journey. Sta...   \n",
       "1  Singer/Lyrics: Karan Aujla Feat Tania Music/ D...   \n",
       "\n",
       "                  channelId                                  thumbnail_link  \\\n",
       "0  UCGqvJPRcv7aVFun-eTsatcA  https://i.ytimg.com/vi/Iot0eF6EoNA/default.jpg   \n",
       "1  UCm9SZAl03Rev9sFwloCdz1g  https://i.ytimg.com/vi/x-KbnJ9fvJc/default.jpg   \n",
       "\n",
       "  Rating  \n",
       "0      4  \n",
       "1      4  "
      ]
     },
     "execution_count": 28,
     "metadata": {},
     "output_type": "execute_result"
    }
   ],
   "source": [
    "YouTube_df.head(2)"
   ]
  },
  {
   "cell_type": "code",
   "execution_count": 29,
   "id": "df42ea36-e5d4-40b8-9ebb-210a3b841ac9",
   "metadata": {
    "id": "df42ea36-e5d4-40b8-9ebb-210a3b841ac9"
   },
   "outputs": [],
   "source": [
    "YouTube_df['joint_tags'] = YouTube_df['channelTitle'] + YouTube_df['description'] + YouTube_df['tags'] \n"
   ]
  },
  {
   "cell_type": "code",
   "execution_count": 30,
   "id": "77aa66ab-f7b4-4651-adcb-b5460d3c6099",
   "metadata": {
    "id": "77aa66ab-f7b4-4651-adcb-b5460d3c6099",
    "outputId": "8aa5f15b-dc25-45b9-def5-c981d110787d"
   },
   "outputs": [
    {
     "data": {
      "text/plain": [
       "0    FoxStarHindiThree Streams. Three Stories. One ...\n",
       "1    Rehaan RecordsSinger/Lyrics: Karan Aujla Feat ...\n",
       "2    Diljit DosanjhCLASH official music video perfo...\n",
       "3    T-SeriesGulshan Kumar and T-Series presents Bh...\n",
       "4    VYRLOriginalsVYRL Originals brings to you ‘Baa...\n",
       "Name: joint_tags, dtype: object"
      ]
     },
     "execution_count": 30,
     "metadata": {},
     "output_type": "execute_result"
    }
   ],
   "source": [
    "YouTube_df['joint_tags'][:5]"
   ]
  },
  {
   "cell_type": "code",
   "execution_count": 31,
   "id": "6e2a52d7-c610-4d84-adb5-0e3bc876380b",
   "metadata": {
    "id": "6e2a52d7-c610-4d84-adb5-0e3bc876380b",
    "outputId": "76e42dab-8a49-405c-bf33-4f4d8b9dd425"
   },
   "outputs": [
    {
     "data": {
      "text/plain": [
       "userID            0\n",
       "video_id          0\n",
       "title             0\n",
       "channelTitle      0\n",
       "categoryId        0\n",
       "tags              0\n",
       "likes             0\n",
       "description       0\n",
       "channelId         0\n",
       "thumbnail_link    0\n",
       "Rating            0\n",
       "joint_tags        0\n",
       "dtype: int64"
      ]
     },
     "execution_count": 31,
     "metadata": {},
     "output_type": "execute_result"
    }
   ],
   "source": [
    "YouTube_df.isnull().sum()"
   ]
  },
  {
   "cell_type": "code",
   "execution_count": 32,
   "id": "69ed6251-4f44-4baa-ab35-0c397b28c0ba",
   "metadata": {
    "id": "69ed6251-4f44-4baa-ab35-0c397b28c0ba"
   },
   "outputs": [],
   "source": [
    "#YouTube_df['joint_tags']=YouTube_df['joint_tags'].apply(lambda x:x.split())"
   ]
  },
  {
   "cell_type": "code",
   "execution_count": 33,
   "id": "f20c89c6-63ec-4d20-9735-ac06538479ee",
   "metadata": {
    "id": "f20c89c6-63ec-4d20-9735-ac06538479ee",
    "outputId": "25127c9f-e9d2-477c-db57-31be849f6d37"
   },
   "outputs": [
    {
     "data": {
      "text/plain": [
       "'Rehaan RecordsSinger/Lyrics: Karan Aujla Feat Tania Music/ Desi Crew Mix & Master / Dc Studio’sVideo/ Sukh Sanghera Project By / Deep Rehaan Sukh Bajwa & Jeewan Chahal Produced By / Sandeep RehaanLabel / Rehaan RecordsOnline Promotions - Global Digital SolutionDigital Partner / Coin Digital Social media Promotions: Gk DigitialSpotify: https://spoti.fi/3kDfnNuYoutube Music: https://bit.ly/31N2tUkGaana: https://bit.ly/2PHrUkLhttps://wynk.in/u/SSWNC5VO3Website: WWW.RehaanRecords.CAFB: https://m.facebook.com/RehaanRecords/INSTA: Instagram/rehaanrecords[None]'"
      ]
     },
     "execution_count": 33,
     "metadata": {},
     "output_type": "execute_result"
    }
   ],
   "source": [
    "YouTube_df['joint_tags'][1]"
   ]
  },
  {
   "cell_type": "code",
   "execution_count": 34,
   "id": "e5ddc624-bbdf-4632-8d96-a0764a8dd8c4",
   "metadata": {
    "id": "e5ddc624-bbdf-4632-8d96-a0764a8dd8c4"
   },
   "outputs": [],
   "source": [
    "new = YouTube_df.drop(columns=['channelTitle','categoryId','tags','description','channelId'])#'likes'\n",
    "#new.head()"
   ]
  },
  {
   "cell_type": "code",
   "execution_count": 35,
   "id": "b62f4e5d-03ed-4db1-bb13-2143d766e7cc",
   "metadata": {
    "id": "b62f4e5d-03ed-4db1-bb13-2143d766e7cc",
    "outputId": "4f50f283-36a0-4c4f-b764-86e7d5c39c93"
   },
   "outputs": [
    {
     "data": {
      "text/html": [
       "<div>\n",
       "<style scoped>\n",
       "    .dataframe tbody tr th:only-of-type {\n",
       "        vertical-align: middle;\n",
       "    }\n",
       "\n",
       "    .dataframe tbody tr th {\n",
       "        vertical-align: top;\n",
       "    }\n",
       "\n",
       "    .dataframe thead th {\n",
       "        text-align: right;\n",
       "    }\n",
       "</style>\n",
       "<table border=\"1\" class=\"dataframe\">\n",
       "  <thead>\n",
       "    <tr style=\"text-align: right;\">\n",
       "      <th></th>\n",
       "      <th>userID</th>\n",
       "      <th>video_id</th>\n",
       "      <th>title</th>\n",
       "      <th>likes</th>\n",
       "      <th>thumbnail_link</th>\n",
       "      <th>Rating</th>\n",
       "      <th>joint_tags</th>\n",
       "    </tr>\n",
       "  </thead>\n",
       "  <tbody>\n",
       "    <tr>\n",
       "      <th>0</th>\n",
       "      <td>1</td>\n",
       "      <td>Iot0eF6EoNA</td>\n",
       "      <td>Sadak 2</td>\n",
       "      <td>224925</td>\n",
       "      <td>https://i.ytimg.com/vi/Iot0eF6EoNA/default.jpg</td>\n",
       "      <td>4</td>\n",
       "      <td>FoxStarHindiThree Streams. Three Stories. One ...</td>\n",
       "    </tr>\n",
       "    <tr>\n",
       "      <th>1</th>\n",
       "      <td>2</td>\n",
       "      <td>x-KbnJ9fvJc</td>\n",
       "      <td>Kya Baat Aa : Karan Aujla (Official Video) Tania</td>\n",
       "      <td>655450</td>\n",
       "      <td>https://i.ytimg.com/vi/x-KbnJ9fvJc/default.jpg</td>\n",
       "      <td>4</td>\n",
       "      <td>Rehaan RecordsSinger/Lyrics: Karan Aujla Feat ...</td>\n",
       "    </tr>\n",
       "    <tr>\n",
       "      <th>2</th>\n",
       "      <td>3</td>\n",
       "      <td>KX06ksuS6Xo</td>\n",
       "      <td>Diljit Dosanjh: CLASH (Official) Music Video</td>\n",
       "      <td>296533</td>\n",
       "      <td>https://i.ytimg.com/vi/KX06ksuS6Xo/default.jpg</td>\n",
       "      <td>4</td>\n",
       "      <td>Diljit DosanjhCLASH official music video perfo...</td>\n",
       "    </tr>\n",
       "    <tr>\n",
       "      <th>3</th>\n",
       "      <td>4</td>\n",
       "      <td>UsMRgnTcchY</td>\n",
       "      <td>Dil Ko Maine Di Kasam Video</td>\n",
       "      <td>743931</td>\n",
       "      <td>https://i.ytimg.com/vi/UsMRgnTcchY/default.jpg</td>\n",
       "      <td>4</td>\n",
       "      <td>T-SeriesGulshan Kumar and T-Series presents Bh...</td>\n",
       "    </tr>\n",
       "    <tr>\n",
       "      <th>4</th>\n",
       "      <td>5</td>\n",
       "      <td>WNSEXJJhKTU</td>\n",
       "      <td>Baarish (Official Video) Payal Dev,Stebin Ben</td>\n",
       "      <td>268817</td>\n",
       "      <td>https://i.ytimg.com/vi/WNSEXJJhKTU/default.jpg</td>\n",
       "      <td>4</td>\n",
       "      <td>VYRLOriginalsVYRL Originals brings to you ‘Baa...</td>\n",
       "    </tr>\n",
       "  </tbody>\n",
       "</table>\n",
       "</div>"
      ],
      "text/plain": [
       "   userID     video_id                                             title  \\\n",
       "0       1  Iot0eF6EoNA                                           Sadak 2   \n",
       "1       2  x-KbnJ9fvJc  Kya Baat Aa : Karan Aujla (Official Video) Tania   \n",
       "2       3  KX06ksuS6Xo      Diljit Dosanjh: CLASH (Official) Music Video   \n",
       "3       4  UsMRgnTcchY                       Dil Ko Maine Di Kasam Video   \n",
       "4       5  WNSEXJJhKTU     Baarish (Official Video) Payal Dev,Stebin Ben   \n",
       "\n",
       "    likes                                  thumbnail_link Rating  \\\n",
       "0  224925  https://i.ytimg.com/vi/Iot0eF6EoNA/default.jpg      4   \n",
       "1  655450  https://i.ytimg.com/vi/x-KbnJ9fvJc/default.jpg      4   \n",
       "2  296533  https://i.ytimg.com/vi/KX06ksuS6Xo/default.jpg      4   \n",
       "3  743931  https://i.ytimg.com/vi/UsMRgnTcchY/default.jpg      4   \n",
       "4  268817  https://i.ytimg.com/vi/WNSEXJJhKTU/default.jpg      4   \n",
       "\n",
       "                                          joint_tags  \n",
       "0  FoxStarHindiThree Streams. Three Stories. One ...  \n",
       "1  Rehaan RecordsSinger/Lyrics: Karan Aujla Feat ...  \n",
       "2  Diljit DosanjhCLASH official music video perfo...  \n",
       "3  T-SeriesGulshan Kumar and T-Series presents Bh...  \n",
       "4  VYRLOriginalsVYRL Originals brings to you ‘Baa...  "
      ]
     },
     "execution_count": 35,
     "metadata": {},
     "output_type": "execute_result"
    }
   ],
   "source": [
    "# new['joint_tags'] = new['joint_tags'].apply(lambda x: \" \".join(x))\n",
    "new.head()"
   ]
  },
  {
   "cell_type": "code",
   "execution_count": 36,
   "id": "d10648d4-b2ee-41b5-a8c5-281f3381dee8",
   "metadata": {},
   "outputs": [
    {
     "name": "stderr",
     "output_type": "stream",
     "text": [
      "Some weights of the model checkpoint at bert-base-uncased were not used when initializing BertModel: ['cls.predictions.transform.LayerNorm.weight', 'cls.predictions.bias', 'cls.seq_relationship.weight', 'cls.predictions.transform.LayerNorm.bias', 'cls.predictions.transform.dense.weight', 'cls.seq_relationship.bias', 'cls.predictions.transform.dense.bias', 'cls.predictions.decoder.weight']\n",
      "- This IS expected if you are initializing BertModel from the checkpoint of a model trained on another task or with another architecture (e.g. initializing a BertForSequenceClassification model from a BertForPreTraining model).\n",
      "- This IS NOT expected if you are initializing BertModel from the checkpoint of a model that you expect to be exactly identical (initializing a BertForSequenceClassification model from a BertForSequenceClassification model).\n"
     ]
    }
   ],
   "source": [
    "from transformers import AutoTokenizer, AutoModel\n",
    "import torch\n",
    "import numpy as np\n",
    "import pandas as pd\n",
    "\n",
    "# Initialize tokenizer and model\n",
    "tokenizer = AutoTokenizer.from_pretrained(\"bert-base-uncased\")\n",
    "model = AutoModel.from_pretrained(\"bert-base-uncased\")"
   ]
  },
  {
   "cell_type": "code",
   "execution_count": 37,
   "id": "f033ea74-5d6b-4888-9edd-c1181f73f29e",
   "metadata": {},
   "outputs": [],
   "source": [
    "def generate_embeddings(texts, max_seq_length=256):\n",
    "    \"\"\"Generate embeddings for a list of texts and return as a NumPy array.\"\"\"\n",
    "    embeddings = []\n",
    "    for text in texts:\n",
    "        inputs = tokenizer(text, return_tensors=\"pt\", padding='max_length', truncation=True, max_length=max_seq_length)\n",
    "        inputs = {k: v.to(model.device) for k, v in inputs.items()}\n",
    "        with torch.no_grad():\n",
    "            outputs = model(**inputs)\n",
    "        embedding = outputs.last_hidden_state.mean(dim=1).cpu().numpy()\n",
    "        embeddings.append(embedding)\n",
    "    return np.vstack(embeddings)\n"
   ]
  },
  {
   "cell_type": "code",
   "execution_count": 38,
   "id": "f4d69a20-fd28-45c8-841a-9fcfc85fd649",
   "metadata": {
    "tags": []
   },
   "outputs": [
    {
     "name": "stdout",
     "output_type": "stream",
     "text": [
      "[[ 0.1060425  -0.06211875  0.37668958 ...  0.05721436  0.09904254\n",
      "  -0.250424  ]\n",
      " [ 0.16316964 -0.11441816  0.33752966 ...  0.07034065  0.00362955\n",
      "  -0.21658388]\n",
      " [ 0.07894272 -0.07638603  0.34717637 ...  0.11601932  0.08807094\n",
      "  -0.33818817]\n",
      " ...\n",
      " [ 0.06445204 -0.1905932   0.4141702  ... -0.00462532 -0.05667549\n",
      "  -0.01262415]\n",
      " [ 0.10386483 -0.10505175  0.2714658  ... -0.05957988  0.10783472\n",
      "  -0.1528971 ]\n",
      " [ 0.04888593  0.03631538  0.5183073  ...  0.01218523  0.01840801\n",
      "   0.06771469]]\n"
     ]
    }
   ],
   "source": [
    "# Apply the function to the entire column and store the results \n",
    "embeddings_array = generate_embeddings(new['joint_tags'])\n",
    "\n",
    "# embeddings_array now contains your embeddings\n",
    "print(embeddings_array)"
   ]
  },
  {
   "cell_type": "code",
   "execution_count": 39,
   "id": "58c24a45-dd36-4787-9f80-e1c61a3baa1c",
   "metadata": {},
   "outputs": [
    {
     "data": {
      "text/plain": [
       "(7312, 768)"
      ]
     },
     "execution_count": 39,
     "metadata": {},
     "output_type": "execute_result"
    }
   ],
   "source": [
    "embeddings_array.shape"
   ]
  },
  {
   "cell_type": "code",
   "execution_count": 40,
   "id": "45dd2db1-d797-4a56-b384-ed510529e7d8",
   "metadata": {
    "id": "45dd2db1-d797-4a56-b384-ed510529e7d8"
   },
   "outputs": [],
   "source": [
    "# from sklearn.feature_extraction.text import CountVectorizer,TfidfVectorizer\n",
    "# # Define additional parameters\n",
    "# ngram_range = (2,3)\n",
    "# max_features = 4000\n",
    "\n",
    "# # Create the TF-IDF vectorizer with the specified parameters\n",
    "# tfidf_vectorizer = TfidfVectorizer(\n",
    "#     ngram_range=ngram_range,\n",
    "#     max_features=max_features\n",
    "# )\n"
   ]
  },
  {
   "cell_type": "code",
   "execution_count": 41,
   "id": "d6a4a6d1-6bc3-4d2d-9d44-0d290911c9ac",
   "metadata": {
    "id": "d6a4a6d1-6bc3-4d2d-9d44-0d290911c9ac"
   },
   "outputs": [],
   "source": [
    "# vector = tfidf_vectorizer.fit_transform(new['cleen_joint_tags']).toarray()"
   ]
  },
  {
   "cell_type": "code",
   "execution_count": 42,
   "id": "8713aae5-0d61-418e-a705-671db7896009",
   "metadata": {},
   "outputs": [],
   "source": [
    "from sklearn.preprocessing import MinMaxScaler ,StandardScaler\n",
    "# Apply min-max scaling to your data\n",
    "scaler = StandardScaler()\n",
    "scaled_data = scaler.fit_transform(embeddings_array)"
   ]
  },
  {
   "cell_type": "code",
   "execution_count": 43,
   "id": "83e0880b-4f47-4935-9f99-c350f9cfa652",
   "metadata": {},
   "outputs": [
    {
     "data": {
      "text/plain": [
       "array([[-0.02449328,  0.03028919, -0.03922281, ...,  0.66897017,\n",
       "         0.6567135 , -0.5929439 ],\n",
       "       [ 0.29304612, -0.3708813 , -0.24385814, ...,  0.78518724,\n",
       "        -0.15469514, -0.39128333],\n",
       "       [-0.1751266 , -0.07915008, -0.19344798, ...,  1.1896156 ,\n",
       "         0.5634091 , -1.1159495 ],\n",
       "       ...,\n",
       "       [-0.25567257, -0.95519346,  0.15663712, ...,  0.12145597,\n",
       "        -0.6675396 ,  0.8241567 ],\n",
       "       [-0.0365978 , -0.29903483, -0.5890835 , ..., -0.36509895,\n",
       "         0.73148364, -0.01176011],\n",
       "       [-0.34219632,  0.7853431 ,  0.7008194 , ...,  0.27029264,\n",
       "        -0.02901652,  1.3029132 ]], dtype=float32)"
      ]
     },
     "execution_count": 43,
     "metadata": {},
     "output_type": "execute_result"
    }
   ],
   "source": [
    "scaled_data"
   ]
  },
  {
   "cell_type": "code",
   "execution_count": 44,
   "id": "6595b3f7-4be5-4082-8c78-cb5976578afa",
   "metadata": {},
   "outputs": [],
   "source": [
    "from sklearn.decomposition import PCA\n",
    "\n",
    "pca = PCA(n_components=0.99)\n",
    "\n",
    "vector_reduced = pca.fit_transform(scaled_data)"
   ]
  },
  {
   "cell_type": "code",
   "execution_count": 45,
   "id": "1928f721-ec7c-4e2e-82e1-97c6d33cac13",
   "metadata": {
    "id": "1928f721-ec7c-4e2e-82e1-97c6d33cac13",
    "outputId": "a4222ded-0094-45d3-f799-1da0111d5fcd"
   },
   "outputs": [
    {
     "data": {
      "text/plain": [
       "(7312, 429)"
      ]
     },
     "execution_count": 45,
     "metadata": {},
     "output_type": "execute_result"
    }
   ],
   "source": [
    "vector_reduced.shape"
   ]
  },
  {
   "cell_type": "code",
   "execution_count": 46,
   "id": "29aab283-1076-4180-85c4-8c93350adb9a",
   "metadata": {},
   "outputs": [
    {
     "data": {
      "text/html": [
       "<style>#sk-container-id-1 {color: black;background-color: white;}#sk-container-id-1 pre{padding: 0;}#sk-container-id-1 div.sk-toggleable {background-color: white;}#sk-container-id-1 label.sk-toggleable__label {cursor: pointer;display: block;width: 100%;margin-bottom: 0;padding: 0.3em;box-sizing: border-box;text-align: center;}#sk-container-id-1 label.sk-toggleable__label-arrow:before {content: \"▸\";float: left;margin-right: 0.25em;color: #696969;}#sk-container-id-1 label.sk-toggleable__label-arrow:hover:before {color: black;}#sk-container-id-1 div.sk-estimator:hover label.sk-toggleable__label-arrow:before {color: black;}#sk-container-id-1 div.sk-toggleable__content {max-height: 0;max-width: 0;overflow: hidden;text-align: left;background-color: #f0f8ff;}#sk-container-id-1 div.sk-toggleable__content pre {margin: 0.2em;color: black;border-radius: 0.25em;background-color: #f0f8ff;}#sk-container-id-1 input.sk-toggleable__control:checked~div.sk-toggleable__content {max-height: 200px;max-width: 100%;overflow: auto;}#sk-container-id-1 input.sk-toggleable__control:checked~label.sk-toggleable__label-arrow:before {content: \"▾\";}#sk-container-id-1 div.sk-estimator input.sk-toggleable__control:checked~label.sk-toggleable__label {background-color: #d4ebff;}#sk-container-id-1 div.sk-label input.sk-toggleable__control:checked~label.sk-toggleable__label {background-color: #d4ebff;}#sk-container-id-1 input.sk-hidden--visually {border: 0;clip: rect(1px 1px 1px 1px);clip: rect(1px, 1px, 1px, 1px);height: 1px;margin: -1px;overflow: hidden;padding: 0;position: absolute;width: 1px;}#sk-container-id-1 div.sk-estimator {font-family: monospace;background-color: #f0f8ff;border: 1px dotted black;border-radius: 0.25em;box-sizing: border-box;margin-bottom: 0.5em;}#sk-container-id-1 div.sk-estimator:hover {background-color: #d4ebff;}#sk-container-id-1 div.sk-parallel-item::after {content: \"\";width: 100%;border-bottom: 1px solid gray;flex-grow: 1;}#sk-container-id-1 div.sk-label:hover label.sk-toggleable__label {background-color: #d4ebff;}#sk-container-id-1 div.sk-serial::before {content: \"\";position: absolute;border-left: 1px solid gray;box-sizing: border-box;top: 0;bottom: 0;left: 50%;z-index: 0;}#sk-container-id-1 div.sk-serial {display: flex;flex-direction: column;align-items: center;background-color: white;padding-right: 0.2em;padding-left: 0.2em;position: relative;}#sk-container-id-1 div.sk-item {position: relative;z-index: 1;}#sk-container-id-1 div.sk-parallel {display: flex;align-items: stretch;justify-content: center;background-color: white;position: relative;}#sk-container-id-1 div.sk-item::before, #sk-container-id-1 div.sk-parallel-item::before {content: \"\";position: absolute;border-left: 1px solid gray;box-sizing: border-box;top: 0;bottom: 0;left: 50%;z-index: -1;}#sk-container-id-1 div.sk-parallel-item {display: flex;flex-direction: column;z-index: 1;position: relative;background-color: white;}#sk-container-id-1 div.sk-parallel-item:first-child::after {align-self: flex-end;width: 50%;}#sk-container-id-1 div.sk-parallel-item:last-child::after {align-self: flex-start;width: 50%;}#sk-container-id-1 div.sk-parallel-item:only-child::after {width: 0;}#sk-container-id-1 div.sk-dashed-wrapped {border: 1px dashed gray;margin: 0 0.4em 0.5em 0.4em;box-sizing: border-box;padding-bottom: 0.4em;background-color: white;}#sk-container-id-1 div.sk-label label {font-family: monospace;font-weight: bold;display: inline-block;line-height: 1.2em;}#sk-container-id-1 div.sk-label-container {text-align: center;}#sk-container-id-1 div.sk-container {/* jupyter's `normalize.less` sets `[hidden] { display: none; }` but bootstrap.min.css set `[hidden] { display: none !important; }` so we also need the `!important` here to be able to override the default hidden behavior on the sphinx rendered scikit-learn.org. See: https://github.com/scikit-learn/scikit-learn/issues/21755 */display: inline-block !important;position: relative;}#sk-container-id-1 div.sk-text-repr-fallback {display: none;}</style><div id=\"sk-container-id-1\" class=\"sk-top-container\"><div class=\"sk-text-repr-fallback\"><pre>NearestNeighbors(metric=&#x27;cosine&#x27;, n_neighbors=6)</pre><b>In a Jupyter environment, please rerun this cell to show the HTML representation or trust the notebook. <br />On GitHub, the HTML representation is unable to render, please try loading this page with nbviewer.org.</b></div><div class=\"sk-container\" hidden><div class=\"sk-item\"><div class=\"sk-estimator sk-toggleable\"><input class=\"sk-toggleable__control sk-hidden--visually\" id=\"sk-estimator-id-1\" type=\"checkbox\" checked><label for=\"sk-estimator-id-1\" class=\"sk-toggleable__label sk-toggleable__label-arrow\">NearestNeighbors</label><div class=\"sk-toggleable__content\"><pre>NearestNeighbors(metric=&#x27;cosine&#x27;, n_neighbors=6)</pre></div></div></div></div></div>"
      ],
      "text/plain": [
       "NearestNeighbors(metric='cosine', n_neighbors=6)"
      ]
     },
     "execution_count": 46,
     "metadata": {},
     "output_type": "execute_result"
    }
   ],
   "source": [
    "from sklearn.neighbors import NearestNeighbors\n",
    "\n",
    "# Assuming 'X' is your feature matrix and 'k' is the number of neighbors to consider\n",
    "knn_model = NearestNeighbors(n_neighbors=6, metric='cosine')\n",
    "knn_model.fit(vector_reduced)\n"
   ]
  },
  {
   "cell_type": "code",
   "execution_count": null,
   "id": "e7e46777-d80c-49a6-8bb9-83ad444614bc",
   "metadata": {},
   "outputs": [],
   "source": []
  },
  {
   "cell_type": "code",
   "execution_count": 47,
   "id": "0cfcd309-9948-4525-bd88-2307de2aafaa",
   "metadata": {
    "id": "0cfcd309-9948-4525-bd88-2307de2aafaa",
    "outputId": "e48e78fe-8c1a-4c28-8a04-b83f7f751214"
   },
   "outputs": [
    {
     "data": {
      "text/plain": [
       "3"
      ]
     },
     "execution_count": 47,
     "metadata": {},
     "output_type": "execute_result"
    }
   ],
   "source": [
    "new[new['title'] == 'Dil Ko Maine Di Kasam Video'].index[0]"
   ]
  },
  {
   "cell_type": "markdown",
   "id": "15be8b9b-ae70-42eb-87bd-8e08f2ea1708",
   "metadata": {
    "id": "15be8b9b-ae70-42eb-87bd-8e08f2ea1708"
   },
   "source": [
    "### Prediction "
   ]
  },
  {
   "cell_type": "code",
   "execution_count": 48,
   "id": "b9a46177-d79b-48a9-875f-a2f50383e288",
   "metadata": {},
   "outputs": [],
   "source": [
    "def recommend(movie):\n",
    "    index = new[new['title'] == movie].index[0]\n",
    "    query_vector = vector_reduced[index].reshape(1, -1)  # Reshape the query vector for KNN\n",
    "    distances, indices = knn_model.kneighbors(query_vector)\n",
    "\n",
    "    # 'indices' contains the indices of the k-nearest neighbors, including the query itself\n",
    "    # 'distances' contains the corresponding distances/similarities\n",
    "\n",
    "    # Print the top 5 recommended movies (excluding the query itself)\n",
    "    recommended_movies = new.iloc[indices[0][1:6]]\n",
    "    for movie in recommended_movies['title']:\n",
    "        print(movie)"
   ]
  },
  {
   "cell_type": "code",
   "execution_count": 49,
   "id": "6dbb7608-0136-487a-9ceb-39feb8c80981",
   "metadata": {},
   "outputs": [],
   "source": [
    "with open(\"KNN_model.pkl\", \"wb\") as f: \n",
    "    joblib.dump(knn_model, f) "
   ]
  },
  {
   "cell_type": "code",
   "execution_count": 50,
   "id": "20f5ce30-1c7c-4057-ba81-21a3d38af58b",
   "metadata": {
    "id": "20f5ce30-1c7c-4057-ba81-21a3d38af58b",
    "outputId": "642b69f5-ac4c-43d1-b606-6b120bf1444d"
   },
   "outputs": [
    {
     "name": "stdout",
     "output_type": "stream",
     "text": [
      "PEED: Diljit Dosanjh (Official) Music Video\n",
      "Peed Diljit Dosanjh Lyrical Video Song\n",
      "Diljit Dosanjh: Born To Shine (Official Music Video) G.O.A.T\n",
      "Diljit Dosanjh: Welcome To My Hood (Official Music Video)\n",
      "ASLE - Gurman Sandhu\n"
     ]
    }
   ],
   "source": [
    "recommend('Diljit Dosanjh: CLASH (Official) Music Video')"
   ]
  },
  {
   "cell_type": "code",
   "execution_count": 51,
   "id": "1a9e4747-5faf-4399-86a2-81a5f025f001",
   "metadata": {
    "id": "1a9e4747-5faf-4399-86a2-81a5f025f001",
    "outputId": "d22aeaff-e420-43bc-8dcc-e4a7c9db8c35"
   },
   "outputs": [
    {
     "name": "stdout",
     "output_type": "stream",
     "text": [
      "Noodle Party!\n",
      "NEW! Ep 3021 - Gokuldham Mein Disturbance\n",
      "NEW! Ep 2997 - Police in Gokuldham!\n",
      "NEW! Ep 2974 - Taraak Mehta Gets Late!\n",
      "NEW! Ep 2993 - Special Juice for Goli!\n"
     ]
    }
   ],
   "source": [
    "recommend('NEW! Ep 2967 - Jethalal Drops Babita!')"
   ]
  },
  {
   "cell_type": "code",
   "execution_count": 52,
   "id": "8514b08d-ffa6-4bd6-8b96-27ccbe8d956e",
   "metadata": {},
   "outputs": [
    {
     "name": "stdout",
     "output_type": "stream",
     "text": [
      "Finally bought my DreamBike - Ninja H2\n",
      "bass Life mai HAYABUSA honi chaheye\n",
      "I Surprised my Friends With NINJA H2!!\n",
      "No Competition : Jass Manak Ft DIVINE (Full Video) Satti Dhillon\n",
      "Yaara Tere Warga : Jass Manak (Official Video) Sunidhi Chauhan\n"
     ]
    }
   ],
   "source": [
    "recommend(\"first Crazy RIDE on Kawasaki NINJA H2\")"
   ]
  },
  {
   "cell_type": "code",
   "execution_count": 53,
   "id": "62c8e942-f5d8-4f27-8242-2ad8370fbb12",
   "metadata": {
    "id": "62c8e942-f5d8-4f27-8242-2ad8370fbb12",
    "outputId": "0f8cfbc1-90a9-483a-a0e6-68348de559e6"
   },
   "outputs": [
    {
     "name": "stdout",
     "output_type": "stream",
     "text": [
      "Top of Switzerland 🇨🇭\n",
      "My German Girlfriend's Home\n",
      "Top of the Island Sunset\n",
      "Best Cinema in the World!\n",
      "Taarak Mehta Ka Ooltah Chashmah - Ep 2909 - Full Episode - 20th January 2020\n"
     ]
    }
   ],
   "source": [
    "recommend('IPL 2020 - Patanjali IPL As Sponsor With 10 Big News')"
   ]
  },
  {
   "cell_type": "markdown",
   "id": "fe45b54d-d79d-45e8-bc20-fcb09f484a8f",
   "metadata": {
    "id": "fe45b54d-d79d-45e8-bc20-fcb09f484a8f"
   },
   "source": [
    "### Some advantages of content-based filtering are that it does not rely on other users' behavior, it can handle new items without a large user base, and it can provide personalized recommendations even for niche interests. However, one limitation is that it may not be able to capture the diversity of user interests, as it tends to recommend similar items to what the user has already consumed."
   ]
  },
  {
   "cell_type": "code",
   "execution_count": 54,
   "id": "b6be9466-9334-4a21-bacf-b4dad4f0e05b",
   "metadata": {
    "id": "b6be9466-9334-4a21-bacf-b4dad4f0e05b"
   },
   "outputs": [],
   "source": [
    "import pickle\n",
    "with open(\"Embedding_vector.pkl\", \"wb\") as f: \n",
    "    joblib.dump(vector_reduced, f) "
   ]
  },
  {
   "cell_type": "markdown",
   "id": "83a529ef-bdee-45f3-a2c9-75bce333ddf3",
   "metadata": {
    "id": "83a529ef-bdee-45f3-a2c9-75bce333ddf3"
   },
   "source": [
    "## colaborative recomendation ststem"
   ]
  },
  {
   "cell_type": "markdown",
   "id": "564ff9bc-0548-4289-92f2-81283e4e9053",
   "metadata": {
    "id": "564ff9bc-0548-4289-92f2-81283e4e9053"
   },
   "source": [
    "### Scikit-learn's Surprise library is a popular Python library for building collaborative filtering recommendation systems. Here's a general overview of how to build a collaborative recommendation system using the Surprise library:"
   ]
  },
  {
   "cell_type": "markdown",
   "id": "3081bec0-10b0-444d-96a7-db797c4e32ac",
   "metadata": {
    "id": "3081bec0-10b0-444d-96a7-db797c4e32ac"
   },
   "source": [
    "#### Data preparation: The first step is to prepare your data in a format that can be used by the Surprise library. This typically involves creating a user-item matrix, where each row represents a user and each column represents an item. The values in the matrix represent the user's rating or interaction with the item."
   ]
  },
  {
   "cell_type": "code",
   "execution_count": 55,
   "id": "200bb759-fbd2-4065-9782-149193761b66",
   "metadata": {
    "id": "200bb759-fbd2-4065-9782-149193761b66"
   },
   "outputs": [],
   "source": [
    "new = new.reset_index()\n",
    "titles = new[['title']]\n",
    "indices = pd.Series(new.index, index=new['title'])"
   ]
  },
  {
   "cell_type": "code",
   "execution_count": 56,
   "id": "cdb63f15-7148-4772-ae48-ff774d67a05c",
   "metadata": {
    "id": "cdb63f15-7148-4772-ae48-ff774d67a05c",
    "outputId": "2b6c939d-48c7-4226-8cbb-9c586163c423"
   },
   "outputs": [
    {
     "data": {
      "text/plain": [
       "title\n",
       "TSP's Rabish ki report Unlock 2.0                                                                       100\n",
       "BADSHAH – BKL (Official Lyrical Video)                                                                  101\n",
       "அட இவ்வளவு நாள் இது தெரியாம போச்சே                                                                      102\n",
       "GEOMETRIC SHAPE FOOD CHALLENGE                                                                          103\n",
       "DIPIKA’ S BIRTHDAY CELEBRATION                                                                          104\n",
       "DNA: Russia August 12 को लॉन्च करेगा Corona Vaccine                                                     105\n",
       "MASTER CHEF                                                                                             106\n",
       "We Made 4 Wheeler Quad-Cycle                                                                            107\n",
       "Yeh Rishta Kya Kehlata Hai: Meet Naira's daughter!                                                      108\n",
       "રણછોડ રંગીલા ( ગોવાળીયો ભાગ-૩ )                                                                         109\n",
       "IPL 2020 - Patanjali IPL As Sponsor With 10 Big News                                                    110\n",
       "Gaadi Parking                                                                                           111\n",
       "CHICKEN UPPU Kari Prepared by Daddy Arumugam / Village food factory                                     112\n",
       "FilterCopy                                                                                              113\n",
       "सबसे बड़ी कोका कोला World's Biggest Coca Cola                                                           114\n",
       "World's Most Expensive Country                                                                          115\n",
       "Manasu Mamata                                                                                           116\n",
       "Asi Oh Hunne Aa (Official Video) Amrit Maan                                                             117\n",
       "Pogaru                                                                                                  118\n",
       "Sapna Meets Kashmira                                                                                    119\n",
       "Who is Binod                                                                                            120\n",
       "വിമാനയാത്രയെ  പേടിക്കേണ്ടതുണ്ടോ ?                                                                       121\n",
       "Kunwari Bohu                                                                                            122\n",
       "जन्माष्टमी पर कान्हाजी के साथ ऐसे बिताये अपना दिन                                                       123\n",
       "Ishare Tere Karti Nigah                                                                                 124\n",
       "Fakeer - Baba 5 (Full Song) Ajay Hooda                                                                  125\n",
       "கார்  விபத்துக்கு பிறகு முதல் சமையல்  வீடியோ உடலுக்கு தெம்பை  கொடுக்கும் நெஞ்சுஎலும்பு  குழம்பு         126\n",
       "GIVING WEIRD DISHES TO BROTHER                                                                          127\n",
       "Maya                                                                                                    128\n",
       "2020 Kia Sonet - Kia's next big thing                                                                   129\n",
       "Mazhaiyum Iravum                                                                                        130\n",
       "HE IS BINOD ?                                                                                           131\n",
       "ಆರೋಗ್ಯಕರವಾದ ಅವಲಕ್ಕಿ ಕೇಸರಿಬಾತ್ ಒಮ್ಮೆ ಮಾಡಿದರೆ ಸಾಕು ಪದೇ ಪದೇ ಈ ಸಿಹಿ ತಿನ್ಬೇಕು ಅನ್ಸುತ್ತೆHealthy Poha shira    132\n",
       "Mouna Raagam                                                                                            133\n",
       "Made in India Brands Kurti Suits Haul                                                                   134\n",
       "Chor Machaye Shor                                                                                       135\n",
       "Mumbiker Nikhil & Shanice Shrestha                                                                      136\n",
       "Thalapathy Vijay மகனை தாக்கி பேசிய Meera Mithun                                                         137\n",
       "No hand Challenge                                                                                       138\n",
       "Piche Piche                                                                                             139\n",
       "Ponnukku Thanga Manasu                                                                                  140\n",
       "Ramaa Raavi - How to Worship Lord Krishna on Krishnashtami?                                             141\n",
       "MEMERS VS TIKTOKERS                                                                                     142\n",
       "வீட்டில் எளிய முறையில் கிருஷ்ண ஜெயந்தி வழிபாடு // செல்வம் பெருக இந்த 3 பொருட்களை பூஜையில் வைக்க வேண்    143\n",
       "Khatron ke khilaadi made  in India  Jasmin basin & Bharti Singh to play Prank on Nia Sharma             144\n",
       "सूजी का चटपटा और आसान नाश्ता                                                                            145\n",
       "Sushant Suicide Case: रिया चक्रवर्ती से ED ने दागे 14 सवाल, आपके और सुशांत के बीच कैसे रिश्ते थे ?      146\n",
       "Kalyana Veedu - Episode 609                                                                             147\n",
       "Desi Mom & Beauty - Episode 1                                                                           148\n",
       "BOLLYWOOD KA PANCHANAMA                                                                                 149\n",
       "dtype: int64"
      ]
     },
     "execution_count": 56,
     "metadata": {},
     "output_type": "execute_result"
    }
   ],
   "source": [
    "indices[100:150]"
   ]
  },
  {
   "cell_type": "code",
   "execution_count": 57,
   "id": "7d338238-c5ec-405c-b91d-f3ce7149e327",
   "metadata": {},
   "outputs": [],
   "source": [
    "#pickle.dump(indices,open('indices.pkl','wb'))\n",
    "with open(\"indices.pkl\", \"wb\") as f: \n",
    "    joblib.dump(indices, f) "
   ]
  },
  {
   "cell_type": "markdown",
   "id": "36ed0806-0874-4f14-8bd9-69ed35802ad6",
   "metadata": {
    "id": "36ed0806-0874-4f14-8bd9-69ed35802ad6"
   },
   "source": [
    "### Create the dataset: Use Surprise's Dataset module to create a dataset object from your Pandas DataFrame."
   ]
  },
  {
   "cell_type": "code",
   "execution_count": 58,
   "id": "d129ae84-6cfb-4cf8-bd27-8b1c321451fe",
   "metadata": {
    "id": "d129ae84-6cfb-4cf8-bd27-8b1c321451fe"
   },
   "outputs": [],
   "source": [
    "reader=Reader(rating_scale=(0, 4))\n",
    "data = Dataset.load_from_df(youtube[['categoryId','video_id','Rating']], reader)#  'categoryId','video_id','channelId'"
   ]
  },
  {
   "cell_type": "markdown",
   "id": "b79fb4a5-5b73-4c67-a6cc-a12ab7ea9e16",
   "metadata": {
    "id": "b79fb4a5-5b73-4c67-a6cc-a12ab7ea9e16"
   },
   "source": [
    "### Select an algorithm: Choose a collaborative filtering algorithm to use with the Surprise library. Some popular algorithms include Singular Value Decomposition (SVD), k-Nearest Neighbors (k-NN), and Non-negative Matrix Factorization (NMF)."
   ]
  },
  {
   "cell_type": "code",
   "execution_count": 59,
   "id": "56fd950d-48a4-4d1a-ae65-e170ae3458d5",
   "metadata": {},
   "outputs": [
    {
     "name": "stdout",
     "output_type": "stream",
     "text": [
      "Estimating biases using als...\n",
      "Computing the msd similarity matrix...\n",
      "Done computing similarity matrix.\n",
      "Estimating biases using als...\n",
      "Computing the msd similarity matrix...\n",
      "Done computing similarity matrix.\n",
      "Estimating biases using als...\n",
      "Computing the msd similarity matrix...\n",
      "Done computing similarity matrix.\n",
      "Computing the msd similarity matrix...\n",
      "Done computing similarity matrix.\n",
      "Computing the msd similarity matrix...\n",
      "Done computing similarity matrix.\n",
      "Computing the msd similarity matrix...\n",
      "Done computing similarity matrix.\n"
     ]
    }
   ],
   "source": [
    "benchmark = []\n",
    "# Iterate over all algorithms\n",
    "for algorithm in [SVD(), SVDpp(), SlopeOne(), NMF(), NormalPredictor(), KNNBaseline(), KNNBasic()]:\n",
    "    # Perform cross validation\n",
    "    results = cross_validate(algorithm, data, measures=['MAE'], verbose=False,cv = 3)  # cv = 1 onluy try\n",
    "    \n",
    "    # Get results & append algorithm name\n",
    "    tmp = pd.DataFrame.from_dict(results).mean(axis=0)\n",
    "    tmp = tmp.append(pd.Series([str(algorithm).split(' ')[0].split('.')[-1]], index=['Algorithm']))\n",
    "    benchmark.append(tmp)"
   ]
  },
  {
   "cell_type": "code",
   "execution_count": 60,
   "id": "82ce68be-6435-4cb0-a97a-87ea72b76504",
   "metadata": {},
   "outputs": [],
   "source": [
    "surprise_results = pd.DataFrame(benchmark).set_index('Algorithm').sort_values('test_mae')"
   ]
  },
  {
   "cell_type": "code",
   "execution_count": 61,
   "id": "99dc3d19-13e1-4c68-95b9-67bf60ae646f",
   "metadata": {},
   "outputs": [
    {
     "data": {
      "text/html": [
       "<div>\n",
       "<style scoped>\n",
       "    .dataframe tbody tr th:only-of-type {\n",
       "        vertical-align: middle;\n",
       "    }\n",
       "\n",
       "    .dataframe tbody tr th {\n",
       "        vertical-align: top;\n",
       "    }\n",
       "\n",
       "    .dataframe thead th {\n",
       "        text-align: right;\n",
       "    }\n",
       "</style>\n",
       "<table border=\"1\" class=\"dataframe\">\n",
       "  <thead>\n",
       "    <tr style=\"text-align: right;\">\n",
       "      <th></th>\n",
       "      <th>test_mae</th>\n",
       "      <th>fit_time</th>\n",
       "      <th>test_time</th>\n",
       "    </tr>\n",
       "    <tr>\n",
       "      <th>Algorithm</th>\n",
       "      <th></th>\n",
       "      <th></th>\n",
       "      <th></th>\n",
       "    </tr>\n",
       "  </thead>\n",
       "  <tbody>\n",
       "    <tr>\n",
       "      <th>KNNBaseline</th>\n",
       "      <td>0.271471</td>\n",
       "      <td>0.052099</td>\n",
       "      <td>0.131551</td>\n",
       "    </tr>\n",
       "    <tr>\n",
       "      <th>SlopeOne</th>\n",
       "      <td>0.283524</td>\n",
       "      <td>4.556690</td>\n",
       "      <td>18.443906</td>\n",
       "    </tr>\n",
       "    <tr>\n",
       "      <th>KNNBasic</th>\n",
       "      <td>0.283847</td>\n",
       "      <td>0.007494</td>\n",
       "      <td>0.102060</td>\n",
       "    </tr>\n",
       "    <tr>\n",
       "      <th>NMF</th>\n",
       "      <td>0.293733</td>\n",
       "      <td>0.702378</td>\n",
       "      <td>0.062654</td>\n",
       "    </tr>\n",
       "    <tr>\n",
       "      <th>SVDpp</th>\n",
       "      <td>0.346799</td>\n",
       "      <td>162.522396</td>\n",
       "      <td>46.896243</td>\n",
       "    </tr>\n",
       "    <tr>\n",
       "      <th>SVD</th>\n",
       "      <td>0.426704</td>\n",
       "      <td>0.387405</td>\n",
       "      <td>0.362012</td>\n",
       "    </tr>\n",
       "    <tr>\n",
       "      <th>NormalPredictor</th>\n",
       "      <td>1.516644</td>\n",
       "      <td>0.031652</td>\n",
       "      <td>0.047435</td>\n",
       "    </tr>\n",
       "  </tbody>\n",
       "</table>\n",
       "</div>"
      ],
      "text/plain": [
       "                 test_mae    fit_time  test_time\n",
       "Algorithm                                       \n",
       "KNNBaseline      0.271471    0.052099   0.131551\n",
       "SlopeOne         0.283524    4.556690  18.443906\n",
       "KNNBasic         0.283847    0.007494   0.102060\n",
       "NMF              0.293733    0.702378   0.062654\n",
       "SVDpp            0.346799  162.522396  46.896243\n",
       "SVD              0.426704    0.387405   0.362012\n",
       "NormalPredictor  1.516644    0.031652   0.047435"
      ]
     },
     "execution_count": 61,
     "metadata": {},
     "output_type": "execute_result"
    }
   ],
   "source": [
    "surprise_results"
   ]
  },
  {
   "cell_type": "markdown",
   "id": "27c82e02-bd49-4c57-89ac-7b0e9f390a3b",
   "metadata": {
    "id": "27c82e02-bd49-4c57-89ac-7b0e9f390a3b",
    "tags": []
   },
   "source": [
    "### Hyperparameter tuning: Finally, you may want to fine-tune the hyperparameters of your model to improve its performance. The Surprise library includes functions for performing grid search or random search to find the optimal hyperparameters for your model."
   ]
  },
  {
   "cell_type": "code",
   "execution_count": 62,
   "id": "d8a7faeb-921c-42e8-9eda-7dddc9331059",
   "metadata": {},
   "outputs": [],
   "source": [
    "from surprise import Dataset, SVD\n",
    "from surprise.model_selection import GridSearchCV"
   ]
  },
  {
   "cell_type": "code",
   "execution_count": 63,
   "id": "54feb77d-29a1-4233-a4be-7526047659fa",
   "metadata": {
    "id": "54feb77d-29a1-4233-a4be-7526047659fa"
   },
   "outputs": [],
   "source": [
    "knn = KNNBaseline()\n",
    "param_grid = {\"n_epochs\": [250,500,650],\"k\" :[10,20,30,40,50]}\n",
    "gs = GridSearchCV(KNNBaseline, param_grid, measures=[\"rmse\", \"mae\"], cv=3)"
   ]
  },
  {
   "cell_type": "code",
   "execution_count": 64,
   "id": "220634f7-7702-46a5-ac5b-50fdd99ce17b",
   "metadata": {
    "id": "220634f7-7702-46a5-ac5b-50fdd99ce17b"
   },
   "outputs": [
    {
     "name": "stdout",
     "output_type": "stream",
     "text": [
      "Estimating biases using als...\n",
      "Computing the msd similarity matrix...\n",
      "Done computing similarity matrix.\n",
      "Estimating biases using als...\n",
      "Computing the msd similarity matrix...\n",
      "Done computing similarity matrix.\n",
      "Estimating biases using als...\n",
      "Computing the msd similarity matrix...\n",
      "Done computing similarity matrix.\n",
      "Estimating biases using als...\n",
      "Computing the msd similarity matrix...\n",
      "Done computing similarity matrix.\n",
      "Estimating biases using als...\n",
      "Computing the msd similarity matrix...\n",
      "Done computing similarity matrix.\n",
      "Estimating biases using als...\n",
      "Computing the msd similarity matrix...\n",
      "Done computing similarity matrix.\n",
      "Estimating biases using als...\n",
      "Computing the msd similarity matrix...\n",
      "Done computing similarity matrix.\n",
      "Estimating biases using als...\n",
      "Computing the msd similarity matrix...\n",
      "Done computing similarity matrix.\n",
      "Estimating biases using als...\n",
      "Computing the msd similarity matrix...\n",
      "Done computing similarity matrix.\n",
      "Estimating biases using als...\n",
      "Computing the msd similarity matrix...\n",
      "Done computing similarity matrix.\n",
      "Estimating biases using als...\n",
      "Computing the msd similarity matrix...\n",
      "Done computing similarity matrix.\n",
      "Estimating biases using als...\n",
      "Computing the msd similarity matrix...\n",
      "Done computing similarity matrix.\n",
      "Estimating biases using als...\n",
      "Computing the msd similarity matrix...\n",
      "Done computing similarity matrix.\n",
      "Estimating biases using als...\n",
      "Computing the msd similarity matrix...\n",
      "Done computing similarity matrix.\n",
      "Estimating biases using als...\n",
      "Computing the msd similarity matrix...\n",
      "Done computing similarity matrix.\n",
      "Estimating biases using als...\n",
      "Computing the msd similarity matrix...\n",
      "Done computing similarity matrix.\n",
      "Estimating biases using als...\n",
      "Computing the msd similarity matrix...\n",
      "Done computing similarity matrix.\n",
      "Estimating biases using als...\n",
      "Computing the msd similarity matrix...\n",
      "Done computing similarity matrix.\n",
      "Estimating biases using als...\n",
      "Computing the msd similarity matrix...\n",
      "Done computing similarity matrix.\n",
      "Estimating biases using als...\n",
      "Computing the msd similarity matrix...\n",
      "Done computing similarity matrix.\n",
      "Estimating biases using als...\n",
      "Computing the msd similarity matrix...\n",
      "Done computing similarity matrix.\n",
      "Estimating biases using als...\n",
      "Computing the msd similarity matrix...\n",
      "Done computing similarity matrix.\n",
      "Estimating biases using als...\n",
      "Computing the msd similarity matrix...\n",
      "Done computing similarity matrix.\n",
      "Estimating biases using als...\n",
      "Computing the msd similarity matrix...\n",
      "Done computing similarity matrix.\n",
      "Estimating biases using als...\n",
      "Computing the msd similarity matrix...\n",
      "Done computing similarity matrix.\n",
      "Estimating biases using als...\n",
      "Computing the msd similarity matrix...\n",
      "Done computing similarity matrix.\n",
      "Estimating biases using als...\n",
      "Computing the msd similarity matrix...\n",
      "Done computing similarity matrix.\n",
      "Estimating biases using als...\n",
      "Computing the msd similarity matrix...\n",
      "Done computing similarity matrix.\n",
      "Estimating biases using als...\n",
      "Computing the msd similarity matrix...\n",
      "Done computing similarity matrix.\n",
      "Estimating biases using als...\n",
      "Computing the msd similarity matrix...\n",
      "Done computing similarity matrix.\n",
      "Estimating biases using als...\n",
      "Computing the msd similarity matrix...\n",
      "Done computing similarity matrix.\n",
      "Estimating biases using als...\n",
      "Computing the msd similarity matrix...\n",
      "Done computing similarity matrix.\n",
      "Estimating biases using als...\n",
      "Computing the msd similarity matrix...\n",
      "Done computing similarity matrix.\n",
      "Estimating biases using als...\n",
      "Computing the msd similarity matrix...\n",
      "Done computing similarity matrix.\n",
      "Estimating biases using als...\n",
      "Computing the msd similarity matrix...\n",
      "Done computing similarity matrix.\n",
      "Estimating biases using als...\n",
      "Computing the msd similarity matrix...\n",
      "Done computing similarity matrix.\n",
      "Estimating biases using als...\n",
      "Computing the msd similarity matrix...\n",
      "Done computing similarity matrix.\n",
      "Estimating biases using als...\n",
      "Computing the msd similarity matrix...\n",
      "Done computing similarity matrix.\n",
      "Estimating biases using als...\n",
      "Computing the msd similarity matrix...\n",
      "Done computing similarity matrix.\n",
      "Estimating biases using als...\n",
      "Computing the msd similarity matrix...\n",
      "Done computing similarity matrix.\n",
      "Estimating biases using als...\n",
      "Computing the msd similarity matrix...\n",
      "Done computing similarity matrix.\n",
      "Estimating biases using als...\n",
      "Computing the msd similarity matrix...\n",
      "Done computing similarity matrix.\n",
      "Estimating biases using als...\n",
      "Computing the msd similarity matrix...\n",
      "Done computing similarity matrix.\n",
      "Estimating biases using als...\n",
      "Computing the msd similarity matrix...\n",
      "Done computing similarity matrix.\n",
      "Estimating biases using als...\n",
      "Computing the msd similarity matrix...\n",
      "Done computing similarity matrix.\n"
     ]
    }
   ],
   "source": [
    "gs.fit(data)"
   ]
  },
  {
   "cell_type": "code",
   "execution_count": 65,
   "id": "7b2d8981-4523-4788-9b5d-f09b1a624c73",
   "metadata": {
    "id": "7b2d8981-4523-4788-9b5d-f09b1a624c73",
    "outputId": "e6df0abe-2f8b-437c-9cfb-9ae137c3a713"
   },
   "outputs": [
    {
     "name": "stdout",
     "output_type": "stream",
     "text": [
      "{'n_epochs': 250, 'k': 10}\n"
     ]
    }
   ],
   "source": [
    "\n",
    "# combination of parameters that gave the best RMSE score\n",
    "print(gs.best_params[\"mae\"])"
   ]
  },
  {
   "cell_type": "markdown",
   "id": "6d3eb876-afd7-4be6-8676-08545ef33a25",
   "metadata": {},
   "source": [
    "### Model training & Model evaluation: After training the model, evaluate its performance using metrics such as Root Mean Squared Error (RMSE), Mean Absolute Error (MAE)"
   ]
  },
  {
   "cell_type": "code",
   "execution_count": 66,
   "id": "d89eb1d0-5da3-4377-904c-220c72544e2f",
   "metadata": {
    "id": "d89eb1d0-5da3-4377-904c-220c72544e2f",
    "outputId": "d19d9e4c-cbac-473a-e827-72e87e86667c"
   },
   "outputs": [
    {
     "data": {
      "text/plain": [
       "{'test_rmse': array([0.54682804, 0.5592981 , 0.54715568]),\n",
       " 'test_mae': array([0.26910918, 0.27455702, 0.27083453]),\n",
       " 'fit_time': (0.05290627479553223, 0.06251931190490723, 0.0468897819519043),\n",
       " 'test_time': (0.14154696464538574, 0.12503886222839355, 0.10940933227539062)}"
      ]
     },
     "execution_count": 66,
     "metadata": {},
     "output_type": "execute_result"
    }
   ],
   "source": [
    "knn_baseline = KNNBaseline(n_epochs= 250,k=10, min_k=1,verbose=False)\n",
    "cross_validate(knn_baseline, data, measures=['RMSE','MAE'],cv=3)"
   ]
  },
  {
   "cell_type": "code",
   "execution_count": 67,
   "id": "bf6a4154-0310-4584-87bf-6e9afc18a066",
   "metadata": {
    "id": "bf6a4154-0310-4584-87bf-6e9afc18a066",
    "outputId": "9897854a-4bde-4b43-b93c-4e6d29bc2882"
   },
   "outputs": [
    {
     "data": {
      "text/plain": [
       "<surprise.prediction_algorithms.knns.KNNBaseline at 0x2cf26d7fd60>"
      ]
     },
     "execution_count": 67,
     "metadata": {},
     "output_type": "execute_result"
    }
   ],
   "source": [
    "trainset = data.build_full_trainset()\n",
    "knn_baseline.fit(trainset)"
   ]
  },
  {
   "cell_type": "code",
   "execution_count": 68,
   "id": "f38cf519-091f-416f-99d3-e1ffa4f51080",
   "metadata": {
    "id": "f38cf519-091f-416f-99d3-e1ffa4f51080"
   },
   "outputs": [],
   "source": [
    "#youtube[youtube['likes'] >= 5000]"
   ]
  },
  {
   "cell_type": "markdown",
   "id": "48f572e8-4fa3-4ab3-abe9-934348b38359",
   "metadata": {
    "id": "48f572e8-4fa3-4ab3-abe9-934348b38359"
   },
   "source": [
    "### Generate recommendations: Use the trained model to generate personalized recommendations for users based on their past interactions with items."
   ]
  },
  {
   "cell_type": "code",
   "execution_count": 70,
   "id": "8c677ff2-4ed6-4b54-a51a-c9073dd731c8",
   "metadata": {
    "id": "8c677ff2-4ed6-4b54-a51a-c9073dd731c8",
    "outputId": "0eb045a3-0771-4664-e04e-8cc959b8063e"
   },
   "outputs": [
    {
     "data": {
      "text/plain": [
       "Prediction(uid=1, iid=302, r_ui=3, est=2.0041456740223786, details={'was_impossible': False})"
      ]
     },
     "execution_count": 70,
     "metadata": {},
     "output_type": "execute_result"
    }
   ],
   "source": [
    "knn_baseline.predict(1, 302, 3)"
   ]
  },
  {
   "cell_type": "code",
   "execution_count": 71,
   "id": "c0809236-71b3-43d7-b02e-78bab501cfdd",
   "metadata": {},
   "outputs": [],
   "source": [
    "# Save the SVD object as a pickle file\n",
    "with open('KNNBaseline.pkl', 'wb') as f:\n",
    "    joblib.dump(knn_baseline, f)\n"
   ]
  },
  {
   "cell_type": "code",
   "execution_count": 72,
   "id": "35bcf1e3-c564-4af0-b196-eaf1f49ac54d",
   "metadata": {
    "id": "35bcf1e3-c564-4af0-b196-eaf1f49ac54d"
   },
   "outputs": [],
   "source": [
    "#youtube[youtube['categoryId'] ==1]"
   ]
  },
  {
   "cell_type": "markdown",
   "id": "93d41a0b-3e73-4ad8-8245-4d99cd9170f4",
   "metadata": {
    "id": "93d41a0b-3e73-4ad8-8245-4d99cd9170f4"
   },
   "source": [
    "### Hybrid :\n",
    "### A hybrid recommendation system combines multiple recommendation techniques, such as content-based and collaborative filtering, to provide more accurate and diverse recommendations to users. The system involves collecting user behavior and preference data, selecting and training the recommendation algorithms, combining the recommendations, and evaluating and refining the system. Additional features, such as user demographics, can be incorporated for further personalization. The key is to fine-tune the system to meet the specific needs of the application."
   ]
  },
  {
   "cell_type": "code",
   "execution_count": 73,
   "id": "ed34423d-4d29-47cc-9365-bfe3db3ef03a",
   "metadata": {
    "id": "ed34423d-4d29-47cc-9365-bfe3db3ef03a",
    "outputId": "3960cdc5-4568-4ac2-c127-7a838761cc9c"
   },
   "outputs": [
    {
     "data": {
      "text/html": [
       "<div>\n",
       "<style scoped>\n",
       "    .dataframe tbody tr th:only-of-type {\n",
       "        vertical-align: middle;\n",
       "    }\n",
       "\n",
       "    .dataframe tbody tr th {\n",
       "        vertical-align: top;\n",
       "    }\n",
       "\n",
       "    .dataframe thead th {\n",
       "        text-align: right;\n",
       "    }\n",
       "</style>\n",
       "<table border=\"1\" class=\"dataframe\">\n",
       "  <thead>\n",
       "    <tr style=\"text-align: right;\">\n",
       "      <th></th>\n",
       "      <th>title</th>\n",
       "      <th>likes</th>\n",
       "      <th>categoryId</th>\n",
       "      <th>video_id</th>\n",
       "      <th>thumbnail_link</th>\n",
       "      <th>Rating</th>\n",
       "    </tr>\n",
       "  </thead>\n",
       "  <tbody>\n",
       "    <tr>\n",
       "      <th>0</th>\n",
       "      <td>Sadak 2</td>\n",
       "      <td>224925</td>\n",
       "      <td>24</td>\n",
       "      <td>Iot0eF6EoNA</td>\n",
       "      <td>https://i.ytimg.com/vi/Iot0eF6EoNA/default.jpg</td>\n",
       "      <td>4</td>\n",
       "    </tr>\n",
       "    <tr>\n",
       "      <th>1</th>\n",
       "      <td>Kya Baat Aa : Karan Aujla (Official Video) Tania</td>\n",
       "      <td>655450</td>\n",
       "      <td>10</td>\n",
       "      <td>x-KbnJ9fvJc</td>\n",
       "      <td>https://i.ytimg.com/vi/x-KbnJ9fvJc/default.jpg</td>\n",
       "      <td>4</td>\n",
       "    </tr>\n",
       "    <tr>\n",
       "      <th>2</th>\n",
       "      <td>Diljit Dosanjh: CLASH (Official) Music Video</td>\n",
       "      <td>296533</td>\n",
       "      <td>10</td>\n",
       "      <td>KX06ksuS6Xo</td>\n",
       "      <td>https://i.ytimg.com/vi/KX06ksuS6Xo/default.jpg</td>\n",
       "      <td>4</td>\n",
       "    </tr>\n",
       "    <tr>\n",
       "      <th>3</th>\n",
       "      <td>Dil Ko Maine Di Kasam Video</td>\n",
       "      <td>743931</td>\n",
       "      <td>10</td>\n",
       "      <td>UsMRgnTcchY</td>\n",
       "      <td>https://i.ytimg.com/vi/UsMRgnTcchY/default.jpg</td>\n",
       "      <td>4</td>\n",
       "    </tr>\n",
       "    <tr>\n",
       "      <th>4</th>\n",
       "      <td>Baarish (Official Video) Payal Dev,Stebin Ben</td>\n",
       "      <td>268817</td>\n",
       "      <td>10</td>\n",
       "      <td>WNSEXJJhKTU</td>\n",
       "      <td>https://i.ytimg.com/vi/WNSEXJJhKTU/default.jpg</td>\n",
       "      <td>4</td>\n",
       "    </tr>\n",
       "  </tbody>\n",
       "</table>\n",
       "</div>"
      ],
      "text/plain": [
       "                                              title   likes  categoryId  \\\n",
       "0                                           Sadak 2  224925          24   \n",
       "1  Kya Baat Aa : Karan Aujla (Official Video) Tania  655450          10   \n",
       "2      Diljit Dosanjh: CLASH (Official) Music Video  296533          10   \n",
       "3                       Dil Ko Maine Di Kasam Video  743931          10   \n",
       "4     Baarish (Official Video) Payal Dev,Stebin Ben  268817          10   \n",
       "\n",
       "      video_id                                  thumbnail_link Rating  \n",
       "0  Iot0eF6EoNA  https://i.ytimg.com/vi/Iot0eF6EoNA/default.jpg      4  \n",
       "1  x-KbnJ9fvJc  https://i.ytimg.com/vi/x-KbnJ9fvJc/default.jpg      4  \n",
       "2  KX06ksuS6Xo  https://i.ytimg.com/vi/KX06ksuS6Xo/default.jpg      4  \n",
       "3  UsMRgnTcchY  https://i.ytimg.com/vi/UsMRgnTcchY/default.jpg      4  \n",
       "4  WNSEXJJhKTU  https://i.ytimg.com/vi/WNSEXJJhKTU/default.jpg      4  "
      ]
     },
     "execution_count": 73,
     "metadata": {},
     "output_type": "execute_result"
    }
   ],
   "source": [
    "smd =YouTube_df[['title','likes','categoryId','video_id','thumbnail_link','Rating']]\n",
    "smd.head(5)"
   ]
  },
  {
   "cell_type": "code",
   "execution_count": null,
   "id": "9a795ea5-37d7-4ee3-8e09-ab14ffaa2142",
   "metadata": {},
   "outputs": [],
   "source": []
  },
  {
   "cell_type": "code",
   "execution_count": 74,
   "id": "2e185ff8-dbd1-4cc0-8256-0add7dbd8752",
   "metadata": {
    "id": "2e185ff8-dbd1-4cc0-8256-0add7dbd8752",
    "outputId": "a918cc02-b5bd-4aac-97f7-8f54551f6d5a"
   },
   "outputs": [
    {
     "data": {
      "text/html": [
       "<div>\n",
       "<style scoped>\n",
       "    .dataframe tbody tr th:only-of-type {\n",
       "        vertical-align: middle;\n",
       "    }\n",
       "\n",
       "    .dataframe tbody tr th {\n",
       "        vertical-align: top;\n",
       "    }\n",
       "\n",
       "    .dataframe thead th {\n",
       "        text-align: right;\n",
       "    }\n",
       "</style>\n",
       "<table border=\"1\" class=\"dataframe\">\n",
       "  <thead>\n",
       "    <tr style=\"text-align: right;\">\n",
       "      <th></th>\n",
       "      <th>video_id</th>\n",
       "      <th>categoryId</th>\n",
       "      <th>channelId</th>\n",
       "    </tr>\n",
       "    <tr>\n",
       "      <th>title</th>\n",
       "      <th></th>\n",
       "      <th></th>\n",
       "      <th></th>\n",
       "    </tr>\n",
       "  </thead>\n",
       "  <tbody>\n",
       "    <tr>\n",
       "      <th>Sadak 2</th>\n",
       "      <td>Iot0eF6EoNA</td>\n",
       "      <td>24</td>\n",
       "      <td>UCGqvJPRcv7aVFun-eTsatcA</td>\n",
       "    </tr>\n",
       "    <tr>\n",
       "      <th>Kya Baat Aa : Karan Aujla (Official Video) Tania</th>\n",
       "      <td>x-KbnJ9fvJc</td>\n",
       "      <td>10</td>\n",
       "      <td>UCm9SZAl03Rev9sFwloCdz1g</td>\n",
       "    </tr>\n",
       "  </tbody>\n",
       "</table>\n",
       "</div>"
      ],
      "text/plain": [
       "                                                     video_id  categoryId  \\\n",
       "title                                                                       \n",
       "Sadak 2                                           Iot0eF6EoNA          24   \n",
       "Kya Baat Aa : Karan Aujla (Official Video) Tania  x-KbnJ9fvJc          10   \n",
       "\n",
       "                                                                 channelId  \n",
       "title                                                                       \n",
       "Sadak 2                                           UCGqvJPRcv7aVFun-eTsatcA  \n",
       "Kya Baat Aa : Karan Aujla (Official Video) Tania  UCm9SZAl03Rev9sFwloCdz1g  "
      ]
     },
     "execution_count": 74,
     "metadata": {},
     "output_type": "execute_result"
    }
   ],
   "source": [
    "id_map= YouTube_df[['video_id','title','categoryId','channelId']].set_index('title')\n",
    "id_map.head(2)#\tmovieId\tid  title\t"
   ]
  },
  {
   "cell_type": "code",
   "execution_count": 75,
   "id": "5be672b7-3387-4082-b586-b34be794ae70",
   "metadata": {
    "id": "5be672b7-3387-4082-b586-b34be794ae70"
   },
   "outputs": [],
   "source": [
    "indices_map = id_map.set_index('categoryId')"
   ]
  },
  {
   "cell_type": "code",
   "execution_count": 76,
   "id": "c2aa1c6c-559d-4c28-9597-36595c3e5325",
   "metadata": {
    "id": "c2aa1c6c-559d-4c28-9597-36595c3e5325",
    "outputId": "35b4e1a6-b5d3-4bf2-84fb-eb16b366118c"
   },
   "outputs": [
    {
     "data": {
      "text/html": [
       "<div>\n",
       "<style scoped>\n",
       "    .dataframe tbody tr th:only-of-type {\n",
       "        vertical-align: middle;\n",
       "    }\n",
       "\n",
       "    .dataframe tbody tr th {\n",
       "        vertical-align: top;\n",
       "    }\n",
       "\n",
       "    .dataframe thead th {\n",
       "        text-align: right;\n",
       "    }\n",
       "</style>\n",
       "<table border=\"1\" class=\"dataframe\">\n",
       "  <thead>\n",
       "    <tr style=\"text-align: right;\">\n",
       "      <th></th>\n",
       "      <th>video_id</th>\n",
       "      <th>channelId</th>\n",
       "    </tr>\n",
       "    <tr>\n",
       "      <th>categoryId</th>\n",
       "      <th></th>\n",
       "      <th></th>\n",
       "    </tr>\n",
       "  </thead>\n",
       "  <tbody>\n",
       "    <tr>\n",
       "      <th>24</th>\n",
       "      <td>Iot0eF6EoNA</td>\n",
       "      <td>UCGqvJPRcv7aVFun-eTsatcA</td>\n",
       "    </tr>\n",
       "    <tr>\n",
       "      <th>10</th>\n",
       "      <td>x-KbnJ9fvJc</td>\n",
       "      <td>UCm9SZAl03Rev9sFwloCdz1g</td>\n",
       "    </tr>\n",
       "  </tbody>\n",
       "</table>\n",
       "</div>"
      ],
      "text/plain": [
       "               video_id                 channelId\n",
       "categoryId                                       \n",
       "24          Iot0eF6EoNA  UCGqvJPRcv7aVFun-eTsatcA\n",
       "10          x-KbnJ9fvJc  UCm9SZAl03Rev9sFwloCdz1g"
      ]
     },
     "execution_count": 76,
     "metadata": {},
     "output_type": "execute_result"
    }
   ],
   "source": [
    "indices_map.head(2)"
   ]
  },
  {
   "cell_type": "code",
   "execution_count": 77,
   "id": "6d9de120-75a6-49c7-ae5a-d6d94e943633",
   "metadata": {},
   "outputs": [],
   "source": [
    "#pickle.dump(indices_map,open('indices_map.pkl','wb'))\n",
    "#indices_map=indices_map.to_csv('indices_map.csv')\n",
    "with open('indices_map.pkl', 'wb') as f:\n",
    "    joblib.dump(indices_map, f)"
   ]
  },
  {
   "cell_type": "code",
   "execution_count": 78,
   "id": "07624718-2d25-45b0-8283-4658b5c8f8d0",
   "metadata": {},
   "outputs": [
    {
     "data": {
      "text/html": [
       "<div>\n",
       "<style scoped>\n",
       "    .dataframe tbody tr th:only-of-type {\n",
       "        vertical-align: middle;\n",
       "    }\n",
       "\n",
       "    .dataframe tbody tr th {\n",
       "        vertical-align: top;\n",
       "    }\n",
       "\n",
       "    .dataframe thead th {\n",
       "        text-align: right;\n",
       "    }\n",
       "</style>\n",
       "<table border=\"1\" class=\"dataframe\">\n",
       "  <thead>\n",
       "    <tr style=\"text-align: right;\">\n",
       "      <th></th>\n",
       "      <th>video_id</th>\n",
       "      <th>channelId</th>\n",
       "    </tr>\n",
       "    <tr>\n",
       "      <th>categoryId</th>\n",
       "      <th></th>\n",
       "      <th></th>\n",
       "    </tr>\n",
       "  </thead>\n",
       "  <tbody>\n",
       "    <tr>\n",
       "      <th>24</th>\n",
       "      <td>Iot0eF6EoNA</td>\n",
       "      <td>UCGqvJPRcv7aVFun-eTsatcA</td>\n",
       "    </tr>\n",
       "    <tr>\n",
       "      <th>10</th>\n",
       "      <td>x-KbnJ9fvJc</td>\n",
       "      <td>UCm9SZAl03Rev9sFwloCdz1g</td>\n",
       "    </tr>\n",
       "    <tr>\n",
       "      <th>10</th>\n",
       "      <td>KX06ksuS6Xo</td>\n",
       "      <td>UCZRdNleCgW-BGUJf-bbjzQg</td>\n",
       "    </tr>\n",
       "    <tr>\n",
       "      <th>10</th>\n",
       "      <td>UsMRgnTcchY</td>\n",
       "      <td>UCq-Fj5jknLsUf-MWSy4_brA</td>\n",
       "    </tr>\n",
       "    <tr>\n",
       "      <th>10</th>\n",
       "      <td>WNSEXJJhKTU</td>\n",
       "      <td>UCye6Oz0mg46S362LwARGVcA</td>\n",
       "    </tr>\n",
       "    <tr>\n",
       "      <th>...</th>\n",
       "      <td>...</td>\n",
       "      <td>...</td>\n",
       "    </tr>\n",
       "    <tr>\n",
       "      <th>10</th>\n",
       "      <td>fDzf3eB6R4E</td>\n",
       "      <td>UCLsMef624nZ4ME6WoSElPTg</td>\n",
       "    </tr>\n",
       "    <tr>\n",
       "      <th>17</th>\n",
       "      <td>q3ydfiwIN9U</td>\n",
       "      <td>UCujuVKmt_utAQZJghxlRMIQ</td>\n",
       "    </tr>\n",
       "    <tr>\n",
       "      <th>24</th>\n",
       "      <td>kFG5YliTlLU</td>\n",
       "      <td>UC6-F5tO8uklgE9Zy8IvbdFw</td>\n",
       "    </tr>\n",
       "    <tr>\n",
       "      <th>24</th>\n",
       "      <td>5lb4DUPXTao</td>\n",
       "      <td>UC6-F5tO8uklgE9Zy8IvbdFw</td>\n",
       "    </tr>\n",
       "    <tr>\n",
       "      <th>24</th>\n",
       "      <td>Epg2AsxKW1M</td>\n",
       "      <td>UCnSFZ-olBoLGLRUS_3RI2Aw</td>\n",
       "    </tr>\n",
       "  </tbody>\n",
       "</table>\n",
       "<p>7312 rows × 2 columns</p>\n",
       "</div>"
      ],
      "text/plain": [
       "               video_id                 channelId\n",
       "categoryId                                       \n",
       "24          Iot0eF6EoNA  UCGqvJPRcv7aVFun-eTsatcA\n",
       "10          x-KbnJ9fvJc  UCm9SZAl03Rev9sFwloCdz1g\n",
       "10          KX06ksuS6Xo  UCZRdNleCgW-BGUJf-bbjzQg\n",
       "10          UsMRgnTcchY  UCq-Fj5jknLsUf-MWSy4_brA\n",
       "10          WNSEXJJhKTU  UCye6Oz0mg46S362LwARGVcA\n",
       "...                 ...                       ...\n",
       "10          fDzf3eB6R4E  UCLsMef624nZ4ME6WoSElPTg\n",
       "17          q3ydfiwIN9U  UCujuVKmt_utAQZJghxlRMIQ\n",
       "24          kFG5YliTlLU  UC6-F5tO8uklgE9Zy8IvbdFw\n",
       "24          5lb4DUPXTao  UC6-F5tO8uklgE9Zy8IvbdFw\n",
       "24          Epg2AsxKW1M  UCnSFZ-olBoLGLRUS_3RI2Aw\n",
       "\n",
       "[7312 rows x 2 columns]"
      ]
     },
     "execution_count": 78,
     "metadata": {},
     "output_type": "execute_result"
    }
   ],
   "source": [
    "indices_map"
   ]
  },
  {
   "cell_type": "code",
   "execution_count": 79,
   "id": "2d7163de-f564-419d-93be-6a2057099d46",
   "metadata": {
    "id": "2d7163de-f564-419d-93be-6a2057099d46",
    "outputId": "7eab1266-34a2-47ca-fcc6-ca59669205b1"
   },
   "outputs": [
    {
     "data": {
      "text/plain": [
       "24"
      ]
     },
     "execution_count": 79,
     "metadata": {},
     "output_type": "execute_result"
    }
   ],
   "source": [
    "id_map.loc['Sadak 2']['categoryId']"
   ]
  },
  {
   "cell_type": "markdown",
   "id": "d2d331e9-f82a-4739-9967-84a7dd45145b",
   "metadata": {
    "id": "d2d331e9-f82a-4739-9967-84a7dd45145b"
   },
   "source": [
    "### Prediction "
   ]
  },
  {
   "cell_type": "code",
   "execution_count": 80,
   "id": "d0cb680b-57ed-42de-a248-84f46c0ed475",
   "metadata": {},
   "outputs": [],
   "source": [
    "def hybrid(userId, title):\n",
    "    index = new[new['title'] == title].index[0]\n",
    "    query_vector = vector_reduced[index].reshape(1, -1)\n",
    "    distances, indices = knn_model.kneighbors(query_vector)\n",
    "\n",
    "    # Extract the indices of the recommended videos (excluding the query itself)\n",
    "    video_indices = indices[0][1:6]\n",
    "    \n",
    "    # Use .iloc to select rows by integer position from the 'smd' DataFrame\n",
    "    recommended_videos = smd.iloc[video_indices][['title', 'categoryId', 'video_id', 'likes']]\n",
    "    \n",
    "    # Calculate the 'est' value for each recommended video based on user preferences\n",
    "    recommended_videos['est'] = recommended_videos['categoryId'].apply(lambda x: knn_baseline.predict(userId, indices_map.iloc[x]['video_id']).est)\n",
    "    \n",
    "    # Sort the recommended videos by the number of likes in descending order\n",
    "    recommended_videos = recommended_videos.sort_values('likes', ascending=False)\n",
    "    \n",
    "    # Return the top 5 recommended videos\n",
    "    return recommended_videos.head(5)\n"
   ]
  },
  {
   "cell_type": "code",
   "execution_count": 82,
   "id": "5394add1-c305-4528-b3ef-ff24a591dd7f",
   "metadata": {
    "id": "5394add1-c305-4528-b3ef-ff24a591dd7f",
    "outputId": "2c5e7981-cdfa-4a0b-cdd3-69bbaf188683"
   },
   "outputs": [
    {
     "data": {
      "text/plain": [
       "Prediction(uid=1, iid='lw4ZqLZSBow', r_ui=None, est=2.793735047079548, details={'actual_k': 0, 'was_impossible': False})"
      ]
     },
     "execution_count": 82,
     "metadata": {},
     "output_type": "execute_result"
    }
   ],
   "source": [
    " knn_baseline.predict(1, indices_map.iloc[24]['video_id'])"
   ]
  },
  {
   "cell_type": "code",
   "execution_count": 83,
   "id": "8b0d54ce-c757-4879-b7aa-7642d0da704c",
   "metadata": {},
   "outputs": [
    {
     "data": {
      "text/html": [
       "<div>\n",
       "<style scoped>\n",
       "    .dataframe tbody tr th:only-of-type {\n",
       "        vertical-align: middle;\n",
       "    }\n",
       "\n",
       "    .dataframe tbody tr th {\n",
       "        vertical-align: top;\n",
       "    }\n",
       "\n",
       "    .dataframe thead th {\n",
       "        text-align: right;\n",
       "    }\n",
       "</style>\n",
       "<table border=\"1\" class=\"dataframe\">\n",
       "  <thead>\n",
       "    <tr style=\"text-align: right;\">\n",
       "      <th></th>\n",
       "      <th>title</th>\n",
       "      <th>categoryId</th>\n",
       "      <th>video_id</th>\n",
       "      <th>likes</th>\n",
       "      <th>est</th>\n",
       "    </tr>\n",
       "  </thead>\n",
       "  <tbody>\n",
       "    <tr>\n",
       "      <th>2281</th>\n",
       "      <td>Precious moments: PM Modi feeding peacocks at ...</td>\n",
       "      <td>25</td>\n",
       "      <td>axbpbQTIiZo</td>\n",
       "      <td>248007</td>\n",
       "      <td>2.121955</td>\n",
       "    </tr>\n",
       "    <tr>\n",
       "      <th>13394</th>\n",
       "      <td>PM Modi's address to the nation</td>\n",
       "      <td>25</td>\n",
       "      <td>ClSk5l6OBx4</td>\n",
       "      <td>57306</td>\n",
       "      <td>2.121955</td>\n",
       "    </tr>\n",
       "    <tr>\n",
       "      <th>22694</th>\n",
       "      <td>Details of the New Parliament Building</td>\n",
       "      <td>25</td>\n",
       "      <td>_AOzpFXocKI</td>\n",
       "      <td>49356</td>\n",
       "      <td>2.121955</td>\n",
       "    </tr>\n",
       "    <tr>\n",
       "      <th>29181</th>\n",
       "      <td>PM Modi launches pan-India rollout of COVID-19...</td>\n",
       "      <td>25</td>\n",
       "      <td>TyzF9r_8VjI</td>\n",
       "      <td>12580</td>\n",
       "      <td>2.121955</td>\n",
       "    </tr>\n",
       "    <tr>\n",
       "      <th>20396</th>\n",
       "      <td>PM Modi visits Bharat Biotech facility in Hyde...</td>\n",
       "      <td>25</td>\n",
       "      <td>SnSVmBcZOHQ</td>\n",
       "      <td>8482</td>\n",
       "      <td>2.121955</td>\n",
       "    </tr>\n",
       "  </tbody>\n",
       "</table>\n",
       "</div>"
      ],
      "text/plain": [
       "                                                   title  categoryId  \\\n",
       "2281   Precious moments: PM Modi feeding peacocks at ...          25   \n",
       "13394                    PM Modi's address to the nation          25   \n",
       "22694             Details of the New Parliament Building          25   \n",
       "29181  PM Modi launches pan-India rollout of COVID-19...          25   \n",
       "20396  PM Modi visits Bharat Biotech facility in Hyde...          25   \n",
       "\n",
       "          video_id   likes       est  \n",
       "2281   axbpbQTIiZo  248007  2.121955  \n",
       "13394  ClSk5l6OBx4   57306  2.121955  \n",
       "22694  _AOzpFXocKI   49356  2.121955  \n",
       "29181  TyzF9r_8VjI   12580  2.121955  \n",
       "20396  SnSVmBcZOHQ    8482  2.121955  "
      ]
     },
     "execution_count": 83,
     "metadata": {},
     "output_type": "execute_result"
    }
   ],
   "source": [
    "hybrid(1,'Ahmedabad welcomes PM Modi!')"
   ]
  },
  {
   "cell_type": "code",
   "execution_count": 84,
   "id": "c31b885f-6331-408e-99e3-d5d3726917ff",
   "metadata": {},
   "outputs": [
    {
     "data": {
      "text/html": [
       "<div>\n",
       "<style scoped>\n",
       "    .dataframe tbody tr th:only-of-type {\n",
       "        vertical-align: middle;\n",
       "    }\n",
       "\n",
       "    .dataframe tbody tr th {\n",
       "        vertical-align: top;\n",
       "    }\n",
       "\n",
       "    .dataframe thead th {\n",
       "        text-align: right;\n",
       "    }\n",
       "</style>\n",
       "<table border=\"1\" class=\"dataframe\">\n",
       "  <thead>\n",
       "    <tr style=\"text-align: right;\">\n",
       "      <th></th>\n",
       "      <th>title</th>\n",
       "      <th>categoryId</th>\n",
       "      <th>video_id</th>\n",
       "      <th>likes</th>\n",
       "      <th>est</th>\n",
       "    </tr>\n",
       "  </thead>\n",
       "  <tbody>\n",
       "    <tr>\n",
       "      <th>18789</th>\n",
       "      <td>BTS (방탄소년단) 'Life Goes On' Official MV</td>\n",
       "      <td>10</td>\n",
       "      <td>-5q5mZbe3V8</td>\n",
       "      <td>5178144</td>\n",
       "      <td>2.636435</td>\n",
       "    </tr>\n",
       "    <tr>\n",
       "      <th>18413</th>\n",
       "      <td>BTS (방탄소년단) 'Life Goes On' Official Teaser 1</td>\n",
       "      <td>10</td>\n",
       "      <td>Wq5S8Dt_HQE</td>\n",
       "      <td>3365225</td>\n",
       "      <td>2.636435</td>\n",
       "    </tr>\n",
       "    <tr>\n",
       "      <th>18601</th>\n",
       "      <td>BTS (방탄소년단) 'Life Goes On' Official Teaser 2</td>\n",
       "      <td>10</td>\n",
       "      <td>t3KZnCgiMW0</td>\n",
       "      <td>2550351</td>\n",
       "      <td>2.636435</td>\n",
       "    </tr>\n",
       "    <tr>\n",
       "      <th>19831</th>\n",
       "      <td>BTS (방탄소년단) 'Life Goes On' Official MV : in th...</td>\n",
       "      <td>10</td>\n",
       "      <td>RvcP6V4h_q4</td>\n",
       "      <td>2218612</td>\n",
       "      <td>2.636435</td>\n",
       "    </tr>\n",
       "    <tr>\n",
       "      <th>1314</th>\n",
       "      <td>TXT (투모로우바이투게더) 'Drama [Japanese Ver.]' Offici...</td>\n",
       "      <td>10</td>\n",
       "      <td>UUOGVgComrU</td>\n",
       "      <td>944347</td>\n",
       "      <td>2.636435</td>\n",
       "    </tr>\n",
       "  </tbody>\n",
       "</table>\n",
       "</div>"
      ],
      "text/plain": [
       "                                                   title  categoryId  \\\n",
       "18789             BTS (방탄소년단) 'Life Goes On' Official MV          10   \n",
       "18413       BTS (방탄소년단) 'Life Goes On' Official Teaser 1          10   \n",
       "18601       BTS (방탄소년단) 'Life Goes On' Official Teaser 2          10   \n",
       "19831  BTS (방탄소년단) 'Life Goes On' Official MV : in th...          10   \n",
       "1314   TXT (투모로우바이투게더) 'Drama [Japanese Ver.]' Offici...          10   \n",
       "\n",
       "          video_id    likes       est  \n",
       "18789  -5q5mZbe3V8  5178144  2.636435  \n",
       "18413  Wq5S8Dt_HQE  3365225  2.636435  \n",
       "18601  t3KZnCgiMW0  2550351  2.636435  \n",
       "19831  RvcP6V4h_q4  2218612  2.636435  \n",
       "1314   UUOGVgComrU   944347  2.636435  "
      ]
     },
     "execution_count": 84,
     "metadata": {},
     "output_type": "execute_result"
    }
   ],
   "source": [
    "hybrid(1,\"BTS (방탄소년단) ‘Life Goes On’ Official MV : on my pillow\")"
   ]
  },
  {
   "cell_type": "code",
   "execution_count": 85,
   "id": "b18a670f-d582-4f7a-bc7b-c1431eafb48a",
   "metadata": {},
   "outputs": [
    {
     "data": {
      "text/html": [
       "<div>\n",
       "<style scoped>\n",
       "    .dataframe tbody tr th:only-of-type {\n",
       "        vertical-align: middle;\n",
       "    }\n",
       "\n",
       "    .dataframe tbody tr th {\n",
       "        vertical-align: top;\n",
       "    }\n",
       "\n",
       "    .dataframe thead th {\n",
       "        text-align: right;\n",
       "    }\n",
       "</style>\n",
       "<table border=\"1\" class=\"dataframe\">\n",
       "  <thead>\n",
       "    <tr style=\"text-align: right;\">\n",
       "      <th></th>\n",
       "      <th>title</th>\n",
       "      <th>categoryId</th>\n",
       "      <th>video_id</th>\n",
       "      <th>likes</th>\n",
       "      <th>est</th>\n",
       "    </tr>\n",
       "  </thead>\n",
       "  <tbody>\n",
       "    <tr>\n",
       "      <th>23535</th>\n",
       "      <td>5 Masaledaar Gadgets I bought Online !</td>\n",
       "      <td>28</td>\n",
       "      <td>ICE7f9q5GNs</td>\n",
       "      <td>173205</td>\n",
       "      <td>3.403106</td>\n",
       "    </tr>\n",
       "    <tr>\n",
       "      <th>28062</th>\n",
       "      <td>Trying 10 Weird Smartphone Life Hacks !</td>\n",
       "      <td>28</td>\n",
       "      <td>4ypTy72o_tM</td>\n",
       "      <td>149462</td>\n",
       "      <td>3.403106</td>\n",
       "    </tr>\n",
       "    <tr>\n",
       "      <th>12140</th>\n",
       "      <td>Apple iPhone 12 Series is Here ! *Shocking Ind...</td>\n",
       "      <td>28</td>\n",
       "      <td>3Qgtz3lpvxA</td>\n",
       "      <td>103464</td>\n",
       "      <td>3.403106</td>\n",
       "    </tr>\n",
       "    <tr>\n",
       "      <th>17354</th>\n",
       "      <td>iPhone 12 Pro Max</td>\n",
       "      <td>28</td>\n",
       "      <td>s-INp0FxjXA</td>\n",
       "      <td>102540</td>\n",
       "      <td>3.403106</td>\n",
       "    </tr>\n",
       "    <tr>\n",
       "      <th>22413</th>\n",
       "      <td>Shifting from iPhone 12 to Nokia 3310 for a Day !</td>\n",
       "      <td>28</td>\n",
       "      <td>8bglQlBonD4</td>\n",
       "      <td>98990</td>\n",
       "      <td>3.403106</td>\n",
       "    </tr>\n",
       "  </tbody>\n",
       "</table>\n",
       "</div>"
      ],
      "text/plain": [
       "                                                   title  categoryId  \\\n",
       "23535             5 Masaledaar Gadgets I bought Online !          28   \n",
       "28062            Trying 10 Weird Smartphone Life Hacks !          28   \n",
       "12140  Apple iPhone 12 Series is Here ! *Shocking Ind...          28   \n",
       "17354                                  iPhone 12 Pro Max          28   \n",
       "22413  Shifting from iPhone 12 to Nokia 3310 for a Day !          28   \n",
       "\n",
       "          video_id   likes       est  \n",
       "23535  ICE7f9q5GNs  173205  3.403106  \n",
       "28062  4ypTy72o_tM  149462  3.403106  \n",
       "12140  3Qgtz3lpvxA  103464  3.403106  \n",
       "17354  s-INp0FxjXA  102540  3.403106  \n",
       "22413  8bglQlBonD4   98990  3.403106  "
      ]
     },
     "execution_count": 85,
     "metadata": {},
     "output_type": "execute_result"
    }
   ],
   "source": [
    "hybrid(1,'Apple iPhone 12 Pro')"
   ]
  },
  {
   "cell_type": "code",
   "execution_count": 86,
   "id": "4c19c317-bf54-4845-ae56-090bde6a8597",
   "metadata": {},
   "outputs": [
    {
     "data": {
      "text/html": [
       "<div>\n",
       "<style scoped>\n",
       "    .dataframe tbody tr th:only-of-type {\n",
       "        vertical-align: middle;\n",
       "    }\n",
       "\n",
       "    .dataframe tbody tr th {\n",
       "        vertical-align: top;\n",
       "    }\n",
       "\n",
       "    .dataframe thead th {\n",
       "        text-align: right;\n",
       "    }\n",
       "</style>\n",
       "<table border=\"1\" class=\"dataframe\">\n",
       "  <thead>\n",
       "    <tr style=\"text-align: right;\">\n",
       "      <th></th>\n",
       "      <th>title</th>\n",
       "      <th>categoryId</th>\n",
       "      <th>video_id</th>\n",
       "      <th>likes</th>\n",
       "      <th>est</th>\n",
       "    </tr>\n",
       "  </thead>\n",
       "  <tbody>\n",
       "    <tr>\n",
       "      <th>13618</th>\n",
       "      <td>Chhalaang: Care Ni Karda</td>\n",
       "      <td>10</td>\n",
       "      <td>WGdoaRVOm8o</td>\n",
       "      <td>482466</td>\n",
       "      <td>2.636435</td>\n",
       "    </tr>\n",
       "    <tr>\n",
       "      <th>24503</th>\n",
       "      <td>NACHDI TU</td>\n",
       "      <td>10</td>\n",
       "      <td>qwYbkZMOOjU</td>\n",
       "      <td>113212</td>\n",
       "      <td>2.636435</td>\n",
       "    </tr>\n",
       "    <tr>\n",
       "      <th>6724</th>\n",
       "      <td>Hasina Pagal Deewani: Indoo Ki Jawani</td>\n",
       "      <td>10</td>\n",
       "      <td>LG6H-r-7IUk</td>\n",
       "      <td>77422</td>\n",
       "      <td>2.636435</td>\n",
       "    </tr>\n",
       "    <tr>\n",
       "      <th>17655</th>\n",
       "      <td>Mukhda (Official Video)</td>\n",
       "      <td>10</td>\n",
       "      <td>Rn_zZD1YT5s</td>\n",
       "      <td>53677</td>\n",
       "      <td>2.636435</td>\n",
       "    </tr>\n",
       "    <tr>\n",
       "      <th>6733</th>\n",
       "      <td>Sumit Goswami</td>\n",
       "      <td>10</td>\n",
       "      <td>P_GCSNFXHgo</td>\n",
       "      <td>34580</td>\n",
       "      <td>2.636435</td>\n",
       "    </tr>\n",
       "  </tbody>\n",
       "</table>\n",
       "</div>"
      ],
      "text/plain": [
       "                                       title  categoryId     video_id   likes  \\\n",
       "13618               Chhalaang: Care Ni Karda          10  WGdoaRVOm8o  482466   \n",
       "24503                              NACHDI TU          10  qwYbkZMOOjU  113212   \n",
       "6724   Hasina Pagal Deewani: Indoo Ki Jawani          10  LG6H-r-7IUk   77422   \n",
       "17655                Mukhda (Official Video)          10  Rn_zZD1YT5s   53677   \n",
       "6733                           Sumit Goswami          10  P_GCSNFXHgo   34580   \n",
       "\n",
       "            est  \n",
       "13618  2.636435  \n",
       "24503  2.636435  \n",
       "6724   2.636435  \n",
       "17655  2.636435  \n",
       "6733   2.636435  "
      ]
     },
     "execution_count": 86,
     "metadata": {},
     "output_type": "execute_result"
    }
   ],
   "source": [
    "hybrid(1,'Baarish (Official Video) Payal Dev,Stebin Ben')"
   ]
  },
  {
   "cell_type": "code",
   "execution_count": 87,
   "id": "f4df6983-4fb5-471e-887d-0f9fb9c91dbc",
   "metadata": {
    "id": "f4df6983-4fb5-471e-887d-0f9fb9c91dbc",
    "outputId": "082a315e-10aa-48fb-ab05-6dbdb1afcf47"
   },
   "outputs": [
    {
     "data": {
      "text/html": [
       "<div>\n",
       "<style scoped>\n",
       "    .dataframe tbody tr th:only-of-type {\n",
       "        vertical-align: middle;\n",
       "    }\n",
       "\n",
       "    .dataframe tbody tr th {\n",
       "        vertical-align: top;\n",
       "    }\n",
       "\n",
       "    .dataframe thead th {\n",
       "        text-align: right;\n",
       "    }\n",
       "</style>\n",
       "<table border=\"1\" class=\"dataframe\">\n",
       "  <thead>\n",
       "    <tr style=\"text-align: right;\">\n",
       "      <th></th>\n",
       "      <th>title</th>\n",
       "      <th>categoryId</th>\n",
       "      <th>video_id</th>\n",
       "      <th>likes</th>\n",
       "      <th>est</th>\n",
       "    </tr>\n",
       "  </thead>\n",
       "  <tbody>\n",
       "    <tr>\n",
       "      <th>17724</th>\n",
       "      <td>Behan Bhai Aur Diwali</td>\n",
       "      <td>22</td>\n",
       "      <td>y4WnqX9QwR0</td>\n",
       "      <td>21557</td>\n",
       "      <td>2.316475</td>\n",
       "    </tr>\n",
       "    <tr>\n",
       "      <th>4020</th>\n",
       "      <td>Rich Mom Vs Normal Mom</td>\n",
       "      <td>22</td>\n",
       "      <td>cWewnrC1qUk</td>\n",
       "      <td>16719</td>\n",
       "      <td>2.316475</td>\n",
       "    </tr>\n",
       "    <tr>\n",
       "      <th>5922</th>\n",
       "      <td>Badi Behan Vs Choti Behan</td>\n",
       "      <td>22</td>\n",
       "      <td>boHP_GuoDwU</td>\n",
       "      <td>14168</td>\n",
       "      <td>2.316475</td>\n",
       "    </tr>\n",
       "    <tr>\n",
       "      <th>1704</th>\n",
       "      <td>Indian Maids</td>\n",
       "      <td>22</td>\n",
       "      <td>3szVkjPhs_Y</td>\n",
       "      <td>6788</td>\n",
       "      <td>2.316475</td>\n",
       "    </tr>\n",
       "    <tr>\n",
       "      <th>19897</th>\n",
       "      <td>Before Marriage Vs After Marriage</td>\n",
       "      <td>22</td>\n",
       "      <td>XQNNu7EcjTU</td>\n",
       "      <td>6597</td>\n",
       "      <td>2.316475</td>\n",
       "    </tr>\n",
       "  </tbody>\n",
       "</table>\n",
       "</div>"
      ],
      "text/plain": [
       "                                   title  categoryId     video_id  likes  \\\n",
       "17724              Behan Bhai Aur Diwali          22  y4WnqX9QwR0  21557   \n",
       "4020              Rich Mom Vs Normal Mom          22  cWewnrC1qUk  16719   \n",
       "5922           Badi Behan Vs Choti Behan          22  boHP_GuoDwU  14168   \n",
       "1704                        Indian Maids          22  3szVkjPhs_Y   6788   \n",
       "19897  Before Marriage Vs After Marriage          22  XQNNu7EcjTU   6597   \n",
       "\n",
       "            est  \n",
       "17724  2.316475  \n",
       "4020   2.316475  \n",
       "5922   2.316475  \n",
       "1704   2.316475  \n",
       "19897  2.316475  "
      ]
     },
     "execution_count": 87,
     "metadata": {},
     "output_type": "execute_result"
    }
   ],
   "source": [
    "hybrid(1,'Types of Ex Girlfriends')"
   ]
  },
  {
   "cell_type": "code",
   "execution_count": 88,
   "id": "f92f9466-bf69-4ce2-aed1-0ad61651b6ac",
   "metadata": {
    "id": "f92f9466-bf69-4ce2-aed1-0ad61651b6ac",
    "outputId": "29e77e88-a6b7-468f-b02a-d85c9163e18c"
   },
   "outputs": [
    {
     "data": {
      "text/html": [
       "<div>\n",
       "<style scoped>\n",
       "    .dataframe tbody tr th:only-of-type {\n",
       "        vertical-align: middle;\n",
       "    }\n",
       "\n",
       "    .dataframe tbody tr th {\n",
       "        vertical-align: top;\n",
       "    }\n",
       "\n",
       "    .dataframe thead th {\n",
       "        text-align: right;\n",
       "    }\n",
       "</style>\n",
       "<table border=\"1\" class=\"dataframe\">\n",
       "  <thead>\n",
       "    <tr style=\"text-align: right;\">\n",
       "      <th></th>\n",
       "      <th>title</th>\n",
       "      <th>categoryId</th>\n",
       "      <th>video_id</th>\n",
       "      <th>likes</th>\n",
       "      <th>est</th>\n",
       "    </tr>\n",
       "  </thead>\n",
       "  <tbody>\n",
       "    <tr>\n",
       "      <th>8233</th>\n",
       "      <td>NEW! Ep 2999 - Jethalal Smuggling Fafda for Ta...</td>\n",
       "      <td>24</td>\n",
       "      <td>GpF0tRUibFg</td>\n",
       "      <td>55644</td>\n",
       "      <td>2.793735</td>\n",
       "    </tr>\n",
       "    <tr>\n",
       "      <th>8680</th>\n",
       "      <td>NEW! Ep 3001 - Will Taarak Get To Eat Fafda?!</td>\n",
       "      <td>24</td>\n",
       "      <td>GraKhk7yqFM</td>\n",
       "      <td>51697</td>\n",
       "      <td>2.793735</td>\n",
       "    </tr>\n",
       "    <tr>\n",
       "      <th>23986</th>\n",
       "      <td>NEW! Ep 3061 - Jetha Explains the Pizza Mystery</td>\n",
       "      <td>24</td>\n",
       "      <td>CK0Z3f8VKMM</td>\n",
       "      <td>48886</td>\n",
       "      <td>2.793735</td>\n",
       "    </tr>\n",
       "    <tr>\n",
       "      <th>1833</th>\n",
       "      <td>NEW! Ep 2974 - Taraak Mehta Gets Late!</td>\n",
       "      <td>24</td>\n",
       "      <td>sf7NDiQfSIo</td>\n",
       "      <td>40777</td>\n",
       "      <td>2.793735</td>\n",
       "    </tr>\n",
       "    <tr>\n",
       "      <th>1419</th>\n",
       "      <td>NEW! Ep 2973 - Jetha Invites Babita Over For B...</td>\n",
       "      <td>24</td>\n",
       "      <td>m0tdMLJWxb8</td>\n",
       "      <td>39433</td>\n",
       "      <td>2.793735</td>\n",
       "    </tr>\n",
       "  </tbody>\n",
       "</table>\n",
       "</div>"
      ],
      "text/plain": [
       "                                                   title  categoryId  \\\n",
       "8233   NEW! Ep 2999 - Jethalal Smuggling Fafda for Ta...          24   \n",
       "8680       NEW! Ep 3001 - Will Taarak Get To Eat Fafda?!          24   \n",
       "23986    NEW! Ep 3061 - Jetha Explains the Pizza Mystery          24   \n",
       "1833              NEW! Ep 2974 - Taraak Mehta Gets Late!          24   \n",
       "1419   NEW! Ep 2973 - Jetha Invites Babita Over For B...          24   \n",
       "\n",
       "          video_id  likes       est  \n",
       "8233   GpF0tRUibFg  55644  2.793735  \n",
       "8680   GraKhk7yqFM  51697  2.793735  \n",
       "23986  CK0Z3f8VKMM  48886  2.793735  \n",
       "1833   sf7NDiQfSIo  40777  2.793735  \n",
       "1419   m0tdMLJWxb8  39433  2.793735  "
      ]
     },
     "execution_count": 88,
     "metadata": {},
     "output_type": "execute_result"
    }
   ],
   "source": [
    "hybrid(1,'NEW! Ep 3006 - Abdul Missing?!')"
   ]
  },
  {
   "cell_type": "code",
   "execution_count": 89,
   "id": "2635908b-fa4c-49ef-8306-388af215ca98",
   "metadata": {
    "id": "2635908b-fa4c-49ef-8306-388af215ca98",
    "outputId": "a0fb73ee-a320-4e61-f3f0-892ba563664f"
   },
   "outputs": [
    {
     "data": {
      "text/html": [
       "<div>\n",
       "<style scoped>\n",
       "    .dataframe tbody tr th:only-of-type {\n",
       "        vertical-align: middle;\n",
       "    }\n",
       "\n",
       "    .dataframe tbody tr th {\n",
       "        vertical-align: top;\n",
       "    }\n",
       "\n",
       "    .dataframe thead th {\n",
       "        text-align: right;\n",
       "    }\n",
       "</style>\n",
       "<table border=\"1\" class=\"dataframe\">\n",
       "  <thead>\n",
       "    <tr style=\"text-align: right;\">\n",
       "      <th></th>\n",
       "      <th>title</th>\n",
       "      <th>categoryId</th>\n",
       "      <th>video_id</th>\n",
       "      <th>likes</th>\n",
       "      <th>est</th>\n",
       "    </tr>\n",
       "  </thead>\n",
       "  <tbody>\n",
       "    <tr>\n",
       "      <th>59</th>\n",
       "      <td>how JS FILMS bought KAWASAKI H2</td>\n",
       "      <td>22</td>\n",
       "      <td>lh7QPjPpXas</td>\n",
       "      <td>123335</td>\n",
       "      <td>2.316475</td>\n",
       "    </tr>\n",
       "    <tr>\n",
       "      <th>367</th>\n",
       "      <td>Accidental Wheelie on NINJA H2</td>\n",
       "      <td>22</td>\n",
       "      <td>zkArAMNUyAY</td>\n",
       "      <td>53613</td>\n",
       "      <td>2.316475</td>\n",
       "    </tr>\n",
       "    <tr>\n",
       "      <th>10896</th>\n",
       "      <td>why JS Films QUIT YouTube ?</td>\n",
       "      <td>22</td>\n",
       "      <td>l2KT4hbguLQ</td>\n",
       "      <td>29340</td>\n",
       "      <td>2.316475</td>\n",
       "    </tr>\n",
       "    <tr>\n",
       "      <th>14219</th>\n",
       "      <td>Surprising my Friends with NEW Bike!!</td>\n",
       "      <td>22</td>\n",
       "      <td>FG9MXlvkUkc</td>\n",
       "      <td>16773</td>\n",
       "      <td>2.316475</td>\n",
       "    </tr>\n",
       "    <tr>\n",
       "      <th>16568</th>\n",
       "      <td>SUBSCRIBERS ne Keh ke LELI 😭😂</td>\n",
       "      <td>22</td>\n",
       "      <td>r9RE9eO_qYs</td>\n",
       "      <td>12130</td>\n",
       "      <td>2.316475</td>\n",
       "    </tr>\n",
       "  </tbody>\n",
       "</table>\n",
       "</div>"
      ],
      "text/plain": [
       "                                       title  categoryId     video_id   likes  \\\n",
       "59           how JS FILMS bought KAWASAKI H2          22  lh7QPjPpXas  123335   \n",
       "367           Accidental Wheelie on NINJA H2          22  zkArAMNUyAY   53613   \n",
       "10896            why JS Films QUIT YouTube ?          22  l2KT4hbguLQ   29340   \n",
       "14219  Surprising my Friends with NEW Bike!!          22  FG9MXlvkUkc   16773   \n",
       "16568          SUBSCRIBERS ne Keh ke LELI 😭😂          22  r9RE9eO_qYs   12130   \n",
       "\n",
       "            est  \n",
       "59     2.316475  \n",
       "367    2.316475  \n",
       "10896  2.316475  \n",
       "14219  2.316475  \n",
       "16568  2.316475  "
      ]
     },
     "execution_count": 89,
     "metadata": {},
     "output_type": "execute_result"
    }
   ],
   "source": [
    "hybrid(1,'When 10R meets NINJA H2 !!')"
   ]
  },
  {
   "cell_type": "code",
   "execution_count": 90,
   "id": "05c627c3-ecdc-4f30-bdab-8c5f4b9e99c3",
   "metadata": {
    "id": "05c627c3-ecdc-4f30-bdab-8c5f4b9e99c3",
    "outputId": "e25193c3-bae2-422d-d69a-081558e689c9"
   },
   "outputs": [
    {
     "data": {
      "text/html": [
       "<div>\n",
       "<style scoped>\n",
       "    .dataframe tbody tr th:only-of-type {\n",
       "        vertical-align: middle;\n",
       "    }\n",
       "\n",
       "    .dataframe tbody tr th {\n",
       "        vertical-align: top;\n",
       "    }\n",
       "\n",
       "    .dataframe thead th {\n",
       "        text-align: right;\n",
       "    }\n",
       "</style>\n",
       "<table border=\"1\" class=\"dataframe\">\n",
       "  <thead>\n",
       "    <tr style=\"text-align: right;\">\n",
       "      <th></th>\n",
       "      <th>title</th>\n",
       "      <th>categoryId</th>\n",
       "      <th>video_id</th>\n",
       "      <th>likes</th>\n",
       "      <th>est</th>\n",
       "    </tr>\n",
       "  </thead>\n",
       "  <tbody>\n",
       "    <tr>\n",
       "      <th>7117</th>\n",
       "      <td>FULL MATCH - Roman Reigns vs. Baron Corbin – U...</td>\n",
       "      <td>17</td>\n",
       "      <td>XsM2Fi8J4zw</td>\n",
       "      <td>48155</td>\n",
       "      <td>3.203106</td>\n",
       "    </tr>\n",
       "    <tr>\n",
       "      <th>6971</th>\n",
       "      <td>FULL MATCH - Roman Reigns vs. Drew McIntyre: W...</td>\n",
       "      <td>17</td>\n",
       "      <td>1pb8jp8uOp4</td>\n",
       "      <td>43634</td>\n",
       "      <td>3.203106</td>\n",
       "    </tr>\n",
       "    <tr>\n",
       "      <th>13570</th>\n",
       "      <td>FULL MATCH - Shinsuke Nakamura vs. Roman Reign...</td>\n",
       "      <td>17</td>\n",
       "      <td>UG4Wpk5kD0s</td>\n",
       "      <td>40442</td>\n",
       "      <td>3.203106</td>\n",
       "    </tr>\n",
       "    <tr>\n",
       "      <th>4625</th>\n",
       "      <td>FULL MATCH: Rusev vs. Roman Reigns – U.S. Titl...</td>\n",
       "      <td>17</td>\n",
       "      <td>1e1-xibMDkU</td>\n",
       "      <td>27412</td>\n",
       "      <td>3.203106</td>\n",
       "    </tr>\n",
       "    <tr>\n",
       "      <th>5568</th>\n",
       "      <td>FULL MATCH - The Miz vs. Roman Reigns – Interc...</td>\n",
       "      <td>17</td>\n",
       "      <td>Q2rBqioG_KQ</td>\n",
       "      <td>25240</td>\n",
       "      <td>3.203106</td>\n",
       "    </tr>\n",
       "  </tbody>\n",
       "</table>\n",
       "</div>"
      ],
      "text/plain": [
       "                                                   title  categoryId  \\\n",
       "7117   FULL MATCH - Roman Reigns vs. Baron Corbin – U...          17   \n",
       "6971   FULL MATCH - Roman Reigns vs. Drew McIntyre: W...          17   \n",
       "13570  FULL MATCH - Shinsuke Nakamura vs. Roman Reign...          17   \n",
       "4625   FULL MATCH: Rusev vs. Roman Reigns – U.S. Titl...          17   \n",
       "5568   FULL MATCH - The Miz vs. Roman Reigns – Interc...          17   \n",
       "\n",
       "          video_id  likes       est  \n",
       "7117   XsM2Fi8J4zw  48155  3.203106  \n",
       "6971   1pb8jp8uOp4  43634  3.203106  \n",
       "13570  UG4Wpk5kD0s  40442  3.203106  \n",
       "4625   1e1-xibMDkU  27412  3.203106  \n",
       "5568   Q2rBqioG_KQ  25240  3.203106  "
      ]
     },
     "execution_count": 90,
     "metadata": {},
     "output_type": "execute_result"
    }
   ],
   "source": [
    "hybrid(1,'FULL MATCH - Roman Reigns vs. Murphy: SmackDown LIVE, August 13, 2019')"
   ]
  },
  {
   "cell_type": "code",
   "execution_count": 91,
   "id": "296755ef",
   "metadata": {
    "id": "296755ef",
    "outputId": "458d6037-f8a7-4929-d56b-8a3446dcb55d"
   },
   "outputs": [
    {
     "data": {
      "text/html": [
       "<div>\n",
       "<style scoped>\n",
       "    .dataframe tbody tr th:only-of-type {\n",
       "        vertical-align: middle;\n",
       "    }\n",
       "\n",
       "    .dataframe tbody tr th {\n",
       "        vertical-align: top;\n",
       "    }\n",
       "\n",
       "    .dataframe thead th {\n",
       "        text-align: right;\n",
       "    }\n",
       "</style>\n",
       "<table border=\"1\" class=\"dataframe\">\n",
       "  <thead>\n",
       "    <tr style=\"text-align: right;\">\n",
       "      <th></th>\n",
       "      <th>title</th>\n",
       "      <th>categoryId</th>\n",
       "      <th>video_id</th>\n",
       "      <th>likes</th>\n",
       "      <th>est</th>\n",
       "    </tr>\n",
       "  </thead>\n",
       "  <tbody>\n",
       "    <tr>\n",
       "      <th>11094</th>\n",
       "      <td>PubG, FauG and BhabhiG</td>\n",
       "      <td>22</td>\n",
       "      <td>b76U2005tH4</td>\n",
       "      <td>49036</td>\n",
       "      <td>2.316475</td>\n",
       "    </tr>\n",
       "    <tr>\n",
       "      <th>10378</th>\n",
       "      <td>I broke it..</td>\n",
       "      <td>22</td>\n",
       "      <td>Z4VrggAJ7AY</td>\n",
       "      <td>48693</td>\n",
       "      <td>2.316475</td>\n",
       "    </tr>\n",
       "    <tr>\n",
       "      <th>7300</th>\n",
       "      <td>IPL 2020 - Match 01</td>\n",
       "      <td>17</td>\n",
       "      <td>lmfk_6ZVoBI</td>\n",
       "      <td>19438</td>\n",
       "      <td>3.203106</td>\n",
       "    </tr>\n",
       "    <tr>\n",
       "      <th>4678</th>\n",
       "      <td>IPL 2020 - Schedule Update,Bhajji Out With 10 ...</td>\n",
       "      <td>17</td>\n",
       "      <td>mZtvQBqMc4Y</td>\n",
       "      <td>15993</td>\n",
       "      <td>3.203106</td>\n",
       "    </tr>\n",
       "    <tr>\n",
       "      <th>19229</th>\n",
       "      <td>IPL 2021 - First List Of All 82 Released Playe...</td>\n",
       "      <td>17</td>\n",
       "      <td>qb_QJVXC38o</td>\n",
       "      <td>13401</td>\n",
       "      <td>3.203106</td>\n",
       "    </tr>\n",
       "  </tbody>\n",
       "</table>\n",
       "</div>"
      ],
      "text/plain": [
       "                                                   title  categoryId  \\\n",
       "11094                             PubG, FauG and BhabhiG          22   \n",
       "10378                                       I broke it..          22   \n",
       "7300                                 IPL 2020 - Match 01          17   \n",
       "4678   IPL 2020 - Schedule Update,Bhajji Out With 10 ...          17   \n",
       "19229  IPL 2021 - First List Of All 82 Released Playe...          17   \n",
       "\n",
       "          video_id  likes       est  \n",
       "11094  b76U2005tH4  49036  2.316475  \n",
       "10378  Z4VrggAJ7AY  48693  2.316475  \n",
       "7300   lmfk_6ZVoBI  19438  3.203106  \n",
       "4678   mZtvQBqMc4Y  15993  3.203106  \n",
       "19229  qb_QJVXC38o  13401  3.203106  "
      ]
     },
     "execution_count": 91,
     "metadata": {},
     "output_type": "execute_result"
    }
   ],
   "source": [
    "hybrid(1,'IPL 2020 - Patanjali IPL As Sponsor With 10 Big News')"
   ]
  },
  {
   "cell_type": "code",
   "execution_count": 92,
   "id": "7644d46c-5c53-4994-973c-7bb6f728f0ea",
   "metadata": {
    "id": "7644d46c-5c53-4994-973c-7bb6f728f0ea",
    "outputId": "250609a6-728d-40d2-a7a2-48a2e9cfcf60"
   },
   "outputs": [
    {
     "data": {
      "text/html": [
       "<div>\n",
       "<style scoped>\n",
       "    .dataframe tbody tr th:only-of-type {\n",
       "        vertical-align: middle;\n",
       "    }\n",
       "\n",
       "    .dataframe tbody tr th {\n",
       "        vertical-align: top;\n",
       "    }\n",
       "\n",
       "    .dataframe thead th {\n",
       "        text-align: right;\n",
       "    }\n",
       "</style>\n",
       "<table border=\"1\" class=\"dataframe\">\n",
       "  <thead>\n",
       "    <tr style=\"text-align: right;\">\n",
       "      <th></th>\n",
       "      <th>title</th>\n",
       "      <th>categoryId</th>\n",
       "      <th>video_id</th>\n",
       "      <th>likes</th>\n",
       "      <th>est</th>\n",
       "    </tr>\n",
       "  </thead>\n",
       "  <tbody>\n",
       "    <tr>\n",
       "      <th>21752</th>\n",
       "      <td>Farmers Protest: किसानों के समर्थन में उतरीं P...</td>\n",
       "      <td>25</td>\n",
       "      <td>beAYdqZCUrQ</td>\n",
       "      <td>25424</td>\n",
       "      <td>2.121955</td>\n",
       "    </tr>\n",
       "    <tr>\n",
       "      <th>20762</th>\n",
       "      <td>Singhu Border: सड़क पर डटे हैं प्रदर्शनकारी किसान</td>\n",
       "      <td>25</td>\n",
       "      <td>VTeftt4jz1s</td>\n",
       "      <td>18121</td>\n",
       "      <td>2.121955</td>\n",
       "    </tr>\n",
       "    <tr>\n",
       "      <th>22325</th>\n",
       "      <td>Farmers Protest: किसानों ने सरकार का खारिज किय...</td>\n",
       "      <td>25</td>\n",
       "      <td>suZwWlS3hYw</td>\n",
       "      <td>15264</td>\n",
       "      <td>2.121955</td>\n",
       "    </tr>\n",
       "    <tr>\n",
       "      <th>24789</th>\n",
       "      <td>महाराष्ट्र किसान जत्था: दिल्ली की तरफ बढ़ा एक क...</td>\n",
       "      <td>25</td>\n",
       "      <td>DrtBVNZJnj0</td>\n",
       "      <td>11657</td>\n",
       "      <td>2.121955</td>\n",
       "    </tr>\n",
       "    <tr>\n",
       "      <th>27298</th>\n",
       "      <td>Farmers Protest: कृषि कानूनों के खिलाफ आज किसा...</td>\n",
       "      <td>25</td>\n",
       "      <td>16pM_jfJg6c</td>\n",
       "      <td>8698</td>\n",
       "      <td>2.121955</td>\n",
       "    </tr>\n",
       "  </tbody>\n",
       "</table>\n",
       "</div>"
      ],
      "text/plain": [
       "                                                   title  categoryId  \\\n",
       "21752  Farmers Protest: किसानों के समर्थन में उतरीं P...          25   \n",
       "20762  Singhu Border: सड़क पर डटे हैं प्रदर्शनकारी किसान          25   \n",
       "22325  Farmers Protest: किसानों ने सरकार का खारिज किय...          25   \n",
       "24789  महाराष्ट्र किसान जत्था: दिल्ली की तरफ बढ़ा एक क...          25   \n",
       "27298  Farmers Protest: कृषि कानूनों के खिलाफ आज किसा...          25   \n",
       "\n",
       "          video_id  likes       est  \n",
       "21752  beAYdqZCUrQ  25424  2.121955  \n",
       "20762  VTeftt4jz1s  18121  2.121955  \n",
       "22325  suZwWlS3hYw  15264  2.121955  \n",
       "24789  DrtBVNZJnj0  11657  2.121955  \n",
       "27298  16pM_jfJg6c   8698  2.121955  "
      ]
     },
     "execution_count": 92,
     "metadata": {},
     "output_type": "execute_result"
    }
   ],
   "source": [
    "hybrid(1,\"DNA: Russia August 12 को लॉन्च करेगा Corona Vaccine\")"
   ]
  },
  {
   "cell_type": "code",
   "execution_count": 93,
   "id": "b894dda4-c438-4aec-aa5e-1c6f625243bc",
   "metadata": {
    "id": "b894dda4-c438-4aec-aa5e-1c6f625243bc",
    "outputId": "5947f390-06a6-451a-adfa-29073514dfc5"
   },
   "outputs": [
    {
     "data": {
      "text/html": [
       "<div>\n",
       "<style scoped>\n",
       "    .dataframe tbody tr th:only-of-type {\n",
       "        vertical-align: middle;\n",
       "    }\n",
       "\n",
       "    .dataframe tbody tr th {\n",
       "        vertical-align: top;\n",
       "    }\n",
       "\n",
       "    .dataframe thead th {\n",
       "        text-align: right;\n",
       "    }\n",
       "</style>\n",
       "<table border=\"1\" class=\"dataframe\">\n",
       "  <thead>\n",
       "    <tr style=\"text-align: right;\">\n",
       "      <th></th>\n",
       "      <th>title</th>\n",
       "      <th>categoryId</th>\n",
       "      <th>video_id</th>\n",
       "      <th>likes</th>\n",
       "      <th>est</th>\n",
       "    </tr>\n",
       "  </thead>\n",
       "  <tbody>\n",
       "    <tr>\n",
       "      <th>7794</th>\n",
       "      <td>DHONI's boys are off to a GREAT START!</td>\n",
       "      <td>17</td>\n",
       "      <td>QrL-V0SJ8dE</td>\n",
       "      <td>54629</td>\n",
       "      <td>3.203106</td>\n",
       "    </tr>\n",
       "    <tr>\n",
       "      <th>7508</th>\n",
       "      <td>SHREYAS IYER vs KL RAHUL - Battle of the Young...</td>\n",
       "      <td>17</td>\n",
       "      <td>QrL-V0SJ8dE</td>\n",
       "      <td>51248</td>\n",
       "      <td>3.203106</td>\n",
       "    </tr>\n",
       "    <tr>\n",
       "      <th>8186</th>\n",
       "      <td>KOHLI &amp; CO start with a fabulous WIN!</td>\n",
       "      <td>17</td>\n",
       "      <td>JZbs3i_HyR4</td>\n",
       "      <td>47838</td>\n",
       "      <td>3.203106</td>\n",
       "    </tr>\n",
       "    <tr>\n",
       "      <th>8035</th>\n",
       "      <td>STELLAR STOINIS seals the deal for DELHI</td>\n",
       "      <td>17</td>\n",
       "      <td>1yUg1L-OYFY</td>\n",
       "      <td>42786</td>\n",
       "      <td>3.203106</td>\n",
       "    </tr>\n",
       "    <tr>\n",
       "      <th>11587</th>\n",
       "      <td>Is it OVER for MSD's CHENNAI?</td>\n",
       "      <td>17</td>\n",
       "      <td>YRXt8UAF4Yg</td>\n",
       "      <td>38702</td>\n",
       "      <td>3.203106</td>\n",
       "    </tr>\n",
       "  </tbody>\n",
       "</table>\n",
       "</div>"
      ],
      "text/plain": [
       "                                                   title  categoryId  \\\n",
       "7794              DHONI's boys are off to a GREAT START!          17   \n",
       "7508   SHREYAS IYER vs KL RAHUL - Battle of the Young...          17   \n",
       "8186               KOHLI & CO start with a fabulous WIN!          17   \n",
       "8035            STELLAR STOINIS seals the deal for DELHI          17   \n",
       "11587                      Is it OVER for MSD's CHENNAI?          17   \n",
       "\n",
       "          video_id  likes       est  \n",
       "7794   QrL-V0SJ8dE  54629  3.203106  \n",
       "7508   QrL-V0SJ8dE  51248  3.203106  \n",
       "8186   JZbs3i_HyR4  47838  3.203106  \n",
       "8035   1yUg1L-OYFY  42786  3.203106  \n",
       "11587  YRXt8UAF4Yg  38702  3.203106  "
      ]
     },
     "execution_count": 93,
     "metadata": {},
     "output_type": "execute_result"
    }
   ],
   "source": [
    "hybrid(1,\"KOHLI & CO start with a fabulous WIN!\")"
   ]
  },
  {
   "cell_type": "code",
   "execution_count": 94,
   "id": "c2724a4e-7e08-4114-b0e9-f71b03842442",
   "metadata": {},
   "outputs": [
    {
     "data": {
      "text/html": [
       "<div>\n",
       "<style scoped>\n",
       "    .dataframe tbody tr th:only-of-type {\n",
       "        vertical-align: middle;\n",
       "    }\n",
       "\n",
       "    .dataframe tbody tr th {\n",
       "        vertical-align: top;\n",
       "    }\n",
       "\n",
       "    .dataframe thead th {\n",
       "        text-align: right;\n",
       "    }\n",
       "</style>\n",
       "<table border=\"1\" class=\"dataframe\">\n",
       "  <thead>\n",
       "    <tr style=\"text-align: right;\">\n",
       "      <th></th>\n",
       "      <th>title</th>\n",
       "      <th>categoryId</th>\n",
       "      <th>video_id</th>\n",
       "      <th>likes</th>\n",
       "      <th>est</th>\n",
       "    </tr>\n",
       "  </thead>\n",
       "  <tbody>\n",
       "    <tr>\n",
       "      <th>12</th>\n",
       "      <td>first Crazy RIDE on Kawasaki NINJA H2</td>\n",
       "      <td>22</td>\n",
       "      <td>KrXRnIESDxM</td>\n",
       "      <td>110209</td>\n",
       "      <td>2.316475</td>\n",
       "    </tr>\n",
       "    <tr>\n",
       "      <th>42</th>\n",
       "      <td>I Surprised my Friends With NINJA H2!!</td>\n",
       "      <td>22</td>\n",
       "      <td>7Mz71xlUlw8</td>\n",
       "      <td>89781</td>\n",
       "      <td>2.316475</td>\n",
       "    </tr>\n",
       "    <tr>\n",
       "      <th>22908</th>\n",
       "      <td>bass Life mai HAYABUSA honi chaheye</td>\n",
       "      <td>22</td>\n",
       "      <td>2TGgdI1L0Hw</td>\n",
       "      <td>48490</td>\n",
       "      <td>2.316475</td>\n",
       "    </tr>\n",
       "    <tr>\n",
       "      <th>29016</th>\n",
       "      <td>Why Narula Family Gets Emotional? 😭</td>\n",
       "      <td>24</td>\n",
       "      <td>uCNvWSb0wL8</td>\n",
       "      <td>27480</td>\n",
       "      <td>2.793735</td>\n",
       "    </tr>\n",
       "    <tr>\n",
       "      <th>28461</th>\n",
       "      <td>Sammy's Birthday Vlog 🥳♥️👑 @Mr Mrs Narula</td>\n",
       "      <td>24</td>\n",
       "      <td>LIedUszADEA</td>\n",
       "      <td>22958</td>\n",
       "      <td>2.793735</td>\n",
       "    </tr>\n",
       "  </tbody>\n",
       "</table>\n",
       "</div>"
      ],
      "text/plain": [
       "                                           title  categoryId     video_id  \\\n",
       "12         first Crazy RIDE on Kawasaki NINJA H2          22  KrXRnIESDxM   \n",
       "42        I Surprised my Friends With NINJA H2!!          22  7Mz71xlUlw8   \n",
       "22908        bass Life mai HAYABUSA honi chaheye          22  2TGgdI1L0Hw   \n",
       "29016        Why Narula Family Gets Emotional? 😭          24  uCNvWSb0wL8   \n",
       "28461  Sammy's Birthday Vlog 🥳♥️👑 @Mr Mrs Narula          24  LIedUszADEA   \n",
       "\n",
       "        likes       est  \n",
       "12     110209  2.316475  \n",
       "42      89781  2.316475  \n",
       "22908   48490  2.316475  \n",
       "29016   27480  2.793735  \n",
       "28461   22958  2.793735  "
      ]
     },
     "execution_count": 94,
     "metadata": {},
     "output_type": "execute_result"
    }
   ],
   "source": [
    "hybrid(1,\"Finally bought my DreamBike - Ninja H2\")"
   ]
  },
  {
   "cell_type": "code",
   "execution_count": 95,
   "id": "8587782e-1e2c-4968-b219-e4531900b4ac",
   "metadata": {},
   "outputs": [
    {
     "data": {
      "text/html": [
       "<div>\n",
       "<style scoped>\n",
       "    .dataframe tbody tr th:only-of-type {\n",
       "        vertical-align: middle;\n",
       "    }\n",
       "\n",
       "    .dataframe tbody tr th {\n",
       "        vertical-align: top;\n",
       "    }\n",
       "\n",
       "    .dataframe thead th {\n",
       "        text-align: right;\n",
       "    }\n",
       "</style>\n",
       "<table border=\"1\" class=\"dataframe\">\n",
       "  <thead>\n",
       "    <tr style=\"text-align: right;\">\n",
       "      <th></th>\n",
       "      <th>title</th>\n",
       "      <th>categoryId</th>\n",
       "      <th>video_id</th>\n",
       "      <th>likes</th>\n",
       "      <th>est</th>\n",
       "    </tr>\n",
       "  </thead>\n",
       "  <tbody>\n",
       "    <tr>\n",
       "      <th>4791</th>\n",
       "      <td>Garaj Matlabi</td>\n",
       "      <td>10</td>\n",
       "      <td>qlmVMdCfnzs</td>\n",
       "      <td>17538</td>\n",
       "      <td>2.636435</td>\n",
       "    </tr>\n",
       "    <tr>\n",
       "      <th>8843</th>\n",
       "      <td>Kok Dado Mane Yaad Kari Lejo Re</td>\n",
       "      <td>10</td>\n",
       "      <td>23PU1XgaV3Q</td>\n",
       "      <td>14726</td>\n",
       "      <td>2.636435</td>\n",
       "    </tr>\n",
       "    <tr>\n",
       "      <th>1508</th>\n",
       "      <td>Jignesh Barot ( Kaviraj) ચોય જ્યાં મારી હંભાળ ...</td>\n",
       "      <td>10</td>\n",
       "      <td>QwUw7Wb0I-A</td>\n",
       "      <td>12893</td>\n",
       "      <td>2.636435</td>\n",
       "    </tr>\n",
       "    <tr>\n",
       "      <th>28571</th>\n",
       "      <td>Firki Levi Chhe Free Ma - Kaushik Bharwad</td>\n",
       "      <td>10</td>\n",
       "      <td>XT_tvQ8oeow</td>\n",
       "      <td>10518</td>\n",
       "      <td>2.636435</td>\n",
       "    </tr>\n",
       "    <tr>\n",
       "      <th>13414</th>\n",
       "      <td>LIVE : Rakesh Barot Garba - Navratri 2020 - Day 4</td>\n",
       "      <td>10</td>\n",
       "      <td>8PqTkKoncBE</td>\n",
       "      <td>3307</td>\n",
       "      <td>2.636435</td>\n",
       "    </tr>\n",
       "  </tbody>\n",
       "</table>\n",
       "</div>"
      ],
      "text/plain": [
       "                                                   title  categoryId  \\\n",
       "4791                                       Garaj Matlabi          10   \n",
       "8843                     Kok Dado Mane Yaad Kari Lejo Re          10   \n",
       "1508   Jignesh Barot ( Kaviraj) ચોય જ્યાં મારી હંભાળ ...          10   \n",
       "28571          Firki Levi Chhe Free Ma - Kaushik Bharwad          10   \n",
       "13414  LIVE : Rakesh Barot Garba - Navratri 2020 - Day 4          10   \n",
       "\n",
       "          video_id  likes       est  \n",
       "4791   qlmVMdCfnzs  17538  2.636435  \n",
       "8843   23PU1XgaV3Q  14726  2.636435  \n",
       "1508   QwUw7Wb0I-A  12893  2.636435  \n",
       "28571  XT_tvQ8oeow  10518  2.636435  \n",
       "13414  8PqTkKoncBE   3307  2.636435  "
      ]
     },
     "execution_count": 95,
     "metadata": {},
     "output_type": "execute_result"
    }
   ],
   "source": [
    "hybrid(1,\"Gujarati song pucho to khara\")"
   ]
  },
  {
   "cell_type": "code",
   "execution_count": 96,
   "id": "7c64afb3-22d2-4143-91f0-b5cf13341c18",
   "metadata": {},
   "outputs": [
    {
     "data": {
      "text/html": [
       "<div>\n",
       "<style scoped>\n",
       "    .dataframe tbody tr th:only-of-type {\n",
       "        vertical-align: middle;\n",
       "    }\n",
       "\n",
       "    .dataframe tbody tr th {\n",
       "        vertical-align: top;\n",
       "    }\n",
       "\n",
       "    .dataframe thead th {\n",
       "        text-align: right;\n",
       "    }\n",
       "</style>\n",
       "<table border=\"1\" class=\"dataframe\">\n",
       "  <thead>\n",
       "    <tr style=\"text-align: right;\">\n",
       "      <th></th>\n",
       "      <th>title</th>\n",
       "      <th>categoryId</th>\n",
       "      <th>video_id</th>\n",
       "      <th>likes</th>\n",
       "      <th>est</th>\n",
       "    </tr>\n",
       "  </thead>\n",
       "  <tbody>\n",
       "    <tr>\n",
       "      <th>6319</th>\n",
       "      <td>Butterfly : Jass Manak (Full Video) Satti Dhillon</td>\n",
       "      <td>10</td>\n",
       "      <td>b1c6i0VT7ak</td>\n",
       "      <td>381520</td>\n",
       "      <td>2.636435</td>\n",
       "    </tr>\n",
       "    <tr>\n",
       "      <th>5372</th>\n",
       "      <td>AYEN KIVEN : Gippy Grewal Ft. Amrit Maan (Full...</td>\n",
       "      <td>10</td>\n",
       "      <td>VU6ZUcxFgqE</td>\n",
       "      <td>166883</td>\n",
       "      <td>2.636435</td>\n",
       "    </tr>\n",
       "    <tr>\n",
       "      <th>14342</th>\n",
       "      <td>Level Up (Official Video ) - IKKA Ft. DIVINE &amp;...</td>\n",
       "      <td>10</td>\n",
       "      <td>9fgXP0FBZRI</td>\n",
       "      <td>108715</td>\n",
       "      <td>2.636435</td>\n",
       "    </tr>\n",
       "    <tr>\n",
       "      <th>26457</th>\n",
       "      <td>HOT LAUNDE - Badshah Ft. Fotty Seven, Bali</td>\n",
       "      <td>10</td>\n",
       "      <td>iuqfU9Ll300</td>\n",
       "      <td>108643</td>\n",
       "      <td>2.636435</td>\n",
       "    </tr>\n",
       "    <tr>\n",
       "      <th>10066</th>\n",
       "      <td>THE POWER OF DREAMS - Badshah ft. Lisa Mishra</td>\n",
       "      <td>10</td>\n",
       "      <td>WdktZ2fNQC4</td>\n",
       "      <td>11819</td>\n",
       "      <td>2.636435</td>\n",
       "    </tr>\n",
       "  </tbody>\n",
       "</table>\n",
       "</div>"
      ],
      "text/plain": [
       "                                                   title  categoryId  \\\n",
       "6319   Butterfly : Jass Manak (Full Video) Satti Dhillon          10   \n",
       "5372   AYEN KIVEN : Gippy Grewal Ft. Amrit Maan (Full...          10   \n",
       "14342  Level Up (Official Video ) - IKKA Ft. DIVINE &...          10   \n",
       "26457         HOT LAUNDE - Badshah Ft. Fotty Seven, Bali          10   \n",
       "10066      THE POWER OF DREAMS - Badshah ft. Lisa Mishra          10   \n",
       "\n",
       "          video_id   likes       est  \n",
       "6319   b1c6i0VT7ak  381520  2.636435  \n",
       "5372   VU6ZUcxFgqE  166883  2.636435  \n",
       "14342  9fgXP0FBZRI  108715  2.636435  \n",
       "26457  iuqfU9Ll300  108643  2.636435  \n",
       "10066  WdktZ2fNQC4   11819  2.636435  "
      ]
     },
     "execution_count": 96,
     "metadata": {},
     "output_type": "execute_result"
    }
   ],
   "source": [
    "hybrid(1,\"BADSHAH – BKL (Official Lyrical Video)\")"
   ]
  },
  {
   "cell_type": "code",
   "execution_count": 97,
   "id": "abaf0156-f069-4a94-acd1-f0f6f57c6abb",
   "metadata": {},
   "outputs": [
    {
     "data": {
      "text/html": [
       "<div>\n",
       "<style scoped>\n",
       "    .dataframe tbody tr th:only-of-type {\n",
       "        vertical-align: middle;\n",
       "    }\n",
       "\n",
       "    .dataframe tbody tr th {\n",
       "        vertical-align: top;\n",
       "    }\n",
       "\n",
       "    .dataframe thead th {\n",
       "        text-align: right;\n",
       "    }\n",
       "</style>\n",
       "<table border=\"1\" class=\"dataframe\">\n",
       "  <thead>\n",
       "    <tr style=\"text-align: right;\">\n",
       "      <th></th>\n",
       "      <th>title</th>\n",
       "      <th>categoryId</th>\n",
       "      <th>video_id</th>\n",
       "      <th>likes</th>\n",
       "      <th>est</th>\n",
       "    </tr>\n",
       "  </thead>\n",
       "  <tbody>\n",
       "    <tr>\n",
       "      <th>13596</th>\n",
       "      <td>Diljit Dosanjh: Welcome To My Hood (Official M...</td>\n",
       "      <td>10</td>\n",
       "      <td>1ExdPa00uz4</td>\n",
       "      <td>239088</td>\n",
       "      <td>2.636435</td>\n",
       "    </tr>\n",
       "    <tr>\n",
       "      <th>4576</th>\n",
       "      <td>Diljit Dosanjh: Born To Shine (Official Music ...</td>\n",
       "      <td>10</td>\n",
       "      <td>dCmp56tSSmA</td>\n",
       "      <td>229701</td>\n",
       "      <td>2.636435</td>\n",
       "    </tr>\n",
       "    <tr>\n",
       "      <th>1700</th>\n",
       "      <td>PEED: Diljit Dosanjh (Official) Music Video</td>\n",
       "      <td>10</td>\n",
       "      <td>cXUndHRKmXQ</td>\n",
       "      <td>162861</td>\n",
       "      <td>2.636435</td>\n",
       "    </tr>\n",
       "    <tr>\n",
       "      <th>14737</th>\n",
       "      <td>ASLE - Gurman Sandhu</td>\n",
       "      <td>10</td>\n",
       "      <td>ApvvUgXWc1w</td>\n",
       "      <td>87768</td>\n",
       "      <td>2.636435</td>\n",
       "    </tr>\n",
       "    <tr>\n",
       "      <th>9746</th>\n",
       "      <td>Peed Diljit Dosanjh Lyrical Video Song</td>\n",
       "      <td>10</td>\n",
       "      <td>tq3BdjJZW84</td>\n",
       "      <td>20032</td>\n",
       "      <td>2.636435</td>\n",
       "    </tr>\n",
       "  </tbody>\n",
       "</table>\n",
       "</div>"
      ],
      "text/plain": [
       "                                                   title  categoryId  \\\n",
       "13596  Diljit Dosanjh: Welcome To My Hood (Official M...          10   \n",
       "4576   Diljit Dosanjh: Born To Shine (Official Music ...          10   \n",
       "1700         PEED: Diljit Dosanjh (Official) Music Video          10   \n",
       "14737                               ASLE - Gurman Sandhu          10   \n",
       "9746              Peed Diljit Dosanjh Lyrical Video Song          10   \n",
       "\n",
       "          video_id   likes       est  \n",
       "13596  1ExdPa00uz4  239088  2.636435  \n",
       "4576   dCmp56tSSmA  229701  2.636435  \n",
       "1700   cXUndHRKmXQ  162861  2.636435  \n",
       "14737  ApvvUgXWc1w   87768  2.636435  \n",
       "9746   tq3BdjJZW84   20032  2.636435  "
      ]
     },
     "execution_count": 97,
     "metadata": {},
     "output_type": "execute_result"
    }
   ],
   "source": [
    "hybrid(1,'Diljit Dosanjh: CLASH (Official) Music Video')"
   ]
  },
  {
   "cell_type": "code",
   "execution_count": 98,
   "id": "fa000d71-65ef-49ba-ab0e-e7a22bea666b",
   "metadata": {},
   "outputs": [
    {
     "data": {
      "text/html": [
       "<div>\n",
       "<style scoped>\n",
       "    .dataframe tbody tr th:only-of-type {\n",
       "        vertical-align: middle;\n",
       "    }\n",
       "\n",
       "    .dataframe tbody tr th {\n",
       "        vertical-align: top;\n",
       "    }\n",
       "\n",
       "    .dataframe thead th {\n",
       "        text-align: right;\n",
       "    }\n",
       "</style>\n",
       "<table border=\"1\" class=\"dataframe\">\n",
       "  <thead>\n",
       "    <tr style=\"text-align: right;\">\n",
       "      <th></th>\n",
       "      <th>title</th>\n",
       "      <th>categoryId</th>\n",
       "      <th>video_id</th>\n",
       "      <th>likes</th>\n",
       "      <th>est</th>\n",
       "    </tr>\n",
       "  </thead>\n",
       "  <tbody>\n",
       "    <tr>\n",
       "      <th>6531</th>\n",
       "      <td>Girls in Online Classes</td>\n",
       "      <td>24</td>\n",
       "      <td>WDnLu877Adk</td>\n",
       "      <td>11222</td>\n",
       "      <td>2.793735</td>\n",
       "    </tr>\n",
       "    <tr>\n",
       "      <th>2116</th>\n",
       "      <td>When You Are 25+</td>\n",
       "      <td>24</td>\n",
       "      <td>IsooRg-gGB4</td>\n",
       "      <td>6692</td>\n",
       "      <td>2.793735</td>\n",
       "    </tr>\n",
       "    <tr>\n",
       "      <th>2702</th>\n",
       "      <td>Indians During Video Calls</td>\n",
       "      <td>24</td>\n",
       "      <td>dchGzOCUC-k</td>\n",
       "      <td>6079</td>\n",
       "      <td>2.793735</td>\n",
       "    </tr>\n",
       "    <tr>\n",
       "      <th>19003</th>\n",
       "      <td>Girls in Online Exams</td>\n",
       "      <td>24</td>\n",
       "      <td>-7HBWFF32_0</td>\n",
       "      <td>5566</td>\n",
       "      <td>2.793735</td>\n",
       "    </tr>\n",
       "    <tr>\n",
       "      <th>14625</th>\n",
       "      <td>Hyderabadi Friend</td>\n",
       "      <td>24</td>\n",
       "      <td>thT_-gqQf8E</td>\n",
       "      <td>2957</td>\n",
       "      <td>2.793735</td>\n",
       "    </tr>\n",
       "  </tbody>\n",
       "</table>\n",
       "</div>"
      ],
      "text/plain": [
       "                            title  categoryId     video_id  likes       est\n",
       "6531      Girls in Online Classes          24  WDnLu877Adk  11222  2.793735\n",
       "2116             When You Are 25+          24  IsooRg-gGB4   6692  2.793735\n",
       "2702   Indians During Video Calls          24  dchGzOCUC-k   6079  2.793735\n",
       "19003       Girls in Online Exams          24  -7HBWFF32_0   5566  2.793735\n",
       "14625           Hyderabadi Friend          24  thT_-gqQf8E   2957  2.793735"
      ]
     },
     "execution_count": 98,
     "metadata": {},
     "output_type": "execute_result"
    }
   ],
   "source": [
    "hybrid(1,'After TikTok Ban')"
   ]
  },
  {
   "cell_type": "code",
   "execution_count": 99,
   "id": "65ae683f",
   "metadata": {
    "id": "65ae683f"
   },
   "outputs": [
    {
     "data": {
      "text/html": [
       "<div>\n",
       "<style scoped>\n",
       "    .dataframe tbody tr th:only-of-type {\n",
       "        vertical-align: middle;\n",
       "    }\n",
       "\n",
       "    .dataframe tbody tr th {\n",
       "        vertical-align: top;\n",
       "    }\n",
       "\n",
       "    .dataframe thead th {\n",
       "        text-align: right;\n",
       "    }\n",
       "</style>\n",
       "<table border=\"1\" class=\"dataframe\">\n",
       "  <thead>\n",
       "    <tr style=\"text-align: right;\">\n",
       "      <th></th>\n",
       "      <th>title</th>\n",
       "      <th>likes</th>\n",
       "      <th>categoryId</th>\n",
       "      <th>video_id</th>\n",
       "      <th>thumbnail_link</th>\n",
       "      <th>Rating</th>\n",
       "    </tr>\n",
       "  </thead>\n",
       "  <tbody>\n",
       "    <tr>\n",
       "      <th>0</th>\n",
       "      <td>Sadak 2</td>\n",
       "      <td>224925</td>\n",
       "      <td>24</td>\n",
       "      <td>Iot0eF6EoNA</td>\n",
       "      <td>https://i.ytimg.com/vi/Iot0eF6EoNA/default.jpg</td>\n",
       "      <td>4</td>\n",
       "    </tr>\n",
       "    <tr>\n",
       "      <th>1</th>\n",
       "      <td>Kya Baat Aa : Karan Aujla (Official Video) Tania</td>\n",
       "      <td>655450</td>\n",
       "      <td>10</td>\n",
       "      <td>x-KbnJ9fvJc</td>\n",
       "      <td>https://i.ytimg.com/vi/x-KbnJ9fvJc/default.jpg</td>\n",
       "      <td>4</td>\n",
       "    </tr>\n",
       "    <tr>\n",
       "      <th>2</th>\n",
       "      <td>Diljit Dosanjh: CLASH (Official) Music Video</td>\n",
       "      <td>296533</td>\n",
       "      <td>10</td>\n",
       "      <td>KX06ksuS6Xo</td>\n",
       "      <td>https://i.ytimg.com/vi/KX06ksuS6Xo/default.jpg</td>\n",
       "      <td>4</td>\n",
       "    </tr>\n",
       "    <tr>\n",
       "      <th>3</th>\n",
       "      <td>Dil Ko Maine Di Kasam Video</td>\n",
       "      <td>743931</td>\n",
       "      <td>10</td>\n",
       "      <td>UsMRgnTcchY</td>\n",
       "      <td>https://i.ytimg.com/vi/UsMRgnTcchY/default.jpg</td>\n",
       "      <td>4</td>\n",
       "    </tr>\n",
       "    <tr>\n",
       "      <th>4</th>\n",
       "      <td>Baarish (Official Video) Payal Dev,Stebin Ben</td>\n",
       "      <td>268817</td>\n",
       "      <td>10</td>\n",
       "      <td>WNSEXJJhKTU</td>\n",
       "      <td>https://i.ytimg.com/vi/WNSEXJJhKTU/default.jpg</td>\n",
       "      <td>4</td>\n",
       "    </tr>\n",
       "  </tbody>\n",
       "</table>\n",
       "</div>"
      ],
      "text/plain": [
       "                                              title   likes  categoryId  \\\n",
       "0                                           Sadak 2  224925          24   \n",
       "1  Kya Baat Aa : Karan Aujla (Official Video) Tania  655450          10   \n",
       "2      Diljit Dosanjh: CLASH (Official) Music Video  296533          10   \n",
       "3                       Dil Ko Maine Di Kasam Video  743931          10   \n",
       "4     Baarish (Official Video) Payal Dev,Stebin Ben  268817          10   \n",
       "\n",
       "      video_id                                  thumbnail_link Rating  \n",
       "0  Iot0eF6EoNA  https://i.ytimg.com/vi/Iot0eF6EoNA/default.jpg      4  \n",
       "1  x-KbnJ9fvJc  https://i.ytimg.com/vi/x-KbnJ9fvJc/default.jpg      4  \n",
       "2  KX06ksuS6Xo  https://i.ytimg.com/vi/KX06ksuS6Xo/default.jpg      4  \n",
       "3  UsMRgnTcchY  https://i.ytimg.com/vi/UsMRgnTcchY/default.jpg      4  \n",
       "4  WNSEXJJhKTU  https://i.ytimg.com/vi/WNSEXJJhKTU/default.jpg      4  "
      ]
     },
     "execution_count": 99,
     "metadata": {},
     "output_type": "execute_result"
    }
   ],
   "source": [
    "smd.head()\n"
   ]
  },
  {
   "cell_type": "code",
   "execution_count": 100,
   "id": "ad506f62-12b5-4849-a3b2-5ce57d389d11",
   "metadata": {},
   "outputs": [],
   "source": [
    "#smd.to_csv('smd.csv')"
   ]
  },
  {
   "cell_type": "code",
   "execution_count": 101,
   "id": "6fa77af6-d8d0-4e01-89ce-8f40a489cc10",
   "metadata": {
    "id": "6fa77af6-d8d0-4e01-89ce-8f40a489cc10"
   },
   "outputs": [],
   "source": [
    "#pickle.dump(smd,open('smd.pkl','wb'))\n",
    "with open(\"smd.pkl\", \"wb\") as f: \n",
    "    joblib.dump(smd, f) "
   ]
  },
  {
   "cell_type": "code",
   "execution_count": 102,
   "id": "78c09a11-3dc1-4dc4-8352-eb04bb3e8148",
   "metadata": {},
   "outputs": [],
   "source": [
    "#pickle.dump(smd,open('smd.pkl','wb'))\n",
    "with open(\"new.pkl\", \"wb\") as f: \n",
    "    joblib.dump(new, f) "
   ]
  },
  {
   "cell_type": "code",
   "execution_count": 103,
   "id": "d2601fa2-f829-4b9e-8ad6-badf8f6030ef",
   "metadata": {},
   "outputs": [
    {
     "data": {
      "text/plain": [
       "'https://i.ytimg.com/vi/Iot0eF6EoNA/default.jpg'"
      ]
     },
     "execution_count": 103,
     "metadata": {},
     "output_type": "execute_result"
    }
   ],
   "source": [
    "smd['thumbnail_link'][0][:]"
   ]
  },
  {
   "cell_type": "code",
   "execution_count": 104,
   "id": "20d55659-1196-42ab-b53d-0ef58b14d8dc",
   "metadata": {},
   "outputs": [],
   "source": [
    "video_list=smd[['title','likes','thumbnail_link']]"
   ]
  },
  {
   "cell_type": "code",
   "execution_count": 105,
   "id": "f61d40c2-fc0a-49a2-996c-da888959a102",
   "metadata": {},
   "outputs": [],
   "source": [
    "with open(\"video_list.pkl\", \"wb\") as f: \n",
    "    joblib.dump(video_list, f) "
   ]
  },
  {
   "cell_type": "code",
   "execution_count": 106,
   "id": "dc0d4ce8-aac5-4379-82f9-1b6e3ae29569",
   "metadata": {},
   "outputs": [
    {
     "data": {
      "text/plain": [
       "158                              Sabaat Episode 19 Promo\n",
       "159    Cash Latest Promo - 15th August 2020 - Anasuya...\n",
       "161                   Ram mandir darshan with modi jii 😱\n",
       "162                          Color Photo Official Teaser\n",
       "163                          ALL ABOUT BHABHI’S BIRTHDAY\n",
       "164                           Daily Current Affairs #317\n",
       "165                                                 9 PM\n",
       "166                        Kia Sonet - Too many Features\n",
       "167                      Madan Gowri Lockdown Photoshoot\n",
       "168    Opening ALL Of My RAKHI GIFTS! Makeup, BAG, CL...\n",
       "169          Unique Pencil Sharpener Unboxing & Giveaway\n",
       "170             DOCTOR (Official Video) Sidhu Moose Wala\n",
       "173                  Sadak 2 Trailer पे पब्लिक का गुस्सा\n",
       "175                          No Worries (Official Video)\n",
       "181                                             Menamama\n",
       "182    Gunjan Saxena movie से Indian Airforce नाराज़?...\n",
       "183    Lord Shree Krishna Janmotsav - Janamashtami Ce...\n",
       "184                                     Barathi Kannamma\n",
       "186                           Gangavva Lockdown Incharge\n",
       "192                           Naam Iruvar Namakku Iruvar\n",
       "193    குப்பை பொறுக்கி வந்த மூதாட்டியின் வீட்டில் கொட...\n",
       "195    Husband celebrates house warming Ceremony with...\n",
       "198    ഒരു ലൗ സ്റ്റോറി സൊല്ലട്ടുമാ💏 OUR 11th LOVE ANN...\n",
       "199    నెల్లూరు కుర్రాళ్ల వీడియో కు సినిమా ఇండస్ట్రీ ...\n",
       "201                         Success Kaur (Teaser) R Nait\n",
       "204                                       Ala Modalaindi\n",
       "205                          Kalyana Veedu - Episode 611\n",
       "206                               Aadi Maasam Atrocities\n",
       "208                                     After TikTok Ban\n",
       "213                    Riding Our Ducati Bike Underwater\n",
       "214                                 Bestfriend Se Shaadi\n",
       "220                Darr Ke Aage Jeet Hai #JeetengePhirSe\n",
       "221                                We got LOST in CLOUDS\n",
       "222                         જય કનૈયાલાલ કી  (ભજન સંધ્યા)\n",
       "226                      DIY : Expectation VS. Reality 😂\n",
       "227                                           Boy bestie\n",
       "233                                        Nuvve Kavaali\n",
       "234                                   HYDERABADI BIRYANI\n",
       "237                          பிரியாணியை திருடியது யாரு ?\n",
       "238                                 DESTINATION WEDDING!\n",
       "239                                Chithi 2 - Episode 60\n",
       "243                              Reh Jaunga Main - Video\n",
       "245                                       Dhee Champions\n",
       "248                        What I Learnt From My Mistake\n",
       "249                 How to make GLITCH EFFECT like a PRO\n",
       "257    TOP 7 FASHION TRENDS - Independence Day Specia...\n",
       "261                       Twisted Speed Eating Challenge\n",
       "263    அசைவம் சாப்பிட்டுவிட்டு பூஜைகள் செய்யலாமா? Can...\n",
       "265                             Billo Tu Agg Song Teaser\n",
       "268    Adnan और Sushant के 'Kolaveri Di' Dance ने किय...\n",
       "Name: title, dtype: object"
      ]
     },
     "execution_count": 106,
     "metadata": {},
     "output_type": "execute_result"
    }
   ],
   "source": [
    "video_list['title'][150:200]"
   ]
  },
  {
   "cell_type": "code",
   "execution_count": 107,
   "id": "2a223bf1-6cd2-4918-8fe2-3fdd405b7371",
   "metadata": {},
   "outputs": [
    {
     "name": "stdout",
     "output_type": "stream",
     "text": [
      "<class 'pandas.core.frame.DataFrame'>\n",
      "Int64Index: 7312 entries, 0 to 29996\n",
      "Data columns (total 6 columns):\n",
      " #   Column          Non-Null Count  Dtype   \n",
      "---  ------          --------------  -----   \n",
      " 0   title           7312 non-null   object  \n",
      " 1   likes           7312 non-null   int64   \n",
      " 2   categoryId      7312 non-null   int64   \n",
      " 3   video_id        7312 non-null   object  \n",
      " 4   thumbnail_link  7312 non-null   object  \n",
      " 5   Rating          7312 non-null   category\n",
      "dtypes: category(1), int64(2), object(3)\n",
      "memory usage: 608.1+ KB\n"
     ]
    }
   ],
   "source": [
    "smd.info()"
   ]
  },
  {
   "cell_type": "code",
   "execution_count": 108,
   "id": "7342098d-4860-40bf-a4f1-b44728f45336",
   "metadata": {},
   "outputs": [
    {
     "name": "stdout",
     "output_type": "stream",
     "text": [
      "<class 'pandas.core.frame.DataFrame'>\n",
      "RangeIndex: 7312 entries, 0 to 7311\n",
      "Data columns (total 8 columns):\n",
      " #   Column          Non-Null Count  Dtype   \n",
      "---  ------          --------------  -----   \n",
      " 0   index           7312 non-null   int64   \n",
      " 1   userID          7312 non-null   int64   \n",
      " 2   video_id        7312 non-null   object  \n",
      " 3   title           7312 non-null   object  \n",
      " 4   likes           7312 non-null   int64   \n",
      " 5   thumbnail_link  7312 non-null   object  \n",
      " 6   Rating          7312 non-null   category\n",
      " 7   joint_tags      7312 non-null   object  \n",
      "dtypes: category(1), int64(3), object(4)\n",
      "memory usage: 407.3+ KB\n"
     ]
    }
   ],
   "source": [
    "new.info()"
   ]
  },
  {
   "cell_type": "code",
   "execution_count": null,
   "id": "294e8bbe-679b-429b-ab6b-705e908922bb",
   "metadata": {},
   "outputs": [],
   "source": []
  }
 ],
 "metadata": {
  "colab": {
   "provenance": []
  },
  "kernelspec": {
   "display_name": "Python 3 (ipykernel)",
   "language": "python",
   "name": "python3"
  },
  "language_info": {
   "codemirror_mode": {
    "name": "ipython",
    "version": 3
   },
   "file_extension": ".py",
   "mimetype": "text/x-python",
   "name": "python",
   "nbconvert_exporter": "python",
   "pygments_lexer": "ipython3",
   "version": "3.9.13"
  }
 },
 "nbformat": 4,
 "nbformat_minor": 5
}
