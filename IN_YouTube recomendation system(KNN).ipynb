{
 "cells": [
  {
   "cell_type": "markdown",
   "id": "07c930ce-54f7-427e-a849-a66534694085",
   "metadata": {
    "id": "07c930ce-54f7-427e-a849-a66534694085"
   },
   "source": [
    "## YouTube Recomendation system"
   ]
  },
  {
   "cell_type": "markdown",
   "id": "274b0124-fb37-4c1e-9fc2-aa340cc1d2fe",
   "metadata": {
    "id": "274b0124-fb37-4c1e-9fc2-aa340cc1d2fe"
   },
   "source": [
    "### Content-based filtering:\n",
    "### is a recommendation system that makes recommendations to users based on their past interactions with content. The idea behind content-based filtering is to recommend content that is similar to what the user has already shown an interest in."
   ]
  },
  {
   "cell_type": "code",
   "execution_count": 1,
   "id": "2f58c52c-0450-476f-b5f6-8892b41c6574",
   "metadata": {},
   "outputs": [],
   "source": [
    "#pip install --upgrade pandas==1.3.4"
   ]
  },
  {
   "cell_type": "code",
   "execution_count": 2,
   "id": "3513dbb0-0c7f-424f-aa9a-b9073881ab1d",
   "metadata": {},
   "outputs": [],
   "source": [
    "import joblib\n",
    "import pickle"
   ]
  },
  {
   "cell_type": "code",
   "execution_count": 3,
   "id": "338aeef5-c9a0-4e30-920f-bfd81daa84a3",
   "metadata": {},
   "outputs": [],
   "source": [
    "import pandas as pd\n",
    "import numpy as np\n",
    "import matplotlib.pyplot as plt\n",
    "import seaborn as sns\n",
    "from scipy import stats\n",
    "from ast import literal_eval\n",
    "from sklearn.feature_extraction.text import TfidfVectorizer, CountVectorizer\n",
    "from sklearn.metrics.pairwise import linear_kernel, cosine_similarity\n",
    "from nltk.stem.snowball import SnowballStemmer\n",
    "from nltk.stem.wordnet import WordNetLemmatizer\n",
    "from nltk.corpus import wordnet\n",
    "from nltk.corpus import stopwords\n",
    "import re\n",
    "import nltk\n",
    "from surprise import Reader, Dataset, SVD, SVDpp, model_selection, NormalPredictor, KNNBasic, KNNWithMeans, KNNWithZScore, KNNBaseline, BaselineOnly, NMF, SlopeOne, CoClustering, accuracy\n",
    "from surprise.accuracy import rmse\n",
    "from surprise.model_selection import cross_validate, train_test_split\n",
    "\n",
    "# Set up inline plotting\n",
    "%matplotlib inline\n",
    "\n",
    "# Silence warnings\n",
    "import warnings\n",
    "warnings.simplefilter('ignore')\n",
    "\n",
    "# Uncomment if needed:\n",
    "# nltk.download('stopwords')"
   ]
  },
  {
   "cell_type": "code",
   "execution_count": 4,
   "id": "b8e0a1bf-9606-4063-a81a-edcb089238ea",
   "metadata": {},
   "outputs": [
    {
     "data": {
      "text/plain": [
       "'1.3.4'"
      ]
     },
     "execution_count": 4,
     "metadata": {},
     "output_type": "execute_result"
    }
   ],
   "source": [
    "pd.__version__"
   ]
  },
  {
   "cell_type": "code",
   "execution_count": 5,
   "id": "ed5d62ab-c3bf-4827-8a34-613e33c65771",
   "metadata": {
    "id": "ed5d62ab-c3bf-4827-8a34-613e33c65771"
   },
   "outputs": [],
   "source": [
    "youtube= pd.read_csv(\"IN_youtube_trending_data.csv\")"
   ]
  },
  {
   "cell_type": "code",
   "execution_count": 6,
   "id": "65892c2c-6bd2-468a-b60b-0bb4454cfc52",
   "metadata": {
    "id": "65892c2c-6bd2-468a-b60b-0bb4454cfc52"
   },
   "outputs": [],
   "source": [
    "youtube=youtube[:30000]"
   ]
  },
  {
   "cell_type": "code",
   "execution_count": 7,
   "id": "e65399af-692a-4ba5-b326-9269ba3e9703",
   "metadata": {
    "id": "e65399af-692a-4ba5-b326-9269ba3e9703",
    "outputId": "3d4664f4-b5f5-4b84-f2a6-329712770b4d"
   },
   "outputs": [
    {
     "data": {
      "text/html": [
       "<div>\n",
       "<style scoped>\n",
       "    .dataframe tbody tr th:only-of-type {\n",
       "        vertical-align: middle;\n",
       "    }\n",
       "\n",
       "    .dataframe tbody tr th {\n",
       "        vertical-align: top;\n",
       "    }\n",
       "\n",
       "    .dataframe thead th {\n",
       "        text-align: right;\n",
       "    }\n",
       "</style>\n",
       "<table border=\"1\" class=\"dataframe\">\n",
       "  <thead>\n",
       "    <tr style=\"text-align: right;\">\n",
       "      <th></th>\n",
       "      <th>video_id</th>\n",
       "      <th>title</th>\n",
       "      <th>publishedAt</th>\n",
       "      <th>channelId</th>\n",
       "      <th>channelTitle</th>\n",
       "      <th>categoryId</th>\n",
       "      <th>trending_date</th>\n",
       "      <th>tags</th>\n",
       "      <th>view_count</th>\n",
       "      <th>likes</th>\n",
       "      <th>dislikes</th>\n",
       "      <th>comment_count</th>\n",
       "      <th>thumbnail_link</th>\n",
       "      <th>comments_disabled</th>\n",
       "      <th>ratings_disabled</th>\n",
       "      <th>description</th>\n",
       "    </tr>\n",
       "  </thead>\n",
       "  <tbody>\n",
       "    <tr>\n",
       "      <th>0</th>\n",
       "      <td>Iot0eF6EoNA</td>\n",
       "      <td>Sadak 2 | Official Trailer | Sanjay | Pooja | ...</td>\n",
       "      <td>2020-08-12T04:31:41Z</td>\n",
       "      <td>UCGqvJPRcv7aVFun-eTsatcA</td>\n",
       "      <td>FoxStarHindi</td>\n",
       "      <td>24</td>\n",
       "      <td>2020-08-12T00:00:00Z</td>\n",
       "      <td>sadak|sadak 2|mahesh bhatt|vishesh films|pooja...</td>\n",
       "      <td>9885899</td>\n",
       "      <td>224925</td>\n",
       "      <td>3979409</td>\n",
       "      <td>350210</td>\n",
       "      <td>https://i.ytimg.com/vi/Iot0eF6EoNA/default.jpg</td>\n",
       "      <td>False</td>\n",
       "      <td>False</td>\n",
       "      <td>Three Streams. Three Stories. One Journey. Sta...</td>\n",
       "    </tr>\n",
       "    <tr>\n",
       "      <th>1</th>\n",
       "      <td>x-KbnJ9fvJc</td>\n",
       "      <td>Kya Baat Aa : Karan Aujla (Official Video) Tan...</td>\n",
       "      <td>2020-08-11T09:00:11Z</td>\n",
       "      <td>UCm9SZAl03Rev9sFwloCdz1g</td>\n",
       "      <td>Rehaan Records</td>\n",
       "      <td>10</td>\n",
       "      <td>2020-08-12T00:00:00Z</td>\n",
       "      <td>[None]</td>\n",
       "      <td>11308046</td>\n",
       "      <td>655450</td>\n",
       "      <td>33242</td>\n",
       "      <td>405146</td>\n",
       "      <td>https://i.ytimg.com/vi/x-KbnJ9fvJc/default.jpg</td>\n",
       "      <td>False</td>\n",
       "      <td>False</td>\n",
       "      <td>Singer/Lyrics: Karan Aujla Feat Tania Music/ D...</td>\n",
       "    </tr>\n",
       "  </tbody>\n",
       "</table>\n",
       "</div>"
      ],
      "text/plain": [
       "      video_id                                              title  \\\n",
       "0  Iot0eF6EoNA  Sadak 2 | Official Trailer | Sanjay | Pooja | ...   \n",
       "1  x-KbnJ9fvJc  Kya Baat Aa : Karan Aujla (Official Video) Tan...   \n",
       "\n",
       "            publishedAt                 channelId    channelTitle  categoryId  \\\n",
       "0  2020-08-12T04:31:41Z  UCGqvJPRcv7aVFun-eTsatcA    FoxStarHindi          24   \n",
       "1  2020-08-11T09:00:11Z  UCm9SZAl03Rev9sFwloCdz1g  Rehaan Records          10   \n",
       "\n",
       "          trending_date                                               tags  \\\n",
       "0  2020-08-12T00:00:00Z  sadak|sadak 2|mahesh bhatt|vishesh films|pooja...   \n",
       "1  2020-08-12T00:00:00Z                                             [None]   \n",
       "\n",
       "   view_count   likes  dislikes  comment_count  \\\n",
       "0     9885899  224925   3979409         350210   \n",
       "1    11308046  655450     33242         405146   \n",
       "\n",
       "                                   thumbnail_link  comments_disabled  \\\n",
       "0  https://i.ytimg.com/vi/Iot0eF6EoNA/default.jpg              False   \n",
       "1  https://i.ytimg.com/vi/x-KbnJ9fvJc/default.jpg              False   \n",
       "\n",
       "   ratings_disabled                                        description  \n",
       "0             False  Three Streams. Three Stories. One Journey. Sta...  \n",
       "1             False  Singer/Lyrics: Karan Aujla Feat Tania Music/ D...  "
      ]
     },
     "execution_count": 7,
     "metadata": {},
     "output_type": "execute_result"
    }
   ],
   "source": [
    "youtube.head(2)"
   ]
  },
  {
   "cell_type": "code",
   "execution_count": 8,
   "id": "3ef47d5e-a6ae-497a-a3df-c3f7da45f602",
   "metadata": {},
   "outputs": [],
   "source": [
    "quartiles = youtube['likes'].quantile([0, 0.2, 0.4, 0.6, 0.8, 1.0])"
   ]
  },
  {
   "cell_type": "code",
   "execution_count": 9,
   "id": "f6643609-1b7a-4aee-b9da-a4aaac951ba8",
   "metadata": {},
   "outputs": [],
   "source": [
    "# Create a new column for ratings based on the quartiles\n",
    "youtube['Rating'] = pd.cut(youtube['likes'], bins=quartiles, labels=[0,1,2,3,4])"
   ]
  },
  {
   "cell_type": "code",
   "execution_count": 10,
   "id": "18fa5b63-ab9d-41c6-89e1-c6030f45ef9d",
   "metadata": {},
   "outputs": [
    {
     "data": {
      "text/html": [
       "<div>\n",
       "<style scoped>\n",
       "    .dataframe tbody tr th:only-of-type {\n",
       "        vertical-align: middle;\n",
       "    }\n",
       "\n",
       "    .dataframe tbody tr th {\n",
       "        vertical-align: top;\n",
       "    }\n",
       "\n",
       "    .dataframe thead th {\n",
       "        text-align: right;\n",
       "    }\n",
       "</style>\n",
       "<table border=\"1\" class=\"dataframe\">\n",
       "  <thead>\n",
       "    <tr style=\"text-align: right;\">\n",
       "      <th></th>\n",
       "      <th>video_id</th>\n",
       "      <th>title</th>\n",
       "      <th>publishedAt</th>\n",
       "      <th>channelId</th>\n",
       "      <th>channelTitle</th>\n",
       "      <th>categoryId</th>\n",
       "      <th>trending_date</th>\n",
       "      <th>tags</th>\n",
       "      <th>view_count</th>\n",
       "      <th>likes</th>\n",
       "      <th>dislikes</th>\n",
       "      <th>comment_count</th>\n",
       "      <th>thumbnail_link</th>\n",
       "      <th>comments_disabled</th>\n",
       "      <th>ratings_disabled</th>\n",
       "      <th>description</th>\n",
       "      <th>Rating</th>\n",
       "    </tr>\n",
       "  </thead>\n",
       "  <tbody>\n",
       "    <tr>\n",
       "      <th>0</th>\n",
       "      <td>Iot0eF6EoNA</td>\n",
       "      <td>Sadak 2 | Official Trailer | Sanjay | Pooja | ...</td>\n",
       "      <td>2020-08-12T04:31:41Z</td>\n",
       "      <td>UCGqvJPRcv7aVFun-eTsatcA</td>\n",
       "      <td>FoxStarHindi</td>\n",
       "      <td>24</td>\n",
       "      <td>2020-08-12T00:00:00Z</td>\n",
       "      <td>sadak|sadak 2|mahesh bhatt|vishesh films|pooja...</td>\n",
       "      <td>9885899</td>\n",
       "      <td>224925</td>\n",
       "      <td>3979409</td>\n",
       "      <td>350210</td>\n",
       "      <td>https://i.ytimg.com/vi/Iot0eF6EoNA/default.jpg</td>\n",
       "      <td>False</td>\n",
       "      <td>False</td>\n",
       "      <td>Three Streams. Three Stories. One Journey. Sta...</td>\n",
       "      <td>4</td>\n",
       "    </tr>\n",
       "    <tr>\n",
       "      <th>1</th>\n",
       "      <td>x-KbnJ9fvJc</td>\n",
       "      <td>Kya Baat Aa : Karan Aujla (Official Video) Tan...</td>\n",
       "      <td>2020-08-11T09:00:11Z</td>\n",
       "      <td>UCm9SZAl03Rev9sFwloCdz1g</td>\n",
       "      <td>Rehaan Records</td>\n",
       "      <td>10</td>\n",
       "      <td>2020-08-12T00:00:00Z</td>\n",
       "      <td>[None]</td>\n",
       "      <td>11308046</td>\n",
       "      <td>655450</td>\n",
       "      <td>33242</td>\n",
       "      <td>405146</td>\n",
       "      <td>https://i.ytimg.com/vi/x-KbnJ9fvJc/default.jpg</td>\n",
       "      <td>False</td>\n",
       "      <td>False</td>\n",
       "      <td>Singer/Lyrics: Karan Aujla Feat Tania Music/ D...</td>\n",
       "      <td>4</td>\n",
       "    </tr>\n",
       "    <tr>\n",
       "      <th>2</th>\n",
       "      <td>KX06ksuS6Xo</td>\n",
       "      <td>Diljit Dosanjh: CLASH (Official) Music Video |...</td>\n",
       "      <td>2020-08-11T07:30:02Z</td>\n",
       "      <td>UCZRdNleCgW-BGUJf-bbjzQg</td>\n",
       "      <td>Diljit Dosanjh</td>\n",
       "      <td>10</td>\n",
       "      <td>2020-08-12T00:00:00Z</td>\n",
       "      <td>clash diljit dosanjh|diljit dosanjh|diljit dos...</td>\n",
       "      <td>9140911</td>\n",
       "      <td>296533</td>\n",
       "      <td>6179</td>\n",
       "      <td>30058</td>\n",
       "      <td>https://i.ytimg.com/vi/KX06ksuS6Xo/default.jpg</td>\n",
       "      <td>False</td>\n",
       "      <td>False</td>\n",
       "      <td>CLASH official music video performed by DILJIT...</td>\n",
       "      <td>4</td>\n",
       "    </tr>\n",
       "    <tr>\n",
       "      <th>3</th>\n",
       "      <td>UsMRgnTcchY</td>\n",
       "      <td>Dil Ko Maine Di Kasam Video | Amaal M Ft.Ariji...</td>\n",
       "      <td>2020-08-10T05:30:49Z</td>\n",
       "      <td>UCq-Fj5jknLsUf-MWSy4_brA</td>\n",
       "      <td>T-Series</td>\n",
       "      <td>10</td>\n",
       "      <td>2020-08-12T00:00:00Z</td>\n",
       "      <td>hindi songs|2020 hindi songs|2020 new songs|t-...</td>\n",
       "      <td>23564512</td>\n",
       "      <td>743931</td>\n",
       "      <td>84162</td>\n",
       "      <td>136942</td>\n",
       "      <td>https://i.ytimg.com/vi/UsMRgnTcchY/default.jpg</td>\n",
       "      <td>False</td>\n",
       "      <td>False</td>\n",
       "      <td>Gulshan Kumar and T-Series presents Bhushan Ku...</td>\n",
       "      <td>4</td>\n",
       "    </tr>\n",
       "    <tr>\n",
       "      <th>4</th>\n",
       "      <td>WNSEXJJhKTU</td>\n",
       "      <td>Baarish (Official Video) Payal Dev,Stebin Ben ...</td>\n",
       "      <td>2020-08-11T05:30:13Z</td>\n",
       "      <td>UCye6Oz0mg46S362LwARGVcA</td>\n",
       "      <td>VYRLOriginals</td>\n",
       "      <td>10</td>\n",
       "      <td>2020-08-12T00:00:00Z</td>\n",
       "      <td>VYRL Original|Mohsin Khan|Shivangi Joshi|Payal...</td>\n",
       "      <td>6783649</td>\n",
       "      <td>268817</td>\n",
       "      <td>8798</td>\n",
       "      <td>22984</td>\n",
       "      <td>https://i.ytimg.com/vi/WNSEXJJhKTU/default.jpg</td>\n",
       "      <td>False</td>\n",
       "      <td>False</td>\n",
       "      <td>VYRL Originals brings to you ‘Baarish’ - the b...</td>\n",
       "      <td>4</td>\n",
       "    </tr>\n",
       "  </tbody>\n",
       "</table>\n",
       "</div>"
      ],
      "text/plain": [
       "      video_id                                              title  \\\n",
       "0  Iot0eF6EoNA  Sadak 2 | Official Trailer | Sanjay | Pooja | ...   \n",
       "1  x-KbnJ9fvJc  Kya Baat Aa : Karan Aujla (Official Video) Tan...   \n",
       "2  KX06ksuS6Xo  Diljit Dosanjh: CLASH (Official) Music Video |...   \n",
       "3  UsMRgnTcchY  Dil Ko Maine Di Kasam Video | Amaal M Ft.Ariji...   \n",
       "4  WNSEXJJhKTU  Baarish (Official Video) Payal Dev,Stebin Ben ...   \n",
       "\n",
       "            publishedAt                 channelId    channelTitle  categoryId  \\\n",
       "0  2020-08-12T04:31:41Z  UCGqvJPRcv7aVFun-eTsatcA    FoxStarHindi          24   \n",
       "1  2020-08-11T09:00:11Z  UCm9SZAl03Rev9sFwloCdz1g  Rehaan Records          10   \n",
       "2  2020-08-11T07:30:02Z  UCZRdNleCgW-BGUJf-bbjzQg  Diljit Dosanjh          10   \n",
       "3  2020-08-10T05:30:49Z  UCq-Fj5jknLsUf-MWSy4_brA        T-Series          10   \n",
       "4  2020-08-11T05:30:13Z  UCye6Oz0mg46S362LwARGVcA   VYRLOriginals          10   \n",
       "\n",
       "          trending_date                                               tags  \\\n",
       "0  2020-08-12T00:00:00Z  sadak|sadak 2|mahesh bhatt|vishesh films|pooja...   \n",
       "1  2020-08-12T00:00:00Z                                             [None]   \n",
       "2  2020-08-12T00:00:00Z  clash diljit dosanjh|diljit dosanjh|diljit dos...   \n",
       "3  2020-08-12T00:00:00Z  hindi songs|2020 hindi songs|2020 new songs|t-...   \n",
       "4  2020-08-12T00:00:00Z  VYRL Original|Mohsin Khan|Shivangi Joshi|Payal...   \n",
       "\n",
       "   view_count   likes  dislikes  comment_count  \\\n",
       "0     9885899  224925   3979409         350210   \n",
       "1    11308046  655450     33242         405146   \n",
       "2     9140911  296533      6179          30058   \n",
       "3    23564512  743931     84162         136942   \n",
       "4     6783649  268817      8798          22984   \n",
       "\n",
       "                                   thumbnail_link  comments_disabled  \\\n",
       "0  https://i.ytimg.com/vi/Iot0eF6EoNA/default.jpg              False   \n",
       "1  https://i.ytimg.com/vi/x-KbnJ9fvJc/default.jpg              False   \n",
       "2  https://i.ytimg.com/vi/KX06ksuS6Xo/default.jpg              False   \n",
       "3  https://i.ytimg.com/vi/UsMRgnTcchY/default.jpg              False   \n",
       "4  https://i.ytimg.com/vi/WNSEXJJhKTU/default.jpg              False   \n",
       "\n",
       "   ratings_disabled                                        description Rating  \n",
       "0             False  Three Streams. Three Stories. One Journey. Sta...      4  \n",
       "1             False  Singer/Lyrics: Karan Aujla Feat Tania Music/ D...      4  \n",
       "2             False  CLASH official music video performed by DILJIT...      4  \n",
       "3             False  Gulshan Kumar and T-Series presents Bhushan Ku...      4  \n",
       "4             False  VYRL Originals brings to you ‘Baarish’ - the b...      4  "
      ]
     },
     "execution_count": 10,
     "metadata": {},
     "output_type": "execute_result"
    }
   ],
   "source": [
    "youtube.head(5)"
   ]
  },
  {
   "cell_type": "code",
   "execution_count": 11,
   "id": "6815c887-a54b-4a5a-87eb-2105e3d6cd27",
   "metadata": {},
   "outputs": [
    {
     "data": {
      "text/plain": [
       "[4, 2, 1, 3, 0, NaN]\n",
       "Categories (5, int64): [0 < 1 < 2 < 3 < 4]"
      ]
     },
     "execution_count": 11,
     "metadata": {},
     "output_type": "execute_result"
    }
   ],
   "source": [
    "youtube['Rating'].unique()"
   ]
  },
  {
   "cell_type": "code",
   "execution_count": 12,
   "id": "3401315e-c6fb-435d-bc56-c6661da73ddc",
   "metadata": {},
   "outputs": [],
   "source": [
    "youtube.dropna(inplace=True)"
   ]
  },
  {
   "cell_type": "code",
   "execution_count": 13,
   "id": "2d7063f8-7ac7-4575-9833-58b94eb0c161",
   "metadata": {},
   "outputs": [],
   "source": [
    "# Get the number of rows in the youtube DataFrame\n",
    "num_rows = len(youtube)\n",
    "\n",
    "# Create a list of values for the new column\n",
    "values = list(range(1, num_rows + 1))\n",
    "\n",
    "# Assign the new column to 'userID' in the youtube DataFrame\n",
    "youtube['userID'] = values"
   ]
  },
  {
   "cell_type": "code",
   "execution_count": 14,
   "id": "de48ffc2-caf6-46e2-8f5c-380ff845a6f6",
   "metadata": {
    "id": "de48ffc2-caf6-46e2-8f5c-380ff845a6f6",
    "outputId": "f0d816f6-702d-4c37-d845-ee79e884c3f5"
   },
   "outputs": [
    {
     "data": {
      "text/plain": [
       "(29400, 18)"
      ]
     },
     "execution_count": 14,
     "metadata": {},
     "output_type": "execute_result"
    }
   ],
   "source": [
    "youtube.shape"
   ]
  },
  {
   "cell_type": "code",
   "execution_count": 15,
   "id": "deb3654f-3330-47cc-9a72-06066a5619c4",
   "metadata": {
    "id": "deb3654f-3330-47cc-9a72-06066a5619c4",
    "outputId": "08a4d49a-75ab-4d2f-a565-656d025d8ccc"
   },
   "outputs": [
    {
     "data": {
      "text/plain": [
       "Index(['video_id', 'title', 'publishedAt', 'channelId', 'channelTitle',\n",
       "       'categoryId', 'trending_date', 'tags', 'view_count', 'likes',\n",
       "       'dislikes', 'comment_count', 'thumbnail_link', 'comments_disabled',\n",
       "       'ratings_disabled', 'description', 'Rating', 'userID'],\n",
       "      dtype='object')"
      ]
     },
     "execution_count": 15,
     "metadata": {},
     "output_type": "execute_result"
    }
   ],
   "source": [
    "youtube.columns"
   ]
  },
  {
   "cell_type": "code",
   "execution_count": 16,
   "id": "93d0b1c6-88a9-4d66-91eb-a83541e9a1d3",
   "metadata": {
    "id": "93d0b1c6-88a9-4d66-91eb-a83541e9a1d3",
    "outputId": "b26691cc-b257-48bb-87b4-9c4329ed0323"
   },
   "outputs": [
    {
     "name": "stdout",
     "output_type": "stream",
     "text": [
      "<class 'pandas.core.frame.DataFrame'>\n",
      "Int64Index: 29400 entries, 0 to 29999\n",
      "Data columns (total 18 columns):\n",
      " #   Column             Non-Null Count  Dtype   \n",
      "---  ------             --------------  -----   \n",
      " 0   video_id           29400 non-null  object  \n",
      " 1   title              29400 non-null  object  \n",
      " 2   publishedAt        29400 non-null  object  \n",
      " 3   channelId          29400 non-null  object  \n",
      " 4   channelTitle       29400 non-null  object  \n",
      " 5   categoryId         29400 non-null  int64   \n",
      " 6   trending_date      29400 non-null  object  \n",
      " 7   tags               29400 non-null  object  \n",
      " 8   view_count         29400 non-null  int64   \n",
      " 9   likes              29400 non-null  int64   \n",
      " 10  dislikes           29400 non-null  int64   \n",
      " 11  comment_count      29400 non-null  int64   \n",
      " 12  thumbnail_link     29400 non-null  object  \n",
      " 13  comments_disabled  29400 non-null  bool    \n",
      " 14  ratings_disabled   29400 non-null  bool    \n",
      " 15  description        29400 non-null  object  \n",
      " 16  Rating             29400 non-null  category\n",
      " 17  userID             29400 non-null  int64   \n",
      "dtypes: bool(2), category(1), int64(6), object(9)\n",
      "memory usage: 3.7+ MB\n"
     ]
    }
   ],
   "source": [
    "youtube.info()"
   ]
  },
  {
   "cell_type": "code",
   "execution_count": null,
   "id": "79a56717-b8c7-41cb-82b8-7e57ec77badc",
   "metadata": {
    "id": "79a56717-b8c7-41cb-82b8-7e57ec77badc"
   },
   "outputs": [],
   "source": []
  },
  {
   "cell_type": "code",
   "execution_count": 17,
   "id": "542b49fd-b615-4bae-8fc6-ae19520bed0a",
   "metadata": {
    "id": "542b49fd-b615-4bae-8fc6-ae19520bed0a"
   },
   "outputs": [],
   "source": [
    "YouTube_df = youtube[['userID','video_id','title','channelTitle','categoryId','tags','likes','description','channelId','thumbnail_link','Rating']]"
   ]
  },
  {
   "cell_type": "code",
   "execution_count": 18,
   "id": "f8659080-9cc1-4d74-9f6f-16019fc34951",
   "metadata": {
    "id": "f8659080-9cc1-4d74-9f6f-16019fc34951",
    "outputId": "0710d485-c1c5-4a91-8835-b75849260170"
   },
   "outputs": [
    {
     "data": {
      "text/html": [
       "<div>\n",
       "<style scoped>\n",
       "    .dataframe tbody tr th:only-of-type {\n",
       "        vertical-align: middle;\n",
       "    }\n",
       "\n",
       "    .dataframe tbody tr th {\n",
       "        vertical-align: top;\n",
       "    }\n",
       "\n",
       "    .dataframe thead th {\n",
       "        text-align: right;\n",
       "    }\n",
       "</style>\n",
       "<table border=\"1\" class=\"dataframe\">\n",
       "  <thead>\n",
       "    <tr style=\"text-align: right;\">\n",
       "      <th></th>\n",
       "      <th>userID</th>\n",
       "      <th>video_id</th>\n",
       "      <th>title</th>\n",
       "      <th>channelTitle</th>\n",
       "      <th>categoryId</th>\n",
       "      <th>tags</th>\n",
       "      <th>likes</th>\n",
       "      <th>description</th>\n",
       "      <th>channelId</th>\n",
       "      <th>thumbnail_link</th>\n",
       "      <th>Rating</th>\n",
       "    </tr>\n",
       "  </thead>\n",
       "  <tbody>\n",
       "    <tr>\n",
       "      <th>0</th>\n",
       "      <td>1</td>\n",
       "      <td>Iot0eF6EoNA</td>\n",
       "      <td>Sadak 2 | Official Trailer | Sanjay | Pooja | ...</td>\n",
       "      <td>FoxStarHindi</td>\n",
       "      <td>24</td>\n",
       "      <td>sadak|sadak 2|mahesh bhatt|vishesh films|pooja...</td>\n",
       "      <td>224925</td>\n",
       "      <td>Three Streams. Three Stories. One Journey. Sta...</td>\n",
       "      <td>UCGqvJPRcv7aVFun-eTsatcA</td>\n",
       "      <td>https://i.ytimg.com/vi/Iot0eF6EoNA/default.jpg</td>\n",
       "      <td>4</td>\n",
       "    </tr>\n",
       "    <tr>\n",
       "      <th>1</th>\n",
       "      <td>2</td>\n",
       "      <td>x-KbnJ9fvJc</td>\n",
       "      <td>Kya Baat Aa : Karan Aujla (Official Video) Tan...</td>\n",
       "      <td>Rehaan Records</td>\n",
       "      <td>10</td>\n",
       "      <td>[None]</td>\n",
       "      <td>655450</td>\n",
       "      <td>Singer/Lyrics: Karan Aujla Feat Tania Music/ D...</td>\n",
       "      <td>UCm9SZAl03Rev9sFwloCdz1g</td>\n",
       "      <td>https://i.ytimg.com/vi/x-KbnJ9fvJc/default.jpg</td>\n",
       "      <td>4</td>\n",
       "    </tr>\n",
       "  </tbody>\n",
       "</table>\n",
       "</div>"
      ],
      "text/plain": [
       "   userID     video_id                                              title  \\\n",
       "0       1  Iot0eF6EoNA  Sadak 2 | Official Trailer | Sanjay | Pooja | ...   \n",
       "1       2  x-KbnJ9fvJc  Kya Baat Aa : Karan Aujla (Official Video) Tan...   \n",
       "\n",
       "     channelTitle  categoryId  \\\n",
       "0    FoxStarHindi          24   \n",
       "1  Rehaan Records          10   \n",
       "\n",
       "                                                tags   likes  \\\n",
       "0  sadak|sadak 2|mahesh bhatt|vishesh films|pooja...  224925   \n",
       "1                                             [None]  655450   \n",
       "\n",
       "                                         description  \\\n",
       "0  Three Streams. Three Stories. One Journey. Sta...   \n",
       "1  Singer/Lyrics: Karan Aujla Feat Tania Music/ D...   \n",
       "\n",
       "                  channelId                                  thumbnail_link  \\\n",
       "0  UCGqvJPRcv7aVFun-eTsatcA  https://i.ytimg.com/vi/Iot0eF6EoNA/default.jpg   \n",
       "1  UCm9SZAl03Rev9sFwloCdz1g  https://i.ytimg.com/vi/x-KbnJ9fvJc/default.jpg   \n",
       "\n",
       "  Rating  \n",
       "0      4  \n",
       "1      4  "
      ]
     },
     "execution_count": 18,
     "metadata": {},
     "output_type": "execute_result"
    }
   ],
   "source": [
    "YouTube_df.head(2)"
   ]
  },
  {
   "cell_type": "code",
   "execution_count": 19,
   "id": "49be1e8d-5571-489f-941b-f634a6099f88",
   "metadata": {
    "id": "49be1e8d-5571-489f-941b-f634a6099f88",
    "outputId": "39d85c56-959f-4ddb-d3d4-8a18eba677a9"
   },
   "outputs": [
    {
     "data": {
      "text/plain": [
       "0        Sadak 2 | Official Trailer | Sanjay | Pooja | ...\n",
       "1        Kya Baat Aa : Karan Aujla (Official Video) Tan...\n",
       "2        Diljit Dosanjh: CLASH (Official) Music Video |...\n",
       "3        Dil Ko Maine Di Kasam Video | Amaal M Ft.Ariji...\n",
       "4        Baarish (Official Video) Payal Dev,Stebin Ben ...\n",
       "                               ...                        \n",
       "29995    India celebrate a win for the ages at the Gabb...\n",
       "29996    Jethalal Ke Haath Ki Chai | Taarak Mehta Ka Oo...\n",
       "29997    Bruised, abused but conquered! India stun Aust...\n",
       "29998    Kumkum Bhagya | Premiere Episode 1751 Preview ...\n",
       "29999    SISTERS Season 2 | Episode 5 | Girl Formula | ...\n",
       "Name: title, Length: 29400, dtype: object"
      ]
     },
     "execution_count": 19,
     "metadata": {},
     "output_type": "execute_result"
    }
   ],
   "source": [
    "YouTube_df.title"
   ]
  },
  {
   "cell_type": "code",
   "execution_count": 20,
   "id": "d4e2d883-d60a-49d1-a55a-74e98228995d",
   "metadata": {
    "id": "d4e2d883-d60a-49d1-a55a-74e98228995d"
   },
   "outputs": [],
   "source": [
    "YouTube_df[\"title\"] = YouTube_df[\"title\"].str.split('|').str[0].str.strip()"
   ]
  },
  {
   "cell_type": "code",
   "execution_count": 21,
   "id": "6caecdc3-6546-4f09-9616-527a005c079b",
   "metadata": {
    "id": "6caecdc3-6546-4f09-9616-527a005c079b",
    "outputId": "c0c8ac55-b9e4-44b2-9bcf-cc82eed02153"
   },
   "outputs": [
    {
     "data": {
      "text/html": [
       "<div>\n",
       "<style scoped>\n",
       "    .dataframe tbody tr th:only-of-type {\n",
       "        vertical-align: middle;\n",
       "    }\n",
       "\n",
       "    .dataframe tbody tr th {\n",
       "        vertical-align: top;\n",
       "    }\n",
       "\n",
       "    .dataframe thead th {\n",
       "        text-align: right;\n",
       "    }\n",
       "</style>\n",
       "<table border=\"1\" class=\"dataframe\">\n",
       "  <thead>\n",
       "    <tr style=\"text-align: right;\">\n",
       "      <th></th>\n",
       "      <th>userID</th>\n",
       "      <th>video_id</th>\n",
       "      <th>title</th>\n",
       "      <th>channelTitle</th>\n",
       "      <th>categoryId</th>\n",
       "      <th>tags</th>\n",
       "      <th>likes</th>\n",
       "      <th>description</th>\n",
       "      <th>channelId</th>\n",
       "      <th>thumbnail_link</th>\n",
       "      <th>Rating</th>\n",
       "    </tr>\n",
       "  </thead>\n",
       "  <tbody>\n",
       "    <tr>\n",
       "      <th>0</th>\n",
       "      <td>1</td>\n",
       "      <td>Iot0eF6EoNA</td>\n",
       "      <td>Sadak 2</td>\n",
       "      <td>FoxStarHindi</td>\n",
       "      <td>24</td>\n",
       "      <td>sadak|sadak 2|mahesh bhatt|vishesh films|pooja...</td>\n",
       "      <td>224925</td>\n",
       "      <td>Three Streams. Three Stories. One Journey. Sta...</td>\n",
       "      <td>UCGqvJPRcv7aVFun-eTsatcA</td>\n",
       "      <td>https://i.ytimg.com/vi/Iot0eF6EoNA/default.jpg</td>\n",
       "      <td>4</td>\n",
       "    </tr>\n",
       "    <tr>\n",
       "      <th>1</th>\n",
       "      <td>2</td>\n",
       "      <td>x-KbnJ9fvJc</td>\n",
       "      <td>Kya Baat Aa : Karan Aujla (Official Video) Tania</td>\n",
       "      <td>Rehaan Records</td>\n",
       "      <td>10</td>\n",
       "      <td>[None]</td>\n",
       "      <td>655450</td>\n",
       "      <td>Singer/Lyrics: Karan Aujla Feat Tania Music/ D...</td>\n",
       "      <td>UCm9SZAl03Rev9sFwloCdz1g</td>\n",
       "      <td>https://i.ytimg.com/vi/x-KbnJ9fvJc/default.jpg</td>\n",
       "      <td>4</td>\n",
       "    </tr>\n",
       "  </tbody>\n",
       "</table>\n",
       "</div>"
      ],
      "text/plain": [
       "   userID     video_id                                             title  \\\n",
       "0       1  Iot0eF6EoNA                                           Sadak 2   \n",
       "1       2  x-KbnJ9fvJc  Kya Baat Aa : Karan Aujla (Official Video) Tania   \n",
       "\n",
       "     channelTitle  categoryId  \\\n",
       "0    FoxStarHindi          24   \n",
       "1  Rehaan Records          10   \n",
       "\n",
       "                                                tags   likes  \\\n",
       "0  sadak|sadak 2|mahesh bhatt|vishesh films|pooja...  224925   \n",
       "1                                             [None]  655450   \n",
       "\n",
       "                                         description  \\\n",
       "0  Three Streams. Three Stories. One Journey. Sta...   \n",
       "1  Singer/Lyrics: Karan Aujla Feat Tania Music/ D...   \n",
       "\n",
       "                  channelId                                  thumbnail_link  \\\n",
       "0  UCGqvJPRcv7aVFun-eTsatcA  https://i.ytimg.com/vi/Iot0eF6EoNA/default.jpg   \n",
       "1  UCm9SZAl03Rev9sFwloCdz1g  https://i.ytimg.com/vi/x-KbnJ9fvJc/default.jpg   \n",
       "\n",
       "  Rating  \n",
       "0      4  \n",
       "1      4  "
      ]
     },
     "execution_count": 21,
     "metadata": {},
     "output_type": "execute_result"
    }
   ],
   "source": [
    "YouTube_df.head(2)"
   ]
  },
  {
   "cell_type": "code",
   "execution_count": 22,
   "id": "7d717717-c814-4b79-a268-e05ce0058939",
   "metadata": {
    "id": "7d717717-c814-4b79-a268-e05ce0058939"
   },
   "outputs": [],
   "source": [
    "YouTube_df['tags'] = YouTube_df['tags'].str.replace('|', ' ')"
   ]
  },
  {
   "cell_type": "code",
   "execution_count": 23,
   "id": "cd908728-fd82-4d69-bb57-fe222da1e183",
   "metadata": {
    "id": "cd908728-fd82-4d69-bb57-fe222da1e183",
    "outputId": "879e5db8-464a-4e00-a8cc-fd66e1943b8e"
   },
   "outputs": [
    {
     "data": {
      "text/html": [
       "<div>\n",
       "<style scoped>\n",
       "    .dataframe tbody tr th:only-of-type {\n",
       "        vertical-align: middle;\n",
       "    }\n",
       "\n",
       "    .dataframe tbody tr th {\n",
       "        vertical-align: top;\n",
       "    }\n",
       "\n",
       "    .dataframe thead th {\n",
       "        text-align: right;\n",
       "    }\n",
       "</style>\n",
       "<table border=\"1\" class=\"dataframe\">\n",
       "  <thead>\n",
       "    <tr style=\"text-align: right;\">\n",
       "      <th></th>\n",
       "      <th>userID</th>\n",
       "      <th>video_id</th>\n",
       "      <th>title</th>\n",
       "      <th>channelTitle</th>\n",
       "      <th>categoryId</th>\n",
       "      <th>tags</th>\n",
       "      <th>likes</th>\n",
       "      <th>description</th>\n",
       "      <th>channelId</th>\n",
       "      <th>thumbnail_link</th>\n",
       "      <th>Rating</th>\n",
       "    </tr>\n",
       "  </thead>\n",
       "  <tbody>\n",
       "    <tr>\n",
       "      <th>0</th>\n",
       "      <td>1</td>\n",
       "      <td>Iot0eF6EoNA</td>\n",
       "      <td>Sadak 2</td>\n",
       "      <td>FoxStarHindi</td>\n",
       "      <td>24</td>\n",
       "      <td>sadak sadak 2 mahesh bhatt vishesh films pooja...</td>\n",
       "      <td>224925</td>\n",
       "      <td>Three Streams. Three Stories. One Journey. Sta...</td>\n",
       "      <td>UCGqvJPRcv7aVFun-eTsatcA</td>\n",
       "      <td>https://i.ytimg.com/vi/Iot0eF6EoNA/default.jpg</td>\n",
       "      <td>4</td>\n",
       "    </tr>\n",
       "    <tr>\n",
       "      <th>1</th>\n",
       "      <td>2</td>\n",
       "      <td>x-KbnJ9fvJc</td>\n",
       "      <td>Kya Baat Aa : Karan Aujla (Official Video) Tania</td>\n",
       "      <td>Rehaan Records</td>\n",
       "      <td>10</td>\n",
       "      <td>[None]</td>\n",
       "      <td>655450</td>\n",
       "      <td>Singer/Lyrics: Karan Aujla Feat Tania Music/ D...</td>\n",
       "      <td>UCm9SZAl03Rev9sFwloCdz1g</td>\n",
       "      <td>https://i.ytimg.com/vi/x-KbnJ9fvJc/default.jpg</td>\n",
       "      <td>4</td>\n",
       "    </tr>\n",
       "    <tr>\n",
       "      <th>2</th>\n",
       "      <td>3</td>\n",
       "      <td>KX06ksuS6Xo</td>\n",
       "      <td>Diljit Dosanjh: CLASH (Official) Music Video</td>\n",
       "      <td>Diljit Dosanjh</td>\n",
       "      <td>10</td>\n",
       "      <td>clash diljit dosanjh diljit dosanjh diljit dos...</td>\n",
       "      <td>296533</td>\n",
       "      <td>CLASH official music video performed by DILJIT...</td>\n",
       "      <td>UCZRdNleCgW-BGUJf-bbjzQg</td>\n",
       "      <td>https://i.ytimg.com/vi/KX06ksuS6Xo/default.jpg</td>\n",
       "      <td>4</td>\n",
       "    </tr>\n",
       "  </tbody>\n",
       "</table>\n",
       "</div>"
      ],
      "text/plain": [
       "   userID     video_id                                             title  \\\n",
       "0       1  Iot0eF6EoNA                                           Sadak 2   \n",
       "1       2  x-KbnJ9fvJc  Kya Baat Aa : Karan Aujla (Official Video) Tania   \n",
       "2       3  KX06ksuS6Xo      Diljit Dosanjh: CLASH (Official) Music Video   \n",
       "\n",
       "     channelTitle  categoryId  \\\n",
       "0    FoxStarHindi          24   \n",
       "1  Rehaan Records          10   \n",
       "2  Diljit Dosanjh          10   \n",
       "\n",
       "                                                tags   likes  \\\n",
       "0  sadak sadak 2 mahesh bhatt vishesh films pooja...  224925   \n",
       "1                                             [None]  655450   \n",
       "2  clash diljit dosanjh diljit dosanjh diljit dos...  296533   \n",
       "\n",
       "                                         description  \\\n",
       "0  Three Streams. Three Stories. One Journey. Sta...   \n",
       "1  Singer/Lyrics: Karan Aujla Feat Tania Music/ D...   \n",
       "2  CLASH official music video performed by DILJIT...   \n",
       "\n",
       "                  channelId                                  thumbnail_link  \\\n",
       "0  UCGqvJPRcv7aVFun-eTsatcA  https://i.ytimg.com/vi/Iot0eF6EoNA/default.jpg   \n",
       "1  UCm9SZAl03Rev9sFwloCdz1g  https://i.ytimg.com/vi/x-KbnJ9fvJc/default.jpg   \n",
       "2  UCZRdNleCgW-BGUJf-bbjzQg  https://i.ytimg.com/vi/KX06ksuS6Xo/default.jpg   \n",
       "\n",
       "  Rating  \n",
       "0      4  \n",
       "1      4  \n",
       "2      4  "
      ]
     },
     "execution_count": 23,
     "metadata": {},
     "output_type": "execute_result"
    }
   ],
   "source": [
    "YouTube_df.head(3)"
   ]
  },
  {
   "cell_type": "code",
   "execution_count": 24,
   "id": "79d3087d-1e7f-4818-81a3-fe1e836bc993",
   "metadata": {
    "id": "79d3087d-1e7f-4818-81a3-fe1e836bc993",
    "outputId": "ba247949-83a4-49c5-e72f-98bd64cdb4df"
   },
   "outputs": [
    {
     "data": {
      "text/plain": [
       "userID            0\n",
       "video_id          0\n",
       "title             0\n",
       "channelTitle      0\n",
       "categoryId        0\n",
       "tags              0\n",
       "likes             0\n",
       "description       0\n",
       "channelId         0\n",
       "thumbnail_link    0\n",
       "Rating            0\n",
       "dtype: int64"
      ]
     },
     "execution_count": 24,
     "metadata": {},
     "output_type": "execute_result"
    }
   ],
   "source": [
    "YouTube_df.isnull().sum()"
   ]
  },
  {
   "cell_type": "code",
   "execution_count": 25,
   "id": "84ee0b72-6ade-4d9a-9d85-b2f24b6c8cf0",
   "metadata": {
    "id": "84ee0b72-6ade-4d9a-9d85-b2f24b6c8cf0"
   },
   "outputs": [],
   "source": [
    "YouTube_df.dropna(inplace=True)"
   ]
  },
  {
   "cell_type": "code",
   "execution_count": 26,
   "id": "d127635f-f93d-4f31-943e-8e01d711e4eb",
   "metadata": {
    "id": "d127635f-f93d-4f31-943e-8e01d711e4eb"
   },
   "outputs": [],
   "source": [
    "YouTube_df.drop_duplicates(subset=['title'], inplace=True)"
   ]
  },
  {
   "cell_type": "code",
   "execution_count": 27,
   "id": "674f7ed5-cc1c-43b3-be7b-62aacf1a1652",
   "metadata": {
    "id": "674f7ed5-cc1c-43b3-be7b-62aacf1a1652",
    "outputId": "4e88bcb4-16d3-4f22-ce22-6f0644253b76"
   },
   "outputs": [
    {
     "data": {
      "text/plain": [
       "0        [Three, Streams., Three, Stories., One, Journe...\n",
       "1        [Singer/Lyrics:, Karan, Aujla, Feat, Tania, Mu...\n",
       "2        [CLASH, official, music, video, performed, by,...\n",
       "3        [Gulshan, Kumar, and, T-Series, presents, Bhus...\n",
       "4        [VYRL, Originals, brings, to, you, ‘Baarish’, ...\n",
       "                               ...                        \n",
       "29984    [Voilà!, Digi, presents, the, official, music,...\n",
       "29987    [#AUSvIND, #India, #Australia, Aakash, Chopra,...\n",
       "29990    [Click, here, to, watch, the, full, episode, o...\n",
       "29994    [Click, here, to, Subscribe, to, SAB, TV, Chan...\n",
       "29996    [Click, here, to, Subscribe, to, Taarak, Mehta...\n",
       "Name: description, Length: 7312, dtype: object"
      ]
     },
     "execution_count": 27,
     "metadata": {},
     "output_type": "execute_result"
    }
   ],
   "source": [
    "YouTube_df['description'].apply(lambda x:x.split())"
   ]
  },
  {
   "cell_type": "code",
   "execution_count": 28,
   "id": "6b3fcff5-b4f4-4c22-bc99-53216f4e59fb",
   "metadata": {
    "id": "6b3fcff5-b4f4-4c22-bc99-53216f4e59fb",
    "outputId": "b572795f-c31e-4e67-84c2-b75cc3d4e404"
   },
   "outputs": [
    {
     "data": {
      "text/html": [
       "<div>\n",
       "<style scoped>\n",
       "    .dataframe tbody tr th:only-of-type {\n",
       "        vertical-align: middle;\n",
       "    }\n",
       "\n",
       "    .dataframe tbody tr th {\n",
       "        vertical-align: top;\n",
       "    }\n",
       "\n",
       "    .dataframe thead th {\n",
       "        text-align: right;\n",
       "    }\n",
       "</style>\n",
       "<table border=\"1\" class=\"dataframe\">\n",
       "  <thead>\n",
       "    <tr style=\"text-align: right;\">\n",
       "      <th></th>\n",
       "      <th>userID</th>\n",
       "      <th>video_id</th>\n",
       "      <th>title</th>\n",
       "      <th>channelTitle</th>\n",
       "      <th>categoryId</th>\n",
       "      <th>tags</th>\n",
       "      <th>likes</th>\n",
       "      <th>description</th>\n",
       "      <th>channelId</th>\n",
       "      <th>thumbnail_link</th>\n",
       "      <th>Rating</th>\n",
       "    </tr>\n",
       "  </thead>\n",
       "  <tbody>\n",
       "    <tr>\n",
       "      <th>0</th>\n",
       "      <td>1</td>\n",
       "      <td>Iot0eF6EoNA</td>\n",
       "      <td>Sadak 2</td>\n",
       "      <td>FoxStarHindi</td>\n",
       "      <td>24</td>\n",
       "      <td>sadak sadak 2 mahesh bhatt vishesh films pooja...</td>\n",
       "      <td>224925</td>\n",
       "      <td>Three Streams. Three Stories. One Journey. Sta...</td>\n",
       "      <td>UCGqvJPRcv7aVFun-eTsatcA</td>\n",
       "      <td>https://i.ytimg.com/vi/Iot0eF6EoNA/default.jpg</td>\n",
       "      <td>4</td>\n",
       "    </tr>\n",
       "    <tr>\n",
       "      <th>1</th>\n",
       "      <td>2</td>\n",
       "      <td>x-KbnJ9fvJc</td>\n",
       "      <td>Kya Baat Aa : Karan Aujla (Official Video) Tania</td>\n",
       "      <td>Rehaan Records</td>\n",
       "      <td>10</td>\n",
       "      <td>[None]</td>\n",
       "      <td>655450</td>\n",
       "      <td>Singer/Lyrics: Karan Aujla Feat Tania Music/ D...</td>\n",
       "      <td>UCm9SZAl03Rev9sFwloCdz1g</td>\n",
       "      <td>https://i.ytimg.com/vi/x-KbnJ9fvJc/default.jpg</td>\n",
       "      <td>4</td>\n",
       "    </tr>\n",
       "  </tbody>\n",
       "</table>\n",
       "</div>"
      ],
      "text/plain": [
       "   userID     video_id                                             title  \\\n",
       "0       1  Iot0eF6EoNA                                           Sadak 2   \n",
       "1       2  x-KbnJ9fvJc  Kya Baat Aa : Karan Aujla (Official Video) Tania   \n",
       "\n",
       "     channelTitle  categoryId  \\\n",
       "0    FoxStarHindi          24   \n",
       "1  Rehaan Records          10   \n",
       "\n",
       "                                                tags   likes  \\\n",
       "0  sadak sadak 2 mahesh bhatt vishesh films pooja...  224925   \n",
       "1                                             [None]  655450   \n",
       "\n",
       "                                         description  \\\n",
       "0  Three Streams. Three Stories. One Journey. Sta...   \n",
       "1  Singer/Lyrics: Karan Aujla Feat Tania Music/ D...   \n",
       "\n",
       "                  channelId                                  thumbnail_link  \\\n",
       "0  UCGqvJPRcv7aVFun-eTsatcA  https://i.ytimg.com/vi/Iot0eF6EoNA/default.jpg   \n",
       "1  UCm9SZAl03Rev9sFwloCdz1g  https://i.ytimg.com/vi/x-KbnJ9fvJc/default.jpg   \n",
       "\n",
       "  Rating  \n",
       "0      4  \n",
       "1      4  "
      ]
     },
     "execution_count": 28,
     "metadata": {},
     "output_type": "execute_result"
    }
   ],
   "source": [
    "YouTube_df.head(2)"
   ]
  },
  {
   "cell_type": "code",
   "execution_count": 29,
   "id": "df42ea36-e5d4-40b8-9ebb-210a3b841ac9",
   "metadata": {
    "id": "df42ea36-e5d4-40b8-9ebb-210a3b841ac9"
   },
   "outputs": [],
   "source": [
    "YouTube_df['joint_tags'] = YouTube_df['channelTitle'] + YouTube_df['description'] + YouTube_df['tags'] \n"
   ]
  },
  {
   "cell_type": "code",
   "execution_count": 30,
   "id": "77aa66ab-f7b4-4651-adcb-b5460d3c6099",
   "metadata": {
    "id": "77aa66ab-f7b4-4651-adcb-b5460d3c6099",
    "outputId": "8aa5f15b-dc25-45b9-def5-c981d110787d"
   },
   "outputs": [
    {
     "data": {
      "text/plain": [
       "0    FoxStarHindiThree Streams. Three Stories. One ...\n",
       "1    Rehaan RecordsSinger/Lyrics: Karan Aujla Feat ...\n",
       "2    Diljit DosanjhCLASH official music video perfo...\n",
       "3    T-SeriesGulshan Kumar and T-Series presents Bh...\n",
       "4    VYRLOriginalsVYRL Originals brings to you ‘Baa...\n",
       "Name: joint_tags, dtype: object"
      ]
     },
     "execution_count": 30,
     "metadata": {},
     "output_type": "execute_result"
    }
   ],
   "source": [
    "YouTube_df['joint_tags'][:5]"
   ]
  },
  {
   "cell_type": "code",
   "execution_count": 31,
   "id": "6e2a52d7-c610-4d84-adb5-0e3bc876380b",
   "metadata": {
    "id": "6e2a52d7-c610-4d84-adb5-0e3bc876380b",
    "outputId": "76e42dab-8a49-405c-bf33-4f4d8b9dd425"
   },
   "outputs": [
    {
     "data": {
      "text/plain": [
       "userID            0\n",
       "video_id          0\n",
       "title             0\n",
       "channelTitle      0\n",
       "categoryId        0\n",
       "tags              0\n",
       "likes             0\n",
       "description       0\n",
       "channelId         0\n",
       "thumbnail_link    0\n",
       "Rating            0\n",
       "joint_tags        0\n",
       "dtype: int64"
      ]
     },
     "execution_count": 31,
     "metadata": {},
     "output_type": "execute_result"
    }
   ],
   "source": [
    "YouTube_df.isnull().sum()"
   ]
  },
  {
   "cell_type": "code",
   "execution_count": 32,
   "id": "69ed6251-4f44-4baa-ab35-0c397b28c0ba",
   "metadata": {
    "id": "69ed6251-4f44-4baa-ab35-0c397b28c0ba"
   },
   "outputs": [],
   "source": [
    "YouTube_df['joint_tags']=YouTube_df['joint_tags'].apply(lambda x:x.split())"
   ]
  },
  {
   "cell_type": "code",
   "execution_count": 33,
   "id": "f20c89c6-63ec-4d20-9735-ac06538479ee",
   "metadata": {
    "id": "f20c89c6-63ec-4d20-9735-ac06538479ee",
    "outputId": "25127c9f-e9d2-477c-db57-31be849f6d37"
   },
   "outputs": [
    {
     "data": {
      "text/plain": [
       "['Rehaan',\n",
       " 'RecordsSinger/Lyrics:',\n",
       " 'Karan',\n",
       " 'Aujla',\n",
       " 'Feat',\n",
       " 'Tania',\n",
       " 'Music/',\n",
       " 'Desi',\n",
       " 'Crew',\n",
       " 'Mix',\n",
       " '&',\n",
       " 'Master',\n",
       " '/',\n",
       " 'Dc',\n",
       " 'Studio’sVideo/',\n",
       " 'Sukh',\n",
       " 'Sanghera',\n",
       " 'Project',\n",
       " 'By',\n",
       " '/',\n",
       " 'Deep',\n",
       " 'Rehaan',\n",
       " 'Sukh',\n",
       " 'Bajwa',\n",
       " '&',\n",
       " 'Jeewan',\n",
       " 'Chahal',\n",
       " 'Produced',\n",
       " 'By',\n",
       " '/',\n",
       " 'Sandeep',\n",
       " 'RehaanLabel',\n",
       " '/',\n",
       " 'Rehaan',\n",
       " 'RecordsOnline',\n",
       " 'Promotions',\n",
       " '-',\n",
       " 'Global',\n",
       " 'Digital',\n",
       " 'SolutionDigital',\n",
       " 'Partner',\n",
       " '/',\n",
       " 'Coin',\n",
       " 'Digital',\n",
       " 'Social',\n",
       " 'media',\n",
       " 'Promotions:',\n",
       " 'Gk',\n",
       " 'DigitialSpotify:',\n",
       " 'https://spoti.fi/3kDfnNuYoutube',\n",
       " 'Music:',\n",
       " 'https://bit.ly/31N2tUkGaana:',\n",
       " 'https://bit.ly/2PHrUkLhttps://wynk.in/u/SSWNC5VO3Website:',\n",
       " 'WWW.RehaanRecords.CAFB:',\n",
       " 'https://m.facebook.com/RehaanRecords/INSTA:',\n",
       " 'Instagram/rehaanrecords[None]']"
      ]
     },
     "execution_count": 33,
     "metadata": {},
     "output_type": "execute_result"
    }
   ],
   "source": [
    "YouTube_df['joint_tags'][1]"
   ]
  },
  {
   "cell_type": "code",
   "execution_count": 34,
   "id": "e5ddc624-bbdf-4632-8d96-a0764a8dd8c4",
   "metadata": {
    "id": "e5ddc624-bbdf-4632-8d96-a0764a8dd8c4"
   },
   "outputs": [],
   "source": [
    "new = YouTube_df.drop(columns=['channelTitle','categoryId','tags','description','channelId'])#'likes'\n",
    "#new.head()"
   ]
  },
  {
   "cell_type": "code",
   "execution_count": 35,
   "id": "b62f4e5d-03ed-4db1-bb13-2143d766e7cc",
   "metadata": {
    "id": "b62f4e5d-03ed-4db1-bb13-2143d766e7cc",
    "outputId": "4f50f283-36a0-4c4f-b764-86e7d5c39c93"
   },
   "outputs": [
    {
     "data": {
      "text/html": [
       "<div>\n",
       "<style scoped>\n",
       "    .dataframe tbody tr th:only-of-type {\n",
       "        vertical-align: middle;\n",
       "    }\n",
       "\n",
       "    .dataframe tbody tr th {\n",
       "        vertical-align: top;\n",
       "    }\n",
       "\n",
       "    .dataframe thead th {\n",
       "        text-align: right;\n",
       "    }\n",
       "</style>\n",
       "<table border=\"1\" class=\"dataframe\">\n",
       "  <thead>\n",
       "    <tr style=\"text-align: right;\">\n",
       "      <th></th>\n",
       "      <th>userID</th>\n",
       "      <th>video_id</th>\n",
       "      <th>title</th>\n",
       "      <th>likes</th>\n",
       "      <th>thumbnail_link</th>\n",
       "      <th>Rating</th>\n",
       "      <th>joint_tags</th>\n",
       "    </tr>\n",
       "  </thead>\n",
       "  <tbody>\n",
       "    <tr>\n",
       "      <th>0</th>\n",
       "      <td>1</td>\n",
       "      <td>Iot0eF6EoNA</td>\n",
       "      <td>Sadak 2</td>\n",
       "      <td>224925</td>\n",
       "      <td>https://i.ytimg.com/vi/Iot0eF6EoNA/default.jpg</td>\n",
       "      <td>4</td>\n",
       "      <td>FoxStarHindiThree Streams. Three Stories. One ...</td>\n",
       "    </tr>\n",
       "    <tr>\n",
       "      <th>1</th>\n",
       "      <td>2</td>\n",
       "      <td>x-KbnJ9fvJc</td>\n",
       "      <td>Kya Baat Aa : Karan Aujla (Official Video) Tania</td>\n",
       "      <td>655450</td>\n",
       "      <td>https://i.ytimg.com/vi/x-KbnJ9fvJc/default.jpg</td>\n",
       "      <td>4</td>\n",
       "      <td>Rehaan RecordsSinger/Lyrics: Karan Aujla Feat ...</td>\n",
       "    </tr>\n",
       "    <tr>\n",
       "      <th>2</th>\n",
       "      <td>3</td>\n",
       "      <td>KX06ksuS6Xo</td>\n",
       "      <td>Diljit Dosanjh: CLASH (Official) Music Video</td>\n",
       "      <td>296533</td>\n",
       "      <td>https://i.ytimg.com/vi/KX06ksuS6Xo/default.jpg</td>\n",
       "      <td>4</td>\n",
       "      <td>Diljit DosanjhCLASH official music video perfo...</td>\n",
       "    </tr>\n",
       "    <tr>\n",
       "      <th>3</th>\n",
       "      <td>4</td>\n",
       "      <td>UsMRgnTcchY</td>\n",
       "      <td>Dil Ko Maine Di Kasam Video</td>\n",
       "      <td>743931</td>\n",
       "      <td>https://i.ytimg.com/vi/UsMRgnTcchY/default.jpg</td>\n",
       "      <td>4</td>\n",
       "      <td>T-SeriesGulshan Kumar and T-Series presents Bh...</td>\n",
       "    </tr>\n",
       "    <tr>\n",
       "      <th>4</th>\n",
       "      <td>5</td>\n",
       "      <td>WNSEXJJhKTU</td>\n",
       "      <td>Baarish (Official Video) Payal Dev,Stebin Ben</td>\n",
       "      <td>268817</td>\n",
       "      <td>https://i.ytimg.com/vi/WNSEXJJhKTU/default.jpg</td>\n",
       "      <td>4</td>\n",
       "      <td>VYRLOriginalsVYRL Originals brings to you ‘Baa...</td>\n",
       "    </tr>\n",
       "  </tbody>\n",
       "</table>\n",
       "</div>"
      ],
      "text/plain": [
       "   userID     video_id                                             title  \\\n",
       "0       1  Iot0eF6EoNA                                           Sadak 2   \n",
       "1       2  x-KbnJ9fvJc  Kya Baat Aa : Karan Aujla (Official Video) Tania   \n",
       "2       3  KX06ksuS6Xo      Diljit Dosanjh: CLASH (Official) Music Video   \n",
       "3       4  UsMRgnTcchY                       Dil Ko Maine Di Kasam Video   \n",
       "4       5  WNSEXJJhKTU     Baarish (Official Video) Payal Dev,Stebin Ben   \n",
       "\n",
       "    likes                                  thumbnail_link Rating  \\\n",
       "0  224925  https://i.ytimg.com/vi/Iot0eF6EoNA/default.jpg      4   \n",
       "1  655450  https://i.ytimg.com/vi/x-KbnJ9fvJc/default.jpg      4   \n",
       "2  296533  https://i.ytimg.com/vi/KX06ksuS6Xo/default.jpg      4   \n",
       "3  743931  https://i.ytimg.com/vi/UsMRgnTcchY/default.jpg      4   \n",
       "4  268817  https://i.ytimg.com/vi/WNSEXJJhKTU/default.jpg      4   \n",
       "\n",
       "                                          joint_tags  \n",
       "0  FoxStarHindiThree Streams. Three Stories. One ...  \n",
       "1  Rehaan RecordsSinger/Lyrics: Karan Aujla Feat ...  \n",
       "2  Diljit DosanjhCLASH official music video perfo...  \n",
       "3  T-SeriesGulshan Kumar and T-Series presents Bh...  \n",
       "4  VYRLOriginalsVYRL Originals brings to you ‘Baa...  "
      ]
     },
     "execution_count": 35,
     "metadata": {},
     "output_type": "execute_result"
    }
   ],
   "source": [
    "new['joint_tags'] = new['joint_tags'].apply(lambda x: \" \".join(x))\n",
    "new.head()"
   ]
  },
  {
   "cell_type": "code",
   "execution_count": 36,
   "id": "f1fae891-a480-4386-a69e-8c3f4e48272b",
   "metadata": {},
   "outputs": [],
   "source": [
    "#from nltk.stem.porter import PorterStemme\n",
    "from nltk.stem import PorterStemmer\n",
    "ps = PorterStemmer()"
   ]
  },
  {
   "cell_type": "code",
   "execution_count": 37,
   "id": "5b6dc142-3eff-4658-b988-19889b279a44",
   "metadata": {},
   "outputs": [],
   "source": [
    "def preprocessing(data):\n",
    "    stemmer = nltk.stem.RSLPStemmer()\n",
    "    all_stopwords = stopwords.words('english')\n",
    "    all_stopwords.remove('not')\n",
    "    corpus = []\n",
    "    for text in data:\n",
    "                \n",
    "        review = re.sub(r\"@[A-Za-z0-9_]+\", \" \", text)\n",
    "        review = re.sub(r\"https?://[A-Za-z0-9./]+\", \" \", review)\n",
    "        review = re.sub(r\"https?\", \" \", review)\n",
    "        review = re.sub('[^a-zA-Z]', ' ', review)\n",
    "        review = review.lower()\n",
    "        review = review.split()\n",
    "        ps = PorterStemmer()\n",
    "        review = [ps.stem(word) for word in review if not word in set(all_stopwords) if len(word) > 2]\n",
    "        review = ' '.join(review)\n",
    "        corpus.append(review)\n",
    "\n",
    "    return np.array(corpus)"
   ]
  },
  {
   "cell_type": "code",
   "execution_count": 38,
   "id": "91a5bb1d-121f-47f3-a0c0-21a677330cc7",
   "metadata": {},
   "outputs": [],
   "source": [
    "new['cleen_joint_tags'] = preprocessing(new['joint_tags'] .values)"
   ]
  },
  {
   "cell_type": "code",
   "execution_count": 39,
   "id": "b4f79667-bb62-4335-9485-ccf34a5a20f8",
   "metadata": {},
   "outputs": [
    {
     "data": {
      "text/plain": [
       "'rehaan recordssing lyric karan aujla feat tania music desi crew mix master studio svideo sukh sanghera project deep rehaan sukh bajwa jeewan chahal produc sandeep rehaanlabel rehaan recordsonlin promot global digit solutiondigit partner coin digit social media promot digitialspotifi music wynk sswnc websit www rehaanrecord cafb instagram rehaanrecord none'"
      ]
     },
     "execution_count": 39,
     "metadata": {},
     "output_type": "execute_result"
    }
   ],
   "source": [
    "new['cleen_joint_tags'][1]"
   ]
  },
  {
   "cell_type": "code",
   "execution_count": 40,
   "id": "442cc53b-f354-466a-beb6-d22a81b55172",
   "metadata": {
    "id": "442cc53b-f354-466a-beb6-d22a81b55172"
   },
   "outputs": [],
   "source": [
    "#new['joint_tags'] = new['joint_tags'].astype('str').str.lower()"
   ]
  },
  {
   "cell_type": "code",
   "execution_count": 41,
   "id": "45dd2db1-d797-4a56-b384-ed510529e7d8",
   "metadata": {
    "id": "45dd2db1-d797-4a56-b384-ed510529e7d8"
   },
   "outputs": [],
   "source": [
    "from sklearn.feature_extraction.text import CountVectorizer,TfidfVectorizer\n",
    "# Define additional parameters\n",
    "ngram_range = (2,3)\n",
    "max_features = 4000\n",
    "\n",
    "# Create the TF-IDF vectorizer with the specified parameters\n",
    "tfidf_vectorizer = TfidfVectorizer(\n",
    "    ngram_range=ngram_range,\n",
    "    max_features=max_features\n",
    ")\n"
   ]
  },
  {
   "cell_type": "code",
   "execution_count": 42,
   "id": "d6a4a6d1-6bc3-4d2d-9d44-0d290911c9ac",
   "metadata": {
    "id": "d6a4a6d1-6bc3-4d2d-9d44-0d290911c9ac"
   },
   "outputs": [],
   "source": [
    "vector = tfidf_vectorizer.fit_transform(new['cleen_joint_tags']).toarray()"
   ]
  },
  {
   "cell_type": "code",
   "execution_count": 43,
   "id": "600594a0-397a-4821-9b1c-50c0d05d2d0c",
   "metadata": {},
   "outputs": [
    {
     "data": {
      "text/plain": [
       "(7312, 4000)"
      ]
     },
     "execution_count": 43,
     "metadata": {},
     "output_type": "execute_result"
    }
   ],
   "source": [
    "vector.shape"
   ]
  },
  {
   "cell_type": "code",
   "execution_count": 44,
   "id": "8713aae5-0d61-418e-a705-671db7896009",
   "metadata": {},
   "outputs": [],
   "source": [
    "from sklearn.preprocessing import MinMaxScaler ,StandardScaler\n",
    "# Apply min-max scaling to your data\n",
    "scaler = StandardScaler()\n",
    "scaled_data = scaler.fit_transform(vector)"
   ]
  },
  {
   "cell_type": "code",
   "execution_count": 45,
   "id": "83e0880b-4f47-4935-9f99-c350f9cfa652",
   "metadata": {},
   "outputs": [
    {
     "data": {
      "text/plain": [
       "array([[-0.05242819, -0.04969901, -0.05194276, ..., -0.06944292,\n",
       "        -0.10583266, -0.10583266],\n",
       "       [-0.05242819, -0.04969901, -0.05194276, ..., -0.06944292,\n",
       "        -0.10583266, -0.10583266],\n",
       "       [-0.05242819, -0.04969901, -0.05194276, ..., -0.06944292,\n",
       "        -0.10583266, -0.10583266],\n",
       "       ...,\n",
       "       [-0.05242819, -0.04969901, -0.05194276, ..., -0.06944292,\n",
       "        -0.10583266, -0.10583266],\n",
       "       [-0.05242819, -0.04969901, -0.05194276, ..., -0.06944292,\n",
       "        -0.10583266, -0.10583266],\n",
       "       [-0.05242819, -0.04969901, -0.05194276, ..., -0.06944292,\n",
       "         9.69054177,  9.69054177]])"
      ]
     },
     "execution_count": 45,
     "metadata": {},
     "output_type": "execute_result"
    }
   ],
   "source": [
    "scaled_data"
   ]
  },
  {
   "cell_type": "code",
   "execution_count": 46,
   "id": "6595b3f7-4be5-4082-8c78-cb5976578afa",
   "metadata": {},
   "outputs": [],
   "source": [
    "from sklearn.decomposition import PCA\n",
    "\n",
    "pca = PCA(n_components=0.99)\n",
    "\n",
    "vector_reduced = pca.fit_transform(scaled_data)"
   ]
  },
  {
   "cell_type": "code",
   "execution_count": 47,
   "id": "1928f721-ec7c-4e2e-82e1-97c6d33cac13",
   "metadata": {
    "id": "1928f721-ec7c-4e2e-82e1-97c6d33cac13",
    "outputId": "a4222ded-0094-45d3-f799-1da0111d5fcd"
   },
   "outputs": [
    {
     "data": {
      "text/plain": [
       "(7312, 4000)"
      ]
     },
     "execution_count": 47,
     "metadata": {},
     "output_type": "execute_result"
    }
   ],
   "source": [
    "vector.shape"
   ]
  },
  {
   "cell_type": "code",
   "execution_count": 48,
   "id": "29aab283-1076-4180-85c4-8c93350adb9a",
   "metadata": {},
   "outputs": [
    {
     "data": {
      "text/html": [
       "<style>#sk-container-id-1 {color: black;background-color: white;}#sk-container-id-1 pre{padding: 0;}#sk-container-id-1 div.sk-toggleable {background-color: white;}#sk-container-id-1 label.sk-toggleable__label {cursor: pointer;display: block;width: 100%;margin-bottom: 0;padding: 0.3em;box-sizing: border-box;text-align: center;}#sk-container-id-1 label.sk-toggleable__label-arrow:before {content: \"▸\";float: left;margin-right: 0.25em;color: #696969;}#sk-container-id-1 label.sk-toggleable__label-arrow:hover:before {color: black;}#sk-container-id-1 div.sk-estimator:hover label.sk-toggleable__label-arrow:before {color: black;}#sk-container-id-1 div.sk-toggleable__content {max-height: 0;max-width: 0;overflow: hidden;text-align: left;background-color: #f0f8ff;}#sk-container-id-1 div.sk-toggleable__content pre {margin: 0.2em;color: black;border-radius: 0.25em;background-color: #f0f8ff;}#sk-container-id-1 input.sk-toggleable__control:checked~div.sk-toggleable__content {max-height: 200px;max-width: 100%;overflow: auto;}#sk-container-id-1 input.sk-toggleable__control:checked~label.sk-toggleable__label-arrow:before {content: \"▾\";}#sk-container-id-1 div.sk-estimator input.sk-toggleable__control:checked~label.sk-toggleable__label {background-color: #d4ebff;}#sk-container-id-1 div.sk-label input.sk-toggleable__control:checked~label.sk-toggleable__label {background-color: #d4ebff;}#sk-container-id-1 input.sk-hidden--visually {border: 0;clip: rect(1px 1px 1px 1px);clip: rect(1px, 1px, 1px, 1px);height: 1px;margin: -1px;overflow: hidden;padding: 0;position: absolute;width: 1px;}#sk-container-id-1 div.sk-estimator {font-family: monospace;background-color: #f0f8ff;border: 1px dotted black;border-radius: 0.25em;box-sizing: border-box;margin-bottom: 0.5em;}#sk-container-id-1 div.sk-estimator:hover {background-color: #d4ebff;}#sk-container-id-1 div.sk-parallel-item::after {content: \"\";width: 100%;border-bottom: 1px solid gray;flex-grow: 1;}#sk-container-id-1 div.sk-label:hover label.sk-toggleable__label {background-color: #d4ebff;}#sk-container-id-1 div.sk-serial::before {content: \"\";position: absolute;border-left: 1px solid gray;box-sizing: border-box;top: 0;bottom: 0;left: 50%;z-index: 0;}#sk-container-id-1 div.sk-serial {display: flex;flex-direction: column;align-items: center;background-color: white;padding-right: 0.2em;padding-left: 0.2em;position: relative;}#sk-container-id-1 div.sk-item {position: relative;z-index: 1;}#sk-container-id-1 div.sk-parallel {display: flex;align-items: stretch;justify-content: center;background-color: white;position: relative;}#sk-container-id-1 div.sk-item::before, #sk-container-id-1 div.sk-parallel-item::before {content: \"\";position: absolute;border-left: 1px solid gray;box-sizing: border-box;top: 0;bottom: 0;left: 50%;z-index: -1;}#sk-container-id-1 div.sk-parallel-item {display: flex;flex-direction: column;z-index: 1;position: relative;background-color: white;}#sk-container-id-1 div.sk-parallel-item:first-child::after {align-self: flex-end;width: 50%;}#sk-container-id-1 div.sk-parallel-item:last-child::after {align-self: flex-start;width: 50%;}#sk-container-id-1 div.sk-parallel-item:only-child::after {width: 0;}#sk-container-id-1 div.sk-dashed-wrapped {border: 1px dashed gray;margin: 0 0.4em 0.5em 0.4em;box-sizing: border-box;padding-bottom: 0.4em;background-color: white;}#sk-container-id-1 div.sk-label label {font-family: monospace;font-weight: bold;display: inline-block;line-height: 1.2em;}#sk-container-id-1 div.sk-label-container {text-align: center;}#sk-container-id-1 div.sk-container {/* jupyter's `normalize.less` sets `[hidden] { display: none; }` but bootstrap.min.css set `[hidden] { display: none !important; }` so we also need the `!important` here to be able to override the default hidden behavior on the sphinx rendered scikit-learn.org. See: https://github.com/scikit-learn/scikit-learn/issues/21755 */display: inline-block !important;position: relative;}#sk-container-id-1 div.sk-text-repr-fallback {display: none;}</style><div id=\"sk-container-id-1\" class=\"sk-top-container\"><div class=\"sk-text-repr-fallback\"><pre>NearestNeighbors(metric=&#x27;cosine&#x27;, n_neighbors=6)</pre><b>In a Jupyter environment, please rerun this cell to show the HTML representation or trust the notebook. <br />On GitHub, the HTML representation is unable to render, please try loading this page with nbviewer.org.</b></div><div class=\"sk-container\" hidden><div class=\"sk-item\"><div class=\"sk-estimator sk-toggleable\"><input class=\"sk-toggleable__control sk-hidden--visually\" id=\"sk-estimator-id-1\" type=\"checkbox\" checked><label for=\"sk-estimator-id-1\" class=\"sk-toggleable__label sk-toggleable__label-arrow\">NearestNeighbors</label><div class=\"sk-toggleable__content\"><pre>NearestNeighbors(metric=&#x27;cosine&#x27;, n_neighbors=6)</pre></div></div></div></div></div>"
      ],
      "text/plain": [
       "NearestNeighbors(metric='cosine', n_neighbors=6)"
      ]
     },
     "execution_count": 48,
     "metadata": {},
     "output_type": "execute_result"
    }
   ],
   "source": [
    "from sklearn.neighbors import NearestNeighbors\n",
    "\n",
    "# Assuming 'X' is your feature matrix and 'k' is the number of neighbors to consider\n",
    "knn_model = NearestNeighbors(n_neighbors=6, metric='cosine')\n",
    "knn_model.fit(vector)\n"
   ]
  },
  {
   "cell_type": "code",
   "execution_count": null,
   "id": "e7e46777-d80c-49a6-8bb9-83ad444614bc",
   "metadata": {},
   "outputs": [],
   "source": []
  },
  {
   "cell_type": "code",
   "execution_count": 49,
   "id": "0cfcd309-9948-4525-bd88-2307de2aafaa",
   "metadata": {
    "id": "0cfcd309-9948-4525-bd88-2307de2aafaa",
    "outputId": "e48e78fe-8c1a-4c28-8a04-b83f7f751214"
   },
   "outputs": [
    {
     "data": {
      "text/plain": [
       "3"
      ]
     },
     "execution_count": 49,
     "metadata": {},
     "output_type": "execute_result"
    }
   ],
   "source": [
    "new[new['title'] == 'Dil Ko Maine Di Kasam Video'].index[0]"
   ]
  },
  {
   "cell_type": "markdown",
   "id": "15be8b9b-ae70-42eb-87bd-8e08f2ea1708",
   "metadata": {
    "id": "15be8b9b-ae70-42eb-87bd-8e08f2ea1708"
   },
   "source": [
    "### Prediction "
   ]
  },
  {
   "cell_type": "code",
   "execution_count": 50,
   "id": "b9a46177-d79b-48a9-875f-a2f50383e288",
   "metadata": {},
   "outputs": [],
   "source": [
    "def recommend(movie):\n",
    "    index = new[new['title'] == movie].index[0]\n",
    "    query_vector = vector[index].reshape(1, -1)  # Reshape the query vector for KNN\n",
    "    distances, indices = knn_model.kneighbors(query_vector)\n",
    "\n",
    "    # 'indices' contains the indices of the k-nearest neighbors, including the query itself\n",
    "    # 'distances' contains the corresponding distances/similarities\n",
    "\n",
    "    # Print the top 5 recommended movies (excluding the query itself)\n",
    "    recommended_movies = new.iloc[indices[0][1:6]]\n",
    "    for movie in recommended_movies['title']:\n",
    "        print(movie)"
   ]
  },
  {
   "cell_type": "code",
   "execution_count": 51,
   "id": "38ff9327-d24d-463e-a3f2-024a4fd86331",
   "metadata": {
    "id": "38ff9327-d24d-463e-a3f2-024a4fd86331"
   },
   "outputs": [],
   "source": [
    "# def recommend(movie):\n",
    "#     index = new[new['title'] == movie].index[0]\n",
    "#     distances = sorted(list(enumerate(similarity[index])),reverse=True,key = lambda x: x[1])\n",
    "#     for i in distances[1:6]:\n",
    "#         print(new.iloc[i[0]].title)\n",
    "        \n",
    "    "
   ]
  },
  {
   "cell_type": "code",
   "execution_count": 52,
   "id": "6dbb7608-0136-487a-9ceb-39feb8c80981",
   "metadata": {},
   "outputs": [],
   "source": [
    "with open(\"KNN_model.pkl\", \"wb\") as f: \n",
    "    joblib.dump(knn_model, f) "
   ]
  },
  {
   "cell_type": "code",
   "execution_count": 53,
   "id": "20f5ce30-1c7c-4057-ba81-21a3d38af58b",
   "metadata": {
    "id": "20f5ce30-1c7c-4057-ba81-21a3d38af58b",
    "outputId": "642b69f5-ac4c-43d1-b606-6b120bf1444d"
   },
   "outputs": [
    {
     "name": "stdout",
     "output_type": "stream",
     "text": [
      "Diljit Dosanjh: Born To Shine (Official Music Video) G.O.A.T\n",
      "PEED: Diljit Dosanjh (Official) Music Video\n",
      "Peed Diljit Dosanjh Lyrical Video Song\n",
      "HABIT Lyric Video: Diljit Dosanjh\n",
      "Diljit Dosanjh: Whiskey lyrical Video Song\n"
     ]
    }
   ],
   "source": [
    "recommend('Diljit Dosanjh: CLASH (Official) Music Video')"
   ]
  },
  {
   "cell_type": "code",
   "execution_count": 54,
   "id": "1a9e4747-5faf-4399-86a2-81a5f025f001",
   "metadata": {
    "id": "1a9e4747-5faf-4399-86a2-81a5f025f001",
    "outputId": "d22aeaff-e420-43bc-8dcc-e4a7c9db8c35"
   },
   "outputs": [
    {
     "name": "stdout",
     "output_type": "stream",
     "text": [
      "NEW! Ep 2975 - Taarak's Boss!\n",
      "NEW! Ep 3066 - Party Cancel?!\n",
      "NEW! Ep 3038 - महीनों बाद Soda Shop पे स्वागत\n",
      "NEW! Ep 3048 - Popatlal को ढूंढ़ने का प्लान\n",
      "NEW! Ep 3051 - Tapu की पढाई\n"
     ]
    }
   ],
   "source": [
    "recommend('NEW! Ep 2967 - Jethalal Drops Babita!')"
   ]
  },
  {
   "cell_type": "code",
   "execution_count": 55,
   "id": "8514b08d-ffa6-4bd6-8b96-27ccbe8d956e",
   "metadata": {},
   "outputs": [
    {
     "name": "stdout",
     "output_type": "stream",
     "text": [
      "Finally bought my DreamBike - Ninja H2\n",
      "bass Life mai HAYABUSA honi chaheye\n",
      "I Surprised my Friends With NINJA H2!!\n",
      "When 10R meets NINJA H2 !!\n",
      "Surprising my Friends with NEW Bike!!\n"
     ]
    }
   ],
   "source": [
    "recommend(\"first Crazy RIDE on Kawasaki NINJA H2\")"
   ]
  },
  {
   "cell_type": "code",
   "execution_count": 56,
   "id": "62c8e942-f5d8-4f27-8242-2ad8370fbb12",
   "metadata": {
    "id": "62c8e942-f5d8-4f27-8242-2ad8370fbb12",
    "outputId": "0f8cfbc1-90a9-483a-a0e6-68348de559e6"
   },
   "outputs": [
    {
     "name": "stdout",
     "output_type": "stream",
     "text": [
      "Armenia vs Azerbaijan\n",
      "Top of the Island Sunset\n",
      "Top of Switzerland 🇨🇭\n",
      "Best Cinema in the World!\n",
      "My German Girlfriend's Home\n"
     ]
    }
   ],
   "source": [
    "recommend('IPL 2020 - Patanjali IPL As Sponsor With 10 Big News')"
   ]
  },
  {
   "cell_type": "markdown",
   "id": "fe45b54d-d79d-45e8-bc20-fcb09f484a8f",
   "metadata": {
    "id": "fe45b54d-d79d-45e8-bc20-fcb09f484a8f"
   },
   "source": [
    "### Some advantages of content-based filtering are that it does not rely on other users' behavior, it can handle new items without a large user base, and it can provide personalized recommendations even for niche interests. However, one limitation is that it may not be able to capture the diversity of user interests, as it tends to recommend similar items to what the user has already consumed."
   ]
  },
  {
   "cell_type": "code",
   "execution_count": 57,
   "id": "b6be9466-9334-4a21-bacf-b4dad4f0e05b",
   "metadata": {
    "id": "b6be9466-9334-4a21-bacf-b4dad4f0e05b"
   },
   "outputs": [],
   "source": [
    "import pickle\n",
    "with open(\"vector.pkl\", \"wb\") as f: \n",
    "    joblib.dump(vector, f) "
   ]
  },
  {
   "cell_type": "markdown",
   "id": "83a529ef-bdee-45f3-a2c9-75bce333ddf3",
   "metadata": {
    "id": "83a529ef-bdee-45f3-a2c9-75bce333ddf3"
   },
   "source": [
    "## colaborative recomendation ststem"
   ]
  },
  {
   "cell_type": "markdown",
   "id": "564ff9bc-0548-4289-92f2-81283e4e9053",
   "metadata": {
    "id": "564ff9bc-0548-4289-92f2-81283e4e9053"
   },
   "source": [
    "### Scikit-learn's Surprise library is a popular Python library for building collaborative filtering recommendation systems. Here's a general overview of how to build a collaborative recommendation system using the Surprise library:"
   ]
  },
  {
   "cell_type": "markdown",
   "id": "3081bec0-10b0-444d-96a7-db797c4e32ac",
   "metadata": {
    "id": "3081bec0-10b0-444d-96a7-db797c4e32ac"
   },
   "source": [
    "#### Data preparation: The first step is to prepare your data in a format that can be used by the Surprise library. This typically involves creating a user-item matrix, where each row represents a user and each column represents an item. The values in the matrix represent the user's rating or interaction with the item."
   ]
  },
  {
   "cell_type": "code",
   "execution_count": 58,
   "id": "200bb759-fbd2-4065-9782-149193761b66",
   "metadata": {
    "id": "200bb759-fbd2-4065-9782-149193761b66"
   },
   "outputs": [],
   "source": [
    "new = new.reset_index()\n",
    "titles = new[['title']]\n",
    "indices = pd.Series(new.index, index=new['title'])"
   ]
  },
  {
   "cell_type": "code",
   "execution_count": 59,
   "id": "cdb63f15-7148-4772-ae48-ff774d67a05c",
   "metadata": {
    "id": "cdb63f15-7148-4772-ae48-ff774d67a05c",
    "outputId": "2b6c939d-48c7-4226-8cbb-9c586163c423"
   },
   "outputs": [
    {
     "data": {
      "text/plain": [
       "title\n",
       "TSP's Rabish ki report Unlock 2.0                                                                       100\n",
       "BADSHAH – BKL (Official Lyrical Video)                                                                  101\n",
       "அட இவ்வளவு நாள் இது தெரியாம போச்சே                                                                      102\n",
       "GEOMETRIC SHAPE FOOD CHALLENGE                                                                          103\n",
       "DIPIKA’ S BIRTHDAY CELEBRATION                                                                          104\n",
       "DNA: Russia August 12 को लॉन्च करेगा Corona Vaccine                                                     105\n",
       "MASTER CHEF                                                                                             106\n",
       "We Made 4 Wheeler Quad-Cycle                                                                            107\n",
       "Yeh Rishta Kya Kehlata Hai: Meet Naira's daughter!                                                      108\n",
       "રણછોડ રંગીલા ( ગોવાળીયો ભાગ-૩ )                                                                         109\n",
       "IPL 2020 - Patanjali IPL As Sponsor With 10 Big News                                                    110\n",
       "Gaadi Parking                                                                                           111\n",
       "CHICKEN UPPU Kari Prepared by Daddy Arumugam / Village food factory                                     112\n",
       "FilterCopy                                                                                              113\n",
       "सबसे बड़ी कोका कोला World's Biggest Coca Cola                                                           114\n",
       "World's Most Expensive Country                                                                          115\n",
       "Manasu Mamata                                                                                           116\n",
       "Asi Oh Hunne Aa (Official Video) Amrit Maan                                                             117\n",
       "Pogaru                                                                                                  118\n",
       "Sapna Meets Kashmira                                                                                    119\n",
       "Who is Binod                                                                                            120\n",
       "വിമാനയാത്രയെ  പേടിക്കേണ്ടതുണ്ടോ ?                                                                       121\n",
       "Kunwari Bohu                                                                                            122\n",
       "जन्माष्टमी पर कान्हाजी के साथ ऐसे बिताये अपना दिन                                                       123\n",
       "Ishare Tere Karti Nigah                                                                                 124\n",
       "Fakeer - Baba 5 (Full Song) Ajay Hooda                                                                  125\n",
       "கார்  விபத்துக்கு பிறகு முதல் சமையல்  வீடியோ உடலுக்கு தெம்பை  கொடுக்கும் நெஞ்சுஎலும்பு  குழம்பு         126\n",
       "GIVING WEIRD DISHES TO BROTHER                                                                          127\n",
       "Maya                                                                                                    128\n",
       "2020 Kia Sonet - Kia's next big thing                                                                   129\n",
       "Mazhaiyum Iravum                                                                                        130\n",
       "HE IS BINOD ?                                                                                           131\n",
       "ಆರೋಗ್ಯಕರವಾದ ಅವಲಕ್ಕಿ ಕೇಸರಿಬಾತ್ ಒಮ್ಮೆ ಮಾಡಿದರೆ ಸಾಕು ಪದೇ ಪದೇ ಈ ಸಿಹಿ ತಿನ್ಬೇಕು ಅನ್ಸುತ್ತೆHealthy Poha shira    132\n",
       "Mouna Raagam                                                                                            133\n",
       "Made in India Brands Kurti Suits Haul                                                                   134\n",
       "Chor Machaye Shor                                                                                       135\n",
       "Mumbiker Nikhil & Shanice Shrestha                                                                      136\n",
       "Thalapathy Vijay மகனை தாக்கி பேசிய Meera Mithun                                                         137\n",
       "No hand Challenge                                                                                       138\n",
       "Piche Piche                                                                                             139\n",
       "Ponnukku Thanga Manasu                                                                                  140\n",
       "Ramaa Raavi - How to Worship Lord Krishna on Krishnashtami?                                             141\n",
       "MEMERS VS TIKTOKERS                                                                                     142\n",
       "வீட்டில் எளிய முறையில் கிருஷ்ண ஜெயந்தி வழிபாடு // செல்வம் பெருக இந்த 3 பொருட்களை பூஜையில் வைக்க வேண்    143\n",
       "Khatron ke khilaadi made  in India  Jasmin basin & Bharti Singh to play Prank on Nia Sharma             144\n",
       "सूजी का चटपटा और आसान नाश्ता                                                                            145\n",
       "Sushant Suicide Case: रिया चक्रवर्ती से ED ने दागे 14 सवाल, आपके और सुशांत के बीच कैसे रिश्ते थे ?      146\n",
       "Kalyana Veedu - Episode 609                                                                             147\n",
       "Desi Mom & Beauty - Episode 1                                                                           148\n",
       "BOLLYWOOD KA PANCHANAMA                                                                                 149\n",
       "dtype: int64"
      ]
     },
     "execution_count": 59,
     "metadata": {},
     "output_type": "execute_result"
    }
   ],
   "source": [
    "indices[100:150]"
   ]
  },
  {
   "cell_type": "code",
   "execution_count": 60,
   "id": "7d338238-c5ec-405c-b91d-f3ce7149e327",
   "metadata": {},
   "outputs": [],
   "source": [
    "#pickle.dump(indices,open('indices.pkl','wb'))\n",
    "with open(\"indices.pkl\", \"wb\") as f: \n",
    "    joblib.dump(indices, f) "
   ]
  },
  {
   "cell_type": "markdown",
   "id": "36ed0806-0874-4f14-8bd9-69ed35802ad6",
   "metadata": {
    "id": "36ed0806-0874-4f14-8bd9-69ed35802ad6"
   },
   "source": [
    "### Create the dataset: Use Surprise's Dataset module to create a dataset object from your Pandas DataFrame."
   ]
  },
  {
   "cell_type": "code",
   "execution_count": 61,
   "id": "d129ae84-6cfb-4cf8-bd27-8b1c321451fe",
   "metadata": {
    "id": "d129ae84-6cfb-4cf8-bd27-8b1c321451fe"
   },
   "outputs": [],
   "source": [
    "reader=Reader(rating_scale=(0, 4))\n",
    "data = Dataset.load_from_df(youtube[['categoryId','video_id','Rating']], reader)#  'categoryId','video_id','channelId'"
   ]
  },
  {
   "cell_type": "markdown",
   "id": "b79fb4a5-5b73-4c67-a6cc-a12ab7ea9e16",
   "metadata": {
    "id": "b79fb4a5-5b73-4c67-a6cc-a12ab7ea9e16"
   },
   "source": [
    "### Select an algorithm: Choose a collaborative filtering algorithm to use with the Surprise library. Some popular algorithms include Singular Value Decomposition (SVD), k-Nearest Neighbors (k-NN), and Non-negative Matrix Factorization (NMF)."
   ]
  },
  {
   "cell_type": "code",
   "execution_count": 62,
   "id": "56fd950d-48a4-4d1a-ae65-e170ae3458d5",
   "metadata": {},
   "outputs": [
    {
     "name": "stdout",
     "output_type": "stream",
     "text": [
      "Estimating biases using als...\n",
      "Computing the msd similarity matrix...\n",
      "Done computing similarity matrix.\n",
      "Estimating biases using als...\n",
      "Computing the msd similarity matrix...\n",
      "Done computing similarity matrix.\n",
      "Estimating biases using als...\n",
      "Computing the msd similarity matrix...\n",
      "Done computing similarity matrix.\n",
      "Computing the msd similarity matrix...\n",
      "Done computing similarity matrix.\n",
      "Computing the msd similarity matrix...\n",
      "Done computing similarity matrix.\n",
      "Computing the msd similarity matrix...\n",
      "Done computing similarity matrix.\n"
     ]
    }
   ],
   "source": [
    "benchmark = []\n",
    "# Iterate over all algorithms\n",
    "for algorithm in [SVD(), SVDpp(), SlopeOne(), NMF(), NormalPredictor(), KNNBaseline(), KNNBasic()]:\n",
    "    # Perform cross validation\n",
    "    results = cross_validate(algorithm, data, measures=['MAE'], verbose=False,cv = 3)  # cv = 1 onluy try\n",
    "    \n",
    "    # Get results & append algorithm name\n",
    "    tmp = pd.DataFrame.from_dict(results).mean(axis=0)\n",
    "    tmp = tmp.append(pd.Series([str(algorithm).split(' ')[0].split('.')[-1]], index=['Algorithm']))\n",
    "    benchmark.append(tmp)"
   ]
  },
  {
   "cell_type": "code",
   "execution_count": 63,
   "id": "82ce68be-6435-4cb0-a97a-87ea72b76504",
   "metadata": {},
   "outputs": [],
   "source": [
    "surprise_results = pd.DataFrame(benchmark).set_index('Algorithm').sort_values('test_mae')"
   ]
  },
  {
   "cell_type": "code",
   "execution_count": 64,
   "id": "99dc3d19-13e1-4c68-95b9-67bf60ae646f",
   "metadata": {},
   "outputs": [
    {
     "data": {
      "text/html": [
       "<div>\n",
       "<style scoped>\n",
       "    .dataframe tbody tr th:only-of-type {\n",
       "        vertical-align: middle;\n",
       "    }\n",
       "\n",
       "    .dataframe tbody tr th {\n",
       "        vertical-align: top;\n",
       "    }\n",
       "\n",
       "    .dataframe thead th {\n",
       "        text-align: right;\n",
       "    }\n",
       "</style>\n",
       "<table border=\"1\" class=\"dataframe\">\n",
       "  <thead>\n",
       "    <tr style=\"text-align: right;\">\n",
       "      <th></th>\n",
       "      <th>test_mae</th>\n",
       "      <th>fit_time</th>\n",
       "      <th>test_time</th>\n",
       "    </tr>\n",
       "    <tr>\n",
       "      <th>Algorithm</th>\n",
       "      <th></th>\n",
       "      <th></th>\n",
       "      <th></th>\n",
       "    </tr>\n",
       "  </thead>\n",
       "  <tbody>\n",
       "    <tr>\n",
       "      <th>KNNBaseline</th>\n",
       "      <td>0.270719</td>\n",
       "      <td>0.072983</td>\n",
       "      <td>0.170810</td>\n",
       "    </tr>\n",
       "    <tr>\n",
       "      <th>SlopeOne</th>\n",
       "      <td>0.282048</td>\n",
       "      <td>7.216309</td>\n",
       "      <td>26.000961</td>\n",
       "    </tr>\n",
       "    <tr>\n",
       "      <th>KNNBasic</th>\n",
       "      <td>0.286013</td>\n",
       "      <td>0.000000</td>\n",
       "      <td>0.218814</td>\n",
       "    </tr>\n",
       "    <tr>\n",
       "      <th>NMF</th>\n",
       "      <td>0.290314</td>\n",
       "      <td>0.912070</td>\n",
       "      <td>0.083530</td>\n",
       "    </tr>\n",
       "    <tr>\n",
       "      <th>SVDpp</th>\n",
       "      <td>0.352268</td>\n",
       "      <td>226.978082</td>\n",
       "      <td>65.541083</td>\n",
       "    </tr>\n",
       "    <tr>\n",
       "      <th>SVD</th>\n",
       "      <td>0.425080</td>\n",
       "      <td>0.353534</td>\n",
       "      <td>0.181286</td>\n",
       "    </tr>\n",
       "    <tr>\n",
       "      <th>NormalPredictor</th>\n",
       "      <td>1.522449</td>\n",
       "      <td>0.036465</td>\n",
       "      <td>0.062519</td>\n",
       "    </tr>\n",
       "  </tbody>\n",
       "</table>\n",
       "</div>"
      ],
      "text/plain": [
       "                 test_mae    fit_time  test_time\n",
       "Algorithm                                       \n",
       "KNNBaseline      0.270719    0.072983   0.170810\n",
       "SlopeOne         0.282048    7.216309  26.000961\n",
       "KNNBasic         0.286013    0.000000   0.218814\n",
       "NMF              0.290314    0.912070   0.083530\n",
       "SVDpp            0.352268  226.978082  65.541083\n",
       "SVD              0.425080    0.353534   0.181286\n",
       "NormalPredictor  1.522449    0.036465   0.062519"
      ]
     },
     "execution_count": 64,
     "metadata": {},
     "output_type": "execute_result"
    }
   ],
   "source": [
    "surprise_results"
   ]
  },
  {
   "cell_type": "markdown",
   "id": "27c82e02-bd49-4c57-89ac-7b0e9f390a3b",
   "metadata": {
    "id": "27c82e02-bd49-4c57-89ac-7b0e9f390a3b",
    "tags": []
   },
   "source": [
    "### Hyperparameter tuning: Finally, you may want to fine-tune the hyperparameters of your model to improve its performance. The Surprise library includes functions for performing grid search or random search to find the optimal hyperparameters for your model."
   ]
  },
  {
   "cell_type": "code",
   "execution_count": 65,
   "id": "d8a7faeb-921c-42e8-9eda-7dddc9331059",
   "metadata": {},
   "outputs": [],
   "source": [
    "from surprise import Dataset, SVD\n",
    "from surprise.model_selection import GridSearchCV"
   ]
  },
  {
   "cell_type": "code",
   "execution_count": 66,
   "id": "54feb77d-29a1-4233-a4be-7526047659fa",
   "metadata": {
    "id": "54feb77d-29a1-4233-a4be-7526047659fa"
   },
   "outputs": [],
   "source": [
    "knn = KNNBaseline()\n",
    "param_grid = {\"n_epochs\": [250,500,650],\"k\" :[10,20,30,40,50]}\n",
    "gs = GridSearchCV(KNNBaseline, param_grid, measures=[\"rmse\", \"mae\"], cv=3)"
   ]
  },
  {
   "cell_type": "code",
   "execution_count": 67,
   "id": "220634f7-7702-46a5-ac5b-50fdd99ce17b",
   "metadata": {
    "id": "220634f7-7702-46a5-ac5b-50fdd99ce17b"
   },
   "outputs": [
    {
     "name": "stdout",
     "output_type": "stream",
     "text": [
      "Estimating biases using als...\n",
      "Computing the msd similarity matrix...\n",
      "Done computing similarity matrix.\n",
      "Estimating biases using als...\n",
      "Computing the msd similarity matrix...\n",
      "Done computing similarity matrix.\n",
      "Estimating biases using als...\n",
      "Computing the msd similarity matrix...\n",
      "Done computing similarity matrix.\n",
      "Estimating biases using als...\n",
      "Computing the msd similarity matrix...\n",
      "Done computing similarity matrix.\n",
      "Estimating biases using als...\n",
      "Computing the msd similarity matrix...\n",
      "Done computing similarity matrix.\n",
      "Estimating biases using als...\n",
      "Computing the msd similarity matrix...\n",
      "Done computing similarity matrix.\n",
      "Estimating biases using als...\n",
      "Computing the msd similarity matrix...\n",
      "Done computing similarity matrix.\n",
      "Estimating biases using als...\n",
      "Computing the msd similarity matrix...\n",
      "Done computing similarity matrix.\n",
      "Estimating biases using als...\n",
      "Computing the msd similarity matrix...\n",
      "Done computing similarity matrix.\n",
      "Estimating biases using als...\n",
      "Computing the msd similarity matrix...\n",
      "Done computing similarity matrix.\n",
      "Estimating biases using als...\n",
      "Computing the msd similarity matrix...\n",
      "Done computing similarity matrix.\n",
      "Estimating biases using als...\n",
      "Computing the msd similarity matrix...\n",
      "Done computing similarity matrix.\n",
      "Estimating biases using als...\n",
      "Computing the msd similarity matrix...\n",
      "Done computing similarity matrix.\n",
      "Estimating biases using als...\n",
      "Computing the msd similarity matrix...\n",
      "Done computing similarity matrix.\n",
      "Estimating biases using als...\n",
      "Computing the msd similarity matrix...\n",
      "Done computing similarity matrix.\n",
      "Estimating biases using als...\n",
      "Computing the msd similarity matrix...\n",
      "Done computing similarity matrix.\n",
      "Estimating biases using als...\n",
      "Computing the msd similarity matrix...\n",
      "Done computing similarity matrix.\n",
      "Estimating biases using als...\n",
      "Computing the msd similarity matrix...\n",
      "Done computing similarity matrix.\n",
      "Estimating biases using als...\n",
      "Computing the msd similarity matrix...\n",
      "Done computing similarity matrix.\n",
      "Estimating biases using als...\n",
      "Computing the msd similarity matrix...\n",
      "Done computing similarity matrix.\n",
      "Estimating biases using als...\n",
      "Computing the msd similarity matrix...\n",
      "Done computing similarity matrix.\n",
      "Estimating biases using als...\n",
      "Computing the msd similarity matrix...\n",
      "Done computing similarity matrix.\n",
      "Estimating biases using als...\n",
      "Computing the msd similarity matrix...\n",
      "Done computing similarity matrix.\n",
      "Estimating biases using als...\n",
      "Computing the msd similarity matrix...\n",
      "Done computing similarity matrix.\n",
      "Estimating biases using als...\n",
      "Computing the msd similarity matrix...\n",
      "Done computing similarity matrix.\n",
      "Estimating biases using als...\n",
      "Computing the msd similarity matrix...\n",
      "Done computing similarity matrix.\n",
      "Estimating biases using als...\n",
      "Computing the msd similarity matrix...\n",
      "Done computing similarity matrix.\n",
      "Estimating biases using als...\n",
      "Computing the msd similarity matrix...\n",
      "Done computing similarity matrix.\n",
      "Estimating biases using als...\n",
      "Computing the msd similarity matrix...\n",
      "Done computing similarity matrix.\n",
      "Estimating biases using als...\n",
      "Computing the msd similarity matrix...\n",
      "Done computing similarity matrix.\n",
      "Estimating biases using als...\n",
      "Computing the msd similarity matrix...\n",
      "Done computing similarity matrix.\n",
      "Estimating biases using als...\n",
      "Computing the msd similarity matrix...\n",
      "Done computing similarity matrix.\n",
      "Estimating biases using als...\n",
      "Computing the msd similarity matrix...\n",
      "Done computing similarity matrix.\n",
      "Estimating biases using als...\n",
      "Computing the msd similarity matrix...\n",
      "Done computing similarity matrix.\n",
      "Estimating biases using als...\n",
      "Computing the msd similarity matrix...\n",
      "Done computing similarity matrix.\n",
      "Estimating biases using als...\n",
      "Computing the msd similarity matrix...\n",
      "Done computing similarity matrix.\n",
      "Estimating biases using als...\n",
      "Computing the msd similarity matrix...\n",
      "Done computing similarity matrix.\n",
      "Estimating biases using als...\n",
      "Computing the msd similarity matrix...\n",
      "Done computing similarity matrix.\n",
      "Estimating biases using als...\n",
      "Computing the msd similarity matrix...\n",
      "Done computing similarity matrix.\n",
      "Estimating biases using als...\n",
      "Computing the msd similarity matrix...\n",
      "Done computing similarity matrix.\n",
      "Estimating biases using als...\n",
      "Computing the msd similarity matrix...\n",
      "Done computing similarity matrix.\n",
      "Estimating biases using als...\n",
      "Computing the msd similarity matrix...\n",
      "Done computing similarity matrix.\n",
      "Estimating biases using als...\n",
      "Computing the msd similarity matrix...\n",
      "Done computing similarity matrix.\n",
      "Estimating biases using als...\n",
      "Computing the msd similarity matrix...\n",
      "Done computing similarity matrix.\n",
      "Estimating biases using als...\n",
      "Computing the msd similarity matrix...\n",
      "Done computing similarity matrix.\n"
     ]
    }
   ],
   "source": [
    "gs.fit(data)"
   ]
  },
  {
   "cell_type": "code",
   "execution_count": 68,
   "id": "7b2d8981-4523-4788-9b5d-f09b1a624c73",
   "metadata": {
    "id": "7b2d8981-4523-4788-9b5d-f09b1a624c73",
    "outputId": "e6df0abe-2f8b-437c-9cfb-9ae137c3a713"
   },
   "outputs": [
    {
     "name": "stdout",
     "output_type": "stream",
     "text": [
      "{'n_epochs': 250, 'k': 10}\n"
     ]
    }
   ],
   "source": [
    "\n",
    "# combination of parameters that gave the best RMSE score\n",
    "print(gs.best_params[\"mae\"])"
   ]
  },
  {
   "cell_type": "markdown",
   "id": "6d3eb876-afd7-4be6-8676-08545ef33a25",
   "metadata": {},
   "source": [
    "### Model training & Model evaluation: After training the model, evaluate its performance using metrics such as Root Mean Squared Error (RMSE), Mean Absolute Error (MAE)"
   ]
  },
  {
   "cell_type": "code",
   "execution_count": 69,
   "id": "d89eb1d0-5da3-4377-904c-220c72544e2f",
   "metadata": {
    "id": "d89eb1d0-5da3-4377-904c-220c72544e2f",
    "outputId": "d19d9e4c-cbac-473a-e827-72e87e86667c"
   },
   "outputs": [
    {
     "ename": "NameError",
     "evalue": "name 'knn_baseline' is not defined",
     "output_type": "error",
     "traceback": [
      "\u001b[1;31m---------------------------------------------------------------------------\u001b[0m",
      "\u001b[1;31mNameError\u001b[0m                                 Traceback (most recent call last)",
      "Input \u001b[1;32mIn [69]\u001b[0m, in \u001b[0;36m<cell line: 2>\u001b[1;34m()\u001b[0m\n\u001b[0;32m      1\u001b[0m knn \u001b[38;5;241m=\u001b[39m KNNBaseline(n_epochs\u001b[38;5;241m=\u001b[39m \u001b[38;5;241m250\u001b[39m,k\u001b[38;5;241m=\u001b[39m\u001b[38;5;241m10\u001b[39m, min_k\u001b[38;5;241m=\u001b[39m\u001b[38;5;241m1\u001b[39m,verbose\u001b[38;5;241m=\u001b[39m\u001b[38;5;28;01mFalse\u001b[39;00m)\n\u001b[1;32m----> 2\u001b[0m cross_validate(\u001b[43mknn_baseline\u001b[49m, data, measures\u001b[38;5;241m=\u001b[39m[\u001b[38;5;124m'\u001b[39m\u001b[38;5;124mRMSE\u001b[39m\u001b[38;5;124m'\u001b[39m,\u001b[38;5;124m'\u001b[39m\u001b[38;5;124mMAE\u001b[39m\u001b[38;5;124m'\u001b[39m],cv\u001b[38;5;241m=\u001b[39m\u001b[38;5;241m3\u001b[39m)\n",
      "\u001b[1;31mNameError\u001b[0m: name 'knn_baseline' is not defined"
     ]
    }
   ],
   "source": [
    "knn = KNNBaseline(n_epochs= 250,k=10, min_k=1,verbose=False)\n",
    "cross_validate(knn_baseline, data, measures=['RMSE','MAE'],cv=3)"
   ]
  },
  {
   "cell_type": "code",
   "execution_count": null,
   "id": "bf6a4154-0310-4584-87bf-6e9afc18a066",
   "metadata": {
    "id": "bf6a4154-0310-4584-87bf-6e9afc18a066",
    "outputId": "9897854a-4bde-4b43-b93c-4e6d29bc2882"
   },
   "outputs": [],
   "source": [
    "trainset = data.build_full_trainset()\n",
    "knn_baseline.fit(trainset)"
   ]
  },
  {
   "cell_type": "code",
   "execution_count": null,
   "id": "f38cf519-091f-416f-99d3-e1ffa4f51080",
   "metadata": {
    "id": "f38cf519-091f-416f-99d3-e1ffa4f51080"
   },
   "outputs": [],
   "source": [
    "#youtube[youtube['likes'] >= 5000]"
   ]
  },
  {
   "cell_type": "markdown",
   "id": "48f572e8-4fa3-4ab3-abe9-934348b38359",
   "metadata": {
    "id": "48f572e8-4fa3-4ab3-abe9-934348b38359"
   },
   "source": [
    "### Generate recommendations: Use the trained model to generate personalized recommendations for users based on their past interactions with items."
   ]
  },
  {
   "cell_type": "code",
   "execution_count": null,
   "id": "8c677ff2-4ed6-4b54-a51a-c9073dd731c8",
   "metadata": {
    "id": "8c677ff2-4ed6-4b54-a51a-c9073dd731c8",
    "outputId": "0eb045a3-0771-4664-e04e-8cc959b8063e"
   },
   "outputs": [],
   "source": [
    "knn.predict(1, 302, 3)"
   ]
  },
  {
   "cell_type": "code",
   "execution_count": null,
   "id": "c0809236-71b3-43d7-b02e-78bab501cfdd",
   "metadata": {},
   "outputs": [],
   "source": [
    "# Save the SVD object as a pickle file\n",
    "with open('KNNBaseline.pkl', 'wb') as f:\n",
    "    joblib.dump(knn_baseline, f)\n"
   ]
  },
  {
   "cell_type": "code",
   "execution_count": null,
   "id": "35bcf1e3-c564-4af0-b196-eaf1f49ac54d",
   "metadata": {
    "id": "35bcf1e3-c564-4af0-b196-eaf1f49ac54d"
   },
   "outputs": [],
   "source": [
    "#youtube[youtube['categoryId'] ==1]"
   ]
  },
  {
   "cell_type": "markdown",
   "id": "93d41a0b-3e73-4ad8-8245-4d99cd9170f4",
   "metadata": {
    "id": "93d41a0b-3e73-4ad8-8245-4d99cd9170f4"
   },
   "source": [
    "### Hybrid :\n",
    "### A hybrid recommendation system combines multiple recommendation techniques, such as content-based and collaborative filtering, to provide more accurate and diverse recommendations to users. The system involves collecting user behavior and preference data, selecting and training the recommendation algorithms, combining the recommendations, and evaluating and refining the system. Additional features, such as user demographics, can be incorporated for further personalization. The key is to fine-tune the system to meet the specific needs of the application."
   ]
  },
  {
   "cell_type": "code",
   "execution_count": null,
   "id": "ed34423d-4d29-47cc-9365-bfe3db3ef03a",
   "metadata": {
    "id": "ed34423d-4d29-47cc-9365-bfe3db3ef03a",
    "outputId": "3960cdc5-4568-4ac2-c127-7a838761cc9c"
   },
   "outputs": [],
   "source": [
    "smd =YouTube_df[['title','likes','categoryId','video_id','thumbnail_link','Rating']]\n",
    "smd.head(5)"
   ]
  },
  {
   "cell_type": "code",
   "execution_count": null,
   "id": "9a795ea5-37d7-4ee3-8e09-ab14ffaa2142",
   "metadata": {},
   "outputs": [],
   "source": []
  },
  {
   "cell_type": "code",
   "execution_count": null,
   "id": "2e185ff8-dbd1-4cc0-8256-0add7dbd8752",
   "metadata": {
    "id": "2e185ff8-dbd1-4cc0-8256-0add7dbd8752",
    "outputId": "a918cc02-b5bd-4aac-97f7-8f54551f6d5a"
   },
   "outputs": [],
   "source": [
    "id_map= YouTube_df[['video_id','title','categoryId','channelId']].set_index('title')\n",
    "id_map.head(2)#\tmovieId\tid  title\t"
   ]
  },
  {
   "cell_type": "code",
   "execution_count": null,
   "id": "5be672b7-3387-4082-b586-b34be794ae70",
   "metadata": {
    "id": "5be672b7-3387-4082-b586-b34be794ae70"
   },
   "outputs": [],
   "source": [
    "indices_map = id_map.set_index('categoryId')"
   ]
  },
  {
   "cell_type": "code",
   "execution_count": null,
   "id": "c2aa1c6c-559d-4c28-9597-36595c3e5325",
   "metadata": {
    "id": "c2aa1c6c-559d-4c28-9597-36595c3e5325",
    "outputId": "35b4e1a6-b5d3-4bf2-84fb-eb16b366118c"
   },
   "outputs": [],
   "source": [
    "indices_map.head(2)"
   ]
  },
  {
   "cell_type": "code",
   "execution_count": null,
   "id": "6d9de120-75a6-49c7-ae5a-d6d94e943633",
   "metadata": {},
   "outputs": [],
   "source": [
    "#pickle.dump(indices_map,open('indices_map.pkl','wb'))\n",
    "#indices_map=indices_map.to_csv('indices_map.csv')\n",
    "with open('indices_map.pkl', 'wb') as f:\n",
    "    joblib.dump(indices_map, f)"
   ]
  },
  {
   "cell_type": "code",
   "execution_count": null,
   "id": "07624718-2d25-45b0-8283-4658b5c8f8d0",
   "metadata": {},
   "outputs": [],
   "source": [
    "indices_map"
   ]
  },
  {
   "cell_type": "code",
   "execution_count": null,
   "id": "2d7163de-f564-419d-93be-6a2057099d46",
   "metadata": {
    "id": "2d7163de-f564-419d-93be-6a2057099d46",
    "outputId": "7eab1266-34a2-47ca-fcc6-ca59669205b1"
   },
   "outputs": [],
   "source": [
    "id_map.loc['Sadak 2']['categoryId']"
   ]
  },
  {
   "cell_type": "markdown",
   "id": "d2d331e9-f82a-4739-9967-84a7dd45145b",
   "metadata": {
    "id": "d2d331e9-f82a-4739-9967-84a7dd45145b"
   },
   "source": [
    "### Prediction "
   ]
  },
  {
   "cell_type": "code",
   "execution_count": null,
   "id": "d0cb680b-57ed-42de-a248-84f46c0ed475",
   "metadata": {},
   "outputs": [],
   "source": [
    "def hybrid(userId, title):\n",
    "    index = new[new['title'] == title].index[0]\n",
    "    query_vector = vector[index].reshape(1, -1)\n",
    "    distances, indices = knn_model.kneighbors(query_vector)\n",
    "\n",
    "    # Extract the indices of the recommended videos (excluding the query itself)\n",
    "    video_indices = indices[0][1:6]\n",
    "    \n",
    "    # Use .iloc to select rows by integer position from the 'smd' DataFrame\n",
    "    recommended_videos = smd.iloc[video_indices][['title', 'categoryId', 'video_id', 'likes']]\n",
    "    \n",
    "    # Calculate the 'est' value for each recommended video based on user preferences\n",
    "    recommended_videos['est'] = recommended_videos['categoryId'].apply(lambda x: knn_baseline.predict(userId, indices_map.iloc[x]['video_id']).est)\n",
    "    \n",
    "    # Sort the recommended videos by the number of likes in descending order\n",
    "    recommended_videos = recommended_videos.sort_values('likes', ascending=False)\n",
    "    \n",
    "    # Return the top 5 recommended videos\n",
    "    return recommended_videos.head(5)\n"
   ]
  },
  {
   "cell_type": "code",
   "execution_count": null,
   "id": "5394add1-c305-4528-b3ef-ff24a591dd7f",
   "metadata": {
    "id": "5394add1-c305-4528-b3ef-ff24a591dd7f",
    "outputId": "2c5e7981-cdfa-4a0b-cdd3-69bbaf188683"
   },
   "outputs": [],
   "source": [
    " knn.predict(1, indices_map.iloc[24]['video_id'])"
   ]
  },
  {
   "cell_type": "code",
   "execution_count": null,
   "id": "8b0d54ce-c757-4879-b7aa-7642d0da704c",
   "metadata": {},
   "outputs": [],
   "source": [
    "hybrid(1,'Ahmedabad welcomes PM Modi!')"
   ]
  },
  {
   "cell_type": "code",
   "execution_count": null,
   "id": "c31b885f-6331-408e-99e3-d5d3726917ff",
   "metadata": {},
   "outputs": [],
   "source": [
    "hybrid(1,\"BTS (방탄소년단) ‘Life Goes On’ Official MV : on my pillow\")"
   ]
  },
  {
   "cell_type": "code",
   "execution_count": null,
   "id": "b18a670f-d582-4f7a-bc7b-c1431eafb48a",
   "metadata": {},
   "outputs": [],
   "source": [
    "hybrid(1,'Apple iPhone 12 Pro')"
   ]
  },
  {
   "cell_type": "code",
   "execution_count": null,
   "id": "4c19c317-bf54-4845-ae56-090bde6a8597",
   "metadata": {},
   "outputs": [],
   "source": [
    "hybrid(1,'Baarish (Official Video) Payal Dev,Stebin Ben')"
   ]
  },
  {
   "cell_type": "code",
   "execution_count": null,
   "id": "f4df6983-4fb5-471e-887d-0f9fb9c91dbc",
   "metadata": {
    "id": "f4df6983-4fb5-471e-887d-0f9fb9c91dbc",
    "outputId": "082a315e-10aa-48fb-ab05-6dbdb1afcf47"
   },
   "outputs": [],
   "source": [
    "hybrid(1,'Types of Ex Girlfriends')"
   ]
  },
  {
   "cell_type": "code",
   "execution_count": null,
   "id": "f92f9466-bf69-4ce2-aed1-0ad61651b6ac",
   "metadata": {
    "id": "f92f9466-bf69-4ce2-aed1-0ad61651b6ac",
    "outputId": "29e77e88-a6b7-468f-b02a-d85c9163e18c"
   },
   "outputs": [],
   "source": [
    "hybrid(1,'NEW! Ep 3006 - Abdul Missing?!')"
   ]
  },
  {
   "cell_type": "code",
   "execution_count": null,
   "id": "2635908b-fa4c-49ef-8306-388af215ca98",
   "metadata": {
    "id": "2635908b-fa4c-49ef-8306-388af215ca98",
    "outputId": "a0fb73ee-a320-4e61-f3f0-892ba563664f"
   },
   "outputs": [],
   "source": [
    "hybrid(1,'When 10R meets NINJA H2 !!')"
   ]
  },
  {
   "cell_type": "code",
   "execution_count": null,
   "id": "05c627c3-ecdc-4f30-bdab-8c5f4b9e99c3",
   "metadata": {
    "id": "05c627c3-ecdc-4f30-bdab-8c5f4b9e99c3",
    "outputId": "e25193c3-bae2-422d-d69a-081558e689c9"
   },
   "outputs": [],
   "source": [
    "hybrid(1,'FULL MATCH - Roman Reigns vs. Murphy: SmackDown LIVE, August 13, 2019')"
   ]
  },
  {
   "cell_type": "code",
   "execution_count": null,
   "id": "296755ef",
   "metadata": {
    "id": "296755ef",
    "outputId": "458d6037-f8a7-4929-d56b-8a3446dcb55d"
   },
   "outputs": [],
   "source": [
    "hybrid(1,'IPL 2020 - Patanjali IPL As Sponsor With 10 Big News')"
   ]
  },
  {
   "cell_type": "code",
   "execution_count": null,
   "id": "7644d46c-5c53-4994-973c-7bb6f728f0ea",
   "metadata": {
    "id": "7644d46c-5c53-4994-973c-7bb6f728f0ea",
    "outputId": "250609a6-728d-40d2-a7a2-48a2e9cfcf60"
   },
   "outputs": [],
   "source": [
    "hybrid(1,\"DNA: Russia August 12 को लॉन्च करेगा Corona Vaccine\")"
   ]
  },
  {
   "cell_type": "code",
   "execution_count": null,
   "id": "b894dda4-c438-4aec-aa5e-1c6f625243bc",
   "metadata": {
    "id": "b894dda4-c438-4aec-aa5e-1c6f625243bc",
    "outputId": "5947f390-06a6-451a-adfa-29073514dfc5"
   },
   "outputs": [],
   "source": [
    "hybrid(1,\"KOHLI & CO start with a fabulous WIN!\")"
   ]
  },
  {
   "cell_type": "code",
   "execution_count": null,
   "id": "c2724a4e-7e08-4114-b0e9-f71b03842442",
   "metadata": {},
   "outputs": [],
   "source": [
    "hybrid(1,\"Finally bought my DreamBike - Ninja H2\")"
   ]
  },
  {
   "cell_type": "code",
   "execution_count": null,
   "id": "8587782e-1e2c-4968-b219-e4531900b4ac",
   "metadata": {},
   "outputs": [],
   "source": [
    "hybrid(1,\"Gujarati song pucho to khara\")"
   ]
  },
  {
   "cell_type": "code",
   "execution_count": null,
   "id": "7c64afb3-22d2-4143-91f0-b5cf13341c18",
   "metadata": {},
   "outputs": [],
   "source": [
    "hybrid(1,\"BADSHAH – BKL (Official Lyrical Video)\")"
   ]
  },
  {
   "cell_type": "code",
   "execution_count": null,
   "id": "abaf0156-f069-4a94-acd1-f0f6f57c6abb",
   "metadata": {},
   "outputs": [],
   "source": [
    "hybrid(1,'Diljit Dosanjh: CLASH (Official) Music Video')"
   ]
  },
  {
   "cell_type": "code",
   "execution_count": null,
   "id": "fa000d71-65ef-49ba-ab0e-e7a22bea666b",
   "metadata": {},
   "outputs": [],
   "source": [
    "hybrid(1,'After TikTok Ban')"
   ]
  },
  {
   "cell_type": "code",
   "execution_count": null,
   "id": "65ae683f",
   "metadata": {
    "id": "65ae683f"
   },
   "outputs": [],
   "source": [
    "smd.head()\n"
   ]
  },
  {
   "cell_type": "code",
   "execution_count": null,
   "id": "ad506f62-12b5-4849-a3b2-5ce57d389d11",
   "metadata": {},
   "outputs": [],
   "source": [
    "#smd.to_csv('smd.csv')"
   ]
  },
  {
   "cell_type": "code",
   "execution_count": null,
   "id": "6fa77af6-d8d0-4e01-89ce-8f40a489cc10",
   "metadata": {
    "id": "6fa77af6-d8d0-4e01-89ce-8f40a489cc10"
   },
   "outputs": [],
   "source": [
    "#pickle.dump(smd,open('smd.pkl','wb'))\n",
    "with open(\"smd.pkl\", \"wb\") as f: \n",
    "    joblib.dump(smd, f) "
   ]
  },
  {
   "cell_type": "code",
   "execution_count": null,
   "id": "78c09a11-3dc1-4dc4-8352-eb04bb3e8148",
   "metadata": {},
   "outputs": [],
   "source": [
    "#pickle.dump(smd,open('smd.pkl','wb'))\n",
    "with open(\"new.pkl\", \"wb\") as f: \n",
    "    joblib.dump(new, f) "
   ]
  },
  {
   "cell_type": "code",
   "execution_count": null,
   "id": "d2601fa2-f829-4b9e-8ad6-badf8f6030ef",
   "metadata": {},
   "outputs": [],
   "source": [
    "smd['thumbnail_link'][0][:]"
   ]
  },
  {
   "cell_type": "code",
   "execution_count": null,
   "id": "20d55659-1196-42ab-b53d-0ef58b14d8dc",
   "metadata": {},
   "outputs": [],
   "source": [
    "video_list=smd[['title','likes','thumbnail_link']]"
   ]
  },
  {
   "cell_type": "code",
   "execution_count": null,
   "id": "f61d40c2-fc0a-49a2-996c-da888959a102",
   "metadata": {},
   "outputs": [],
   "source": [
    "with open(\"video_list.pkl\", \"wb\") as f: \n",
    "    joblib.dump(video_list, f) "
   ]
  },
  {
   "cell_type": "code",
   "execution_count": null,
   "id": "dc0d4ce8-aac5-4379-82f9-1b6e3ae29569",
   "metadata": {},
   "outputs": [],
   "source": [
    "video_list['title'][150:200]"
   ]
  },
  {
   "cell_type": "code",
   "execution_count": null,
   "id": "2a223bf1-6cd2-4918-8fe2-3fdd405b7371",
   "metadata": {},
   "outputs": [],
   "source": [
    "smd.info()"
   ]
  },
  {
   "cell_type": "code",
   "execution_count": null,
   "id": "7342098d-4860-40bf-a4f1-b44728f45336",
   "metadata": {},
   "outputs": [],
   "source": [
    "new.info()"
   ]
  },
  {
   "cell_type": "code",
   "execution_count": null,
   "id": "294e8bbe-679b-429b-ab6b-705e908922bb",
   "metadata": {},
   "outputs": [],
   "source": []
  }
 ],
 "metadata": {
  "colab": {
   "provenance": []
  },
  "kernelspec": {
   "display_name": "Python 3 (ipykernel)",
   "language": "python",
   "name": "python3"
  },
  "language_info": {
   "codemirror_mode": {
    "name": "ipython",
    "version": 3
   },
   "file_extension": ".py",
   "mimetype": "text/x-python",
   "name": "python",
   "nbconvert_exporter": "python",
   "pygments_lexer": "ipython3",
   "version": "3.9.13"
  }
 },
 "nbformat": 4,
 "nbformat_minor": 5
}
